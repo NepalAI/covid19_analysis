{
 "cells": [
  {
   "cell_type": "markdown",
   "metadata": {},
   "source": [
    "## Let's Ask Some Important and Interesting Questions Regarding Corona\n",
    "\n",
    "- How is Corona growing Worldwide, Inside China, and the rest of the World?\n",
    "- Country-wise infection as of today?\n",
    "- How is the country-wise growth rate?"
   ]
  },
  {
   "cell_type": "code",
   "execution_count": 17,
   "metadata": {},
   "outputs": [],
   "source": [
    "import numpy as np\n",
    "import pandas as pd \n",
    "import plotly.express as px\n",
    "import plotly.graph_objects as go\n",
    "\n",
    "'''\n",
    "Data source: Johns Hopkins University (CSSEGISandData) [Keeps updating everyday]\n",
    "https://github.com/CSSEGISandData/COVID-19/tree/master/csse_covid_19_data/csse_covid_19_time_series\n",
    "'''\n",
    "\n",
    "confirmed = 'data/time_series_19-covid-Confirmed.csv'\n",
    "recovered = 'data/time_series_19-covid-Recovered.csv'\n",
    "death = 'data/time_series_19-covid-Deaths.csv'\n",
    "\n",
    "# CONFIRMED cases => [World], [Mainland China], and [Rest of the world]\n",
    "world_data_confirmed = pd.read_csv(confirmed)\n",
    "mainland_china_data_confirmed = world_data_confirmed[world_data_confirmed['Country/Region'].str.contains(\"China\")]\n",
    "outside_china_data_confirmed = world_data_confirmed[~world_data_confirmed['Country/Region'].str.contains(\"China\")]\n",
    "\n",
    "# RECOVERED cases => [World], [Mainland China], and [Rest of the world]\n",
    "world_data_recovered = pd.read_csv(recovered)\n",
    "mainland_china_data_recovered = world_data_recovered[world_data_recovered['Country/Region'].str.contains(\"China\")]\n",
    "outside_china_data_recovered = world_data_recovered[~world_data_recovered['Country/Region'].str.contains(\"China\")]\n",
    "\n",
    "# DEATHS cases => [World], [Mainland China], and [Rest of the world]\n",
    "world_data_death = pd.read_csv(confirmed)\n",
    "mainland_china_data_death = world_data_death[world_data_death['Country/Region'].str.contains(\"China\")]\n",
    "outside_china_data_death = world_data_death[~world_data_death['Country/Region'].str.contains(\"China\")]"
   ]
  },
  {
   "cell_type": "code",
   "execution_count": 18,
   "metadata": {},
   "outputs": [],
   "source": [
    "def sum_column(df):\n",
    "    if df.iloc[:,-1].isnull().values.any():\n",
    "        df = df.iloc[:, :-1]\n",
    "    sum = df.sum(axis=0)\n",
    "    return sum[world_data_confirmed.columns[4:]].to_frame()\n"
   ]
  },
  {
   "cell_type": "code",
   "execution_count": 23,
   "metadata": {},
   "outputs": [],
   "source": [
    "region = ['World', 'Mainland China', 'Outside China']\n",
    "\n",
    "def plot_line(df, region_code):\n",
    "    df_to_plot_world_confirm = sum_column(df)\n",
    "    fig = px.line(df_to_plot_world_confirm, x=df_to_plot_world_confirm.index.values, y=df_to_plot_world_confirm[df_to_plot_world_confirm.columns[0]] )\n",
    "    fig.update_layout(\n",
    "        title=\"Day-By-Day \" + region[region_code] + \" Infected\",\n",
    "        xaxis_title=\"Days\",\n",
    "        yaxis_title=\"People Infected\",\n",
    "        font=dict(\n",
    "            family=\"Arial\",\n",
    "            size=13,\n",
    "            color=\"#7f7f7f\"\n",
    "        )\n",
    "    )\n",
    "    fig.show()\n",
    "\n",
    "def plot_country_based_line(df):\n",
    "    countries_as_of_today = df.groupby(['Country/Region']).sum().iloc[:,-1].to_frame()\n",
    "    sorted_countries = countries_as_of_today.sort_values(by=[str(countries_as_of_today.columns.values[0])],ascending=False)\n",
    "    fig = px.bar(\n",
    "        sorted_countries, \n",
    "        x=sorted_countries.index.values, \n",
    "        y=sorted_countries[sorted_countries.columns[0]])\n",
    "    fig.update_layout(\n",
    "            title=\"Country Wise Infected\",\n",
    "            xaxis_title=\"Countries\",\n",
    "            yaxis_title=\"People Infected\",\n",
    "            font=dict(\n",
    "                family=\"Arial\",\n",
    "                size=13,\n",
    "                color=\"#7f7f7f\"\n",
    "            ))\n",
    "    fig.show()"
   ]
  },
  {
   "cell_type": "markdown",
   "metadata": {},
   "source": [
    "## Mainland China Day By Day\n",
    "How is the infection spreading inside China?"
   ]
  },
  {
   "cell_type": "code",
   "execution_count": 24,
   "metadata": {},
   "outputs": [
    {
     "data": {
      "application/vnd.plotly.v1+json": {
       "config": {
        "plotlyServerURL": "https://plot.ly"
       },
       "data": [
        {
         "hoverlabel": {
          "namelength": 0
         },
         "hovertemplate": "x=%{x}<br>0=%{y}",
         "legendgroup": "",
         "line": {
          "color": "#636efa",
          "dash": "solid"
         },
         "mode": "lines",
         "name": "",
         "showlegend": false,
         "type": "scatter",
         "x": [
          "1/22/20",
          "1/23/20",
          "1/24/20",
          "1/25/20",
          "1/26/20",
          "1/27/20",
          "1/28/20",
          "1/29/20",
          "1/30/20",
          "1/31/20",
          "2/1/20",
          "2/2/20",
          "2/3/20",
          "2/4/20",
          "2/5/20",
          "2/6/20",
          "2/7/20",
          "2/8/20",
          "2/9/20",
          "2/10/20",
          "2/11/20",
          "2/12/20",
          "2/13/20",
          "2/14/20",
          "2/15/20",
          "2/16/20",
          "2/17/20",
          "2/18/20",
          "2/19/20",
          "2/20/20",
          "2/21/20",
          "2/22/20",
          "2/23/20",
          "2/24/20",
          "2/25/20",
          "2/26/20",
          "2/27/20",
          "2/28/20",
          "2/29/20",
          "3/1/20",
          "3/2/20",
          "3/3/20",
          "3/4/20",
          "3/5/20",
          "3/6/20",
          "3/7/20",
          "3/8/20",
          "3/9/20",
          "3/10/20",
          "3/11/20",
          "3/12/20"
         ],
         "xaxis": "x",
         "y": [
          548,
          643,
          920,
          1406,
          2075,
          2877,
          5509,
          6087,
          8141,
          9802,
          11891,
          16630,
          19716,
          23707,
          27440,
          30587,
          34110,
          36814,
          39829,
          42354,
          44386,
          44759,
          59895,
          66358,
          68413,
          70513,
          72434,
          74211,
          74619,
          75077,
          75550,
          77001,
          77022,
          77241,
          77754,
          78166,
          78600,
          78928,
          79356,
          79932,
          80136,
          80261,
          80386,
          80537,
          80690,
          80770,
          80823,
          80860,
          80887,
          80921,
          80932
         ],
         "yaxis": "y"
        }
       ],
       "layout": {
        "font": {
         "color": "#7f7f7f",
         "family": "Arial",
         "size": 13
        },
        "legend": {
         "tracegroupgap": 0
        },
        "margin": {
         "t": 60
        },
        "template": {
         "data": {
          "bar": [
           {
            "error_x": {
             "color": "#2a3f5f"
            },
            "error_y": {
             "color": "#2a3f5f"
            },
            "marker": {
             "line": {
              "color": "#E5ECF6",
              "width": 0.5
             }
            },
            "type": "bar"
           }
          ],
          "barpolar": [
           {
            "marker": {
             "line": {
              "color": "#E5ECF6",
              "width": 0.5
             }
            },
            "type": "barpolar"
           }
          ],
          "carpet": [
           {
            "aaxis": {
             "endlinecolor": "#2a3f5f",
             "gridcolor": "white",
             "linecolor": "white",
             "minorgridcolor": "white",
             "startlinecolor": "#2a3f5f"
            },
            "baxis": {
             "endlinecolor": "#2a3f5f",
             "gridcolor": "white",
             "linecolor": "white",
             "minorgridcolor": "white",
             "startlinecolor": "#2a3f5f"
            },
            "type": "carpet"
           }
          ],
          "choropleth": [
           {
            "colorbar": {
             "outlinewidth": 0,
             "ticks": ""
            },
            "type": "choropleth"
           }
          ],
          "contour": [
           {
            "colorbar": {
             "outlinewidth": 0,
             "ticks": ""
            },
            "colorscale": [
             [
              0,
              "#0d0887"
             ],
             [
              0.1111111111111111,
              "#46039f"
             ],
             [
              0.2222222222222222,
              "#7201a8"
             ],
             [
              0.3333333333333333,
              "#9c179e"
             ],
             [
              0.4444444444444444,
              "#bd3786"
             ],
             [
              0.5555555555555556,
              "#d8576b"
             ],
             [
              0.6666666666666666,
              "#ed7953"
             ],
             [
              0.7777777777777778,
              "#fb9f3a"
             ],
             [
              0.8888888888888888,
              "#fdca26"
             ],
             [
              1,
              "#f0f921"
             ]
            ],
            "type": "contour"
           }
          ],
          "contourcarpet": [
           {
            "colorbar": {
             "outlinewidth": 0,
             "ticks": ""
            },
            "type": "contourcarpet"
           }
          ],
          "heatmap": [
           {
            "colorbar": {
             "outlinewidth": 0,
             "ticks": ""
            },
            "colorscale": [
             [
              0,
              "#0d0887"
             ],
             [
              0.1111111111111111,
              "#46039f"
             ],
             [
              0.2222222222222222,
              "#7201a8"
             ],
             [
              0.3333333333333333,
              "#9c179e"
             ],
             [
              0.4444444444444444,
              "#bd3786"
             ],
             [
              0.5555555555555556,
              "#d8576b"
             ],
             [
              0.6666666666666666,
              "#ed7953"
             ],
             [
              0.7777777777777778,
              "#fb9f3a"
             ],
             [
              0.8888888888888888,
              "#fdca26"
             ],
             [
              1,
              "#f0f921"
             ]
            ],
            "type": "heatmap"
           }
          ],
          "heatmapgl": [
           {
            "colorbar": {
             "outlinewidth": 0,
             "ticks": ""
            },
            "colorscale": [
             [
              0,
              "#0d0887"
             ],
             [
              0.1111111111111111,
              "#46039f"
             ],
             [
              0.2222222222222222,
              "#7201a8"
             ],
             [
              0.3333333333333333,
              "#9c179e"
             ],
             [
              0.4444444444444444,
              "#bd3786"
             ],
             [
              0.5555555555555556,
              "#d8576b"
             ],
             [
              0.6666666666666666,
              "#ed7953"
             ],
             [
              0.7777777777777778,
              "#fb9f3a"
             ],
             [
              0.8888888888888888,
              "#fdca26"
             ],
             [
              1,
              "#f0f921"
             ]
            ],
            "type": "heatmapgl"
           }
          ],
          "histogram": [
           {
            "marker": {
             "colorbar": {
              "outlinewidth": 0,
              "ticks": ""
             }
            },
            "type": "histogram"
           }
          ],
          "histogram2d": [
           {
            "colorbar": {
             "outlinewidth": 0,
             "ticks": ""
            },
            "colorscale": [
             [
              0,
              "#0d0887"
             ],
             [
              0.1111111111111111,
              "#46039f"
             ],
             [
              0.2222222222222222,
              "#7201a8"
             ],
             [
              0.3333333333333333,
              "#9c179e"
             ],
             [
              0.4444444444444444,
              "#bd3786"
             ],
             [
              0.5555555555555556,
              "#d8576b"
             ],
             [
              0.6666666666666666,
              "#ed7953"
             ],
             [
              0.7777777777777778,
              "#fb9f3a"
             ],
             [
              0.8888888888888888,
              "#fdca26"
             ],
             [
              1,
              "#f0f921"
             ]
            ],
            "type": "histogram2d"
           }
          ],
          "histogram2dcontour": [
           {
            "colorbar": {
             "outlinewidth": 0,
             "ticks": ""
            },
            "colorscale": [
             [
              0,
              "#0d0887"
             ],
             [
              0.1111111111111111,
              "#46039f"
             ],
             [
              0.2222222222222222,
              "#7201a8"
             ],
             [
              0.3333333333333333,
              "#9c179e"
             ],
             [
              0.4444444444444444,
              "#bd3786"
             ],
             [
              0.5555555555555556,
              "#d8576b"
             ],
             [
              0.6666666666666666,
              "#ed7953"
             ],
             [
              0.7777777777777778,
              "#fb9f3a"
             ],
             [
              0.8888888888888888,
              "#fdca26"
             ],
             [
              1,
              "#f0f921"
             ]
            ],
            "type": "histogram2dcontour"
           }
          ],
          "mesh3d": [
           {
            "colorbar": {
             "outlinewidth": 0,
             "ticks": ""
            },
            "type": "mesh3d"
           }
          ],
          "parcoords": [
           {
            "line": {
             "colorbar": {
              "outlinewidth": 0,
              "ticks": ""
             }
            },
            "type": "parcoords"
           }
          ],
          "pie": [
           {
            "automargin": true,
            "type": "pie"
           }
          ],
          "scatter": [
           {
            "marker": {
             "colorbar": {
              "outlinewidth": 0,
              "ticks": ""
             }
            },
            "type": "scatter"
           }
          ],
          "scatter3d": [
           {
            "line": {
             "colorbar": {
              "outlinewidth": 0,
              "ticks": ""
             }
            },
            "marker": {
             "colorbar": {
              "outlinewidth": 0,
              "ticks": ""
             }
            },
            "type": "scatter3d"
           }
          ],
          "scattercarpet": [
           {
            "marker": {
             "colorbar": {
              "outlinewidth": 0,
              "ticks": ""
             }
            },
            "type": "scattercarpet"
           }
          ],
          "scattergeo": [
           {
            "marker": {
             "colorbar": {
              "outlinewidth": 0,
              "ticks": ""
             }
            },
            "type": "scattergeo"
           }
          ],
          "scattergl": [
           {
            "marker": {
             "colorbar": {
              "outlinewidth": 0,
              "ticks": ""
             }
            },
            "type": "scattergl"
           }
          ],
          "scattermapbox": [
           {
            "marker": {
             "colorbar": {
              "outlinewidth": 0,
              "ticks": ""
             }
            },
            "type": "scattermapbox"
           }
          ],
          "scatterpolar": [
           {
            "marker": {
             "colorbar": {
              "outlinewidth": 0,
              "ticks": ""
             }
            },
            "type": "scatterpolar"
           }
          ],
          "scatterpolargl": [
           {
            "marker": {
             "colorbar": {
              "outlinewidth": 0,
              "ticks": ""
             }
            },
            "type": "scatterpolargl"
           }
          ],
          "scatterternary": [
           {
            "marker": {
             "colorbar": {
              "outlinewidth": 0,
              "ticks": ""
             }
            },
            "type": "scatterternary"
           }
          ],
          "surface": [
           {
            "colorbar": {
             "outlinewidth": 0,
             "ticks": ""
            },
            "colorscale": [
             [
              0,
              "#0d0887"
             ],
             [
              0.1111111111111111,
              "#46039f"
             ],
             [
              0.2222222222222222,
              "#7201a8"
             ],
             [
              0.3333333333333333,
              "#9c179e"
             ],
             [
              0.4444444444444444,
              "#bd3786"
             ],
             [
              0.5555555555555556,
              "#d8576b"
             ],
             [
              0.6666666666666666,
              "#ed7953"
             ],
             [
              0.7777777777777778,
              "#fb9f3a"
             ],
             [
              0.8888888888888888,
              "#fdca26"
             ],
             [
              1,
              "#f0f921"
             ]
            ],
            "type": "surface"
           }
          ],
          "table": [
           {
            "cells": {
             "fill": {
              "color": "#EBF0F8"
             },
             "line": {
              "color": "white"
             }
            },
            "header": {
             "fill": {
              "color": "#C8D4E3"
             },
             "line": {
              "color": "white"
             }
            },
            "type": "table"
           }
          ]
         },
         "layout": {
          "annotationdefaults": {
           "arrowcolor": "#2a3f5f",
           "arrowhead": 0,
           "arrowwidth": 1
          },
          "coloraxis": {
           "colorbar": {
            "outlinewidth": 0,
            "ticks": ""
           }
          },
          "colorscale": {
           "diverging": [
            [
             0,
             "#8e0152"
            ],
            [
             0.1,
             "#c51b7d"
            ],
            [
             0.2,
             "#de77ae"
            ],
            [
             0.3,
             "#f1b6da"
            ],
            [
             0.4,
             "#fde0ef"
            ],
            [
             0.5,
             "#f7f7f7"
            ],
            [
             0.6,
             "#e6f5d0"
            ],
            [
             0.7,
             "#b8e186"
            ],
            [
             0.8,
             "#7fbc41"
            ],
            [
             0.9,
             "#4d9221"
            ],
            [
             1,
             "#276419"
            ]
           ],
           "sequential": [
            [
             0,
             "#0d0887"
            ],
            [
             0.1111111111111111,
             "#46039f"
            ],
            [
             0.2222222222222222,
             "#7201a8"
            ],
            [
             0.3333333333333333,
             "#9c179e"
            ],
            [
             0.4444444444444444,
             "#bd3786"
            ],
            [
             0.5555555555555556,
             "#d8576b"
            ],
            [
             0.6666666666666666,
             "#ed7953"
            ],
            [
             0.7777777777777778,
             "#fb9f3a"
            ],
            [
             0.8888888888888888,
             "#fdca26"
            ],
            [
             1,
             "#f0f921"
            ]
           ],
           "sequentialminus": [
            [
             0,
             "#0d0887"
            ],
            [
             0.1111111111111111,
             "#46039f"
            ],
            [
             0.2222222222222222,
             "#7201a8"
            ],
            [
             0.3333333333333333,
             "#9c179e"
            ],
            [
             0.4444444444444444,
             "#bd3786"
            ],
            [
             0.5555555555555556,
             "#d8576b"
            ],
            [
             0.6666666666666666,
             "#ed7953"
            ],
            [
             0.7777777777777778,
             "#fb9f3a"
            ],
            [
             0.8888888888888888,
             "#fdca26"
            ],
            [
             1,
             "#f0f921"
            ]
           ]
          },
          "colorway": [
           "#636efa",
           "#EF553B",
           "#00cc96",
           "#ab63fa",
           "#FFA15A",
           "#19d3f3",
           "#FF6692",
           "#B6E880",
           "#FF97FF",
           "#FECB52"
          ],
          "font": {
           "color": "#2a3f5f"
          },
          "geo": {
           "bgcolor": "white",
           "lakecolor": "white",
           "landcolor": "#E5ECF6",
           "showlakes": true,
           "showland": true,
           "subunitcolor": "white"
          },
          "hoverlabel": {
           "align": "left"
          },
          "hovermode": "closest",
          "mapbox": {
           "style": "light"
          },
          "paper_bgcolor": "white",
          "plot_bgcolor": "#E5ECF6",
          "polar": {
           "angularaxis": {
            "gridcolor": "white",
            "linecolor": "white",
            "ticks": ""
           },
           "bgcolor": "#E5ECF6",
           "radialaxis": {
            "gridcolor": "white",
            "linecolor": "white",
            "ticks": ""
           }
          },
          "scene": {
           "xaxis": {
            "backgroundcolor": "#E5ECF6",
            "gridcolor": "white",
            "gridwidth": 2,
            "linecolor": "white",
            "showbackground": true,
            "ticks": "",
            "zerolinecolor": "white"
           },
           "yaxis": {
            "backgroundcolor": "#E5ECF6",
            "gridcolor": "white",
            "gridwidth": 2,
            "linecolor": "white",
            "showbackground": true,
            "ticks": "",
            "zerolinecolor": "white"
           },
           "zaxis": {
            "backgroundcolor": "#E5ECF6",
            "gridcolor": "white",
            "gridwidth": 2,
            "linecolor": "white",
            "showbackground": true,
            "ticks": "",
            "zerolinecolor": "white"
           }
          },
          "shapedefaults": {
           "line": {
            "color": "#2a3f5f"
           }
          },
          "ternary": {
           "aaxis": {
            "gridcolor": "white",
            "linecolor": "white",
            "ticks": ""
           },
           "baxis": {
            "gridcolor": "white",
            "linecolor": "white",
            "ticks": ""
           },
           "bgcolor": "#E5ECF6",
           "caxis": {
            "gridcolor": "white",
            "linecolor": "white",
            "ticks": ""
           }
          },
          "title": {
           "x": 0.05
          },
          "xaxis": {
           "automargin": true,
           "gridcolor": "white",
           "linecolor": "white",
           "ticks": "",
           "title": {
            "standoff": 15
           },
           "zerolinecolor": "white",
           "zerolinewidth": 2
          },
          "yaxis": {
           "automargin": true,
           "gridcolor": "white",
           "linecolor": "white",
           "ticks": "",
           "title": {
            "standoff": 15
           },
           "zerolinecolor": "white",
           "zerolinewidth": 2
          }
         }
        },
        "title": {
         "text": "Day-By-Day Mainland China Infected"
        },
        "xaxis": {
         "anchor": "y",
         "domain": [
          0,
          1
         ],
         "title": {
          "text": "Days"
         }
        },
        "yaxis": {
         "anchor": "x",
         "domain": [
          0,
          1
         ],
         "title": {
          "text": "People Infected"
         }
        }
       }
      },
      "text/html": [
       "<div>\n",
       "        \n",
       "        \n",
       "            <div id=\"9caa0dfa-d8ad-4933-8f31-8c0c9be8a773\" class=\"plotly-graph-div\" style=\"height:525px; width:100%;\"></div>\n",
       "            <script type=\"text/javascript\">\n",
       "                require([\"plotly\"], function(Plotly) {\n",
       "                    window.PLOTLYENV=window.PLOTLYENV || {};\n",
       "                    \n",
       "                if (document.getElementById(\"9caa0dfa-d8ad-4933-8f31-8c0c9be8a773\")) {\n",
       "                    Plotly.newPlot(\n",
       "                        '9caa0dfa-d8ad-4933-8f31-8c0c9be8a773',\n",
       "                        [{\"hoverlabel\": {\"namelength\": 0}, \"hovertemplate\": \"x=%{x}<br>0=%{y}\", \"legendgroup\": \"\", \"line\": {\"color\": \"#636efa\", \"dash\": \"solid\"}, \"mode\": \"lines\", \"name\": \"\", \"showlegend\": false, \"type\": \"scatter\", \"x\": [\"1/22/20\", \"1/23/20\", \"1/24/20\", \"1/25/20\", \"1/26/20\", \"1/27/20\", \"1/28/20\", \"1/29/20\", \"1/30/20\", \"1/31/20\", \"2/1/20\", \"2/2/20\", \"2/3/20\", \"2/4/20\", \"2/5/20\", \"2/6/20\", \"2/7/20\", \"2/8/20\", \"2/9/20\", \"2/10/20\", \"2/11/20\", \"2/12/20\", \"2/13/20\", \"2/14/20\", \"2/15/20\", \"2/16/20\", \"2/17/20\", \"2/18/20\", \"2/19/20\", \"2/20/20\", \"2/21/20\", \"2/22/20\", \"2/23/20\", \"2/24/20\", \"2/25/20\", \"2/26/20\", \"2/27/20\", \"2/28/20\", \"2/29/20\", \"3/1/20\", \"3/2/20\", \"3/3/20\", \"3/4/20\", \"3/5/20\", \"3/6/20\", \"3/7/20\", \"3/8/20\", \"3/9/20\", \"3/10/20\", \"3/11/20\", \"3/12/20\"], \"xaxis\": \"x\", \"y\": [548, 643, 920, 1406, 2075, 2877, 5509, 6087, 8141, 9802, 11891, 16630, 19716, 23707, 27440, 30587, 34110, 36814, 39829, 42354, 44386, 44759, 59895, 66358, 68413, 70513, 72434, 74211, 74619, 75077, 75550, 77001, 77022, 77241, 77754, 78166, 78600, 78928, 79356, 79932, 80136, 80261, 80386, 80537, 80690, 80770, 80823, 80860, 80887, 80921, 80932], \"yaxis\": \"y\"}],\n",
       "                        {\"font\": {\"color\": \"#7f7f7f\", \"family\": \"Arial\", \"size\": 13}, \"legend\": {\"tracegroupgap\": 0}, \"margin\": {\"t\": 60}, \"template\": {\"data\": {\"bar\": [{\"error_x\": {\"color\": \"#2a3f5f\"}, \"error_y\": {\"color\": \"#2a3f5f\"}, \"marker\": {\"line\": {\"color\": \"#E5ECF6\", \"width\": 0.5}}, \"type\": \"bar\"}], \"barpolar\": [{\"marker\": {\"line\": {\"color\": \"#E5ECF6\", \"width\": 0.5}}, \"type\": \"barpolar\"}], \"carpet\": [{\"aaxis\": {\"endlinecolor\": \"#2a3f5f\", \"gridcolor\": \"white\", \"linecolor\": \"white\", \"minorgridcolor\": \"white\", \"startlinecolor\": \"#2a3f5f\"}, \"baxis\": {\"endlinecolor\": \"#2a3f5f\", \"gridcolor\": \"white\", \"linecolor\": \"white\", \"minorgridcolor\": \"white\", \"startlinecolor\": \"#2a3f5f\"}, \"type\": \"carpet\"}], \"choropleth\": [{\"colorbar\": {\"outlinewidth\": 0, \"ticks\": \"\"}, \"type\": \"choropleth\"}], \"contour\": [{\"colorbar\": {\"outlinewidth\": 0, \"ticks\": \"\"}, \"colorscale\": [[0.0, \"#0d0887\"], [0.1111111111111111, \"#46039f\"], [0.2222222222222222, \"#7201a8\"], [0.3333333333333333, \"#9c179e\"], [0.4444444444444444, \"#bd3786\"], [0.5555555555555556, \"#d8576b\"], [0.6666666666666666, \"#ed7953\"], [0.7777777777777778, \"#fb9f3a\"], [0.8888888888888888, \"#fdca26\"], [1.0, \"#f0f921\"]], \"type\": \"contour\"}], \"contourcarpet\": [{\"colorbar\": {\"outlinewidth\": 0, \"ticks\": \"\"}, \"type\": \"contourcarpet\"}], \"heatmap\": [{\"colorbar\": {\"outlinewidth\": 0, \"ticks\": \"\"}, \"colorscale\": [[0.0, \"#0d0887\"], [0.1111111111111111, \"#46039f\"], [0.2222222222222222, \"#7201a8\"], [0.3333333333333333, \"#9c179e\"], [0.4444444444444444, \"#bd3786\"], [0.5555555555555556, \"#d8576b\"], [0.6666666666666666, \"#ed7953\"], [0.7777777777777778, \"#fb9f3a\"], [0.8888888888888888, \"#fdca26\"], [1.0, \"#f0f921\"]], \"type\": \"heatmap\"}], \"heatmapgl\": [{\"colorbar\": {\"outlinewidth\": 0, \"ticks\": \"\"}, \"colorscale\": [[0.0, \"#0d0887\"], [0.1111111111111111, \"#46039f\"], [0.2222222222222222, \"#7201a8\"], [0.3333333333333333, \"#9c179e\"], [0.4444444444444444, \"#bd3786\"], [0.5555555555555556, \"#d8576b\"], [0.6666666666666666, \"#ed7953\"], [0.7777777777777778, \"#fb9f3a\"], [0.8888888888888888, \"#fdca26\"], [1.0, \"#f0f921\"]], \"type\": \"heatmapgl\"}], \"histogram\": [{\"marker\": {\"colorbar\": {\"outlinewidth\": 0, \"ticks\": \"\"}}, \"type\": \"histogram\"}], \"histogram2d\": [{\"colorbar\": {\"outlinewidth\": 0, \"ticks\": \"\"}, \"colorscale\": [[0.0, \"#0d0887\"], [0.1111111111111111, \"#46039f\"], [0.2222222222222222, \"#7201a8\"], [0.3333333333333333, \"#9c179e\"], [0.4444444444444444, \"#bd3786\"], [0.5555555555555556, \"#d8576b\"], [0.6666666666666666, \"#ed7953\"], [0.7777777777777778, \"#fb9f3a\"], [0.8888888888888888, \"#fdca26\"], [1.0, \"#f0f921\"]], \"type\": \"histogram2d\"}], \"histogram2dcontour\": [{\"colorbar\": {\"outlinewidth\": 0, \"ticks\": \"\"}, \"colorscale\": [[0.0, \"#0d0887\"], [0.1111111111111111, \"#46039f\"], [0.2222222222222222, \"#7201a8\"], [0.3333333333333333, \"#9c179e\"], [0.4444444444444444, \"#bd3786\"], [0.5555555555555556, \"#d8576b\"], [0.6666666666666666, \"#ed7953\"], [0.7777777777777778, \"#fb9f3a\"], [0.8888888888888888, \"#fdca26\"], [1.0, \"#f0f921\"]], \"type\": \"histogram2dcontour\"}], \"mesh3d\": [{\"colorbar\": {\"outlinewidth\": 0, \"ticks\": \"\"}, \"type\": \"mesh3d\"}], \"parcoords\": [{\"line\": {\"colorbar\": {\"outlinewidth\": 0, \"ticks\": \"\"}}, \"type\": \"parcoords\"}], \"pie\": [{\"automargin\": true, \"type\": \"pie\"}], \"scatter\": [{\"marker\": {\"colorbar\": {\"outlinewidth\": 0, \"ticks\": \"\"}}, \"type\": \"scatter\"}], \"scatter3d\": [{\"line\": {\"colorbar\": {\"outlinewidth\": 0, \"ticks\": \"\"}}, \"marker\": {\"colorbar\": {\"outlinewidth\": 0, \"ticks\": \"\"}}, \"type\": \"scatter3d\"}], \"scattercarpet\": [{\"marker\": {\"colorbar\": {\"outlinewidth\": 0, \"ticks\": \"\"}}, \"type\": \"scattercarpet\"}], \"scattergeo\": [{\"marker\": {\"colorbar\": {\"outlinewidth\": 0, \"ticks\": \"\"}}, \"type\": \"scattergeo\"}], \"scattergl\": [{\"marker\": {\"colorbar\": {\"outlinewidth\": 0, \"ticks\": \"\"}}, \"type\": \"scattergl\"}], \"scattermapbox\": [{\"marker\": {\"colorbar\": {\"outlinewidth\": 0, \"ticks\": \"\"}}, \"type\": \"scattermapbox\"}], \"scatterpolar\": [{\"marker\": {\"colorbar\": {\"outlinewidth\": 0, \"ticks\": \"\"}}, \"type\": \"scatterpolar\"}], \"scatterpolargl\": [{\"marker\": {\"colorbar\": {\"outlinewidth\": 0, \"ticks\": \"\"}}, \"type\": \"scatterpolargl\"}], \"scatterternary\": [{\"marker\": {\"colorbar\": {\"outlinewidth\": 0, \"ticks\": \"\"}}, \"type\": \"scatterternary\"}], \"surface\": [{\"colorbar\": {\"outlinewidth\": 0, \"ticks\": \"\"}, \"colorscale\": [[0.0, \"#0d0887\"], [0.1111111111111111, \"#46039f\"], [0.2222222222222222, \"#7201a8\"], [0.3333333333333333, \"#9c179e\"], [0.4444444444444444, \"#bd3786\"], [0.5555555555555556, \"#d8576b\"], [0.6666666666666666, \"#ed7953\"], [0.7777777777777778, \"#fb9f3a\"], [0.8888888888888888, \"#fdca26\"], [1.0, \"#f0f921\"]], \"type\": \"surface\"}], \"table\": [{\"cells\": {\"fill\": {\"color\": \"#EBF0F8\"}, \"line\": {\"color\": \"white\"}}, \"header\": {\"fill\": {\"color\": \"#C8D4E3\"}, \"line\": {\"color\": \"white\"}}, \"type\": \"table\"}]}, \"layout\": {\"annotationdefaults\": {\"arrowcolor\": \"#2a3f5f\", \"arrowhead\": 0, \"arrowwidth\": 1}, \"coloraxis\": {\"colorbar\": {\"outlinewidth\": 0, \"ticks\": \"\"}}, \"colorscale\": {\"diverging\": [[0, \"#8e0152\"], [0.1, \"#c51b7d\"], [0.2, \"#de77ae\"], [0.3, \"#f1b6da\"], [0.4, \"#fde0ef\"], [0.5, \"#f7f7f7\"], [0.6, \"#e6f5d0\"], [0.7, \"#b8e186\"], [0.8, \"#7fbc41\"], [0.9, \"#4d9221\"], [1, \"#276419\"]], \"sequential\": [[0.0, \"#0d0887\"], [0.1111111111111111, \"#46039f\"], [0.2222222222222222, \"#7201a8\"], [0.3333333333333333, \"#9c179e\"], [0.4444444444444444, \"#bd3786\"], [0.5555555555555556, \"#d8576b\"], [0.6666666666666666, \"#ed7953\"], [0.7777777777777778, \"#fb9f3a\"], [0.8888888888888888, \"#fdca26\"], [1.0, \"#f0f921\"]], \"sequentialminus\": [[0.0, \"#0d0887\"], [0.1111111111111111, \"#46039f\"], [0.2222222222222222, \"#7201a8\"], [0.3333333333333333, \"#9c179e\"], [0.4444444444444444, \"#bd3786\"], [0.5555555555555556, \"#d8576b\"], [0.6666666666666666, \"#ed7953\"], [0.7777777777777778, \"#fb9f3a\"], [0.8888888888888888, \"#fdca26\"], [1.0, \"#f0f921\"]]}, \"colorway\": [\"#636efa\", \"#EF553B\", \"#00cc96\", \"#ab63fa\", \"#FFA15A\", \"#19d3f3\", \"#FF6692\", \"#B6E880\", \"#FF97FF\", \"#FECB52\"], \"font\": {\"color\": \"#2a3f5f\"}, \"geo\": {\"bgcolor\": \"white\", \"lakecolor\": \"white\", \"landcolor\": \"#E5ECF6\", \"showlakes\": true, \"showland\": true, \"subunitcolor\": \"white\"}, \"hoverlabel\": {\"align\": \"left\"}, \"hovermode\": \"closest\", \"mapbox\": {\"style\": \"light\"}, \"paper_bgcolor\": \"white\", \"plot_bgcolor\": \"#E5ECF6\", \"polar\": {\"angularaxis\": {\"gridcolor\": \"white\", \"linecolor\": \"white\", \"ticks\": \"\"}, \"bgcolor\": \"#E5ECF6\", \"radialaxis\": {\"gridcolor\": \"white\", \"linecolor\": \"white\", \"ticks\": \"\"}}, \"scene\": {\"xaxis\": {\"backgroundcolor\": \"#E5ECF6\", \"gridcolor\": \"white\", \"gridwidth\": 2, \"linecolor\": \"white\", \"showbackground\": true, \"ticks\": \"\", \"zerolinecolor\": \"white\"}, \"yaxis\": {\"backgroundcolor\": \"#E5ECF6\", \"gridcolor\": \"white\", \"gridwidth\": 2, \"linecolor\": \"white\", \"showbackground\": true, \"ticks\": \"\", \"zerolinecolor\": \"white\"}, \"zaxis\": {\"backgroundcolor\": \"#E5ECF6\", \"gridcolor\": \"white\", \"gridwidth\": 2, \"linecolor\": \"white\", \"showbackground\": true, \"ticks\": \"\", \"zerolinecolor\": \"white\"}}, \"shapedefaults\": {\"line\": {\"color\": \"#2a3f5f\"}}, \"ternary\": {\"aaxis\": {\"gridcolor\": \"white\", \"linecolor\": \"white\", \"ticks\": \"\"}, \"baxis\": {\"gridcolor\": \"white\", \"linecolor\": \"white\", \"ticks\": \"\"}, \"bgcolor\": \"#E5ECF6\", \"caxis\": {\"gridcolor\": \"white\", \"linecolor\": \"white\", \"ticks\": \"\"}}, \"title\": {\"x\": 0.05}, \"xaxis\": {\"automargin\": true, \"gridcolor\": \"white\", \"linecolor\": \"white\", \"ticks\": \"\", \"title\": {\"standoff\": 15}, \"zerolinecolor\": \"white\", \"zerolinewidth\": 2}, \"yaxis\": {\"automargin\": true, \"gridcolor\": \"white\", \"linecolor\": \"white\", \"ticks\": \"\", \"title\": {\"standoff\": 15}, \"zerolinecolor\": \"white\", \"zerolinewidth\": 2}}}, \"title\": {\"text\": \"Day-By-Day Mainland China Infected\"}, \"xaxis\": {\"anchor\": \"y\", \"domain\": [0.0, 1.0], \"title\": {\"text\": \"Days\"}}, \"yaxis\": {\"anchor\": \"x\", \"domain\": [0.0, 1.0], \"title\": {\"text\": \"People Infected\"}}},\n",
       "                        {\"responsive\": true}\n",
       "                    ).then(function(){\n",
       "                            \n",
       "var gd = document.getElementById('9caa0dfa-d8ad-4933-8f31-8c0c9be8a773');\n",
       "var x = new MutationObserver(function (mutations, observer) {{\n",
       "        var display = window.getComputedStyle(gd).display;\n",
       "        if (!display || display === 'none') {{\n",
       "            console.log([gd, 'removed!']);\n",
       "            Plotly.purge(gd);\n",
       "            observer.disconnect();\n",
       "        }}\n",
       "}});\n",
       "\n",
       "// Listen for the removal of the full notebook cells\n",
       "var notebookContainer = gd.closest('#notebook-container');\n",
       "if (notebookContainer) {{\n",
       "    x.observe(notebookContainer, {childList: true});\n",
       "}}\n",
       "\n",
       "// Listen for the clearing of the current output cell\n",
       "var outputEl = gd.closest('.output');\n",
       "if (outputEl) {{\n",
       "    x.observe(outputEl, {childList: true});\n",
       "}}\n",
       "\n",
       "                        })\n",
       "                };\n",
       "                });\n",
       "            </script>\n",
       "        </div>"
      ]
     },
     "metadata": {},
     "output_type": "display_data"
    }
   ],
   "source": [
    "plot_line(mainland_china_data_confirmed, 1)"
   ]
  },
  {
   "cell_type": "markdown",
   "metadata": {},
   "source": [
    "## Whole World Day By Day\n",
    "How is the infection spreading Worldwide?"
   ]
  },
  {
   "cell_type": "code",
   "execution_count": 5,
   "metadata": {},
   "outputs": [
    {
     "data": {
      "application/vnd.plotly.v1+json": {
       "config": {
        "plotlyServerURL": "https://plot.ly"
       },
       "data": [
        {
         "hoverlabel": {
          "namelength": 0
         },
         "hovertemplate": "x=%{x}<br>0=%{y}",
         "legendgroup": "",
         "line": {
          "color": "#636efa",
          "dash": "solid"
         },
         "mode": "lines",
         "name": "",
         "showlegend": false,
         "type": "scatter",
         "x": [
          "1/22/20",
          "1/23/20",
          "1/24/20",
          "1/25/20",
          "1/26/20",
          "1/27/20",
          "1/28/20",
          "1/29/20",
          "1/30/20",
          "1/31/20",
          "2/1/20",
          "2/2/20",
          "2/3/20",
          "2/4/20",
          "2/5/20",
          "2/6/20",
          "2/7/20",
          "2/8/20",
          "2/9/20",
          "2/10/20",
          "2/11/20",
          "2/12/20",
          "2/13/20",
          "2/14/20",
          "2/15/20",
          "2/16/20",
          "2/17/20",
          "2/18/20",
          "2/19/20",
          "2/20/20",
          "2/21/20",
          "2/22/20",
          "2/23/20",
          "2/24/20",
          "2/25/20",
          "2/26/20",
          "2/27/20",
          "2/28/20",
          "2/29/20",
          "3/1/20",
          "3/2/20",
          "3/3/20",
          "3/4/20",
          "3/5/20",
          "3/6/20",
          "3/7/20",
          "3/8/20",
          "3/9/20",
          "3/10/20",
          "3/11/20",
          "3/12/20"
         ],
         "xaxis": "x",
         "y": [
          555,
          653,
          941,
          1434,
          2118,
          2927,
          5578,
          6166,
          8234,
          9927,
          12038,
          16787,
          19881,
          23892,
          27635,
          30817,
          34391,
          37120,
          40150,
          42762,
          44802,
          45221,
          60368,
          66885,
          69030,
          71224,
          73258,
          75136,
          75639,
          76197,
          76823,
          78579,
          78965,
          79568,
          80413,
          81395,
          82754,
          84120,
          86011,
          88369,
          90306,
          92840,
          95120,
          97882,
          101784,
          105821,
          109795,
          113561,
          118592,
          125865,
          128343
         ],
         "yaxis": "y"
        }
       ],
       "layout": {
        "font": {
         "color": "#7f7f7f",
         "family": "Arial",
         "size": 13
        },
        "legend": {
         "tracegroupgap": 0
        },
        "margin": {
         "t": 60
        },
        "template": {
         "data": {
          "bar": [
           {
            "error_x": {
             "color": "#2a3f5f"
            },
            "error_y": {
             "color": "#2a3f5f"
            },
            "marker": {
             "line": {
              "color": "#E5ECF6",
              "width": 0.5
             }
            },
            "type": "bar"
           }
          ],
          "barpolar": [
           {
            "marker": {
             "line": {
              "color": "#E5ECF6",
              "width": 0.5
             }
            },
            "type": "barpolar"
           }
          ],
          "carpet": [
           {
            "aaxis": {
             "endlinecolor": "#2a3f5f",
             "gridcolor": "white",
             "linecolor": "white",
             "minorgridcolor": "white",
             "startlinecolor": "#2a3f5f"
            },
            "baxis": {
             "endlinecolor": "#2a3f5f",
             "gridcolor": "white",
             "linecolor": "white",
             "minorgridcolor": "white",
             "startlinecolor": "#2a3f5f"
            },
            "type": "carpet"
           }
          ],
          "choropleth": [
           {
            "colorbar": {
             "outlinewidth": 0,
             "ticks": ""
            },
            "type": "choropleth"
           }
          ],
          "contour": [
           {
            "colorbar": {
             "outlinewidth": 0,
             "ticks": ""
            },
            "colorscale": [
             [
              0,
              "#0d0887"
             ],
             [
              0.1111111111111111,
              "#46039f"
             ],
             [
              0.2222222222222222,
              "#7201a8"
             ],
             [
              0.3333333333333333,
              "#9c179e"
             ],
             [
              0.4444444444444444,
              "#bd3786"
             ],
             [
              0.5555555555555556,
              "#d8576b"
             ],
             [
              0.6666666666666666,
              "#ed7953"
             ],
             [
              0.7777777777777778,
              "#fb9f3a"
             ],
             [
              0.8888888888888888,
              "#fdca26"
             ],
             [
              1,
              "#f0f921"
             ]
            ],
            "type": "contour"
           }
          ],
          "contourcarpet": [
           {
            "colorbar": {
             "outlinewidth": 0,
             "ticks": ""
            },
            "type": "contourcarpet"
           }
          ],
          "heatmap": [
           {
            "colorbar": {
             "outlinewidth": 0,
             "ticks": ""
            },
            "colorscale": [
             [
              0,
              "#0d0887"
             ],
             [
              0.1111111111111111,
              "#46039f"
             ],
             [
              0.2222222222222222,
              "#7201a8"
             ],
             [
              0.3333333333333333,
              "#9c179e"
             ],
             [
              0.4444444444444444,
              "#bd3786"
             ],
             [
              0.5555555555555556,
              "#d8576b"
             ],
             [
              0.6666666666666666,
              "#ed7953"
             ],
             [
              0.7777777777777778,
              "#fb9f3a"
             ],
             [
              0.8888888888888888,
              "#fdca26"
             ],
             [
              1,
              "#f0f921"
             ]
            ],
            "type": "heatmap"
           }
          ],
          "heatmapgl": [
           {
            "colorbar": {
             "outlinewidth": 0,
             "ticks": ""
            },
            "colorscale": [
             [
              0,
              "#0d0887"
             ],
             [
              0.1111111111111111,
              "#46039f"
             ],
             [
              0.2222222222222222,
              "#7201a8"
             ],
             [
              0.3333333333333333,
              "#9c179e"
             ],
             [
              0.4444444444444444,
              "#bd3786"
             ],
             [
              0.5555555555555556,
              "#d8576b"
             ],
             [
              0.6666666666666666,
              "#ed7953"
             ],
             [
              0.7777777777777778,
              "#fb9f3a"
             ],
             [
              0.8888888888888888,
              "#fdca26"
             ],
             [
              1,
              "#f0f921"
             ]
            ],
            "type": "heatmapgl"
           }
          ],
          "histogram": [
           {
            "marker": {
             "colorbar": {
              "outlinewidth": 0,
              "ticks": ""
             }
            },
            "type": "histogram"
           }
          ],
          "histogram2d": [
           {
            "colorbar": {
             "outlinewidth": 0,
             "ticks": ""
            },
            "colorscale": [
             [
              0,
              "#0d0887"
             ],
             [
              0.1111111111111111,
              "#46039f"
             ],
             [
              0.2222222222222222,
              "#7201a8"
             ],
             [
              0.3333333333333333,
              "#9c179e"
             ],
             [
              0.4444444444444444,
              "#bd3786"
             ],
             [
              0.5555555555555556,
              "#d8576b"
             ],
             [
              0.6666666666666666,
              "#ed7953"
             ],
             [
              0.7777777777777778,
              "#fb9f3a"
             ],
             [
              0.8888888888888888,
              "#fdca26"
             ],
             [
              1,
              "#f0f921"
             ]
            ],
            "type": "histogram2d"
           }
          ],
          "histogram2dcontour": [
           {
            "colorbar": {
             "outlinewidth": 0,
             "ticks": ""
            },
            "colorscale": [
             [
              0,
              "#0d0887"
             ],
             [
              0.1111111111111111,
              "#46039f"
             ],
             [
              0.2222222222222222,
              "#7201a8"
             ],
             [
              0.3333333333333333,
              "#9c179e"
             ],
             [
              0.4444444444444444,
              "#bd3786"
             ],
             [
              0.5555555555555556,
              "#d8576b"
             ],
             [
              0.6666666666666666,
              "#ed7953"
             ],
             [
              0.7777777777777778,
              "#fb9f3a"
             ],
             [
              0.8888888888888888,
              "#fdca26"
             ],
             [
              1,
              "#f0f921"
             ]
            ],
            "type": "histogram2dcontour"
           }
          ],
          "mesh3d": [
           {
            "colorbar": {
             "outlinewidth": 0,
             "ticks": ""
            },
            "type": "mesh3d"
           }
          ],
          "parcoords": [
           {
            "line": {
             "colorbar": {
              "outlinewidth": 0,
              "ticks": ""
             }
            },
            "type": "parcoords"
           }
          ],
          "pie": [
           {
            "automargin": true,
            "type": "pie"
           }
          ],
          "scatter": [
           {
            "marker": {
             "colorbar": {
              "outlinewidth": 0,
              "ticks": ""
             }
            },
            "type": "scatter"
           }
          ],
          "scatter3d": [
           {
            "line": {
             "colorbar": {
              "outlinewidth": 0,
              "ticks": ""
             }
            },
            "marker": {
             "colorbar": {
              "outlinewidth": 0,
              "ticks": ""
             }
            },
            "type": "scatter3d"
           }
          ],
          "scattercarpet": [
           {
            "marker": {
             "colorbar": {
              "outlinewidth": 0,
              "ticks": ""
             }
            },
            "type": "scattercarpet"
           }
          ],
          "scattergeo": [
           {
            "marker": {
             "colorbar": {
              "outlinewidth": 0,
              "ticks": ""
             }
            },
            "type": "scattergeo"
           }
          ],
          "scattergl": [
           {
            "marker": {
             "colorbar": {
              "outlinewidth": 0,
              "ticks": ""
             }
            },
            "type": "scattergl"
           }
          ],
          "scattermapbox": [
           {
            "marker": {
             "colorbar": {
              "outlinewidth": 0,
              "ticks": ""
             }
            },
            "type": "scattermapbox"
           }
          ],
          "scatterpolar": [
           {
            "marker": {
             "colorbar": {
              "outlinewidth": 0,
              "ticks": ""
             }
            },
            "type": "scatterpolar"
           }
          ],
          "scatterpolargl": [
           {
            "marker": {
             "colorbar": {
              "outlinewidth": 0,
              "ticks": ""
             }
            },
            "type": "scatterpolargl"
           }
          ],
          "scatterternary": [
           {
            "marker": {
             "colorbar": {
              "outlinewidth": 0,
              "ticks": ""
             }
            },
            "type": "scatterternary"
           }
          ],
          "surface": [
           {
            "colorbar": {
             "outlinewidth": 0,
             "ticks": ""
            },
            "colorscale": [
             [
              0,
              "#0d0887"
             ],
             [
              0.1111111111111111,
              "#46039f"
             ],
             [
              0.2222222222222222,
              "#7201a8"
             ],
             [
              0.3333333333333333,
              "#9c179e"
             ],
             [
              0.4444444444444444,
              "#bd3786"
             ],
             [
              0.5555555555555556,
              "#d8576b"
             ],
             [
              0.6666666666666666,
              "#ed7953"
             ],
             [
              0.7777777777777778,
              "#fb9f3a"
             ],
             [
              0.8888888888888888,
              "#fdca26"
             ],
             [
              1,
              "#f0f921"
             ]
            ],
            "type": "surface"
           }
          ],
          "table": [
           {
            "cells": {
             "fill": {
              "color": "#EBF0F8"
             },
             "line": {
              "color": "white"
             }
            },
            "header": {
             "fill": {
              "color": "#C8D4E3"
             },
             "line": {
              "color": "white"
             }
            },
            "type": "table"
           }
          ]
         },
         "layout": {
          "annotationdefaults": {
           "arrowcolor": "#2a3f5f",
           "arrowhead": 0,
           "arrowwidth": 1
          },
          "coloraxis": {
           "colorbar": {
            "outlinewidth": 0,
            "ticks": ""
           }
          },
          "colorscale": {
           "diverging": [
            [
             0,
             "#8e0152"
            ],
            [
             0.1,
             "#c51b7d"
            ],
            [
             0.2,
             "#de77ae"
            ],
            [
             0.3,
             "#f1b6da"
            ],
            [
             0.4,
             "#fde0ef"
            ],
            [
             0.5,
             "#f7f7f7"
            ],
            [
             0.6,
             "#e6f5d0"
            ],
            [
             0.7,
             "#b8e186"
            ],
            [
             0.8,
             "#7fbc41"
            ],
            [
             0.9,
             "#4d9221"
            ],
            [
             1,
             "#276419"
            ]
           ],
           "sequential": [
            [
             0,
             "#0d0887"
            ],
            [
             0.1111111111111111,
             "#46039f"
            ],
            [
             0.2222222222222222,
             "#7201a8"
            ],
            [
             0.3333333333333333,
             "#9c179e"
            ],
            [
             0.4444444444444444,
             "#bd3786"
            ],
            [
             0.5555555555555556,
             "#d8576b"
            ],
            [
             0.6666666666666666,
             "#ed7953"
            ],
            [
             0.7777777777777778,
             "#fb9f3a"
            ],
            [
             0.8888888888888888,
             "#fdca26"
            ],
            [
             1,
             "#f0f921"
            ]
           ],
           "sequentialminus": [
            [
             0,
             "#0d0887"
            ],
            [
             0.1111111111111111,
             "#46039f"
            ],
            [
             0.2222222222222222,
             "#7201a8"
            ],
            [
             0.3333333333333333,
             "#9c179e"
            ],
            [
             0.4444444444444444,
             "#bd3786"
            ],
            [
             0.5555555555555556,
             "#d8576b"
            ],
            [
             0.6666666666666666,
             "#ed7953"
            ],
            [
             0.7777777777777778,
             "#fb9f3a"
            ],
            [
             0.8888888888888888,
             "#fdca26"
            ],
            [
             1,
             "#f0f921"
            ]
           ]
          },
          "colorway": [
           "#636efa",
           "#EF553B",
           "#00cc96",
           "#ab63fa",
           "#FFA15A",
           "#19d3f3",
           "#FF6692",
           "#B6E880",
           "#FF97FF",
           "#FECB52"
          ],
          "font": {
           "color": "#2a3f5f"
          },
          "geo": {
           "bgcolor": "white",
           "lakecolor": "white",
           "landcolor": "#E5ECF6",
           "showlakes": true,
           "showland": true,
           "subunitcolor": "white"
          },
          "hoverlabel": {
           "align": "left"
          },
          "hovermode": "closest",
          "mapbox": {
           "style": "light"
          },
          "paper_bgcolor": "white",
          "plot_bgcolor": "#E5ECF6",
          "polar": {
           "angularaxis": {
            "gridcolor": "white",
            "linecolor": "white",
            "ticks": ""
           },
           "bgcolor": "#E5ECF6",
           "radialaxis": {
            "gridcolor": "white",
            "linecolor": "white",
            "ticks": ""
           }
          },
          "scene": {
           "xaxis": {
            "backgroundcolor": "#E5ECF6",
            "gridcolor": "white",
            "gridwidth": 2,
            "linecolor": "white",
            "showbackground": true,
            "ticks": "",
            "zerolinecolor": "white"
           },
           "yaxis": {
            "backgroundcolor": "#E5ECF6",
            "gridcolor": "white",
            "gridwidth": 2,
            "linecolor": "white",
            "showbackground": true,
            "ticks": "",
            "zerolinecolor": "white"
           },
           "zaxis": {
            "backgroundcolor": "#E5ECF6",
            "gridcolor": "white",
            "gridwidth": 2,
            "linecolor": "white",
            "showbackground": true,
            "ticks": "",
            "zerolinecolor": "white"
           }
          },
          "shapedefaults": {
           "line": {
            "color": "#2a3f5f"
           }
          },
          "ternary": {
           "aaxis": {
            "gridcolor": "white",
            "linecolor": "white",
            "ticks": ""
           },
           "baxis": {
            "gridcolor": "white",
            "linecolor": "white",
            "ticks": ""
           },
           "bgcolor": "#E5ECF6",
           "caxis": {
            "gridcolor": "white",
            "linecolor": "white",
            "ticks": ""
           }
          },
          "title": {
           "x": 0.05
          },
          "xaxis": {
           "automargin": true,
           "gridcolor": "white",
           "linecolor": "white",
           "ticks": "",
           "title": {
            "standoff": 15
           },
           "zerolinecolor": "white",
           "zerolinewidth": 2
          },
          "yaxis": {
           "automargin": true,
           "gridcolor": "white",
           "linecolor": "white",
           "ticks": "",
           "title": {
            "standoff": 15
           },
           "zerolinecolor": "white",
           "zerolinewidth": 2
          }
         }
        },
        "title": {
         "text": "Day-By-Day World Infected"
        },
        "xaxis": {
         "anchor": "y",
         "domain": [
          0,
          1
         ],
         "title": {
          "text": "Days"
         }
        },
        "yaxis": {
         "anchor": "x",
         "domain": [
          0,
          1
         ],
         "title": {
          "text": "People Infected"
         }
        }
       }
      },
      "text/html": [
       "<div>\n",
       "        \n",
       "        \n",
       "            <div id=\"5b8a9e6e-4c18-4486-8b4a-2f8f40b3ce73\" class=\"plotly-graph-div\" style=\"height:525px; width:100%;\"></div>\n",
       "            <script type=\"text/javascript\">\n",
       "                require([\"plotly\"], function(Plotly) {\n",
       "                    window.PLOTLYENV=window.PLOTLYENV || {};\n",
       "                    \n",
       "                if (document.getElementById(\"5b8a9e6e-4c18-4486-8b4a-2f8f40b3ce73\")) {\n",
       "                    Plotly.newPlot(\n",
       "                        '5b8a9e6e-4c18-4486-8b4a-2f8f40b3ce73',\n",
       "                        [{\"hoverlabel\": {\"namelength\": 0}, \"hovertemplate\": \"x=%{x}<br>0=%{y}\", \"legendgroup\": \"\", \"line\": {\"color\": \"#636efa\", \"dash\": \"solid\"}, \"mode\": \"lines\", \"name\": \"\", \"showlegend\": false, \"type\": \"scatter\", \"x\": [\"1/22/20\", \"1/23/20\", \"1/24/20\", \"1/25/20\", \"1/26/20\", \"1/27/20\", \"1/28/20\", \"1/29/20\", \"1/30/20\", \"1/31/20\", \"2/1/20\", \"2/2/20\", \"2/3/20\", \"2/4/20\", \"2/5/20\", \"2/6/20\", \"2/7/20\", \"2/8/20\", \"2/9/20\", \"2/10/20\", \"2/11/20\", \"2/12/20\", \"2/13/20\", \"2/14/20\", \"2/15/20\", \"2/16/20\", \"2/17/20\", \"2/18/20\", \"2/19/20\", \"2/20/20\", \"2/21/20\", \"2/22/20\", \"2/23/20\", \"2/24/20\", \"2/25/20\", \"2/26/20\", \"2/27/20\", \"2/28/20\", \"2/29/20\", \"3/1/20\", \"3/2/20\", \"3/3/20\", \"3/4/20\", \"3/5/20\", \"3/6/20\", \"3/7/20\", \"3/8/20\", \"3/9/20\", \"3/10/20\", \"3/11/20\", \"3/12/20\"], \"xaxis\": \"x\", \"y\": [555.0, 653.0, 941.0, 1434.0, 2118.0, 2927.0, 5578.0, 6166.0, 8234.0, 9927.0, 12038.0, 16787.0, 19881.0, 23892.0, 27635.0, 30817.0, 34391.0, 37120.0, 40150.0, 42762.0, 44802.0, 45221.0, 60368.0, 66885.0, 69030.0, 71224.0, 73258.0, 75136.0, 75639.0, 76197.0, 76823.0, 78579.0, 78965.0, 79568.0, 80413.0, 81395.0, 82754.0, 84120.0, 86011.0, 88369.0, 90306.0, 92840.0, 95120.0, 97882.0, 101784.0, 105821.0, 109795.0, 113561.0, 118592.0, 125865.0, 128343.0], \"yaxis\": \"y\"}],\n",
       "                        {\"font\": {\"color\": \"#7f7f7f\", \"family\": \"Arial\", \"size\": 13}, \"legend\": {\"tracegroupgap\": 0}, \"margin\": {\"t\": 60}, \"template\": {\"data\": {\"bar\": [{\"error_x\": {\"color\": \"#2a3f5f\"}, \"error_y\": {\"color\": \"#2a3f5f\"}, \"marker\": {\"line\": {\"color\": \"#E5ECF6\", \"width\": 0.5}}, \"type\": \"bar\"}], \"barpolar\": [{\"marker\": {\"line\": {\"color\": \"#E5ECF6\", \"width\": 0.5}}, \"type\": \"barpolar\"}], \"carpet\": [{\"aaxis\": {\"endlinecolor\": \"#2a3f5f\", \"gridcolor\": \"white\", \"linecolor\": \"white\", \"minorgridcolor\": \"white\", \"startlinecolor\": \"#2a3f5f\"}, \"baxis\": {\"endlinecolor\": \"#2a3f5f\", \"gridcolor\": \"white\", \"linecolor\": \"white\", \"minorgridcolor\": \"white\", \"startlinecolor\": \"#2a3f5f\"}, \"type\": \"carpet\"}], \"choropleth\": [{\"colorbar\": {\"outlinewidth\": 0, \"ticks\": \"\"}, \"type\": \"choropleth\"}], \"contour\": [{\"colorbar\": {\"outlinewidth\": 0, \"ticks\": \"\"}, \"colorscale\": [[0.0, \"#0d0887\"], [0.1111111111111111, \"#46039f\"], [0.2222222222222222, \"#7201a8\"], [0.3333333333333333, \"#9c179e\"], [0.4444444444444444, \"#bd3786\"], [0.5555555555555556, \"#d8576b\"], [0.6666666666666666, \"#ed7953\"], [0.7777777777777778, \"#fb9f3a\"], [0.8888888888888888, \"#fdca26\"], [1.0, \"#f0f921\"]], \"type\": \"contour\"}], \"contourcarpet\": [{\"colorbar\": {\"outlinewidth\": 0, \"ticks\": \"\"}, \"type\": \"contourcarpet\"}], \"heatmap\": [{\"colorbar\": {\"outlinewidth\": 0, \"ticks\": \"\"}, \"colorscale\": [[0.0, \"#0d0887\"], [0.1111111111111111, \"#46039f\"], [0.2222222222222222, \"#7201a8\"], [0.3333333333333333, \"#9c179e\"], [0.4444444444444444, \"#bd3786\"], [0.5555555555555556, \"#d8576b\"], [0.6666666666666666, \"#ed7953\"], [0.7777777777777778, \"#fb9f3a\"], [0.8888888888888888, \"#fdca26\"], [1.0, \"#f0f921\"]], \"type\": \"heatmap\"}], \"heatmapgl\": [{\"colorbar\": {\"outlinewidth\": 0, \"ticks\": \"\"}, \"colorscale\": [[0.0, \"#0d0887\"], [0.1111111111111111, \"#46039f\"], [0.2222222222222222, \"#7201a8\"], [0.3333333333333333, \"#9c179e\"], [0.4444444444444444, \"#bd3786\"], [0.5555555555555556, \"#d8576b\"], [0.6666666666666666, \"#ed7953\"], [0.7777777777777778, \"#fb9f3a\"], [0.8888888888888888, \"#fdca26\"], [1.0, \"#f0f921\"]], \"type\": \"heatmapgl\"}], \"histogram\": [{\"marker\": {\"colorbar\": {\"outlinewidth\": 0, \"ticks\": \"\"}}, \"type\": \"histogram\"}], \"histogram2d\": [{\"colorbar\": {\"outlinewidth\": 0, \"ticks\": \"\"}, \"colorscale\": [[0.0, \"#0d0887\"], [0.1111111111111111, \"#46039f\"], [0.2222222222222222, \"#7201a8\"], [0.3333333333333333, \"#9c179e\"], [0.4444444444444444, \"#bd3786\"], [0.5555555555555556, \"#d8576b\"], [0.6666666666666666, \"#ed7953\"], [0.7777777777777778, \"#fb9f3a\"], [0.8888888888888888, \"#fdca26\"], [1.0, \"#f0f921\"]], \"type\": \"histogram2d\"}], \"histogram2dcontour\": [{\"colorbar\": {\"outlinewidth\": 0, \"ticks\": \"\"}, \"colorscale\": [[0.0, \"#0d0887\"], [0.1111111111111111, \"#46039f\"], [0.2222222222222222, \"#7201a8\"], [0.3333333333333333, \"#9c179e\"], [0.4444444444444444, \"#bd3786\"], [0.5555555555555556, \"#d8576b\"], [0.6666666666666666, \"#ed7953\"], [0.7777777777777778, \"#fb9f3a\"], [0.8888888888888888, \"#fdca26\"], [1.0, \"#f0f921\"]], \"type\": \"histogram2dcontour\"}], \"mesh3d\": [{\"colorbar\": {\"outlinewidth\": 0, \"ticks\": \"\"}, \"type\": \"mesh3d\"}], \"parcoords\": [{\"line\": {\"colorbar\": {\"outlinewidth\": 0, \"ticks\": \"\"}}, \"type\": \"parcoords\"}], \"pie\": [{\"automargin\": true, \"type\": \"pie\"}], \"scatter\": [{\"marker\": {\"colorbar\": {\"outlinewidth\": 0, \"ticks\": \"\"}}, \"type\": \"scatter\"}], \"scatter3d\": [{\"line\": {\"colorbar\": {\"outlinewidth\": 0, \"ticks\": \"\"}}, \"marker\": {\"colorbar\": {\"outlinewidth\": 0, \"ticks\": \"\"}}, \"type\": \"scatter3d\"}], \"scattercarpet\": [{\"marker\": {\"colorbar\": {\"outlinewidth\": 0, \"ticks\": \"\"}}, \"type\": \"scattercarpet\"}], \"scattergeo\": [{\"marker\": {\"colorbar\": {\"outlinewidth\": 0, \"ticks\": \"\"}}, \"type\": \"scattergeo\"}], \"scattergl\": [{\"marker\": {\"colorbar\": {\"outlinewidth\": 0, \"ticks\": \"\"}}, \"type\": \"scattergl\"}], \"scattermapbox\": [{\"marker\": {\"colorbar\": {\"outlinewidth\": 0, \"ticks\": \"\"}}, \"type\": \"scattermapbox\"}], \"scatterpolar\": [{\"marker\": {\"colorbar\": {\"outlinewidth\": 0, \"ticks\": \"\"}}, \"type\": \"scatterpolar\"}], \"scatterpolargl\": [{\"marker\": {\"colorbar\": {\"outlinewidth\": 0, \"ticks\": \"\"}}, \"type\": \"scatterpolargl\"}], \"scatterternary\": [{\"marker\": {\"colorbar\": {\"outlinewidth\": 0, \"ticks\": \"\"}}, \"type\": \"scatterternary\"}], \"surface\": [{\"colorbar\": {\"outlinewidth\": 0, \"ticks\": \"\"}, \"colorscale\": [[0.0, \"#0d0887\"], [0.1111111111111111, \"#46039f\"], [0.2222222222222222, \"#7201a8\"], [0.3333333333333333, \"#9c179e\"], [0.4444444444444444, \"#bd3786\"], [0.5555555555555556, \"#d8576b\"], [0.6666666666666666, \"#ed7953\"], [0.7777777777777778, \"#fb9f3a\"], [0.8888888888888888, \"#fdca26\"], [1.0, \"#f0f921\"]], \"type\": \"surface\"}], \"table\": [{\"cells\": {\"fill\": {\"color\": \"#EBF0F8\"}, \"line\": {\"color\": \"white\"}}, \"header\": {\"fill\": {\"color\": \"#C8D4E3\"}, \"line\": {\"color\": \"white\"}}, \"type\": \"table\"}]}, \"layout\": {\"annotationdefaults\": {\"arrowcolor\": \"#2a3f5f\", \"arrowhead\": 0, \"arrowwidth\": 1}, \"coloraxis\": {\"colorbar\": {\"outlinewidth\": 0, \"ticks\": \"\"}}, \"colorscale\": {\"diverging\": [[0, \"#8e0152\"], [0.1, \"#c51b7d\"], [0.2, \"#de77ae\"], [0.3, \"#f1b6da\"], [0.4, \"#fde0ef\"], [0.5, \"#f7f7f7\"], [0.6, \"#e6f5d0\"], [0.7, \"#b8e186\"], [0.8, \"#7fbc41\"], [0.9, \"#4d9221\"], [1, \"#276419\"]], \"sequential\": [[0.0, \"#0d0887\"], [0.1111111111111111, \"#46039f\"], [0.2222222222222222, \"#7201a8\"], [0.3333333333333333, \"#9c179e\"], [0.4444444444444444, \"#bd3786\"], [0.5555555555555556, \"#d8576b\"], [0.6666666666666666, \"#ed7953\"], [0.7777777777777778, \"#fb9f3a\"], [0.8888888888888888, \"#fdca26\"], [1.0, \"#f0f921\"]], \"sequentialminus\": [[0.0, \"#0d0887\"], [0.1111111111111111, \"#46039f\"], [0.2222222222222222, \"#7201a8\"], [0.3333333333333333, \"#9c179e\"], [0.4444444444444444, \"#bd3786\"], [0.5555555555555556, \"#d8576b\"], [0.6666666666666666, \"#ed7953\"], [0.7777777777777778, \"#fb9f3a\"], [0.8888888888888888, \"#fdca26\"], [1.0, \"#f0f921\"]]}, \"colorway\": [\"#636efa\", \"#EF553B\", \"#00cc96\", \"#ab63fa\", \"#FFA15A\", \"#19d3f3\", \"#FF6692\", \"#B6E880\", \"#FF97FF\", \"#FECB52\"], \"font\": {\"color\": \"#2a3f5f\"}, \"geo\": {\"bgcolor\": \"white\", \"lakecolor\": \"white\", \"landcolor\": \"#E5ECF6\", \"showlakes\": true, \"showland\": true, \"subunitcolor\": \"white\"}, \"hoverlabel\": {\"align\": \"left\"}, \"hovermode\": \"closest\", \"mapbox\": {\"style\": \"light\"}, \"paper_bgcolor\": \"white\", \"plot_bgcolor\": \"#E5ECF6\", \"polar\": {\"angularaxis\": {\"gridcolor\": \"white\", \"linecolor\": \"white\", \"ticks\": \"\"}, \"bgcolor\": \"#E5ECF6\", \"radialaxis\": {\"gridcolor\": \"white\", \"linecolor\": \"white\", \"ticks\": \"\"}}, \"scene\": {\"xaxis\": {\"backgroundcolor\": \"#E5ECF6\", \"gridcolor\": \"white\", \"gridwidth\": 2, \"linecolor\": \"white\", \"showbackground\": true, \"ticks\": \"\", \"zerolinecolor\": \"white\"}, \"yaxis\": {\"backgroundcolor\": \"#E5ECF6\", \"gridcolor\": \"white\", \"gridwidth\": 2, \"linecolor\": \"white\", \"showbackground\": true, \"ticks\": \"\", \"zerolinecolor\": \"white\"}, \"zaxis\": {\"backgroundcolor\": \"#E5ECF6\", \"gridcolor\": \"white\", \"gridwidth\": 2, \"linecolor\": \"white\", \"showbackground\": true, \"ticks\": \"\", \"zerolinecolor\": \"white\"}}, \"shapedefaults\": {\"line\": {\"color\": \"#2a3f5f\"}}, \"ternary\": {\"aaxis\": {\"gridcolor\": \"white\", \"linecolor\": \"white\", \"ticks\": \"\"}, \"baxis\": {\"gridcolor\": \"white\", \"linecolor\": \"white\", \"ticks\": \"\"}, \"bgcolor\": \"#E5ECF6\", \"caxis\": {\"gridcolor\": \"white\", \"linecolor\": \"white\", \"ticks\": \"\"}}, \"title\": {\"x\": 0.05}, \"xaxis\": {\"automargin\": true, \"gridcolor\": \"white\", \"linecolor\": \"white\", \"ticks\": \"\", \"title\": {\"standoff\": 15}, \"zerolinecolor\": \"white\", \"zerolinewidth\": 2}, \"yaxis\": {\"automargin\": true, \"gridcolor\": \"white\", \"linecolor\": \"white\", \"ticks\": \"\", \"title\": {\"standoff\": 15}, \"zerolinecolor\": \"white\", \"zerolinewidth\": 2}}}, \"title\": {\"text\": \"Day-By-Day World Infected\"}, \"xaxis\": {\"anchor\": \"y\", \"domain\": [0.0, 1.0], \"title\": {\"text\": \"Days\"}}, \"yaxis\": {\"anchor\": \"x\", \"domain\": [0.0, 1.0], \"title\": {\"text\": \"People Infected\"}}},\n",
       "                        {\"responsive\": true}\n",
       "                    ).then(function(){\n",
       "                            \n",
       "var gd = document.getElementById('5b8a9e6e-4c18-4486-8b4a-2f8f40b3ce73');\n",
       "var x = new MutationObserver(function (mutations, observer) {{\n",
       "        var display = window.getComputedStyle(gd).display;\n",
       "        if (!display || display === 'none') {{\n",
       "            console.log([gd, 'removed!']);\n",
       "            Plotly.purge(gd);\n",
       "            observer.disconnect();\n",
       "        }}\n",
       "}});\n",
       "\n",
       "// Listen for the removal of the full notebook cells\n",
       "var notebookContainer = gd.closest('#notebook-container');\n",
       "if (notebookContainer) {{\n",
       "    x.observe(notebookContainer, {childList: true});\n",
       "}}\n",
       "\n",
       "// Listen for the clearing of the current output cell\n",
       "var outputEl = gd.closest('.output');\n",
       "if (outputEl) {{\n",
       "    x.observe(outputEl, {childList: true});\n",
       "}}\n",
       "\n",
       "                        })\n",
       "                };\n",
       "                });\n",
       "            </script>\n",
       "        </div>"
      ]
     },
     "metadata": {},
     "output_type": "display_data"
    }
   ],
   "source": [
    "plot_line(world_data_confirmed, 0)"
   ]
  },
  {
   "cell_type": "markdown",
   "metadata": {},
   "source": [
    "## Outside China Day By Day\n",
    "China seems to have contained the impacts of Coronavirus as of now. But how is the infection spreading outside China?"
   ]
  },
  {
   "cell_type": "code",
   "execution_count": 6,
   "metadata": {},
   "outputs": [
    {
     "data": {
      "application/vnd.plotly.v1+json": {
       "config": {
        "plotlyServerURL": "https://plot.ly"
       },
       "data": [
        {
         "hoverlabel": {
          "namelength": 0
         },
         "hovertemplate": "x=%{x}<br>0=%{y}",
         "legendgroup": "",
         "line": {
          "color": "#636efa",
          "dash": "solid"
         },
         "mode": "lines",
         "name": "",
         "showlegend": false,
         "type": "scatter",
         "x": [
          "1/22/20",
          "1/23/20",
          "1/24/20",
          "1/25/20",
          "1/26/20",
          "1/27/20",
          "1/28/20",
          "1/29/20",
          "1/30/20",
          "1/31/20",
          "2/1/20",
          "2/2/20",
          "2/3/20",
          "2/4/20",
          "2/5/20",
          "2/6/20",
          "2/7/20",
          "2/8/20",
          "2/9/20",
          "2/10/20",
          "2/11/20",
          "2/12/20",
          "2/13/20",
          "2/14/20",
          "2/15/20",
          "2/16/20",
          "2/17/20",
          "2/18/20",
          "2/19/20",
          "2/20/20",
          "2/21/20",
          "2/22/20",
          "2/23/20",
          "2/24/20",
          "2/25/20",
          "2/26/20",
          "2/27/20",
          "2/28/20",
          "2/29/20",
          "3/1/20",
          "3/2/20",
          "3/3/20",
          "3/4/20",
          "3/5/20",
          "3/6/20",
          "3/7/20",
          "3/8/20",
          "3/9/20",
          "3/10/20",
          "3/11/20",
          "3/12/20"
         ],
         "xaxis": "x",
         "y": [
          7,
          10,
          21,
          28,
          43,
          50,
          69,
          79,
          93,
          125,
          147,
          157,
          165,
          185,
          195,
          230,
          281,
          306,
          321,
          408,
          416,
          462,
          473,
          527,
          617,
          711,
          824,
          925,
          1020,
          1120,
          1273,
          1578,
          1943,
          2327,
          2659,
          3229,
          4154,
          5192,
          6655,
          8437,
          10170,
          12579,
          14734,
          17345,
          21094,
          25051,
          28972,
          32701,
          37705,
          44944,
          47411
         ],
         "yaxis": "y"
        }
       ],
       "layout": {
        "font": {
         "color": "#7f7f7f",
         "family": "Arial",
         "size": 13
        },
        "legend": {
         "tracegroupgap": 0
        },
        "margin": {
         "t": 60
        },
        "template": {
         "data": {
          "bar": [
           {
            "error_x": {
             "color": "#2a3f5f"
            },
            "error_y": {
             "color": "#2a3f5f"
            },
            "marker": {
             "line": {
              "color": "#E5ECF6",
              "width": 0.5
             }
            },
            "type": "bar"
           }
          ],
          "barpolar": [
           {
            "marker": {
             "line": {
              "color": "#E5ECF6",
              "width": 0.5
             }
            },
            "type": "barpolar"
           }
          ],
          "carpet": [
           {
            "aaxis": {
             "endlinecolor": "#2a3f5f",
             "gridcolor": "white",
             "linecolor": "white",
             "minorgridcolor": "white",
             "startlinecolor": "#2a3f5f"
            },
            "baxis": {
             "endlinecolor": "#2a3f5f",
             "gridcolor": "white",
             "linecolor": "white",
             "minorgridcolor": "white",
             "startlinecolor": "#2a3f5f"
            },
            "type": "carpet"
           }
          ],
          "choropleth": [
           {
            "colorbar": {
             "outlinewidth": 0,
             "ticks": ""
            },
            "type": "choropleth"
           }
          ],
          "contour": [
           {
            "colorbar": {
             "outlinewidth": 0,
             "ticks": ""
            },
            "colorscale": [
             [
              0,
              "#0d0887"
             ],
             [
              0.1111111111111111,
              "#46039f"
             ],
             [
              0.2222222222222222,
              "#7201a8"
             ],
             [
              0.3333333333333333,
              "#9c179e"
             ],
             [
              0.4444444444444444,
              "#bd3786"
             ],
             [
              0.5555555555555556,
              "#d8576b"
             ],
             [
              0.6666666666666666,
              "#ed7953"
             ],
             [
              0.7777777777777778,
              "#fb9f3a"
             ],
             [
              0.8888888888888888,
              "#fdca26"
             ],
             [
              1,
              "#f0f921"
             ]
            ],
            "type": "contour"
           }
          ],
          "contourcarpet": [
           {
            "colorbar": {
             "outlinewidth": 0,
             "ticks": ""
            },
            "type": "contourcarpet"
           }
          ],
          "heatmap": [
           {
            "colorbar": {
             "outlinewidth": 0,
             "ticks": ""
            },
            "colorscale": [
             [
              0,
              "#0d0887"
             ],
             [
              0.1111111111111111,
              "#46039f"
             ],
             [
              0.2222222222222222,
              "#7201a8"
             ],
             [
              0.3333333333333333,
              "#9c179e"
             ],
             [
              0.4444444444444444,
              "#bd3786"
             ],
             [
              0.5555555555555556,
              "#d8576b"
             ],
             [
              0.6666666666666666,
              "#ed7953"
             ],
             [
              0.7777777777777778,
              "#fb9f3a"
             ],
             [
              0.8888888888888888,
              "#fdca26"
             ],
             [
              1,
              "#f0f921"
             ]
            ],
            "type": "heatmap"
           }
          ],
          "heatmapgl": [
           {
            "colorbar": {
             "outlinewidth": 0,
             "ticks": ""
            },
            "colorscale": [
             [
              0,
              "#0d0887"
             ],
             [
              0.1111111111111111,
              "#46039f"
             ],
             [
              0.2222222222222222,
              "#7201a8"
             ],
             [
              0.3333333333333333,
              "#9c179e"
             ],
             [
              0.4444444444444444,
              "#bd3786"
             ],
             [
              0.5555555555555556,
              "#d8576b"
             ],
             [
              0.6666666666666666,
              "#ed7953"
             ],
             [
              0.7777777777777778,
              "#fb9f3a"
             ],
             [
              0.8888888888888888,
              "#fdca26"
             ],
             [
              1,
              "#f0f921"
             ]
            ],
            "type": "heatmapgl"
           }
          ],
          "histogram": [
           {
            "marker": {
             "colorbar": {
              "outlinewidth": 0,
              "ticks": ""
             }
            },
            "type": "histogram"
           }
          ],
          "histogram2d": [
           {
            "colorbar": {
             "outlinewidth": 0,
             "ticks": ""
            },
            "colorscale": [
             [
              0,
              "#0d0887"
             ],
             [
              0.1111111111111111,
              "#46039f"
             ],
             [
              0.2222222222222222,
              "#7201a8"
             ],
             [
              0.3333333333333333,
              "#9c179e"
             ],
             [
              0.4444444444444444,
              "#bd3786"
             ],
             [
              0.5555555555555556,
              "#d8576b"
             ],
             [
              0.6666666666666666,
              "#ed7953"
             ],
             [
              0.7777777777777778,
              "#fb9f3a"
             ],
             [
              0.8888888888888888,
              "#fdca26"
             ],
             [
              1,
              "#f0f921"
             ]
            ],
            "type": "histogram2d"
           }
          ],
          "histogram2dcontour": [
           {
            "colorbar": {
             "outlinewidth": 0,
             "ticks": ""
            },
            "colorscale": [
             [
              0,
              "#0d0887"
             ],
             [
              0.1111111111111111,
              "#46039f"
             ],
             [
              0.2222222222222222,
              "#7201a8"
             ],
             [
              0.3333333333333333,
              "#9c179e"
             ],
             [
              0.4444444444444444,
              "#bd3786"
             ],
             [
              0.5555555555555556,
              "#d8576b"
             ],
             [
              0.6666666666666666,
              "#ed7953"
             ],
             [
              0.7777777777777778,
              "#fb9f3a"
             ],
             [
              0.8888888888888888,
              "#fdca26"
             ],
             [
              1,
              "#f0f921"
             ]
            ],
            "type": "histogram2dcontour"
           }
          ],
          "mesh3d": [
           {
            "colorbar": {
             "outlinewidth": 0,
             "ticks": ""
            },
            "type": "mesh3d"
           }
          ],
          "parcoords": [
           {
            "line": {
             "colorbar": {
              "outlinewidth": 0,
              "ticks": ""
             }
            },
            "type": "parcoords"
           }
          ],
          "pie": [
           {
            "automargin": true,
            "type": "pie"
           }
          ],
          "scatter": [
           {
            "marker": {
             "colorbar": {
              "outlinewidth": 0,
              "ticks": ""
             }
            },
            "type": "scatter"
           }
          ],
          "scatter3d": [
           {
            "line": {
             "colorbar": {
              "outlinewidth": 0,
              "ticks": ""
             }
            },
            "marker": {
             "colorbar": {
              "outlinewidth": 0,
              "ticks": ""
             }
            },
            "type": "scatter3d"
           }
          ],
          "scattercarpet": [
           {
            "marker": {
             "colorbar": {
              "outlinewidth": 0,
              "ticks": ""
             }
            },
            "type": "scattercarpet"
           }
          ],
          "scattergeo": [
           {
            "marker": {
             "colorbar": {
              "outlinewidth": 0,
              "ticks": ""
             }
            },
            "type": "scattergeo"
           }
          ],
          "scattergl": [
           {
            "marker": {
             "colorbar": {
              "outlinewidth": 0,
              "ticks": ""
             }
            },
            "type": "scattergl"
           }
          ],
          "scattermapbox": [
           {
            "marker": {
             "colorbar": {
              "outlinewidth": 0,
              "ticks": ""
             }
            },
            "type": "scattermapbox"
           }
          ],
          "scatterpolar": [
           {
            "marker": {
             "colorbar": {
              "outlinewidth": 0,
              "ticks": ""
             }
            },
            "type": "scatterpolar"
           }
          ],
          "scatterpolargl": [
           {
            "marker": {
             "colorbar": {
              "outlinewidth": 0,
              "ticks": ""
             }
            },
            "type": "scatterpolargl"
           }
          ],
          "scatterternary": [
           {
            "marker": {
             "colorbar": {
              "outlinewidth": 0,
              "ticks": ""
             }
            },
            "type": "scatterternary"
           }
          ],
          "surface": [
           {
            "colorbar": {
             "outlinewidth": 0,
             "ticks": ""
            },
            "colorscale": [
             [
              0,
              "#0d0887"
             ],
             [
              0.1111111111111111,
              "#46039f"
             ],
             [
              0.2222222222222222,
              "#7201a8"
             ],
             [
              0.3333333333333333,
              "#9c179e"
             ],
             [
              0.4444444444444444,
              "#bd3786"
             ],
             [
              0.5555555555555556,
              "#d8576b"
             ],
             [
              0.6666666666666666,
              "#ed7953"
             ],
             [
              0.7777777777777778,
              "#fb9f3a"
             ],
             [
              0.8888888888888888,
              "#fdca26"
             ],
             [
              1,
              "#f0f921"
             ]
            ],
            "type": "surface"
           }
          ],
          "table": [
           {
            "cells": {
             "fill": {
              "color": "#EBF0F8"
             },
             "line": {
              "color": "white"
             }
            },
            "header": {
             "fill": {
              "color": "#C8D4E3"
             },
             "line": {
              "color": "white"
             }
            },
            "type": "table"
           }
          ]
         },
         "layout": {
          "annotationdefaults": {
           "arrowcolor": "#2a3f5f",
           "arrowhead": 0,
           "arrowwidth": 1
          },
          "coloraxis": {
           "colorbar": {
            "outlinewidth": 0,
            "ticks": ""
           }
          },
          "colorscale": {
           "diverging": [
            [
             0,
             "#8e0152"
            ],
            [
             0.1,
             "#c51b7d"
            ],
            [
             0.2,
             "#de77ae"
            ],
            [
             0.3,
             "#f1b6da"
            ],
            [
             0.4,
             "#fde0ef"
            ],
            [
             0.5,
             "#f7f7f7"
            ],
            [
             0.6,
             "#e6f5d0"
            ],
            [
             0.7,
             "#b8e186"
            ],
            [
             0.8,
             "#7fbc41"
            ],
            [
             0.9,
             "#4d9221"
            ],
            [
             1,
             "#276419"
            ]
           ],
           "sequential": [
            [
             0,
             "#0d0887"
            ],
            [
             0.1111111111111111,
             "#46039f"
            ],
            [
             0.2222222222222222,
             "#7201a8"
            ],
            [
             0.3333333333333333,
             "#9c179e"
            ],
            [
             0.4444444444444444,
             "#bd3786"
            ],
            [
             0.5555555555555556,
             "#d8576b"
            ],
            [
             0.6666666666666666,
             "#ed7953"
            ],
            [
             0.7777777777777778,
             "#fb9f3a"
            ],
            [
             0.8888888888888888,
             "#fdca26"
            ],
            [
             1,
             "#f0f921"
            ]
           ],
           "sequentialminus": [
            [
             0,
             "#0d0887"
            ],
            [
             0.1111111111111111,
             "#46039f"
            ],
            [
             0.2222222222222222,
             "#7201a8"
            ],
            [
             0.3333333333333333,
             "#9c179e"
            ],
            [
             0.4444444444444444,
             "#bd3786"
            ],
            [
             0.5555555555555556,
             "#d8576b"
            ],
            [
             0.6666666666666666,
             "#ed7953"
            ],
            [
             0.7777777777777778,
             "#fb9f3a"
            ],
            [
             0.8888888888888888,
             "#fdca26"
            ],
            [
             1,
             "#f0f921"
            ]
           ]
          },
          "colorway": [
           "#636efa",
           "#EF553B",
           "#00cc96",
           "#ab63fa",
           "#FFA15A",
           "#19d3f3",
           "#FF6692",
           "#B6E880",
           "#FF97FF",
           "#FECB52"
          ],
          "font": {
           "color": "#2a3f5f"
          },
          "geo": {
           "bgcolor": "white",
           "lakecolor": "white",
           "landcolor": "#E5ECF6",
           "showlakes": true,
           "showland": true,
           "subunitcolor": "white"
          },
          "hoverlabel": {
           "align": "left"
          },
          "hovermode": "closest",
          "mapbox": {
           "style": "light"
          },
          "paper_bgcolor": "white",
          "plot_bgcolor": "#E5ECF6",
          "polar": {
           "angularaxis": {
            "gridcolor": "white",
            "linecolor": "white",
            "ticks": ""
           },
           "bgcolor": "#E5ECF6",
           "radialaxis": {
            "gridcolor": "white",
            "linecolor": "white",
            "ticks": ""
           }
          },
          "scene": {
           "xaxis": {
            "backgroundcolor": "#E5ECF6",
            "gridcolor": "white",
            "gridwidth": 2,
            "linecolor": "white",
            "showbackground": true,
            "ticks": "",
            "zerolinecolor": "white"
           },
           "yaxis": {
            "backgroundcolor": "#E5ECF6",
            "gridcolor": "white",
            "gridwidth": 2,
            "linecolor": "white",
            "showbackground": true,
            "ticks": "",
            "zerolinecolor": "white"
           },
           "zaxis": {
            "backgroundcolor": "#E5ECF6",
            "gridcolor": "white",
            "gridwidth": 2,
            "linecolor": "white",
            "showbackground": true,
            "ticks": "",
            "zerolinecolor": "white"
           }
          },
          "shapedefaults": {
           "line": {
            "color": "#2a3f5f"
           }
          },
          "ternary": {
           "aaxis": {
            "gridcolor": "white",
            "linecolor": "white",
            "ticks": ""
           },
           "baxis": {
            "gridcolor": "white",
            "linecolor": "white",
            "ticks": ""
           },
           "bgcolor": "#E5ECF6",
           "caxis": {
            "gridcolor": "white",
            "linecolor": "white",
            "ticks": ""
           }
          },
          "title": {
           "x": 0.05
          },
          "xaxis": {
           "automargin": true,
           "gridcolor": "white",
           "linecolor": "white",
           "ticks": "",
           "title": {
            "standoff": 15
           },
           "zerolinecolor": "white",
           "zerolinewidth": 2
          },
          "yaxis": {
           "automargin": true,
           "gridcolor": "white",
           "linecolor": "white",
           "ticks": "",
           "title": {
            "standoff": 15
           },
           "zerolinecolor": "white",
           "zerolinewidth": 2
          }
         }
        },
        "title": {
         "text": "Day-By-Day Outside China Infected"
        },
        "xaxis": {
         "anchor": "y",
         "domain": [
          0,
          1
         ],
         "title": {
          "text": "Days"
         }
        },
        "yaxis": {
         "anchor": "x",
         "domain": [
          0,
          1
         ],
         "title": {
          "text": "People Infected"
         }
        }
       }
      },
      "text/html": [
       "<div>\n",
       "        \n",
       "        \n",
       "            <div id=\"c1798cbc-f341-4253-9317-244abf788b70\" class=\"plotly-graph-div\" style=\"height:525px; width:100%;\"></div>\n",
       "            <script type=\"text/javascript\">\n",
       "                require([\"plotly\"], function(Plotly) {\n",
       "                    window.PLOTLYENV=window.PLOTLYENV || {};\n",
       "                    \n",
       "                if (document.getElementById(\"c1798cbc-f341-4253-9317-244abf788b70\")) {\n",
       "                    Plotly.newPlot(\n",
       "                        'c1798cbc-f341-4253-9317-244abf788b70',\n",
       "                        [{\"hoverlabel\": {\"namelength\": 0}, \"hovertemplate\": \"x=%{x}<br>0=%{y}\", \"legendgroup\": \"\", \"line\": {\"color\": \"#636efa\", \"dash\": \"solid\"}, \"mode\": \"lines\", \"name\": \"\", \"showlegend\": false, \"type\": \"scatter\", \"x\": [\"1/22/20\", \"1/23/20\", \"1/24/20\", \"1/25/20\", \"1/26/20\", \"1/27/20\", \"1/28/20\", \"1/29/20\", \"1/30/20\", \"1/31/20\", \"2/1/20\", \"2/2/20\", \"2/3/20\", \"2/4/20\", \"2/5/20\", \"2/6/20\", \"2/7/20\", \"2/8/20\", \"2/9/20\", \"2/10/20\", \"2/11/20\", \"2/12/20\", \"2/13/20\", \"2/14/20\", \"2/15/20\", \"2/16/20\", \"2/17/20\", \"2/18/20\", \"2/19/20\", \"2/20/20\", \"2/21/20\", \"2/22/20\", \"2/23/20\", \"2/24/20\", \"2/25/20\", \"2/26/20\", \"2/27/20\", \"2/28/20\", \"2/29/20\", \"3/1/20\", \"3/2/20\", \"3/3/20\", \"3/4/20\", \"3/5/20\", \"3/6/20\", \"3/7/20\", \"3/8/20\", \"3/9/20\", \"3/10/20\", \"3/11/20\", \"3/12/20\"], \"xaxis\": \"x\", \"y\": [7.0, 10.0, 21.0, 28.0, 43.0, 50.0, 69.0, 79.0, 93.0, 125.0, 147.0, 157.0, 165.0, 185.0, 195.0, 230.0, 281.0, 306.0, 321.0, 408.0, 416.0, 462.0, 473.0, 527.0, 617.0, 711.0, 824.0, 925.0, 1020.0, 1120.0, 1273.0, 1578.0, 1943.0, 2327.0, 2659.0, 3229.0, 4154.0, 5192.0, 6655.0, 8437.0, 10170.0, 12579.0, 14734.0, 17345.0, 21094.0, 25051.0, 28972.0, 32701.0, 37705.0, 44944.0, 47411.0], \"yaxis\": \"y\"}],\n",
       "                        {\"font\": {\"color\": \"#7f7f7f\", \"family\": \"Arial\", \"size\": 13}, \"legend\": {\"tracegroupgap\": 0}, \"margin\": {\"t\": 60}, \"template\": {\"data\": {\"bar\": [{\"error_x\": {\"color\": \"#2a3f5f\"}, \"error_y\": {\"color\": \"#2a3f5f\"}, \"marker\": {\"line\": {\"color\": \"#E5ECF6\", \"width\": 0.5}}, \"type\": \"bar\"}], \"barpolar\": [{\"marker\": {\"line\": {\"color\": \"#E5ECF6\", \"width\": 0.5}}, \"type\": \"barpolar\"}], \"carpet\": [{\"aaxis\": {\"endlinecolor\": \"#2a3f5f\", \"gridcolor\": \"white\", \"linecolor\": \"white\", \"minorgridcolor\": \"white\", \"startlinecolor\": \"#2a3f5f\"}, \"baxis\": {\"endlinecolor\": \"#2a3f5f\", \"gridcolor\": \"white\", \"linecolor\": \"white\", \"minorgridcolor\": \"white\", \"startlinecolor\": \"#2a3f5f\"}, \"type\": \"carpet\"}], \"choropleth\": [{\"colorbar\": {\"outlinewidth\": 0, \"ticks\": \"\"}, \"type\": \"choropleth\"}], \"contour\": [{\"colorbar\": {\"outlinewidth\": 0, \"ticks\": \"\"}, \"colorscale\": [[0.0, \"#0d0887\"], [0.1111111111111111, \"#46039f\"], [0.2222222222222222, \"#7201a8\"], [0.3333333333333333, \"#9c179e\"], [0.4444444444444444, \"#bd3786\"], [0.5555555555555556, \"#d8576b\"], [0.6666666666666666, \"#ed7953\"], [0.7777777777777778, \"#fb9f3a\"], [0.8888888888888888, \"#fdca26\"], [1.0, \"#f0f921\"]], \"type\": \"contour\"}], \"contourcarpet\": [{\"colorbar\": {\"outlinewidth\": 0, \"ticks\": \"\"}, \"type\": \"contourcarpet\"}], \"heatmap\": [{\"colorbar\": {\"outlinewidth\": 0, \"ticks\": \"\"}, \"colorscale\": [[0.0, \"#0d0887\"], [0.1111111111111111, \"#46039f\"], [0.2222222222222222, \"#7201a8\"], [0.3333333333333333, \"#9c179e\"], [0.4444444444444444, \"#bd3786\"], [0.5555555555555556, \"#d8576b\"], [0.6666666666666666, \"#ed7953\"], [0.7777777777777778, \"#fb9f3a\"], [0.8888888888888888, \"#fdca26\"], [1.0, \"#f0f921\"]], \"type\": \"heatmap\"}], \"heatmapgl\": [{\"colorbar\": {\"outlinewidth\": 0, \"ticks\": \"\"}, \"colorscale\": [[0.0, \"#0d0887\"], [0.1111111111111111, \"#46039f\"], [0.2222222222222222, \"#7201a8\"], [0.3333333333333333, \"#9c179e\"], [0.4444444444444444, \"#bd3786\"], [0.5555555555555556, \"#d8576b\"], [0.6666666666666666, \"#ed7953\"], [0.7777777777777778, \"#fb9f3a\"], [0.8888888888888888, \"#fdca26\"], [1.0, \"#f0f921\"]], \"type\": \"heatmapgl\"}], \"histogram\": [{\"marker\": {\"colorbar\": {\"outlinewidth\": 0, \"ticks\": \"\"}}, \"type\": \"histogram\"}], \"histogram2d\": [{\"colorbar\": {\"outlinewidth\": 0, \"ticks\": \"\"}, \"colorscale\": [[0.0, \"#0d0887\"], [0.1111111111111111, \"#46039f\"], [0.2222222222222222, \"#7201a8\"], [0.3333333333333333, \"#9c179e\"], [0.4444444444444444, \"#bd3786\"], [0.5555555555555556, \"#d8576b\"], [0.6666666666666666, \"#ed7953\"], [0.7777777777777778, \"#fb9f3a\"], [0.8888888888888888, \"#fdca26\"], [1.0, \"#f0f921\"]], \"type\": \"histogram2d\"}], \"histogram2dcontour\": [{\"colorbar\": {\"outlinewidth\": 0, \"ticks\": \"\"}, \"colorscale\": [[0.0, \"#0d0887\"], [0.1111111111111111, \"#46039f\"], [0.2222222222222222, \"#7201a8\"], [0.3333333333333333, \"#9c179e\"], [0.4444444444444444, \"#bd3786\"], [0.5555555555555556, \"#d8576b\"], [0.6666666666666666, \"#ed7953\"], [0.7777777777777778, \"#fb9f3a\"], [0.8888888888888888, \"#fdca26\"], [1.0, \"#f0f921\"]], \"type\": \"histogram2dcontour\"}], \"mesh3d\": [{\"colorbar\": {\"outlinewidth\": 0, \"ticks\": \"\"}, \"type\": \"mesh3d\"}], \"parcoords\": [{\"line\": {\"colorbar\": {\"outlinewidth\": 0, \"ticks\": \"\"}}, \"type\": \"parcoords\"}], \"pie\": [{\"automargin\": true, \"type\": \"pie\"}], \"scatter\": [{\"marker\": {\"colorbar\": {\"outlinewidth\": 0, \"ticks\": \"\"}}, \"type\": \"scatter\"}], \"scatter3d\": [{\"line\": {\"colorbar\": {\"outlinewidth\": 0, \"ticks\": \"\"}}, \"marker\": {\"colorbar\": {\"outlinewidth\": 0, \"ticks\": \"\"}}, \"type\": \"scatter3d\"}], \"scattercarpet\": [{\"marker\": {\"colorbar\": {\"outlinewidth\": 0, \"ticks\": \"\"}}, \"type\": \"scattercarpet\"}], \"scattergeo\": [{\"marker\": {\"colorbar\": {\"outlinewidth\": 0, \"ticks\": \"\"}}, \"type\": \"scattergeo\"}], \"scattergl\": [{\"marker\": {\"colorbar\": {\"outlinewidth\": 0, \"ticks\": \"\"}}, \"type\": \"scattergl\"}], \"scattermapbox\": [{\"marker\": {\"colorbar\": {\"outlinewidth\": 0, \"ticks\": \"\"}}, \"type\": \"scattermapbox\"}], \"scatterpolar\": [{\"marker\": {\"colorbar\": {\"outlinewidth\": 0, \"ticks\": \"\"}}, \"type\": \"scatterpolar\"}], \"scatterpolargl\": [{\"marker\": {\"colorbar\": {\"outlinewidth\": 0, \"ticks\": \"\"}}, \"type\": \"scatterpolargl\"}], \"scatterternary\": [{\"marker\": {\"colorbar\": {\"outlinewidth\": 0, \"ticks\": \"\"}}, \"type\": \"scatterternary\"}], \"surface\": [{\"colorbar\": {\"outlinewidth\": 0, \"ticks\": \"\"}, \"colorscale\": [[0.0, \"#0d0887\"], [0.1111111111111111, \"#46039f\"], [0.2222222222222222, \"#7201a8\"], [0.3333333333333333, \"#9c179e\"], [0.4444444444444444, \"#bd3786\"], [0.5555555555555556, \"#d8576b\"], [0.6666666666666666, \"#ed7953\"], [0.7777777777777778, \"#fb9f3a\"], [0.8888888888888888, \"#fdca26\"], [1.0, \"#f0f921\"]], \"type\": \"surface\"}], \"table\": [{\"cells\": {\"fill\": {\"color\": \"#EBF0F8\"}, \"line\": {\"color\": \"white\"}}, \"header\": {\"fill\": {\"color\": \"#C8D4E3\"}, \"line\": {\"color\": \"white\"}}, \"type\": \"table\"}]}, \"layout\": {\"annotationdefaults\": {\"arrowcolor\": \"#2a3f5f\", \"arrowhead\": 0, \"arrowwidth\": 1}, \"coloraxis\": {\"colorbar\": {\"outlinewidth\": 0, \"ticks\": \"\"}}, \"colorscale\": {\"diverging\": [[0, \"#8e0152\"], [0.1, \"#c51b7d\"], [0.2, \"#de77ae\"], [0.3, \"#f1b6da\"], [0.4, \"#fde0ef\"], [0.5, \"#f7f7f7\"], [0.6, \"#e6f5d0\"], [0.7, \"#b8e186\"], [0.8, \"#7fbc41\"], [0.9, \"#4d9221\"], [1, \"#276419\"]], \"sequential\": [[0.0, \"#0d0887\"], [0.1111111111111111, \"#46039f\"], [0.2222222222222222, \"#7201a8\"], [0.3333333333333333, \"#9c179e\"], [0.4444444444444444, \"#bd3786\"], [0.5555555555555556, \"#d8576b\"], [0.6666666666666666, \"#ed7953\"], [0.7777777777777778, \"#fb9f3a\"], [0.8888888888888888, \"#fdca26\"], [1.0, \"#f0f921\"]], \"sequentialminus\": [[0.0, \"#0d0887\"], [0.1111111111111111, \"#46039f\"], [0.2222222222222222, \"#7201a8\"], [0.3333333333333333, \"#9c179e\"], [0.4444444444444444, \"#bd3786\"], [0.5555555555555556, \"#d8576b\"], [0.6666666666666666, \"#ed7953\"], [0.7777777777777778, \"#fb9f3a\"], [0.8888888888888888, \"#fdca26\"], [1.0, \"#f0f921\"]]}, \"colorway\": [\"#636efa\", \"#EF553B\", \"#00cc96\", \"#ab63fa\", \"#FFA15A\", \"#19d3f3\", \"#FF6692\", \"#B6E880\", \"#FF97FF\", \"#FECB52\"], \"font\": {\"color\": \"#2a3f5f\"}, \"geo\": {\"bgcolor\": \"white\", \"lakecolor\": \"white\", \"landcolor\": \"#E5ECF6\", \"showlakes\": true, \"showland\": true, \"subunitcolor\": \"white\"}, \"hoverlabel\": {\"align\": \"left\"}, \"hovermode\": \"closest\", \"mapbox\": {\"style\": \"light\"}, \"paper_bgcolor\": \"white\", \"plot_bgcolor\": \"#E5ECF6\", \"polar\": {\"angularaxis\": {\"gridcolor\": \"white\", \"linecolor\": \"white\", \"ticks\": \"\"}, \"bgcolor\": \"#E5ECF6\", \"radialaxis\": {\"gridcolor\": \"white\", \"linecolor\": \"white\", \"ticks\": \"\"}}, \"scene\": {\"xaxis\": {\"backgroundcolor\": \"#E5ECF6\", \"gridcolor\": \"white\", \"gridwidth\": 2, \"linecolor\": \"white\", \"showbackground\": true, \"ticks\": \"\", \"zerolinecolor\": \"white\"}, \"yaxis\": {\"backgroundcolor\": \"#E5ECF6\", \"gridcolor\": \"white\", \"gridwidth\": 2, \"linecolor\": \"white\", \"showbackground\": true, \"ticks\": \"\", \"zerolinecolor\": \"white\"}, \"zaxis\": {\"backgroundcolor\": \"#E5ECF6\", \"gridcolor\": \"white\", \"gridwidth\": 2, \"linecolor\": \"white\", \"showbackground\": true, \"ticks\": \"\", \"zerolinecolor\": \"white\"}}, \"shapedefaults\": {\"line\": {\"color\": \"#2a3f5f\"}}, \"ternary\": {\"aaxis\": {\"gridcolor\": \"white\", \"linecolor\": \"white\", \"ticks\": \"\"}, \"baxis\": {\"gridcolor\": \"white\", \"linecolor\": \"white\", \"ticks\": \"\"}, \"bgcolor\": \"#E5ECF6\", \"caxis\": {\"gridcolor\": \"white\", \"linecolor\": \"white\", \"ticks\": \"\"}}, \"title\": {\"x\": 0.05}, \"xaxis\": {\"automargin\": true, \"gridcolor\": \"white\", \"linecolor\": \"white\", \"ticks\": \"\", \"title\": {\"standoff\": 15}, \"zerolinecolor\": \"white\", \"zerolinewidth\": 2}, \"yaxis\": {\"automargin\": true, \"gridcolor\": \"white\", \"linecolor\": \"white\", \"ticks\": \"\", \"title\": {\"standoff\": 15}, \"zerolinecolor\": \"white\", \"zerolinewidth\": 2}}}, \"title\": {\"text\": \"Day-By-Day Outside China Infected\"}, \"xaxis\": {\"anchor\": \"y\", \"domain\": [0.0, 1.0], \"title\": {\"text\": \"Days\"}}, \"yaxis\": {\"anchor\": \"x\", \"domain\": [0.0, 1.0], \"title\": {\"text\": \"People Infected\"}}},\n",
       "                        {\"responsive\": true}\n",
       "                    ).then(function(){\n",
       "                            \n",
       "var gd = document.getElementById('c1798cbc-f341-4253-9317-244abf788b70');\n",
       "var x = new MutationObserver(function (mutations, observer) {{\n",
       "        var display = window.getComputedStyle(gd).display;\n",
       "        if (!display || display === 'none') {{\n",
       "            console.log([gd, 'removed!']);\n",
       "            Plotly.purge(gd);\n",
       "            observer.disconnect();\n",
       "        }}\n",
       "}});\n",
       "\n",
       "// Listen for the removal of the full notebook cells\n",
       "var notebookContainer = gd.closest('#notebook-container');\n",
       "if (notebookContainer) {{\n",
       "    x.observe(notebookContainer, {childList: true});\n",
       "}}\n",
       "\n",
       "// Listen for the clearing of the current output cell\n",
       "var outputEl = gd.closest('.output');\n",
       "if (outputEl) {{\n",
       "    x.observe(outputEl, {childList: true});\n",
       "}}\n",
       "\n",
       "                        })\n",
       "                };\n",
       "                });\n",
       "            </script>\n",
       "        </div>"
      ]
     },
     "metadata": {},
     "output_type": "display_data"
    }
   ],
   "source": [
    "plot_line(outside_china_data_confirmed, 2)"
   ]
  },
  {
   "cell_type": "markdown",
   "metadata": {},
   "source": [
    "## Country-wise as of today\n",
    "How are the countries being infected?"
   ]
  },
  {
   "cell_type": "code",
   "execution_count": 7,
   "metadata": {},
   "outputs": [
    {
     "data": {
      "application/vnd.plotly.v1+json": {
       "config": {
        "plotlyServerURL": "https://plot.ly"
       },
       "data": [
        {
         "alignmentgroup": "True",
         "hoverlabel": {
          "namelength": 0
         },
         "hovertemplate": "x=%{x}<br>3/12/20=%{y}",
         "legendgroup": "",
         "marker": {
          "color": "#636efa"
         },
         "name": "",
         "offsetgroup": "",
         "orientation": "v",
         "showlegend": false,
         "textposition": "auto",
         "type": "bar",
         "x": [
          "China",
          "Italy",
          "Iran",
          "Korea, South",
          "France",
          "Spain",
          "Germany",
          "US",
          "Norway",
          "Cruise Ship",
          "Switzerland",
          "Japan",
          "Denmark",
          "Sweden",
          "Netherlands",
          "United Kingdom",
          "Belgium",
          "Austria",
          "Qatar",
          "Bahrain",
          "Singapore",
          "Malaysia",
          "Israel",
          "Australia",
          "Canada",
          "Iceland",
          "Greece",
          "Czechia",
          "Slovenia",
          "United Arab Emirates",
          "Kuwait",
          "India",
          "Iraq",
          "Thailand",
          "San Marino",
          "Egypt",
          "Lebanon",
          "Portugal",
          "Finland",
          "Philippines",
          "Brazil",
          "Romania",
          "Taiwan*",
          "Poland",
          "Saudi Arabia",
          "Ireland",
          "Vietnam",
          "Indonesia",
          "Russia",
          "Algeria",
          "Georgia",
          "Albania",
          "Chile",
          "Costa Rica",
          "Pakistan",
          "Argentina",
          "Luxembourg",
          "Serbia",
          "Croatia",
          "Oman",
          "South Africa",
          "Ecuador",
          "Slovakia",
          "Estonia",
          "Peru",
          "Hungary",
          "Belarus",
          "Mexico",
          "Panama",
          "Bosnia and Herzegovina",
          "Brunei",
          "Azerbaijan",
          "Latvia",
          "Colombia",
          "Maldives",
          "North Macedonia",
          "Bulgaria",
          "Tunisia",
          "Afghanistan",
          "Morocco",
          "Malta",
          "Cyprus",
          "New Zealand",
          "French Guiana",
          "Dominican Republic",
          "Paraguay",
          "Armenia",
          "Senegal",
          "Cuba",
          "Moldova",
          "Cambodia",
          "Lithuania",
          "Bangladesh",
          "Martinique",
          "Sri Lanka",
          "Bolivia",
          "Honduras",
          "Burkina Faso",
          "Cameroon",
          "Nigeria",
          "Monaco",
          "Jamaica",
          "Togo",
          "Holy See",
          "Andorra",
          "Ukraine",
          "Guyana",
          "Turkey",
          "Liechtenstein",
          "Jordan",
          "Reunion",
          "Cote d'Ivoire",
          "Mongolia",
          "Bhutan",
          "Nepal",
          "Congo (Kinshasa)"
         ],
         "xaxis": "x",
         "y": [
          80932,
          12462,
          10075,
          7869,
          2284,
          2277,
          2078,
          1663,
          702,
          696,
          652,
          639,
          617,
          599,
          503,
          459,
          314,
          302,
          262,
          195,
          178,
          149,
          131,
          128,
          117,
          103,
          99,
          94,
          89,
          85,
          80,
          73,
          71,
          70,
          69,
          67,
          61,
          59,
          59,
          52,
          52,
          49,
          49,
          49,
          45,
          43,
          39,
          34,
          28,
          24,
          24,
          23,
          23,
          22,
          20,
          19,
          19,
          19,
          19,
          18,
          17,
          17,
          16,
          16,
          15,
          13,
          12,
          12,
          11,
          11,
          11,
          11,
          10,
          9,
          8,
          7,
          7,
          7,
          7,
          6,
          6,
          6,
          5,
          5,
          5,
          5,
          4,
          4,
          3,
          3,
          3,
          3,
          3,
          3,
          2,
          2,
          2,
          2,
          2,
          2,
          2,
          2,
          1,
          1,
          1,
          1,
          1,
          1,
          1,
          1,
          1,
          1,
          1,
          1,
          1,
          1
         ],
         "yaxis": "y"
        }
       ],
       "layout": {
        "barmode": "relative",
        "font": {
         "color": "#7f7f7f",
         "family": "Arial",
         "size": 13
        },
        "legend": {
         "tracegroupgap": 0
        },
        "margin": {
         "t": 60
        },
        "template": {
         "data": {
          "bar": [
           {
            "error_x": {
             "color": "#2a3f5f"
            },
            "error_y": {
             "color": "#2a3f5f"
            },
            "marker": {
             "line": {
              "color": "#E5ECF6",
              "width": 0.5
             }
            },
            "type": "bar"
           }
          ],
          "barpolar": [
           {
            "marker": {
             "line": {
              "color": "#E5ECF6",
              "width": 0.5
             }
            },
            "type": "barpolar"
           }
          ],
          "carpet": [
           {
            "aaxis": {
             "endlinecolor": "#2a3f5f",
             "gridcolor": "white",
             "linecolor": "white",
             "minorgridcolor": "white",
             "startlinecolor": "#2a3f5f"
            },
            "baxis": {
             "endlinecolor": "#2a3f5f",
             "gridcolor": "white",
             "linecolor": "white",
             "minorgridcolor": "white",
             "startlinecolor": "#2a3f5f"
            },
            "type": "carpet"
           }
          ],
          "choropleth": [
           {
            "colorbar": {
             "outlinewidth": 0,
             "ticks": ""
            },
            "type": "choropleth"
           }
          ],
          "contour": [
           {
            "colorbar": {
             "outlinewidth": 0,
             "ticks": ""
            },
            "colorscale": [
             [
              0,
              "#0d0887"
             ],
             [
              0.1111111111111111,
              "#46039f"
             ],
             [
              0.2222222222222222,
              "#7201a8"
             ],
             [
              0.3333333333333333,
              "#9c179e"
             ],
             [
              0.4444444444444444,
              "#bd3786"
             ],
             [
              0.5555555555555556,
              "#d8576b"
             ],
             [
              0.6666666666666666,
              "#ed7953"
             ],
             [
              0.7777777777777778,
              "#fb9f3a"
             ],
             [
              0.8888888888888888,
              "#fdca26"
             ],
             [
              1,
              "#f0f921"
             ]
            ],
            "type": "contour"
           }
          ],
          "contourcarpet": [
           {
            "colorbar": {
             "outlinewidth": 0,
             "ticks": ""
            },
            "type": "contourcarpet"
           }
          ],
          "heatmap": [
           {
            "colorbar": {
             "outlinewidth": 0,
             "ticks": ""
            },
            "colorscale": [
             [
              0,
              "#0d0887"
             ],
             [
              0.1111111111111111,
              "#46039f"
             ],
             [
              0.2222222222222222,
              "#7201a8"
             ],
             [
              0.3333333333333333,
              "#9c179e"
             ],
             [
              0.4444444444444444,
              "#bd3786"
             ],
             [
              0.5555555555555556,
              "#d8576b"
             ],
             [
              0.6666666666666666,
              "#ed7953"
             ],
             [
              0.7777777777777778,
              "#fb9f3a"
             ],
             [
              0.8888888888888888,
              "#fdca26"
             ],
             [
              1,
              "#f0f921"
             ]
            ],
            "type": "heatmap"
           }
          ],
          "heatmapgl": [
           {
            "colorbar": {
             "outlinewidth": 0,
             "ticks": ""
            },
            "colorscale": [
             [
              0,
              "#0d0887"
             ],
             [
              0.1111111111111111,
              "#46039f"
             ],
             [
              0.2222222222222222,
              "#7201a8"
             ],
             [
              0.3333333333333333,
              "#9c179e"
             ],
             [
              0.4444444444444444,
              "#bd3786"
             ],
             [
              0.5555555555555556,
              "#d8576b"
             ],
             [
              0.6666666666666666,
              "#ed7953"
             ],
             [
              0.7777777777777778,
              "#fb9f3a"
             ],
             [
              0.8888888888888888,
              "#fdca26"
             ],
             [
              1,
              "#f0f921"
             ]
            ],
            "type": "heatmapgl"
           }
          ],
          "histogram": [
           {
            "marker": {
             "colorbar": {
              "outlinewidth": 0,
              "ticks": ""
             }
            },
            "type": "histogram"
           }
          ],
          "histogram2d": [
           {
            "colorbar": {
             "outlinewidth": 0,
             "ticks": ""
            },
            "colorscale": [
             [
              0,
              "#0d0887"
             ],
             [
              0.1111111111111111,
              "#46039f"
             ],
             [
              0.2222222222222222,
              "#7201a8"
             ],
             [
              0.3333333333333333,
              "#9c179e"
             ],
             [
              0.4444444444444444,
              "#bd3786"
             ],
             [
              0.5555555555555556,
              "#d8576b"
             ],
             [
              0.6666666666666666,
              "#ed7953"
             ],
             [
              0.7777777777777778,
              "#fb9f3a"
             ],
             [
              0.8888888888888888,
              "#fdca26"
             ],
             [
              1,
              "#f0f921"
             ]
            ],
            "type": "histogram2d"
           }
          ],
          "histogram2dcontour": [
           {
            "colorbar": {
             "outlinewidth": 0,
             "ticks": ""
            },
            "colorscale": [
             [
              0,
              "#0d0887"
             ],
             [
              0.1111111111111111,
              "#46039f"
             ],
             [
              0.2222222222222222,
              "#7201a8"
             ],
             [
              0.3333333333333333,
              "#9c179e"
             ],
             [
              0.4444444444444444,
              "#bd3786"
             ],
             [
              0.5555555555555556,
              "#d8576b"
             ],
             [
              0.6666666666666666,
              "#ed7953"
             ],
             [
              0.7777777777777778,
              "#fb9f3a"
             ],
             [
              0.8888888888888888,
              "#fdca26"
             ],
             [
              1,
              "#f0f921"
             ]
            ],
            "type": "histogram2dcontour"
           }
          ],
          "mesh3d": [
           {
            "colorbar": {
             "outlinewidth": 0,
             "ticks": ""
            },
            "type": "mesh3d"
           }
          ],
          "parcoords": [
           {
            "line": {
             "colorbar": {
              "outlinewidth": 0,
              "ticks": ""
             }
            },
            "type": "parcoords"
           }
          ],
          "pie": [
           {
            "automargin": true,
            "type": "pie"
           }
          ],
          "scatter": [
           {
            "marker": {
             "colorbar": {
              "outlinewidth": 0,
              "ticks": ""
             }
            },
            "type": "scatter"
           }
          ],
          "scatter3d": [
           {
            "line": {
             "colorbar": {
              "outlinewidth": 0,
              "ticks": ""
             }
            },
            "marker": {
             "colorbar": {
              "outlinewidth": 0,
              "ticks": ""
             }
            },
            "type": "scatter3d"
           }
          ],
          "scattercarpet": [
           {
            "marker": {
             "colorbar": {
              "outlinewidth": 0,
              "ticks": ""
             }
            },
            "type": "scattercarpet"
           }
          ],
          "scattergeo": [
           {
            "marker": {
             "colorbar": {
              "outlinewidth": 0,
              "ticks": ""
             }
            },
            "type": "scattergeo"
           }
          ],
          "scattergl": [
           {
            "marker": {
             "colorbar": {
              "outlinewidth": 0,
              "ticks": ""
             }
            },
            "type": "scattergl"
           }
          ],
          "scattermapbox": [
           {
            "marker": {
             "colorbar": {
              "outlinewidth": 0,
              "ticks": ""
             }
            },
            "type": "scattermapbox"
           }
          ],
          "scatterpolar": [
           {
            "marker": {
             "colorbar": {
              "outlinewidth": 0,
              "ticks": ""
             }
            },
            "type": "scatterpolar"
           }
          ],
          "scatterpolargl": [
           {
            "marker": {
             "colorbar": {
              "outlinewidth": 0,
              "ticks": ""
             }
            },
            "type": "scatterpolargl"
           }
          ],
          "scatterternary": [
           {
            "marker": {
             "colorbar": {
              "outlinewidth": 0,
              "ticks": ""
             }
            },
            "type": "scatterternary"
           }
          ],
          "surface": [
           {
            "colorbar": {
             "outlinewidth": 0,
             "ticks": ""
            },
            "colorscale": [
             [
              0,
              "#0d0887"
             ],
             [
              0.1111111111111111,
              "#46039f"
             ],
             [
              0.2222222222222222,
              "#7201a8"
             ],
             [
              0.3333333333333333,
              "#9c179e"
             ],
             [
              0.4444444444444444,
              "#bd3786"
             ],
             [
              0.5555555555555556,
              "#d8576b"
             ],
             [
              0.6666666666666666,
              "#ed7953"
             ],
             [
              0.7777777777777778,
              "#fb9f3a"
             ],
             [
              0.8888888888888888,
              "#fdca26"
             ],
             [
              1,
              "#f0f921"
             ]
            ],
            "type": "surface"
           }
          ],
          "table": [
           {
            "cells": {
             "fill": {
              "color": "#EBF0F8"
             },
             "line": {
              "color": "white"
             }
            },
            "header": {
             "fill": {
              "color": "#C8D4E3"
             },
             "line": {
              "color": "white"
             }
            },
            "type": "table"
           }
          ]
         },
         "layout": {
          "annotationdefaults": {
           "arrowcolor": "#2a3f5f",
           "arrowhead": 0,
           "arrowwidth": 1
          },
          "coloraxis": {
           "colorbar": {
            "outlinewidth": 0,
            "ticks": ""
           }
          },
          "colorscale": {
           "diverging": [
            [
             0,
             "#8e0152"
            ],
            [
             0.1,
             "#c51b7d"
            ],
            [
             0.2,
             "#de77ae"
            ],
            [
             0.3,
             "#f1b6da"
            ],
            [
             0.4,
             "#fde0ef"
            ],
            [
             0.5,
             "#f7f7f7"
            ],
            [
             0.6,
             "#e6f5d0"
            ],
            [
             0.7,
             "#b8e186"
            ],
            [
             0.8,
             "#7fbc41"
            ],
            [
             0.9,
             "#4d9221"
            ],
            [
             1,
             "#276419"
            ]
           ],
           "sequential": [
            [
             0,
             "#0d0887"
            ],
            [
             0.1111111111111111,
             "#46039f"
            ],
            [
             0.2222222222222222,
             "#7201a8"
            ],
            [
             0.3333333333333333,
             "#9c179e"
            ],
            [
             0.4444444444444444,
             "#bd3786"
            ],
            [
             0.5555555555555556,
             "#d8576b"
            ],
            [
             0.6666666666666666,
             "#ed7953"
            ],
            [
             0.7777777777777778,
             "#fb9f3a"
            ],
            [
             0.8888888888888888,
             "#fdca26"
            ],
            [
             1,
             "#f0f921"
            ]
           ],
           "sequentialminus": [
            [
             0,
             "#0d0887"
            ],
            [
             0.1111111111111111,
             "#46039f"
            ],
            [
             0.2222222222222222,
             "#7201a8"
            ],
            [
             0.3333333333333333,
             "#9c179e"
            ],
            [
             0.4444444444444444,
             "#bd3786"
            ],
            [
             0.5555555555555556,
             "#d8576b"
            ],
            [
             0.6666666666666666,
             "#ed7953"
            ],
            [
             0.7777777777777778,
             "#fb9f3a"
            ],
            [
             0.8888888888888888,
             "#fdca26"
            ],
            [
             1,
             "#f0f921"
            ]
           ]
          },
          "colorway": [
           "#636efa",
           "#EF553B",
           "#00cc96",
           "#ab63fa",
           "#FFA15A",
           "#19d3f3",
           "#FF6692",
           "#B6E880",
           "#FF97FF",
           "#FECB52"
          ],
          "font": {
           "color": "#2a3f5f"
          },
          "geo": {
           "bgcolor": "white",
           "lakecolor": "white",
           "landcolor": "#E5ECF6",
           "showlakes": true,
           "showland": true,
           "subunitcolor": "white"
          },
          "hoverlabel": {
           "align": "left"
          },
          "hovermode": "closest",
          "mapbox": {
           "style": "light"
          },
          "paper_bgcolor": "white",
          "plot_bgcolor": "#E5ECF6",
          "polar": {
           "angularaxis": {
            "gridcolor": "white",
            "linecolor": "white",
            "ticks": ""
           },
           "bgcolor": "#E5ECF6",
           "radialaxis": {
            "gridcolor": "white",
            "linecolor": "white",
            "ticks": ""
           }
          },
          "scene": {
           "xaxis": {
            "backgroundcolor": "#E5ECF6",
            "gridcolor": "white",
            "gridwidth": 2,
            "linecolor": "white",
            "showbackground": true,
            "ticks": "",
            "zerolinecolor": "white"
           },
           "yaxis": {
            "backgroundcolor": "#E5ECF6",
            "gridcolor": "white",
            "gridwidth": 2,
            "linecolor": "white",
            "showbackground": true,
            "ticks": "",
            "zerolinecolor": "white"
           },
           "zaxis": {
            "backgroundcolor": "#E5ECF6",
            "gridcolor": "white",
            "gridwidth": 2,
            "linecolor": "white",
            "showbackground": true,
            "ticks": "",
            "zerolinecolor": "white"
           }
          },
          "shapedefaults": {
           "line": {
            "color": "#2a3f5f"
           }
          },
          "ternary": {
           "aaxis": {
            "gridcolor": "white",
            "linecolor": "white",
            "ticks": ""
           },
           "baxis": {
            "gridcolor": "white",
            "linecolor": "white",
            "ticks": ""
           },
           "bgcolor": "#E5ECF6",
           "caxis": {
            "gridcolor": "white",
            "linecolor": "white",
            "ticks": ""
           }
          },
          "title": {
           "x": 0.05
          },
          "xaxis": {
           "automargin": true,
           "gridcolor": "white",
           "linecolor": "white",
           "ticks": "",
           "title": {
            "standoff": 15
           },
           "zerolinecolor": "white",
           "zerolinewidth": 2
          },
          "yaxis": {
           "automargin": true,
           "gridcolor": "white",
           "linecolor": "white",
           "ticks": "",
           "title": {
            "standoff": 15
           },
           "zerolinecolor": "white",
           "zerolinewidth": 2
          }
         }
        },
        "title": {
         "text": "Country Wise Infected"
        },
        "xaxis": {
         "anchor": "y",
         "domain": [
          0,
          1
         ],
         "title": {
          "text": "Countries"
         }
        },
        "yaxis": {
         "anchor": "x",
         "domain": [
          0,
          1
         ],
         "title": {
          "text": "People Infected"
         }
        }
       }
      },
      "text/html": [
       "<div>\n",
       "        \n",
       "        \n",
       "            <div id=\"b6d71c2a-636e-40df-9f15-890cd3bb5b51\" class=\"plotly-graph-div\" style=\"height:525px; width:100%;\"></div>\n",
       "            <script type=\"text/javascript\">\n",
       "                require([\"plotly\"], function(Plotly) {\n",
       "                    window.PLOTLYENV=window.PLOTLYENV || {};\n",
       "                    \n",
       "                if (document.getElementById(\"b6d71c2a-636e-40df-9f15-890cd3bb5b51\")) {\n",
       "                    Plotly.newPlot(\n",
       "                        'b6d71c2a-636e-40df-9f15-890cd3bb5b51',\n",
       "                        [{\"alignmentgroup\": \"True\", \"hoverlabel\": {\"namelength\": 0}, \"hovertemplate\": \"x=%{x}<br>3/12/20=%{y}\", \"legendgroup\": \"\", \"marker\": {\"color\": \"#636efa\"}, \"name\": \"\", \"offsetgroup\": \"\", \"orientation\": \"v\", \"showlegend\": false, \"textposition\": \"auto\", \"type\": \"bar\", \"x\": [\"China\", \"Italy\", \"Iran\", \"Korea, South\", \"France\", \"Spain\", \"Germany\", \"US\", \"Norway\", \"Cruise Ship\", \"Switzerland\", \"Japan\", \"Denmark\", \"Sweden\", \"Netherlands\", \"United Kingdom\", \"Belgium\", \"Austria\", \"Qatar\", \"Bahrain\", \"Singapore\", \"Malaysia\", \"Israel\", \"Australia\", \"Canada\", \"Iceland\", \"Greece\", \"Czechia\", \"Slovenia\", \"United Arab Emirates\", \"Kuwait\", \"India\", \"Iraq\", \"Thailand\", \"San Marino\", \"Egypt\", \"Lebanon\", \"Portugal\", \"Finland\", \"Philippines\", \"Brazil\", \"Romania\", \"Taiwan*\", \"Poland\", \"Saudi Arabia\", \"Ireland\", \"Vietnam\", \"Indonesia\", \"Russia\", \"Algeria\", \"Georgia\", \"Albania\", \"Chile\", \"Costa Rica\", \"Pakistan\", \"Argentina\", \"Luxembourg\", \"Serbia\", \"Croatia\", \"Oman\", \"South Africa\", \"Ecuador\", \"Slovakia\", \"Estonia\", \"Peru\", \"Hungary\", \"Belarus\", \"Mexico\", \"Panama\", \"Bosnia and Herzegovina\", \"Brunei\", \"Azerbaijan\", \"Latvia\", \"Colombia\", \"Maldives\", \"North Macedonia\", \"Bulgaria\", \"Tunisia\", \"Afghanistan\", \"Morocco\", \"Malta\", \"Cyprus\", \"New Zealand\", \"French Guiana\", \"Dominican Republic\", \"Paraguay\", \"Armenia\", \"Senegal\", \"Cuba\", \"Moldova\", \"Cambodia\", \"Lithuania\", \"Bangladesh\", \"Martinique\", \"Sri Lanka\", \"Bolivia\", \"Honduras\", \"Burkina Faso\", \"Cameroon\", \"Nigeria\", \"Monaco\", \"Jamaica\", \"Togo\", \"Holy See\", \"Andorra\", \"Ukraine\", \"Guyana\", \"Turkey\", \"Liechtenstein\", \"Jordan\", \"Reunion\", \"Cote d'Ivoire\", \"Mongolia\", \"Bhutan\", \"Nepal\", \"Congo (Kinshasa)\"], \"xaxis\": \"x\", \"y\": [80932, 12462, 10075, 7869, 2284, 2277, 2078, 1663, 702, 696, 652, 639, 617, 599, 503, 459, 314, 302, 262, 195, 178, 149, 131, 128, 117, 103, 99, 94, 89, 85, 80, 73, 71, 70, 69, 67, 61, 59, 59, 52, 52, 49, 49, 49, 45, 43, 39, 34, 28, 24, 24, 23, 23, 22, 20, 19, 19, 19, 19, 18, 17, 17, 16, 16, 15, 13, 12, 12, 11, 11, 11, 11, 10, 9, 8, 7, 7, 7, 7, 6, 6, 6, 5, 5, 5, 5, 4, 4, 3, 3, 3, 3, 3, 3, 2, 2, 2, 2, 2, 2, 2, 2, 1, 1, 1, 1, 1, 1, 1, 1, 1, 1, 1, 1, 1, 1], \"yaxis\": \"y\"}],\n",
       "                        {\"barmode\": \"relative\", \"font\": {\"color\": \"#7f7f7f\", \"family\": \"Arial\", \"size\": 13}, \"legend\": {\"tracegroupgap\": 0}, \"margin\": {\"t\": 60}, \"template\": {\"data\": {\"bar\": [{\"error_x\": {\"color\": \"#2a3f5f\"}, \"error_y\": {\"color\": \"#2a3f5f\"}, \"marker\": {\"line\": {\"color\": \"#E5ECF6\", \"width\": 0.5}}, \"type\": \"bar\"}], \"barpolar\": [{\"marker\": {\"line\": {\"color\": \"#E5ECF6\", \"width\": 0.5}}, \"type\": \"barpolar\"}], \"carpet\": [{\"aaxis\": {\"endlinecolor\": \"#2a3f5f\", \"gridcolor\": \"white\", \"linecolor\": \"white\", \"minorgridcolor\": \"white\", \"startlinecolor\": \"#2a3f5f\"}, \"baxis\": {\"endlinecolor\": \"#2a3f5f\", \"gridcolor\": \"white\", \"linecolor\": \"white\", \"minorgridcolor\": \"white\", \"startlinecolor\": \"#2a3f5f\"}, \"type\": \"carpet\"}], \"choropleth\": [{\"colorbar\": {\"outlinewidth\": 0, \"ticks\": \"\"}, \"type\": \"choropleth\"}], \"contour\": [{\"colorbar\": {\"outlinewidth\": 0, \"ticks\": \"\"}, \"colorscale\": [[0.0, \"#0d0887\"], [0.1111111111111111, \"#46039f\"], [0.2222222222222222, \"#7201a8\"], [0.3333333333333333, \"#9c179e\"], [0.4444444444444444, \"#bd3786\"], [0.5555555555555556, \"#d8576b\"], [0.6666666666666666, \"#ed7953\"], [0.7777777777777778, \"#fb9f3a\"], [0.8888888888888888, \"#fdca26\"], [1.0, \"#f0f921\"]], \"type\": \"contour\"}], \"contourcarpet\": [{\"colorbar\": {\"outlinewidth\": 0, \"ticks\": \"\"}, \"type\": \"contourcarpet\"}], \"heatmap\": [{\"colorbar\": {\"outlinewidth\": 0, \"ticks\": \"\"}, \"colorscale\": [[0.0, \"#0d0887\"], [0.1111111111111111, \"#46039f\"], [0.2222222222222222, \"#7201a8\"], [0.3333333333333333, \"#9c179e\"], [0.4444444444444444, \"#bd3786\"], [0.5555555555555556, \"#d8576b\"], [0.6666666666666666, \"#ed7953\"], [0.7777777777777778, \"#fb9f3a\"], [0.8888888888888888, \"#fdca26\"], [1.0, \"#f0f921\"]], \"type\": \"heatmap\"}], \"heatmapgl\": [{\"colorbar\": {\"outlinewidth\": 0, \"ticks\": \"\"}, \"colorscale\": [[0.0, \"#0d0887\"], [0.1111111111111111, \"#46039f\"], [0.2222222222222222, \"#7201a8\"], [0.3333333333333333, \"#9c179e\"], [0.4444444444444444, \"#bd3786\"], [0.5555555555555556, \"#d8576b\"], [0.6666666666666666, \"#ed7953\"], [0.7777777777777778, \"#fb9f3a\"], [0.8888888888888888, \"#fdca26\"], [1.0, \"#f0f921\"]], \"type\": \"heatmapgl\"}], \"histogram\": [{\"marker\": {\"colorbar\": {\"outlinewidth\": 0, \"ticks\": \"\"}}, \"type\": \"histogram\"}], \"histogram2d\": [{\"colorbar\": {\"outlinewidth\": 0, \"ticks\": \"\"}, \"colorscale\": [[0.0, \"#0d0887\"], [0.1111111111111111, \"#46039f\"], [0.2222222222222222, \"#7201a8\"], [0.3333333333333333, \"#9c179e\"], [0.4444444444444444, \"#bd3786\"], [0.5555555555555556, \"#d8576b\"], [0.6666666666666666, \"#ed7953\"], [0.7777777777777778, \"#fb9f3a\"], [0.8888888888888888, \"#fdca26\"], [1.0, \"#f0f921\"]], \"type\": \"histogram2d\"}], \"histogram2dcontour\": [{\"colorbar\": {\"outlinewidth\": 0, \"ticks\": \"\"}, \"colorscale\": [[0.0, \"#0d0887\"], [0.1111111111111111, \"#46039f\"], [0.2222222222222222, \"#7201a8\"], [0.3333333333333333, \"#9c179e\"], [0.4444444444444444, \"#bd3786\"], [0.5555555555555556, \"#d8576b\"], [0.6666666666666666, \"#ed7953\"], [0.7777777777777778, \"#fb9f3a\"], [0.8888888888888888, \"#fdca26\"], [1.0, \"#f0f921\"]], \"type\": \"histogram2dcontour\"}], \"mesh3d\": [{\"colorbar\": {\"outlinewidth\": 0, \"ticks\": \"\"}, \"type\": \"mesh3d\"}], \"parcoords\": [{\"line\": {\"colorbar\": {\"outlinewidth\": 0, \"ticks\": \"\"}}, \"type\": \"parcoords\"}], \"pie\": [{\"automargin\": true, \"type\": \"pie\"}], \"scatter\": [{\"marker\": {\"colorbar\": {\"outlinewidth\": 0, \"ticks\": \"\"}}, \"type\": \"scatter\"}], \"scatter3d\": [{\"line\": {\"colorbar\": {\"outlinewidth\": 0, \"ticks\": \"\"}}, \"marker\": {\"colorbar\": {\"outlinewidth\": 0, \"ticks\": \"\"}}, \"type\": \"scatter3d\"}], \"scattercarpet\": [{\"marker\": {\"colorbar\": {\"outlinewidth\": 0, \"ticks\": \"\"}}, \"type\": \"scattercarpet\"}], \"scattergeo\": [{\"marker\": {\"colorbar\": {\"outlinewidth\": 0, \"ticks\": \"\"}}, \"type\": \"scattergeo\"}], \"scattergl\": [{\"marker\": {\"colorbar\": {\"outlinewidth\": 0, \"ticks\": \"\"}}, \"type\": \"scattergl\"}], \"scattermapbox\": [{\"marker\": {\"colorbar\": {\"outlinewidth\": 0, \"ticks\": \"\"}}, \"type\": \"scattermapbox\"}], \"scatterpolar\": [{\"marker\": {\"colorbar\": {\"outlinewidth\": 0, \"ticks\": \"\"}}, \"type\": \"scatterpolar\"}], \"scatterpolargl\": [{\"marker\": {\"colorbar\": {\"outlinewidth\": 0, \"ticks\": \"\"}}, \"type\": \"scatterpolargl\"}], \"scatterternary\": [{\"marker\": {\"colorbar\": {\"outlinewidth\": 0, \"ticks\": \"\"}}, \"type\": \"scatterternary\"}], \"surface\": [{\"colorbar\": {\"outlinewidth\": 0, \"ticks\": \"\"}, \"colorscale\": [[0.0, \"#0d0887\"], [0.1111111111111111, \"#46039f\"], [0.2222222222222222, \"#7201a8\"], [0.3333333333333333, \"#9c179e\"], [0.4444444444444444, \"#bd3786\"], [0.5555555555555556, \"#d8576b\"], [0.6666666666666666, \"#ed7953\"], [0.7777777777777778, \"#fb9f3a\"], [0.8888888888888888, \"#fdca26\"], [1.0, \"#f0f921\"]], \"type\": \"surface\"}], \"table\": [{\"cells\": {\"fill\": {\"color\": \"#EBF0F8\"}, \"line\": {\"color\": \"white\"}}, \"header\": {\"fill\": {\"color\": \"#C8D4E3\"}, \"line\": {\"color\": \"white\"}}, \"type\": \"table\"}]}, \"layout\": {\"annotationdefaults\": {\"arrowcolor\": \"#2a3f5f\", \"arrowhead\": 0, \"arrowwidth\": 1}, \"coloraxis\": {\"colorbar\": {\"outlinewidth\": 0, \"ticks\": \"\"}}, \"colorscale\": {\"diverging\": [[0, \"#8e0152\"], [0.1, \"#c51b7d\"], [0.2, \"#de77ae\"], [0.3, \"#f1b6da\"], [0.4, \"#fde0ef\"], [0.5, \"#f7f7f7\"], [0.6, \"#e6f5d0\"], [0.7, \"#b8e186\"], [0.8, \"#7fbc41\"], [0.9, \"#4d9221\"], [1, \"#276419\"]], \"sequential\": [[0.0, \"#0d0887\"], [0.1111111111111111, \"#46039f\"], [0.2222222222222222, \"#7201a8\"], [0.3333333333333333, \"#9c179e\"], [0.4444444444444444, \"#bd3786\"], [0.5555555555555556, \"#d8576b\"], [0.6666666666666666, \"#ed7953\"], [0.7777777777777778, \"#fb9f3a\"], [0.8888888888888888, \"#fdca26\"], [1.0, \"#f0f921\"]], \"sequentialminus\": [[0.0, \"#0d0887\"], [0.1111111111111111, \"#46039f\"], [0.2222222222222222, \"#7201a8\"], [0.3333333333333333, \"#9c179e\"], [0.4444444444444444, \"#bd3786\"], [0.5555555555555556, \"#d8576b\"], [0.6666666666666666, \"#ed7953\"], [0.7777777777777778, \"#fb9f3a\"], [0.8888888888888888, \"#fdca26\"], [1.0, \"#f0f921\"]]}, \"colorway\": [\"#636efa\", \"#EF553B\", \"#00cc96\", \"#ab63fa\", \"#FFA15A\", \"#19d3f3\", \"#FF6692\", \"#B6E880\", \"#FF97FF\", \"#FECB52\"], \"font\": {\"color\": \"#2a3f5f\"}, \"geo\": {\"bgcolor\": \"white\", \"lakecolor\": \"white\", \"landcolor\": \"#E5ECF6\", \"showlakes\": true, \"showland\": true, \"subunitcolor\": \"white\"}, \"hoverlabel\": {\"align\": \"left\"}, \"hovermode\": \"closest\", \"mapbox\": {\"style\": \"light\"}, \"paper_bgcolor\": \"white\", \"plot_bgcolor\": \"#E5ECF6\", \"polar\": {\"angularaxis\": {\"gridcolor\": \"white\", \"linecolor\": \"white\", \"ticks\": \"\"}, \"bgcolor\": \"#E5ECF6\", \"radialaxis\": {\"gridcolor\": \"white\", \"linecolor\": \"white\", \"ticks\": \"\"}}, \"scene\": {\"xaxis\": {\"backgroundcolor\": \"#E5ECF6\", \"gridcolor\": \"white\", \"gridwidth\": 2, \"linecolor\": \"white\", \"showbackground\": true, \"ticks\": \"\", \"zerolinecolor\": \"white\"}, \"yaxis\": {\"backgroundcolor\": \"#E5ECF6\", \"gridcolor\": \"white\", \"gridwidth\": 2, \"linecolor\": \"white\", \"showbackground\": true, \"ticks\": \"\", \"zerolinecolor\": \"white\"}, \"zaxis\": {\"backgroundcolor\": \"#E5ECF6\", \"gridcolor\": \"white\", \"gridwidth\": 2, \"linecolor\": \"white\", \"showbackground\": true, \"ticks\": \"\", \"zerolinecolor\": \"white\"}}, \"shapedefaults\": {\"line\": {\"color\": \"#2a3f5f\"}}, \"ternary\": {\"aaxis\": {\"gridcolor\": \"white\", \"linecolor\": \"white\", \"ticks\": \"\"}, \"baxis\": {\"gridcolor\": \"white\", \"linecolor\": \"white\", \"ticks\": \"\"}, \"bgcolor\": \"#E5ECF6\", \"caxis\": {\"gridcolor\": \"white\", \"linecolor\": \"white\", \"ticks\": \"\"}}, \"title\": {\"x\": 0.05}, \"xaxis\": {\"automargin\": true, \"gridcolor\": \"white\", \"linecolor\": \"white\", \"ticks\": \"\", \"title\": {\"standoff\": 15}, \"zerolinecolor\": \"white\", \"zerolinewidth\": 2}, \"yaxis\": {\"automargin\": true, \"gridcolor\": \"white\", \"linecolor\": \"white\", \"ticks\": \"\", \"title\": {\"standoff\": 15}, \"zerolinecolor\": \"white\", \"zerolinewidth\": 2}}}, \"title\": {\"text\": \"Country Wise Infected\"}, \"xaxis\": {\"anchor\": \"y\", \"domain\": [0.0, 1.0], \"title\": {\"text\": \"Countries\"}}, \"yaxis\": {\"anchor\": \"x\", \"domain\": [0.0, 1.0], \"title\": {\"text\": \"People Infected\"}}},\n",
       "                        {\"responsive\": true}\n",
       "                    ).then(function(){\n",
       "                            \n",
       "var gd = document.getElementById('b6d71c2a-636e-40df-9f15-890cd3bb5b51');\n",
       "var x = new MutationObserver(function (mutations, observer) {{\n",
       "        var display = window.getComputedStyle(gd).display;\n",
       "        if (!display || display === 'none') {{\n",
       "            console.log([gd, 'removed!']);\n",
       "            Plotly.purge(gd);\n",
       "            observer.disconnect();\n",
       "        }}\n",
       "}});\n",
       "\n",
       "// Listen for the removal of the full notebook cells\n",
       "var notebookContainer = gd.closest('#notebook-container');\n",
       "if (notebookContainer) {{\n",
       "    x.observe(notebookContainer, {childList: true});\n",
       "}}\n",
       "\n",
       "// Listen for the clearing of the current output cell\n",
       "var outputEl = gd.closest('.output');\n",
       "if (outputEl) {{\n",
       "    x.observe(outputEl, {childList: true});\n",
       "}}\n",
       "\n",
       "                        })\n",
       "                };\n",
       "                });\n",
       "            </script>\n",
       "        </div>"
      ]
     },
     "metadata": {},
     "output_type": "display_data"
    }
   ],
   "source": [
    "plot_country_based_line(world_data_confirmed)"
   ]
  },
  {
   "cell_type": "markdown",
   "metadata": {},
   "source": [
    "## Country-wise as of today (except China)?\n",
    "How are countries except China being infected?"
   ]
  },
  {
   "cell_type": "code",
   "execution_count": 8,
   "metadata": {},
   "outputs": [
    {
     "data": {
      "application/vnd.plotly.v1+json": {
       "config": {
        "plotlyServerURL": "https://plot.ly"
       },
       "data": [
        {
         "alignmentgroup": "True",
         "hoverlabel": {
          "namelength": 0
         },
         "hovertemplate": "x=%{x}<br>3/12/20=%{y}",
         "legendgroup": "",
         "marker": {
          "color": "#636efa"
         },
         "name": "",
         "offsetgroup": "",
         "orientation": "v",
         "showlegend": false,
         "textposition": "auto",
         "type": "bar",
         "x": [
          "Italy",
          "Iran",
          "Korea, South",
          "France",
          "Spain",
          "Germany",
          "US",
          "Norway",
          "Cruise Ship",
          "Switzerland",
          "Japan",
          "Denmark",
          "Sweden",
          "Netherlands",
          "United Kingdom",
          "Belgium",
          "Austria",
          "Qatar",
          "Bahrain",
          "Singapore",
          "Malaysia",
          "Israel",
          "Australia",
          "Canada",
          "Iceland",
          "Greece",
          "Czechia",
          "Slovenia",
          "United Arab Emirates",
          "Kuwait",
          "India",
          "Iraq",
          "Thailand",
          "San Marino",
          "Egypt",
          "Lebanon",
          "Finland",
          "Portugal",
          "Philippines",
          "Brazil",
          "Taiwan*",
          "Poland",
          "Romania",
          "Saudi Arabia",
          "Ireland",
          "Vietnam",
          "Indonesia",
          "Russia",
          "Algeria",
          "Georgia",
          "Albania",
          "Chile",
          "Costa Rica",
          "Pakistan",
          "Argentina",
          "Luxembourg",
          "Serbia",
          "Croatia",
          "Oman",
          "South Africa",
          "Ecuador",
          "Slovakia",
          "Estonia",
          "Peru",
          "Hungary",
          "Belarus",
          "Mexico",
          "Panama",
          "Bosnia and Herzegovina",
          "Brunei",
          "Azerbaijan",
          "Latvia",
          "Colombia",
          "Maldives",
          "North Macedonia",
          "Bulgaria",
          "Tunisia",
          "Afghanistan",
          "Morocco",
          "Malta",
          "Cyprus",
          "New Zealand",
          "French Guiana",
          "Dominican Republic",
          "Paraguay",
          "Armenia",
          "Senegal",
          "Cuba",
          "Moldova",
          "Cambodia",
          "Lithuania",
          "Bangladesh",
          "Martinique",
          "Sri Lanka",
          "Bolivia",
          "Honduras",
          "Burkina Faso",
          "Cameroon",
          "Nigeria",
          "Monaco",
          "Jamaica",
          "Togo",
          "Holy See",
          "Andorra",
          "Ukraine",
          "Guyana",
          "Turkey",
          "Liechtenstein",
          "Jordan",
          "Reunion",
          "Cote d'Ivoire",
          "Mongolia",
          "Bhutan",
          "Nepal",
          "Congo (Kinshasa)"
         ],
         "xaxis": "x",
         "y": [
          12462,
          10075,
          7869,
          2284,
          2277,
          2078,
          1663,
          702,
          696,
          652,
          639,
          617,
          599,
          503,
          459,
          314,
          302,
          262,
          195,
          178,
          149,
          131,
          128,
          117,
          103,
          99,
          94,
          89,
          85,
          80,
          73,
          71,
          70,
          69,
          67,
          61,
          59,
          59,
          52,
          52,
          49,
          49,
          49,
          45,
          43,
          39,
          34,
          28,
          24,
          24,
          23,
          23,
          22,
          20,
          19,
          19,
          19,
          19,
          18,
          17,
          17,
          16,
          16,
          15,
          13,
          12,
          12,
          11,
          11,
          11,
          11,
          10,
          9,
          8,
          7,
          7,
          7,
          7,
          6,
          6,
          6,
          5,
          5,
          5,
          5,
          4,
          4,
          3,
          3,
          3,
          3,
          3,
          3,
          2,
          2,
          2,
          2,
          2,
          2,
          2,
          2,
          1,
          1,
          1,
          1,
          1,
          1,
          1,
          1,
          1,
          1,
          1,
          1,
          1,
          1
         ],
         "yaxis": "y"
        }
       ],
       "layout": {
        "barmode": "relative",
        "font": {
         "color": "#7f7f7f",
         "family": "Arial",
         "size": 13
        },
        "legend": {
         "tracegroupgap": 0
        },
        "margin": {
         "t": 60
        },
        "template": {
         "data": {
          "bar": [
           {
            "error_x": {
             "color": "#2a3f5f"
            },
            "error_y": {
             "color": "#2a3f5f"
            },
            "marker": {
             "line": {
              "color": "#E5ECF6",
              "width": 0.5
             }
            },
            "type": "bar"
           }
          ],
          "barpolar": [
           {
            "marker": {
             "line": {
              "color": "#E5ECF6",
              "width": 0.5
             }
            },
            "type": "barpolar"
           }
          ],
          "carpet": [
           {
            "aaxis": {
             "endlinecolor": "#2a3f5f",
             "gridcolor": "white",
             "linecolor": "white",
             "minorgridcolor": "white",
             "startlinecolor": "#2a3f5f"
            },
            "baxis": {
             "endlinecolor": "#2a3f5f",
             "gridcolor": "white",
             "linecolor": "white",
             "minorgridcolor": "white",
             "startlinecolor": "#2a3f5f"
            },
            "type": "carpet"
           }
          ],
          "choropleth": [
           {
            "colorbar": {
             "outlinewidth": 0,
             "ticks": ""
            },
            "type": "choropleth"
           }
          ],
          "contour": [
           {
            "colorbar": {
             "outlinewidth": 0,
             "ticks": ""
            },
            "colorscale": [
             [
              0,
              "#0d0887"
             ],
             [
              0.1111111111111111,
              "#46039f"
             ],
             [
              0.2222222222222222,
              "#7201a8"
             ],
             [
              0.3333333333333333,
              "#9c179e"
             ],
             [
              0.4444444444444444,
              "#bd3786"
             ],
             [
              0.5555555555555556,
              "#d8576b"
             ],
             [
              0.6666666666666666,
              "#ed7953"
             ],
             [
              0.7777777777777778,
              "#fb9f3a"
             ],
             [
              0.8888888888888888,
              "#fdca26"
             ],
             [
              1,
              "#f0f921"
             ]
            ],
            "type": "contour"
           }
          ],
          "contourcarpet": [
           {
            "colorbar": {
             "outlinewidth": 0,
             "ticks": ""
            },
            "type": "contourcarpet"
           }
          ],
          "heatmap": [
           {
            "colorbar": {
             "outlinewidth": 0,
             "ticks": ""
            },
            "colorscale": [
             [
              0,
              "#0d0887"
             ],
             [
              0.1111111111111111,
              "#46039f"
             ],
             [
              0.2222222222222222,
              "#7201a8"
             ],
             [
              0.3333333333333333,
              "#9c179e"
             ],
             [
              0.4444444444444444,
              "#bd3786"
             ],
             [
              0.5555555555555556,
              "#d8576b"
             ],
             [
              0.6666666666666666,
              "#ed7953"
             ],
             [
              0.7777777777777778,
              "#fb9f3a"
             ],
             [
              0.8888888888888888,
              "#fdca26"
             ],
             [
              1,
              "#f0f921"
             ]
            ],
            "type": "heatmap"
           }
          ],
          "heatmapgl": [
           {
            "colorbar": {
             "outlinewidth": 0,
             "ticks": ""
            },
            "colorscale": [
             [
              0,
              "#0d0887"
             ],
             [
              0.1111111111111111,
              "#46039f"
             ],
             [
              0.2222222222222222,
              "#7201a8"
             ],
             [
              0.3333333333333333,
              "#9c179e"
             ],
             [
              0.4444444444444444,
              "#bd3786"
             ],
             [
              0.5555555555555556,
              "#d8576b"
             ],
             [
              0.6666666666666666,
              "#ed7953"
             ],
             [
              0.7777777777777778,
              "#fb9f3a"
             ],
             [
              0.8888888888888888,
              "#fdca26"
             ],
             [
              1,
              "#f0f921"
             ]
            ],
            "type": "heatmapgl"
           }
          ],
          "histogram": [
           {
            "marker": {
             "colorbar": {
              "outlinewidth": 0,
              "ticks": ""
             }
            },
            "type": "histogram"
           }
          ],
          "histogram2d": [
           {
            "colorbar": {
             "outlinewidth": 0,
             "ticks": ""
            },
            "colorscale": [
             [
              0,
              "#0d0887"
             ],
             [
              0.1111111111111111,
              "#46039f"
             ],
             [
              0.2222222222222222,
              "#7201a8"
             ],
             [
              0.3333333333333333,
              "#9c179e"
             ],
             [
              0.4444444444444444,
              "#bd3786"
             ],
             [
              0.5555555555555556,
              "#d8576b"
             ],
             [
              0.6666666666666666,
              "#ed7953"
             ],
             [
              0.7777777777777778,
              "#fb9f3a"
             ],
             [
              0.8888888888888888,
              "#fdca26"
             ],
             [
              1,
              "#f0f921"
             ]
            ],
            "type": "histogram2d"
           }
          ],
          "histogram2dcontour": [
           {
            "colorbar": {
             "outlinewidth": 0,
             "ticks": ""
            },
            "colorscale": [
             [
              0,
              "#0d0887"
             ],
             [
              0.1111111111111111,
              "#46039f"
             ],
             [
              0.2222222222222222,
              "#7201a8"
             ],
             [
              0.3333333333333333,
              "#9c179e"
             ],
             [
              0.4444444444444444,
              "#bd3786"
             ],
             [
              0.5555555555555556,
              "#d8576b"
             ],
             [
              0.6666666666666666,
              "#ed7953"
             ],
             [
              0.7777777777777778,
              "#fb9f3a"
             ],
             [
              0.8888888888888888,
              "#fdca26"
             ],
             [
              1,
              "#f0f921"
             ]
            ],
            "type": "histogram2dcontour"
           }
          ],
          "mesh3d": [
           {
            "colorbar": {
             "outlinewidth": 0,
             "ticks": ""
            },
            "type": "mesh3d"
           }
          ],
          "parcoords": [
           {
            "line": {
             "colorbar": {
              "outlinewidth": 0,
              "ticks": ""
             }
            },
            "type": "parcoords"
           }
          ],
          "pie": [
           {
            "automargin": true,
            "type": "pie"
           }
          ],
          "scatter": [
           {
            "marker": {
             "colorbar": {
              "outlinewidth": 0,
              "ticks": ""
             }
            },
            "type": "scatter"
           }
          ],
          "scatter3d": [
           {
            "line": {
             "colorbar": {
              "outlinewidth": 0,
              "ticks": ""
             }
            },
            "marker": {
             "colorbar": {
              "outlinewidth": 0,
              "ticks": ""
             }
            },
            "type": "scatter3d"
           }
          ],
          "scattercarpet": [
           {
            "marker": {
             "colorbar": {
              "outlinewidth": 0,
              "ticks": ""
             }
            },
            "type": "scattercarpet"
           }
          ],
          "scattergeo": [
           {
            "marker": {
             "colorbar": {
              "outlinewidth": 0,
              "ticks": ""
             }
            },
            "type": "scattergeo"
           }
          ],
          "scattergl": [
           {
            "marker": {
             "colorbar": {
              "outlinewidth": 0,
              "ticks": ""
             }
            },
            "type": "scattergl"
           }
          ],
          "scattermapbox": [
           {
            "marker": {
             "colorbar": {
              "outlinewidth": 0,
              "ticks": ""
             }
            },
            "type": "scattermapbox"
           }
          ],
          "scatterpolar": [
           {
            "marker": {
             "colorbar": {
              "outlinewidth": 0,
              "ticks": ""
             }
            },
            "type": "scatterpolar"
           }
          ],
          "scatterpolargl": [
           {
            "marker": {
             "colorbar": {
              "outlinewidth": 0,
              "ticks": ""
             }
            },
            "type": "scatterpolargl"
           }
          ],
          "scatterternary": [
           {
            "marker": {
             "colorbar": {
              "outlinewidth": 0,
              "ticks": ""
             }
            },
            "type": "scatterternary"
           }
          ],
          "surface": [
           {
            "colorbar": {
             "outlinewidth": 0,
             "ticks": ""
            },
            "colorscale": [
             [
              0,
              "#0d0887"
             ],
             [
              0.1111111111111111,
              "#46039f"
             ],
             [
              0.2222222222222222,
              "#7201a8"
             ],
             [
              0.3333333333333333,
              "#9c179e"
             ],
             [
              0.4444444444444444,
              "#bd3786"
             ],
             [
              0.5555555555555556,
              "#d8576b"
             ],
             [
              0.6666666666666666,
              "#ed7953"
             ],
             [
              0.7777777777777778,
              "#fb9f3a"
             ],
             [
              0.8888888888888888,
              "#fdca26"
             ],
             [
              1,
              "#f0f921"
             ]
            ],
            "type": "surface"
           }
          ],
          "table": [
           {
            "cells": {
             "fill": {
              "color": "#EBF0F8"
             },
             "line": {
              "color": "white"
             }
            },
            "header": {
             "fill": {
              "color": "#C8D4E3"
             },
             "line": {
              "color": "white"
             }
            },
            "type": "table"
           }
          ]
         },
         "layout": {
          "annotationdefaults": {
           "arrowcolor": "#2a3f5f",
           "arrowhead": 0,
           "arrowwidth": 1
          },
          "coloraxis": {
           "colorbar": {
            "outlinewidth": 0,
            "ticks": ""
           }
          },
          "colorscale": {
           "diverging": [
            [
             0,
             "#8e0152"
            ],
            [
             0.1,
             "#c51b7d"
            ],
            [
             0.2,
             "#de77ae"
            ],
            [
             0.3,
             "#f1b6da"
            ],
            [
             0.4,
             "#fde0ef"
            ],
            [
             0.5,
             "#f7f7f7"
            ],
            [
             0.6,
             "#e6f5d0"
            ],
            [
             0.7,
             "#b8e186"
            ],
            [
             0.8,
             "#7fbc41"
            ],
            [
             0.9,
             "#4d9221"
            ],
            [
             1,
             "#276419"
            ]
           ],
           "sequential": [
            [
             0,
             "#0d0887"
            ],
            [
             0.1111111111111111,
             "#46039f"
            ],
            [
             0.2222222222222222,
             "#7201a8"
            ],
            [
             0.3333333333333333,
             "#9c179e"
            ],
            [
             0.4444444444444444,
             "#bd3786"
            ],
            [
             0.5555555555555556,
             "#d8576b"
            ],
            [
             0.6666666666666666,
             "#ed7953"
            ],
            [
             0.7777777777777778,
             "#fb9f3a"
            ],
            [
             0.8888888888888888,
             "#fdca26"
            ],
            [
             1,
             "#f0f921"
            ]
           ],
           "sequentialminus": [
            [
             0,
             "#0d0887"
            ],
            [
             0.1111111111111111,
             "#46039f"
            ],
            [
             0.2222222222222222,
             "#7201a8"
            ],
            [
             0.3333333333333333,
             "#9c179e"
            ],
            [
             0.4444444444444444,
             "#bd3786"
            ],
            [
             0.5555555555555556,
             "#d8576b"
            ],
            [
             0.6666666666666666,
             "#ed7953"
            ],
            [
             0.7777777777777778,
             "#fb9f3a"
            ],
            [
             0.8888888888888888,
             "#fdca26"
            ],
            [
             1,
             "#f0f921"
            ]
           ]
          },
          "colorway": [
           "#636efa",
           "#EF553B",
           "#00cc96",
           "#ab63fa",
           "#FFA15A",
           "#19d3f3",
           "#FF6692",
           "#B6E880",
           "#FF97FF",
           "#FECB52"
          ],
          "font": {
           "color": "#2a3f5f"
          },
          "geo": {
           "bgcolor": "white",
           "lakecolor": "white",
           "landcolor": "#E5ECF6",
           "showlakes": true,
           "showland": true,
           "subunitcolor": "white"
          },
          "hoverlabel": {
           "align": "left"
          },
          "hovermode": "closest",
          "mapbox": {
           "style": "light"
          },
          "paper_bgcolor": "white",
          "plot_bgcolor": "#E5ECF6",
          "polar": {
           "angularaxis": {
            "gridcolor": "white",
            "linecolor": "white",
            "ticks": ""
           },
           "bgcolor": "#E5ECF6",
           "radialaxis": {
            "gridcolor": "white",
            "linecolor": "white",
            "ticks": ""
           }
          },
          "scene": {
           "xaxis": {
            "backgroundcolor": "#E5ECF6",
            "gridcolor": "white",
            "gridwidth": 2,
            "linecolor": "white",
            "showbackground": true,
            "ticks": "",
            "zerolinecolor": "white"
           },
           "yaxis": {
            "backgroundcolor": "#E5ECF6",
            "gridcolor": "white",
            "gridwidth": 2,
            "linecolor": "white",
            "showbackground": true,
            "ticks": "",
            "zerolinecolor": "white"
           },
           "zaxis": {
            "backgroundcolor": "#E5ECF6",
            "gridcolor": "white",
            "gridwidth": 2,
            "linecolor": "white",
            "showbackground": true,
            "ticks": "",
            "zerolinecolor": "white"
           }
          },
          "shapedefaults": {
           "line": {
            "color": "#2a3f5f"
           }
          },
          "ternary": {
           "aaxis": {
            "gridcolor": "white",
            "linecolor": "white",
            "ticks": ""
           },
           "baxis": {
            "gridcolor": "white",
            "linecolor": "white",
            "ticks": ""
           },
           "bgcolor": "#E5ECF6",
           "caxis": {
            "gridcolor": "white",
            "linecolor": "white",
            "ticks": ""
           }
          },
          "title": {
           "x": 0.05
          },
          "xaxis": {
           "automargin": true,
           "gridcolor": "white",
           "linecolor": "white",
           "ticks": "",
           "title": {
            "standoff": 15
           },
           "zerolinecolor": "white",
           "zerolinewidth": 2
          },
          "yaxis": {
           "automargin": true,
           "gridcolor": "white",
           "linecolor": "white",
           "ticks": "",
           "title": {
            "standoff": 15
           },
           "zerolinecolor": "white",
           "zerolinewidth": 2
          }
         }
        },
        "title": {
         "text": "Country Wise Infected"
        },
        "xaxis": {
         "anchor": "y",
         "domain": [
          0,
          1
         ],
         "title": {
          "text": "Countries"
         }
        },
        "yaxis": {
         "anchor": "x",
         "domain": [
          0,
          1
         ],
         "title": {
          "text": "People Infected"
         }
        }
       }
      },
      "text/html": [
       "<div>\n",
       "        \n",
       "        \n",
       "            <div id=\"0a970654-ebd2-41ac-a334-5cb39dd57dc3\" class=\"plotly-graph-div\" style=\"height:525px; width:100%;\"></div>\n",
       "            <script type=\"text/javascript\">\n",
       "                require([\"plotly\"], function(Plotly) {\n",
       "                    window.PLOTLYENV=window.PLOTLYENV || {};\n",
       "                    \n",
       "                if (document.getElementById(\"0a970654-ebd2-41ac-a334-5cb39dd57dc3\")) {\n",
       "                    Plotly.newPlot(\n",
       "                        '0a970654-ebd2-41ac-a334-5cb39dd57dc3',\n",
       "                        [{\"alignmentgroup\": \"True\", \"hoverlabel\": {\"namelength\": 0}, \"hovertemplate\": \"x=%{x}<br>3/12/20=%{y}\", \"legendgroup\": \"\", \"marker\": {\"color\": \"#636efa\"}, \"name\": \"\", \"offsetgroup\": \"\", \"orientation\": \"v\", \"showlegend\": false, \"textposition\": \"auto\", \"type\": \"bar\", \"x\": [\"Italy\", \"Iran\", \"Korea, South\", \"France\", \"Spain\", \"Germany\", \"US\", \"Norway\", \"Cruise Ship\", \"Switzerland\", \"Japan\", \"Denmark\", \"Sweden\", \"Netherlands\", \"United Kingdom\", \"Belgium\", \"Austria\", \"Qatar\", \"Bahrain\", \"Singapore\", \"Malaysia\", \"Israel\", \"Australia\", \"Canada\", \"Iceland\", \"Greece\", \"Czechia\", \"Slovenia\", \"United Arab Emirates\", \"Kuwait\", \"India\", \"Iraq\", \"Thailand\", \"San Marino\", \"Egypt\", \"Lebanon\", \"Finland\", \"Portugal\", \"Philippines\", \"Brazil\", \"Taiwan*\", \"Poland\", \"Romania\", \"Saudi Arabia\", \"Ireland\", \"Vietnam\", \"Indonesia\", \"Russia\", \"Algeria\", \"Georgia\", \"Albania\", \"Chile\", \"Costa Rica\", \"Pakistan\", \"Argentina\", \"Luxembourg\", \"Serbia\", \"Croatia\", \"Oman\", \"South Africa\", \"Ecuador\", \"Slovakia\", \"Estonia\", \"Peru\", \"Hungary\", \"Belarus\", \"Mexico\", \"Panama\", \"Bosnia and Herzegovina\", \"Brunei\", \"Azerbaijan\", \"Latvia\", \"Colombia\", \"Maldives\", \"North Macedonia\", \"Bulgaria\", \"Tunisia\", \"Afghanistan\", \"Morocco\", \"Malta\", \"Cyprus\", \"New Zealand\", \"French Guiana\", \"Dominican Republic\", \"Paraguay\", \"Armenia\", \"Senegal\", \"Cuba\", \"Moldova\", \"Cambodia\", \"Lithuania\", \"Bangladesh\", \"Martinique\", \"Sri Lanka\", \"Bolivia\", \"Honduras\", \"Burkina Faso\", \"Cameroon\", \"Nigeria\", \"Monaco\", \"Jamaica\", \"Togo\", \"Holy See\", \"Andorra\", \"Ukraine\", \"Guyana\", \"Turkey\", \"Liechtenstein\", \"Jordan\", \"Reunion\", \"Cote d'Ivoire\", \"Mongolia\", \"Bhutan\", \"Nepal\", \"Congo (Kinshasa)\"], \"xaxis\": \"x\", \"y\": [12462, 10075, 7869, 2284, 2277, 2078, 1663, 702, 696, 652, 639, 617, 599, 503, 459, 314, 302, 262, 195, 178, 149, 131, 128, 117, 103, 99, 94, 89, 85, 80, 73, 71, 70, 69, 67, 61, 59, 59, 52, 52, 49, 49, 49, 45, 43, 39, 34, 28, 24, 24, 23, 23, 22, 20, 19, 19, 19, 19, 18, 17, 17, 16, 16, 15, 13, 12, 12, 11, 11, 11, 11, 10, 9, 8, 7, 7, 7, 7, 6, 6, 6, 5, 5, 5, 5, 4, 4, 3, 3, 3, 3, 3, 3, 2, 2, 2, 2, 2, 2, 2, 2, 1, 1, 1, 1, 1, 1, 1, 1, 1, 1, 1, 1, 1, 1], \"yaxis\": \"y\"}],\n",
       "                        {\"barmode\": \"relative\", \"font\": {\"color\": \"#7f7f7f\", \"family\": \"Arial\", \"size\": 13}, \"legend\": {\"tracegroupgap\": 0}, \"margin\": {\"t\": 60}, \"template\": {\"data\": {\"bar\": [{\"error_x\": {\"color\": \"#2a3f5f\"}, \"error_y\": {\"color\": \"#2a3f5f\"}, \"marker\": {\"line\": {\"color\": \"#E5ECF6\", \"width\": 0.5}}, \"type\": \"bar\"}], \"barpolar\": [{\"marker\": {\"line\": {\"color\": \"#E5ECF6\", \"width\": 0.5}}, \"type\": \"barpolar\"}], \"carpet\": [{\"aaxis\": {\"endlinecolor\": \"#2a3f5f\", \"gridcolor\": \"white\", \"linecolor\": \"white\", \"minorgridcolor\": \"white\", \"startlinecolor\": \"#2a3f5f\"}, \"baxis\": {\"endlinecolor\": \"#2a3f5f\", \"gridcolor\": \"white\", \"linecolor\": \"white\", \"minorgridcolor\": \"white\", \"startlinecolor\": \"#2a3f5f\"}, \"type\": \"carpet\"}], \"choropleth\": [{\"colorbar\": {\"outlinewidth\": 0, \"ticks\": \"\"}, \"type\": \"choropleth\"}], \"contour\": [{\"colorbar\": {\"outlinewidth\": 0, \"ticks\": \"\"}, \"colorscale\": [[0.0, \"#0d0887\"], [0.1111111111111111, \"#46039f\"], [0.2222222222222222, \"#7201a8\"], [0.3333333333333333, \"#9c179e\"], [0.4444444444444444, \"#bd3786\"], [0.5555555555555556, \"#d8576b\"], [0.6666666666666666, \"#ed7953\"], [0.7777777777777778, \"#fb9f3a\"], [0.8888888888888888, \"#fdca26\"], [1.0, \"#f0f921\"]], \"type\": \"contour\"}], \"contourcarpet\": [{\"colorbar\": {\"outlinewidth\": 0, \"ticks\": \"\"}, \"type\": \"contourcarpet\"}], \"heatmap\": [{\"colorbar\": {\"outlinewidth\": 0, \"ticks\": \"\"}, \"colorscale\": [[0.0, \"#0d0887\"], [0.1111111111111111, \"#46039f\"], [0.2222222222222222, \"#7201a8\"], [0.3333333333333333, \"#9c179e\"], [0.4444444444444444, \"#bd3786\"], [0.5555555555555556, \"#d8576b\"], [0.6666666666666666, \"#ed7953\"], [0.7777777777777778, \"#fb9f3a\"], [0.8888888888888888, \"#fdca26\"], [1.0, \"#f0f921\"]], \"type\": \"heatmap\"}], \"heatmapgl\": [{\"colorbar\": {\"outlinewidth\": 0, \"ticks\": \"\"}, \"colorscale\": [[0.0, \"#0d0887\"], [0.1111111111111111, \"#46039f\"], [0.2222222222222222, \"#7201a8\"], [0.3333333333333333, \"#9c179e\"], [0.4444444444444444, \"#bd3786\"], [0.5555555555555556, \"#d8576b\"], [0.6666666666666666, \"#ed7953\"], [0.7777777777777778, \"#fb9f3a\"], [0.8888888888888888, \"#fdca26\"], [1.0, \"#f0f921\"]], \"type\": \"heatmapgl\"}], \"histogram\": [{\"marker\": {\"colorbar\": {\"outlinewidth\": 0, \"ticks\": \"\"}}, \"type\": \"histogram\"}], \"histogram2d\": [{\"colorbar\": {\"outlinewidth\": 0, \"ticks\": \"\"}, \"colorscale\": [[0.0, \"#0d0887\"], [0.1111111111111111, \"#46039f\"], [0.2222222222222222, \"#7201a8\"], [0.3333333333333333, \"#9c179e\"], [0.4444444444444444, \"#bd3786\"], [0.5555555555555556, \"#d8576b\"], [0.6666666666666666, \"#ed7953\"], [0.7777777777777778, \"#fb9f3a\"], [0.8888888888888888, \"#fdca26\"], [1.0, \"#f0f921\"]], \"type\": \"histogram2d\"}], \"histogram2dcontour\": [{\"colorbar\": {\"outlinewidth\": 0, \"ticks\": \"\"}, \"colorscale\": [[0.0, \"#0d0887\"], [0.1111111111111111, \"#46039f\"], [0.2222222222222222, \"#7201a8\"], [0.3333333333333333, \"#9c179e\"], [0.4444444444444444, \"#bd3786\"], [0.5555555555555556, \"#d8576b\"], [0.6666666666666666, \"#ed7953\"], [0.7777777777777778, \"#fb9f3a\"], [0.8888888888888888, \"#fdca26\"], [1.0, \"#f0f921\"]], \"type\": \"histogram2dcontour\"}], \"mesh3d\": [{\"colorbar\": {\"outlinewidth\": 0, \"ticks\": \"\"}, \"type\": \"mesh3d\"}], \"parcoords\": [{\"line\": {\"colorbar\": {\"outlinewidth\": 0, \"ticks\": \"\"}}, \"type\": \"parcoords\"}], \"pie\": [{\"automargin\": true, \"type\": \"pie\"}], \"scatter\": [{\"marker\": {\"colorbar\": {\"outlinewidth\": 0, \"ticks\": \"\"}}, \"type\": \"scatter\"}], \"scatter3d\": [{\"line\": {\"colorbar\": {\"outlinewidth\": 0, \"ticks\": \"\"}}, \"marker\": {\"colorbar\": {\"outlinewidth\": 0, \"ticks\": \"\"}}, \"type\": \"scatter3d\"}], \"scattercarpet\": [{\"marker\": {\"colorbar\": {\"outlinewidth\": 0, \"ticks\": \"\"}}, \"type\": \"scattercarpet\"}], \"scattergeo\": [{\"marker\": {\"colorbar\": {\"outlinewidth\": 0, \"ticks\": \"\"}}, \"type\": \"scattergeo\"}], \"scattergl\": [{\"marker\": {\"colorbar\": {\"outlinewidth\": 0, \"ticks\": \"\"}}, \"type\": \"scattergl\"}], \"scattermapbox\": [{\"marker\": {\"colorbar\": {\"outlinewidth\": 0, \"ticks\": \"\"}}, \"type\": \"scattermapbox\"}], \"scatterpolar\": [{\"marker\": {\"colorbar\": {\"outlinewidth\": 0, \"ticks\": \"\"}}, \"type\": \"scatterpolar\"}], \"scatterpolargl\": [{\"marker\": {\"colorbar\": {\"outlinewidth\": 0, \"ticks\": \"\"}}, \"type\": \"scatterpolargl\"}], \"scatterternary\": [{\"marker\": {\"colorbar\": {\"outlinewidth\": 0, \"ticks\": \"\"}}, \"type\": \"scatterternary\"}], \"surface\": [{\"colorbar\": {\"outlinewidth\": 0, \"ticks\": \"\"}, \"colorscale\": [[0.0, \"#0d0887\"], [0.1111111111111111, \"#46039f\"], [0.2222222222222222, \"#7201a8\"], [0.3333333333333333, \"#9c179e\"], [0.4444444444444444, \"#bd3786\"], [0.5555555555555556, \"#d8576b\"], [0.6666666666666666, \"#ed7953\"], [0.7777777777777778, \"#fb9f3a\"], [0.8888888888888888, \"#fdca26\"], [1.0, \"#f0f921\"]], \"type\": \"surface\"}], \"table\": [{\"cells\": {\"fill\": {\"color\": \"#EBF0F8\"}, \"line\": {\"color\": \"white\"}}, \"header\": {\"fill\": {\"color\": \"#C8D4E3\"}, \"line\": {\"color\": \"white\"}}, \"type\": \"table\"}]}, \"layout\": {\"annotationdefaults\": {\"arrowcolor\": \"#2a3f5f\", \"arrowhead\": 0, \"arrowwidth\": 1}, \"coloraxis\": {\"colorbar\": {\"outlinewidth\": 0, \"ticks\": \"\"}}, \"colorscale\": {\"diverging\": [[0, \"#8e0152\"], [0.1, \"#c51b7d\"], [0.2, \"#de77ae\"], [0.3, \"#f1b6da\"], [0.4, \"#fde0ef\"], [0.5, \"#f7f7f7\"], [0.6, \"#e6f5d0\"], [0.7, \"#b8e186\"], [0.8, \"#7fbc41\"], [0.9, \"#4d9221\"], [1, \"#276419\"]], \"sequential\": [[0.0, \"#0d0887\"], [0.1111111111111111, \"#46039f\"], [0.2222222222222222, \"#7201a8\"], [0.3333333333333333, \"#9c179e\"], [0.4444444444444444, \"#bd3786\"], [0.5555555555555556, \"#d8576b\"], [0.6666666666666666, \"#ed7953\"], [0.7777777777777778, \"#fb9f3a\"], [0.8888888888888888, \"#fdca26\"], [1.0, \"#f0f921\"]], \"sequentialminus\": [[0.0, \"#0d0887\"], [0.1111111111111111, \"#46039f\"], [0.2222222222222222, \"#7201a8\"], [0.3333333333333333, \"#9c179e\"], [0.4444444444444444, \"#bd3786\"], [0.5555555555555556, \"#d8576b\"], [0.6666666666666666, \"#ed7953\"], [0.7777777777777778, \"#fb9f3a\"], [0.8888888888888888, \"#fdca26\"], [1.0, \"#f0f921\"]]}, \"colorway\": [\"#636efa\", \"#EF553B\", \"#00cc96\", \"#ab63fa\", \"#FFA15A\", \"#19d3f3\", \"#FF6692\", \"#B6E880\", \"#FF97FF\", \"#FECB52\"], \"font\": {\"color\": \"#2a3f5f\"}, \"geo\": {\"bgcolor\": \"white\", \"lakecolor\": \"white\", \"landcolor\": \"#E5ECF6\", \"showlakes\": true, \"showland\": true, \"subunitcolor\": \"white\"}, \"hoverlabel\": {\"align\": \"left\"}, \"hovermode\": \"closest\", \"mapbox\": {\"style\": \"light\"}, \"paper_bgcolor\": \"white\", \"plot_bgcolor\": \"#E5ECF6\", \"polar\": {\"angularaxis\": {\"gridcolor\": \"white\", \"linecolor\": \"white\", \"ticks\": \"\"}, \"bgcolor\": \"#E5ECF6\", \"radialaxis\": {\"gridcolor\": \"white\", \"linecolor\": \"white\", \"ticks\": \"\"}}, \"scene\": {\"xaxis\": {\"backgroundcolor\": \"#E5ECF6\", \"gridcolor\": \"white\", \"gridwidth\": 2, \"linecolor\": \"white\", \"showbackground\": true, \"ticks\": \"\", \"zerolinecolor\": \"white\"}, \"yaxis\": {\"backgroundcolor\": \"#E5ECF6\", \"gridcolor\": \"white\", \"gridwidth\": 2, \"linecolor\": \"white\", \"showbackground\": true, \"ticks\": \"\", \"zerolinecolor\": \"white\"}, \"zaxis\": {\"backgroundcolor\": \"#E5ECF6\", \"gridcolor\": \"white\", \"gridwidth\": 2, \"linecolor\": \"white\", \"showbackground\": true, \"ticks\": \"\", \"zerolinecolor\": \"white\"}}, \"shapedefaults\": {\"line\": {\"color\": \"#2a3f5f\"}}, \"ternary\": {\"aaxis\": {\"gridcolor\": \"white\", \"linecolor\": \"white\", \"ticks\": \"\"}, \"baxis\": {\"gridcolor\": \"white\", \"linecolor\": \"white\", \"ticks\": \"\"}, \"bgcolor\": \"#E5ECF6\", \"caxis\": {\"gridcolor\": \"white\", \"linecolor\": \"white\", \"ticks\": \"\"}}, \"title\": {\"x\": 0.05}, \"xaxis\": {\"automargin\": true, \"gridcolor\": \"white\", \"linecolor\": \"white\", \"ticks\": \"\", \"title\": {\"standoff\": 15}, \"zerolinecolor\": \"white\", \"zerolinewidth\": 2}, \"yaxis\": {\"automargin\": true, \"gridcolor\": \"white\", \"linecolor\": \"white\", \"ticks\": \"\", \"title\": {\"standoff\": 15}, \"zerolinecolor\": \"white\", \"zerolinewidth\": 2}}}, \"title\": {\"text\": \"Country Wise Infected\"}, \"xaxis\": {\"anchor\": \"y\", \"domain\": [0.0, 1.0], \"title\": {\"text\": \"Countries\"}}, \"yaxis\": {\"anchor\": \"x\", \"domain\": [0.0, 1.0], \"title\": {\"text\": \"People Infected\"}}},\n",
       "                        {\"responsive\": true}\n",
       "                    ).then(function(){\n",
       "                            \n",
       "var gd = document.getElementById('0a970654-ebd2-41ac-a334-5cb39dd57dc3');\n",
       "var x = new MutationObserver(function (mutations, observer) {{\n",
       "        var display = window.getComputedStyle(gd).display;\n",
       "        if (!display || display === 'none') {{\n",
       "            console.log([gd, 'removed!']);\n",
       "            Plotly.purge(gd);\n",
       "            observer.disconnect();\n",
       "        }}\n",
       "}});\n",
       "\n",
       "// Listen for the removal of the full notebook cells\n",
       "var notebookContainer = gd.closest('#notebook-container');\n",
       "if (notebookContainer) {{\n",
       "    x.observe(notebookContainer, {childList: true});\n",
       "}}\n",
       "\n",
       "// Listen for the clearing of the current output cell\n",
       "var outputEl = gd.closest('.output');\n",
       "if (outputEl) {{\n",
       "    x.observe(outputEl, {childList: true});\n",
       "}}\n",
       "\n",
       "                        })\n",
       "                };\n",
       "                });\n",
       "            </script>\n",
       "        </div>"
      ]
     },
     "metadata": {},
     "output_type": "display_data"
    }
   ],
   "source": [
    "plot_country_based_line(outside_china_data_confirmed)"
   ]
  },
  {
   "cell_type": "markdown",
   "metadata": {},
   "source": [
    "## Country-wise infection growth comparision"
   ]
  },
  {
   "cell_type": "code",
   "execution_count": 9,
   "metadata": {},
   "outputs": [
    {
     "data": {
      "application/vnd.plotly.v1+json": {
       "config": {
        "plotlyServerURL": "https://plot.ly"
       },
       "data": [
        {
         "connectgaps": true,
         "mode": "lines",
         "name": "Italy",
         "type": "scatter",
         "x": [
          "1/22/20",
          "1/23/20",
          "1/24/20",
          "1/25/20",
          "1/26/20",
          "1/27/20",
          "1/28/20",
          "1/29/20",
          "1/30/20",
          "1/31/20",
          "2/1/20",
          "2/2/20",
          "2/3/20",
          "2/4/20",
          "2/5/20",
          "2/6/20",
          "2/7/20",
          "2/8/20",
          "2/9/20",
          "2/10/20",
          "2/11/20",
          "2/12/20",
          "2/13/20",
          "2/14/20",
          "2/15/20",
          "2/16/20",
          "2/17/20",
          "2/18/20",
          "2/19/20",
          "2/20/20",
          "2/21/20",
          "2/22/20",
          "2/23/20",
          "2/24/20",
          "2/25/20",
          "2/26/20",
          "2/27/20",
          "2/28/20",
          "2/29/20",
          "3/1/20",
          "3/2/20",
          "3/3/20",
          "3/4/20",
          "3/5/20",
          "3/6/20",
          "3/7/20",
          "3/8/20",
          "3/9/20",
          "3/10/20",
          "3/11/20",
          "3/12/20"
         ],
         "y": [
          0,
          0,
          0,
          0,
          0,
          0,
          0,
          0,
          0,
          2,
          2,
          2,
          2,
          2,
          2,
          2,
          3,
          3,
          3,
          3,
          3,
          3,
          3,
          3,
          3,
          3,
          3,
          3,
          3,
          3,
          20,
          62,
          155,
          229,
          322,
          453,
          655,
          888,
          1128,
          1694,
          2036,
          2502,
          3089,
          3858,
          4636,
          5883,
          7375,
          9172,
          10149,
          12462,
          12462
         ]
        },
        {
         "mode": "markers",
         "type": "scatter",
         "x": [
          "1/22/20",
          "3/12/20"
         ],
         "y": [
          0,
          12462
         ]
        },
        {
         "connectgaps": true,
         "mode": "lines",
         "name": "Iran",
         "type": "scatter",
         "x": [
          "1/22/20",
          "1/23/20",
          "1/24/20",
          "1/25/20",
          "1/26/20",
          "1/27/20",
          "1/28/20",
          "1/29/20",
          "1/30/20",
          "1/31/20",
          "2/1/20",
          "2/2/20",
          "2/3/20",
          "2/4/20",
          "2/5/20",
          "2/6/20",
          "2/7/20",
          "2/8/20",
          "2/9/20",
          "2/10/20",
          "2/11/20",
          "2/12/20",
          "2/13/20",
          "2/14/20",
          "2/15/20",
          "2/16/20",
          "2/17/20",
          "2/18/20",
          "2/19/20",
          "2/20/20",
          "2/21/20",
          "2/22/20",
          "2/23/20",
          "2/24/20",
          "2/25/20",
          "2/26/20",
          "2/27/20",
          "2/28/20",
          "2/29/20",
          "3/1/20",
          "3/2/20",
          "3/3/20",
          "3/4/20",
          "3/5/20",
          "3/6/20",
          "3/7/20",
          "3/8/20",
          "3/9/20",
          "3/10/20",
          "3/11/20",
          "3/12/20"
         ],
         "y": [
          0,
          0,
          0,
          0,
          0,
          0,
          0,
          0,
          0,
          0,
          0,
          0,
          0,
          0,
          0,
          0,
          0,
          0,
          0,
          0,
          0,
          0,
          0,
          0,
          0,
          0,
          0,
          0,
          2,
          5,
          18,
          28,
          43,
          61,
          95,
          139,
          245,
          388,
          593,
          978,
          1501,
          2336,
          2922,
          3513,
          4747,
          5823,
          6566,
          7161,
          8042,
          9000,
          10075
         ]
        },
        {
         "mode": "markers",
         "type": "scatter",
         "x": [
          "1/22/20",
          "3/12/20"
         ],
         "y": [
          0,
          10075
         ]
        },
        {
         "connectgaps": true,
         "mode": "lines",
         "name": "Korea, South",
         "type": "scatter",
         "x": [
          "1/22/20",
          "1/23/20",
          "1/24/20",
          "1/25/20",
          "1/26/20",
          "1/27/20",
          "1/28/20",
          "1/29/20",
          "1/30/20",
          "1/31/20",
          "2/1/20",
          "2/2/20",
          "2/3/20",
          "2/4/20",
          "2/5/20",
          "2/6/20",
          "2/7/20",
          "2/8/20",
          "2/9/20",
          "2/10/20",
          "2/11/20",
          "2/12/20",
          "2/13/20",
          "2/14/20",
          "2/15/20",
          "2/16/20",
          "2/17/20",
          "2/18/20",
          "2/19/20",
          "2/20/20",
          "2/21/20",
          "2/22/20",
          "2/23/20",
          "2/24/20",
          "2/25/20",
          "2/26/20",
          "2/27/20",
          "2/28/20",
          "2/29/20",
          "3/1/20",
          "3/2/20",
          "3/3/20",
          "3/4/20",
          "3/5/20",
          "3/6/20",
          "3/7/20",
          "3/8/20",
          "3/9/20",
          "3/10/20",
          "3/11/20",
          "3/12/20"
         ],
         "y": [
          1,
          1,
          2,
          2,
          3,
          4,
          4,
          4,
          4,
          11,
          12,
          15,
          15,
          16,
          19,
          23,
          24,
          24,
          25,
          27,
          28,
          28,
          28,
          28,
          28,
          29,
          30,
          31,
          31,
          104,
          204,
          433,
          602,
          833,
          977,
          1261,
          1766,
          2337,
          3150,
          3736,
          4335,
          5186,
          5621,
          6088,
          6593,
          7041,
          7314,
          7478,
          7513,
          7755,
          7869
         ]
        },
        {
         "mode": "markers",
         "type": "scatter",
         "x": [
          "1/22/20",
          "3/12/20"
         ],
         "y": [
          1,
          7869
         ]
        },
        {
         "connectgaps": true,
         "mode": "lines",
         "name": "France",
         "type": "scatter",
         "x": [
          "1/22/20",
          "1/23/20",
          "1/24/20",
          "1/25/20",
          "1/26/20",
          "1/27/20",
          "1/28/20",
          "1/29/20",
          "1/30/20",
          "1/31/20",
          "2/1/20",
          "2/2/20",
          "2/3/20",
          "2/4/20",
          "2/5/20",
          "2/6/20",
          "2/7/20",
          "2/8/20",
          "2/9/20",
          "2/10/20",
          "2/11/20",
          "2/12/20",
          "2/13/20",
          "2/14/20",
          "2/15/20",
          "2/16/20",
          "2/17/20",
          "2/18/20",
          "2/19/20",
          "2/20/20",
          "2/21/20",
          "2/22/20",
          "2/23/20",
          "2/24/20",
          "2/25/20",
          "2/26/20",
          "2/27/20",
          "2/28/20",
          "2/29/20",
          "3/1/20",
          "3/2/20",
          "3/3/20",
          "3/4/20",
          "3/5/20",
          "3/6/20",
          "3/7/20",
          "3/8/20",
          "3/9/20",
          "3/10/20",
          "3/11/20",
          "3/12/20"
         ],
         "y": [
          0,
          0,
          2,
          3,
          3,
          3,
          4,
          5,
          5,
          5,
          6,
          6,
          6,
          6,
          6,
          6,
          6,
          11,
          11,
          11,
          11,
          11,
          11,
          11,
          12,
          12,
          12,
          12,
          12,
          12,
          12,
          12,
          12,
          12,
          14,
          18,
          38,
          57,
          100,
          130,
          191,
          204,
          288,
          380,
          656,
          952,
          1129,
          1212,
          1787,
          2284,
          2284
         ]
        },
        {
         "mode": "markers",
         "type": "scatter",
         "x": [
          "1/22/20",
          "3/12/20"
         ],
         "y": [
          0,
          2284
         ]
        },
        {
         "connectgaps": true,
         "mode": "lines",
         "name": "Spain",
         "type": "scatter",
         "x": [
          "1/22/20",
          "1/23/20",
          "1/24/20",
          "1/25/20",
          "1/26/20",
          "1/27/20",
          "1/28/20",
          "1/29/20",
          "1/30/20",
          "1/31/20",
          "2/1/20",
          "2/2/20",
          "2/3/20",
          "2/4/20",
          "2/5/20",
          "2/6/20",
          "2/7/20",
          "2/8/20",
          "2/9/20",
          "2/10/20",
          "2/11/20",
          "2/12/20",
          "2/13/20",
          "2/14/20",
          "2/15/20",
          "2/16/20",
          "2/17/20",
          "2/18/20",
          "2/19/20",
          "2/20/20",
          "2/21/20",
          "2/22/20",
          "2/23/20",
          "2/24/20",
          "2/25/20",
          "2/26/20",
          "2/27/20",
          "2/28/20",
          "2/29/20",
          "3/1/20",
          "3/2/20",
          "3/3/20",
          "3/4/20",
          "3/5/20",
          "3/6/20",
          "3/7/20",
          "3/8/20",
          "3/9/20",
          "3/10/20",
          "3/11/20",
          "3/12/20"
         ],
         "y": [
          0,
          0,
          0,
          0,
          0,
          0,
          0,
          0,
          0,
          0,
          1,
          1,
          1,
          1,
          1,
          1,
          1,
          1,
          2,
          2,
          2,
          2,
          2,
          2,
          2,
          2,
          2,
          2,
          2,
          2,
          2,
          2,
          2,
          2,
          6,
          13,
          15,
          32,
          45,
          84,
          120,
          165,
          222,
          259,
          400,
          500,
          673,
          1073,
          1695,
          2277,
          2277
         ]
        },
        {
         "mode": "markers",
         "type": "scatter",
         "x": [
          "1/22/20",
          "3/12/20"
         ],
         "y": [
          0,
          2277
         ]
        },
        {
         "connectgaps": true,
         "mode": "lines",
         "name": "Germany",
         "type": "scatter",
         "x": [
          "1/22/20",
          "1/23/20",
          "1/24/20",
          "1/25/20",
          "1/26/20",
          "1/27/20",
          "1/28/20",
          "1/29/20",
          "1/30/20",
          "1/31/20",
          "2/1/20",
          "2/2/20",
          "2/3/20",
          "2/4/20",
          "2/5/20",
          "2/6/20",
          "2/7/20",
          "2/8/20",
          "2/9/20",
          "2/10/20",
          "2/11/20",
          "2/12/20",
          "2/13/20",
          "2/14/20",
          "2/15/20",
          "2/16/20",
          "2/17/20",
          "2/18/20",
          "2/19/20",
          "2/20/20",
          "2/21/20",
          "2/22/20",
          "2/23/20",
          "2/24/20",
          "2/25/20",
          "2/26/20",
          "2/27/20",
          "2/28/20",
          "2/29/20",
          "3/1/20",
          "3/2/20",
          "3/3/20",
          "3/4/20",
          "3/5/20",
          "3/6/20",
          "3/7/20",
          "3/8/20",
          "3/9/20",
          "3/10/20",
          "3/11/20",
          "3/12/20"
         ],
         "y": [
          0,
          0,
          0,
          0,
          0,
          1,
          4,
          4,
          4,
          5,
          8,
          10,
          12,
          12,
          12,
          12,
          13,
          13,
          14,
          14,
          16,
          16,
          16,
          16,
          16,
          16,
          16,
          16,
          16,
          16,
          16,
          16,
          16,
          16,
          17,
          27,
          46,
          48,
          79,
          130,
          159,
          196,
          262,
          482,
          670,
          799,
          1040,
          1176,
          1457,
          1908,
          2078
         ]
        },
        {
         "mode": "markers",
         "type": "scatter",
         "x": [
          "1/22/20",
          "3/12/20"
         ],
         "y": [
          0,
          2078
         ]
        },
        {
         "connectgaps": true,
         "mode": "lines",
         "name": "US",
         "type": "scatter",
         "x": [
          "1/22/20",
          "1/23/20",
          "1/24/20",
          "1/25/20",
          "1/26/20",
          "1/27/20",
          "1/28/20",
          "1/29/20",
          "1/30/20",
          "1/31/20",
          "2/1/20",
          "2/2/20",
          "2/3/20",
          "2/4/20",
          "2/5/20",
          "2/6/20",
          "2/7/20",
          "2/8/20",
          "2/9/20",
          "2/10/20",
          "2/11/20",
          "2/12/20",
          "2/13/20",
          "2/14/20",
          "2/15/20",
          "2/16/20",
          "2/17/20",
          "2/18/20",
          "2/19/20",
          "2/20/20",
          "2/21/20",
          "2/22/20",
          "2/23/20",
          "2/24/20",
          "2/25/20",
          "2/26/20",
          "2/27/20",
          "2/28/20",
          "2/29/20",
          "3/1/20",
          "3/2/20",
          "3/3/20",
          "3/4/20",
          "3/5/20",
          "3/6/20",
          "3/7/20",
          "3/8/20",
          "3/9/20",
          "3/10/20",
          "3/11/20",
          "3/12/20"
         ],
         "y": [
          1,
          1,
          2,
          2,
          5,
          5,
          5,
          5,
          5,
          7,
          8,
          8,
          11,
          11,
          11,
          11,
          11,
          11,
          11,
          11,
          12,
          12,
          13,
          13,
          13,
          13,
          13,
          13,
          13,
          13,
          15,
          15,
          15,
          51,
          51,
          57,
          58,
          60,
          68,
          74,
          98,
          118,
          149,
          217,
          262,
          402,
          518,
          583,
          959,
          1281,
          1663
         ]
        },
        {
         "mode": "markers",
         "type": "scatter",
         "x": [
          "1/22/20",
          "3/12/20"
         ],
         "y": [
          1,
          1663
         ]
        },
        {
         "connectgaps": true,
         "mode": "lines",
         "name": "Norway",
         "type": "scatter",
         "x": [
          "1/22/20",
          "1/23/20",
          "1/24/20",
          "1/25/20",
          "1/26/20",
          "1/27/20",
          "1/28/20",
          "1/29/20",
          "1/30/20",
          "1/31/20",
          "2/1/20",
          "2/2/20",
          "2/3/20",
          "2/4/20",
          "2/5/20",
          "2/6/20",
          "2/7/20",
          "2/8/20",
          "2/9/20",
          "2/10/20",
          "2/11/20",
          "2/12/20",
          "2/13/20",
          "2/14/20",
          "2/15/20",
          "2/16/20",
          "2/17/20",
          "2/18/20",
          "2/19/20",
          "2/20/20",
          "2/21/20",
          "2/22/20",
          "2/23/20",
          "2/24/20",
          "2/25/20",
          "2/26/20",
          "2/27/20",
          "2/28/20",
          "2/29/20",
          "3/1/20",
          "3/2/20",
          "3/3/20",
          "3/4/20",
          "3/5/20",
          "3/6/20",
          "3/7/20",
          "3/8/20",
          "3/9/20",
          "3/10/20",
          "3/11/20",
          "3/12/20"
         ],
         "y": [
          0,
          0,
          0,
          0,
          0,
          0,
          0,
          0,
          0,
          0,
          0,
          0,
          0,
          0,
          0,
          0,
          0,
          0,
          0,
          0,
          0,
          0,
          0,
          0,
          0,
          0,
          0,
          0,
          0,
          0,
          0,
          0,
          0,
          0,
          0,
          1,
          1,
          6,
          15,
          19,
          25,
          32,
          56,
          87,
          108,
          147,
          176,
          205,
          400,
          598,
          702
         ]
        },
        {
         "mode": "markers",
         "type": "scatter",
         "x": [
          "1/22/20",
          "3/12/20"
         ],
         "y": [
          0,
          702
         ]
        },
        {
         "connectgaps": true,
         "mode": "lines",
         "name": "Cruise Ship",
         "type": "scatter",
         "x": [
          "1/22/20",
          "1/23/20",
          "1/24/20",
          "1/25/20",
          "1/26/20",
          "1/27/20",
          "1/28/20",
          "1/29/20",
          "1/30/20",
          "1/31/20",
          "2/1/20",
          "2/2/20",
          "2/3/20",
          "2/4/20",
          "2/5/20",
          "2/6/20",
          "2/7/20",
          "2/8/20",
          "2/9/20",
          "2/10/20",
          "2/11/20",
          "2/12/20",
          "2/13/20",
          "2/14/20",
          "2/15/20",
          "2/16/20",
          "2/17/20",
          "2/18/20",
          "2/19/20",
          "2/20/20",
          "2/21/20",
          "2/22/20",
          "2/23/20",
          "2/24/20",
          "2/25/20",
          "2/26/20",
          "2/27/20",
          "2/28/20",
          "2/29/20",
          "3/1/20",
          "3/2/20",
          "3/3/20",
          "3/4/20",
          "3/5/20",
          "3/6/20",
          "3/7/20",
          "3/8/20",
          "3/9/20",
          "3/10/20",
          "3/11/20",
          "3/12/20"
         ],
         "y": [
          0,
          0,
          0,
          0,
          0,
          0,
          0,
          0,
          0,
          0,
          0,
          0,
          0,
          0,
          0,
          0,
          61,
          61,
          64,
          135,
          135,
          175,
          175,
          218,
          285,
          355,
          454,
          542,
          621,
          634,
          634,
          634,
          691,
          691,
          691,
          705,
          705,
          705,
          705,
          705,
          705,
          706,
          706,
          706,
          696,
          696,
          696,
          696,
          696,
          696,
          696
         ]
        },
        {
         "mode": "markers",
         "type": "scatter",
         "x": [
          "1/22/20",
          "3/12/20"
         ],
         "y": [
          0,
          696
         ]
        },
        {
         "connectgaps": true,
         "mode": "lines",
         "name": "Switzerland",
         "type": "scatter",
         "x": [
          "1/22/20",
          "1/23/20",
          "1/24/20",
          "1/25/20",
          "1/26/20",
          "1/27/20",
          "1/28/20",
          "1/29/20",
          "1/30/20",
          "1/31/20",
          "2/1/20",
          "2/2/20",
          "2/3/20",
          "2/4/20",
          "2/5/20",
          "2/6/20",
          "2/7/20",
          "2/8/20",
          "2/9/20",
          "2/10/20",
          "2/11/20",
          "2/12/20",
          "2/13/20",
          "2/14/20",
          "2/15/20",
          "2/16/20",
          "2/17/20",
          "2/18/20",
          "2/19/20",
          "2/20/20",
          "2/21/20",
          "2/22/20",
          "2/23/20",
          "2/24/20",
          "2/25/20",
          "2/26/20",
          "2/27/20",
          "2/28/20",
          "2/29/20",
          "3/1/20",
          "3/2/20",
          "3/3/20",
          "3/4/20",
          "3/5/20",
          "3/6/20",
          "3/7/20",
          "3/8/20",
          "3/9/20",
          "3/10/20",
          "3/11/20",
          "3/12/20"
         ],
         "y": [
          0,
          0,
          0,
          0,
          0,
          0,
          0,
          0,
          0,
          0,
          0,
          0,
          0,
          0,
          0,
          0,
          0,
          0,
          0,
          0,
          0,
          0,
          0,
          0,
          0,
          0,
          0,
          0,
          0,
          0,
          0,
          0,
          0,
          0,
          1,
          1,
          8,
          8,
          18,
          27,
          42,
          56,
          90,
          114,
          214,
          268,
          337,
          374,
          491,
          652,
          652
         ]
        },
        {
         "mode": "markers",
         "type": "scatter",
         "x": [
          "1/22/20",
          "3/12/20"
         ],
         "y": [
          0,
          652
         ]
        },
        {
         "connectgaps": true,
         "mode": "lines",
         "name": "Japan",
         "type": "scatter",
         "x": [
          "1/22/20",
          "1/23/20",
          "1/24/20",
          "1/25/20",
          "1/26/20",
          "1/27/20",
          "1/28/20",
          "1/29/20",
          "1/30/20",
          "1/31/20",
          "2/1/20",
          "2/2/20",
          "2/3/20",
          "2/4/20",
          "2/5/20",
          "2/6/20",
          "2/7/20",
          "2/8/20",
          "2/9/20",
          "2/10/20",
          "2/11/20",
          "2/12/20",
          "2/13/20",
          "2/14/20",
          "2/15/20",
          "2/16/20",
          "2/17/20",
          "2/18/20",
          "2/19/20",
          "2/20/20",
          "2/21/20",
          "2/22/20",
          "2/23/20",
          "2/24/20",
          "2/25/20",
          "2/26/20",
          "2/27/20",
          "2/28/20",
          "2/29/20",
          "3/1/20",
          "3/2/20",
          "3/3/20",
          "3/4/20",
          "3/5/20",
          "3/6/20",
          "3/7/20",
          "3/8/20",
          "3/9/20",
          "3/10/20",
          "3/11/20",
          "3/12/20"
         ],
         "y": [
          2,
          1,
          2,
          2,
          4,
          4,
          7,
          7,
          11,
          15,
          20,
          20,
          20,
          22,
          22,
          45,
          25,
          25,
          26,
          26,
          26,
          28,
          28,
          29,
          43,
          59,
          66,
          74,
          84,
          94,
          105,
          122,
          147,
          159,
          170,
          189,
          214,
          228,
          241,
          256,
          274,
          293,
          331,
          360,
          420,
          461,
          502,
          511,
          581,
          639,
          639
         ]
        },
        {
         "mode": "markers",
         "type": "scatter",
         "x": [
          "1/22/20",
          "3/12/20"
         ],
         "y": [
          2,
          639
         ]
        },
        {
         "connectgaps": true,
         "mode": "lines",
         "name": "Denmark",
         "type": "scatter",
         "x": [
          "1/22/20",
          "1/23/20",
          "1/24/20",
          "1/25/20",
          "1/26/20",
          "1/27/20",
          "1/28/20",
          "1/29/20",
          "1/30/20",
          "1/31/20",
          "2/1/20",
          "2/2/20",
          "2/3/20",
          "2/4/20",
          "2/5/20",
          "2/6/20",
          "2/7/20",
          "2/8/20",
          "2/9/20",
          "2/10/20",
          "2/11/20",
          "2/12/20",
          "2/13/20",
          "2/14/20",
          "2/15/20",
          "2/16/20",
          "2/17/20",
          "2/18/20",
          "2/19/20",
          "2/20/20",
          "2/21/20",
          "2/22/20",
          "2/23/20",
          "2/24/20",
          "2/25/20",
          "2/26/20",
          "2/27/20",
          "2/28/20",
          "2/29/20",
          "3/1/20",
          "3/2/20",
          "3/3/20",
          "3/4/20",
          "3/5/20",
          "3/6/20",
          "3/7/20",
          "3/8/20",
          "3/9/20",
          "3/10/20",
          "3/11/20",
          "3/12/20"
         ],
         "y": [
          0,
          0,
          0,
          0,
          0,
          0,
          0,
          0,
          0,
          0,
          0,
          0,
          0,
          0,
          0,
          0,
          0,
          0,
          0,
          0,
          0,
          0,
          0,
          0,
          0,
          0,
          0,
          0,
          0,
          0,
          0,
          0,
          0,
          0,
          0,
          0,
          1,
          1,
          3,
          4,
          4,
          6,
          11,
          11,
          24,
          24,
          37,
          92,
          264,
          444,
          617
         ]
        },
        {
         "mode": "markers",
         "type": "scatter",
         "x": [
          "1/22/20",
          "3/12/20"
         ],
         "y": [
          0,
          617
         ]
        },
        {
         "connectgaps": true,
         "mode": "lines",
         "name": "Sweden",
         "type": "scatter",
         "x": [
          "1/22/20",
          "1/23/20",
          "1/24/20",
          "1/25/20",
          "1/26/20",
          "1/27/20",
          "1/28/20",
          "1/29/20",
          "1/30/20",
          "1/31/20",
          "2/1/20",
          "2/2/20",
          "2/3/20",
          "2/4/20",
          "2/5/20",
          "2/6/20",
          "2/7/20",
          "2/8/20",
          "2/9/20",
          "2/10/20",
          "2/11/20",
          "2/12/20",
          "2/13/20",
          "2/14/20",
          "2/15/20",
          "2/16/20",
          "2/17/20",
          "2/18/20",
          "2/19/20",
          "2/20/20",
          "2/21/20",
          "2/22/20",
          "2/23/20",
          "2/24/20",
          "2/25/20",
          "2/26/20",
          "2/27/20",
          "2/28/20",
          "2/29/20",
          "3/1/20",
          "3/2/20",
          "3/3/20",
          "3/4/20",
          "3/5/20",
          "3/6/20",
          "3/7/20",
          "3/8/20",
          "3/9/20",
          "3/10/20",
          "3/11/20",
          "3/12/20"
         ],
         "y": [
          0,
          0,
          0,
          0,
          0,
          0,
          0,
          0,
          0,
          1,
          1,
          1,
          1,
          1,
          1,
          1,
          1,
          1,
          1,
          1,
          1,
          1,
          1,
          1,
          1,
          1,
          1,
          1,
          1,
          1,
          1,
          1,
          1,
          1,
          1,
          2,
          7,
          7,
          12,
          14,
          15,
          21,
          35,
          94,
          101,
          161,
          203,
          248,
          355,
          500,
          599
         ]
        },
        {
         "mode": "markers",
         "type": "scatter",
         "x": [
          "1/22/20",
          "3/12/20"
         ],
         "y": [
          0,
          599
         ]
        },
        {
         "connectgaps": true,
         "mode": "lines",
         "name": "Netherlands",
         "type": "scatter",
         "x": [
          "1/22/20",
          "1/23/20",
          "1/24/20",
          "1/25/20",
          "1/26/20",
          "1/27/20",
          "1/28/20",
          "1/29/20",
          "1/30/20",
          "1/31/20",
          "2/1/20",
          "2/2/20",
          "2/3/20",
          "2/4/20",
          "2/5/20",
          "2/6/20",
          "2/7/20",
          "2/8/20",
          "2/9/20",
          "2/10/20",
          "2/11/20",
          "2/12/20",
          "2/13/20",
          "2/14/20",
          "2/15/20",
          "2/16/20",
          "2/17/20",
          "2/18/20",
          "2/19/20",
          "2/20/20",
          "2/21/20",
          "2/22/20",
          "2/23/20",
          "2/24/20",
          "2/25/20",
          "2/26/20",
          "2/27/20",
          "2/28/20",
          "2/29/20",
          "3/1/20",
          "3/2/20",
          "3/3/20",
          "3/4/20",
          "3/5/20",
          "3/6/20",
          "3/7/20",
          "3/8/20",
          "3/9/20",
          "3/10/20",
          "3/11/20",
          "3/12/20"
         ],
         "y": [
          0,
          0,
          0,
          0,
          0,
          0,
          0,
          0,
          0,
          0,
          0,
          0,
          0,
          0,
          0,
          0,
          0,
          0,
          0,
          0,
          0,
          0,
          0,
          0,
          0,
          0,
          0,
          0,
          0,
          0,
          0,
          0,
          0,
          0,
          0,
          0,
          1,
          1,
          6,
          10,
          18,
          24,
          38,
          82,
          128,
          188,
          265,
          321,
          382,
          503,
          503
         ]
        },
        {
         "mode": "markers",
         "type": "scatter",
         "x": [
          "1/22/20",
          "3/12/20"
         ],
         "y": [
          0,
          503
         ]
        },
        {
         "connectgaps": true,
         "mode": "lines",
         "name": "United Kingdom",
         "type": "scatter",
         "x": [
          "1/22/20",
          "1/23/20",
          "1/24/20",
          "1/25/20",
          "1/26/20",
          "1/27/20",
          "1/28/20",
          "1/29/20",
          "1/30/20",
          "1/31/20",
          "2/1/20",
          "2/2/20",
          "2/3/20",
          "2/4/20",
          "2/5/20",
          "2/6/20",
          "2/7/20",
          "2/8/20",
          "2/9/20",
          "2/10/20",
          "2/11/20",
          "2/12/20",
          "2/13/20",
          "2/14/20",
          "2/15/20",
          "2/16/20",
          "2/17/20",
          "2/18/20",
          "2/19/20",
          "2/20/20",
          "2/21/20",
          "2/22/20",
          "2/23/20",
          "2/24/20",
          "2/25/20",
          "2/26/20",
          "2/27/20",
          "2/28/20",
          "2/29/20",
          "3/1/20",
          "3/2/20",
          "3/3/20",
          "3/4/20",
          "3/5/20",
          "3/6/20",
          "3/7/20",
          "3/8/20",
          "3/9/20",
          "3/10/20",
          "3/11/20",
          "3/12/20"
         ],
         "y": [
          0,
          0,
          0,
          0,
          0,
          0,
          0,
          0,
          0,
          2,
          2,
          2,
          2,
          2,
          2,
          2,
          3,
          3,
          3,
          8,
          8,
          9,
          9,
          9,
          9,
          9,
          9,
          9,
          9,
          9,
          9,
          9,
          9,
          13,
          13,
          13,
          15,
          20,
          23,
          36,
          40,
          51,
          86,
          116,
          164,
          207,
          274,
          322,
          384,
          459,
          459
         ]
        },
        {
         "mode": "markers",
         "type": "scatter",
         "x": [
          "1/22/20",
          "3/12/20"
         ],
         "y": [
          0,
          459
         ]
        },
        {
         "connectgaps": true,
         "mode": "lines",
         "name": "Belgium",
         "type": "scatter",
         "x": [
          "1/22/20",
          "1/23/20",
          "1/24/20",
          "1/25/20",
          "1/26/20",
          "1/27/20",
          "1/28/20",
          "1/29/20",
          "1/30/20",
          "1/31/20",
          "2/1/20",
          "2/2/20",
          "2/3/20",
          "2/4/20",
          "2/5/20",
          "2/6/20",
          "2/7/20",
          "2/8/20",
          "2/9/20",
          "2/10/20",
          "2/11/20",
          "2/12/20",
          "2/13/20",
          "2/14/20",
          "2/15/20",
          "2/16/20",
          "2/17/20",
          "2/18/20",
          "2/19/20",
          "2/20/20",
          "2/21/20",
          "2/22/20",
          "2/23/20",
          "2/24/20",
          "2/25/20",
          "2/26/20",
          "2/27/20",
          "2/28/20",
          "2/29/20",
          "3/1/20",
          "3/2/20",
          "3/3/20",
          "3/4/20",
          "3/5/20",
          "3/6/20",
          "3/7/20",
          "3/8/20",
          "3/9/20",
          "3/10/20",
          "3/11/20",
          "3/12/20"
         ],
         "y": [
          0,
          0,
          0,
          0,
          0,
          0,
          0,
          0,
          0,
          0,
          0,
          0,
          0,
          1,
          1,
          1,
          1,
          1,
          1,
          1,
          1,
          1,
          1,
          1,
          1,
          1,
          1,
          1,
          1,
          1,
          1,
          1,
          1,
          1,
          1,
          1,
          1,
          1,
          1,
          2,
          8,
          13,
          23,
          50,
          109,
          169,
          200,
          239,
          267,
          314,
          314
         ]
        },
        {
         "mode": "markers",
         "type": "scatter",
         "x": [
          "1/22/20",
          "3/12/20"
         ],
         "y": [
          0,
          314
         ]
        },
        {
         "connectgaps": true,
         "mode": "lines",
         "name": "Austria",
         "type": "scatter",
         "x": [
          "1/22/20",
          "1/23/20",
          "1/24/20",
          "1/25/20",
          "1/26/20",
          "1/27/20",
          "1/28/20",
          "1/29/20",
          "1/30/20",
          "1/31/20",
          "2/1/20",
          "2/2/20",
          "2/3/20",
          "2/4/20",
          "2/5/20",
          "2/6/20",
          "2/7/20",
          "2/8/20",
          "2/9/20",
          "2/10/20",
          "2/11/20",
          "2/12/20",
          "2/13/20",
          "2/14/20",
          "2/15/20",
          "2/16/20",
          "2/17/20",
          "2/18/20",
          "2/19/20",
          "2/20/20",
          "2/21/20",
          "2/22/20",
          "2/23/20",
          "2/24/20",
          "2/25/20",
          "2/26/20",
          "2/27/20",
          "2/28/20",
          "2/29/20",
          "3/1/20",
          "3/2/20",
          "3/3/20",
          "3/4/20",
          "3/5/20",
          "3/6/20",
          "3/7/20",
          "3/8/20",
          "3/9/20",
          "3/10/20",
          "3/11/20",
          "3/12/20"
         ],
         "y": [
          0,
          0,
          0,
          0,
          0,
          0,
          0,
          0,
          0,
          0,
          0,
          0,
          0,
          0,
          0,
          0,
          0,
          0,
          0,
          0,
          0,
          0,
          0,
          0,
          0,
          0,
          0,
          0,
          0,
          0,
          0,
          0,
          0,
          0,
          2,
          2,
          3,
          3,
          9,
          14,
          18,
          21,
          29,
          41,
          55,
          79,
          104,
          131,
          182,
          246,
          302
         ]
        },
        {
         "mode": "markers",
         "type": "scatter",
         "x": [
          "1/22/20",
          "3/12/20"
         ],
         "y": [
          0,
          302
         ]
        },
        {
         "connectgaps": true,
         "mode": "lines",
         "name": "Qatar",
         "type": "scatter",
         "x": [
          "1/22/20",
          "1/23/20",
          "1/24/20",
          "1/25/20",
          "1/26/20",
          "1/27/20",
          "1/28/20",
          "1/29/20",
          "1/30/20",
          "1/31/20",
          "2/1/20",
          "2/2/20",
          "2/3/20",
          "2/4/20",
          "2/5/20",
          "2/6/20",
          "2/7/20",
          "2/8/20",
          "2/9/20",
          "2/10/20",
          "2/11/20",
          "2/12/20",
          "2/13/20",
          "2/14/20",
          "2/15/20",
          "2/16/20",
          "2/17/20",
          "2/18/20",
          "2/19/20",
          "2/20/20",
          "2/21/20",
          "2/22/20",
          "2/23/20",
          "2/24/20",
          "2/25/20",
          "2/26/20",
          "2/27/20",
          "2/28/20",
          "2/29/20",
          "3/1/20",
          "3/2/20",
          "3/3/20",
          "3/4/20",
          "3/5/20",
          "3/6/20",
          "3/7/20",
          "3/8/20",
          "3/9/20",
          "3/10/20",
          "3/11/20",
          "3/12/20"
         ],
         "y": [
          0,
          0,
          0,
          0,
          0,
          0,
          0,
          0,
          0,
          0,
          0,
          0,
          0,
          0,
          0,
          0,
          0,
          0,
          0,
          0,
          0,
          0,
          0,
          0,
          0,
          0,
          0,
          0,
          0,
          0,
          0,
          0,
          0,
          0,
          0,
          0,
          0,
          0,
          1,
          3,
          3,
          7,
          8,
          8,
          8,
          8,
          15,
          18,
          24,
          262,
          262
         ]
        },
        {
         "mode": "markers",
         "type": "scatter",
         "x": [
          "1/22/20",
          "3/12/20"
         ],
         "y": [
          0,
          262
         ]
        },
        {
         "connectgaps": true,
         "mode": "lines",
         "name": "Bahrain",
         "type": "scatter",
         "x": [
          "1/22/20",
          "1/23/20",
          "1/24/20",
          "1/25/20",
          "1/26/20",
          "1/27/20",
          "1/28/20",
          "1/29/20",
          "1/30/20",
          "1/31/20",
          "2/1/20",
          "2/2/20",
          "2/3/20",
          "2/4/20",
          "2/5/20",
          "2/6/20",
          "2/7/20",
          "2/8/20",
          "2/9/20",
          "2/10/20",
          "2/11/20",
          "2/12/20",
          "2/13/20",
          "2/14/20",
          "2/15/20",
          "2/16/20",
          "2/17/20",
          "2/18/20",
          "2/19/20",
          "2/20/20",
          "2/21/20",
          "2/22/20",
          "2/23/20",
          "2/24/20",
          "2/25/20",
          "2/26/20",
          "2/27/20",
          "2/28/20",
          "2/29/20",
          "3/1/20",
          "3/2/20",
          "3/3/20",
          "3/4/20",
          "3/5/20",
          "3/6/20",
          "3/7/20",
          "3/8/20",
          "3/9/20",
          "3/10/20",
          "3/11/20",
          "3/12/20"
         ],
         "y": [
          0,
          0,
          0,
          0,
          0,
          0,
          0,
          0,
          0,
          0,
          0,
          0,
          0,
          0,
          0,
          0,
          0,
          0,
          0,
          0,
          0,
          0,
          0,
          0,
          0,
          0,
          0,
          0,
          0,
          0,
          0,
          0,
          0,
          1,
          23,
          33,
          33,
          36,
          41,
          47,
          49,
          49,
          52,
          55,
          60,
          85,
          85,
          95,
          110,
          195,
          195
         ]
        },
        {
         "mode": "markers",
         "type": "scatter",
         "x": [
          "1/22/20",
          "3/12/20"
         ],
         "y": [
          0,
          195
         ]
        },
        {
         "connectgaps": true,
         "mode": "lines",
         "name": "Singapore",
         "type": "scatter",
         "x": [
          "1/22/20",
          "1/23/20",
          "1/24/20",
          "1/25/20",
          "1/26/20",
          "1/27/20",
          "1/28/20",
          "1/29/20",
          "1/30/20",
          "1/31/20",
          "2/1/20",
          "2/2/20",
          "2/3/20",
          "2/4/20",
          "2/5/20",
          "2/6/20",
          "2/7/20",
          "2/8/20",
          "2/9/20",
          "2/10/20",
          "2/11/20",
          "2/12/20",
          "2/13/20",
          "2/14/20",
          "2/15/20",
          "2/16/20",
          "2/17/20",
          "2/18/20",
          "2/19/20",
          "2/20/20",
          "2/21/20",
          "2/22/20",
          "2/23/20",
          "2/24/20",
          "2/25/20",
          "2/26/20",
          "2/27/20",
          "2/28/20",
          "2/29/20",
          "3/1/20",
          "3/2/20",
          "3/3/20",
          "3/4/20",
          "3/5/20",
          "3/6/20",
          "3/7/20",
          "3/8/20",
          "3/9/20",
          "3/10/20",
          "3/11/20",
          "3/12/20"
         ],
         "y": [
          0,
          1,
          3,
          3,
          4,
          5,
          7,
          7,
          10,
          13,
          16,
          18,
          18,
          24,
          28,
          28,
          30,
          33,
          40,
          45,
          47,
          50,
          58,
          67,
          72,
          75,
          77,
          81,
          84,
          84,
          85,
          85,
          89,
          89,
          91,
          93,
          93,
          93,
          102,
          106,
          108,
          110,
          110,
          117,
          130,
          138,
          150,
          150,
          160,
          178,
          178
         ]
        },
        {
         "mode": "markers",
         "type": "scatter",
         "x": [
          "1/22/20",
          "3/12/20"
         ],
         "y": [
          0,
          178
         ]
        },
        {
         "connectgaps": true,
         "mode": "lines",
         "name": "Malaysia",
         "type": "scatter",
         "x": [
          "1/22/20",
          "1/23/20",
          "1/24/20",
          "1/25/20",
          "1/26/20",
          "1/27/20",
          "1/28/20",
          "1/29/20",
          "1/30/20",
          "1/31/20",
          "2/1/20",
          "2/2/20",
          "2/3/20",
          "2/4/20",
          "2/5/20",
          "2/6/20",
          "2/7/20",
          "2/8/20",
          "2/9/20",
          "2/10/20",
          "2/11/20",
          "2/12/20",
          "2/13/20",
          "2/14/20",
          "2/15/20",
          "2/16/20",
          "2/17/20",
          "2/18/20",
          "2/19/20",
          "2/20/20",
          "2/21/20",
          "2/22/20",
          "2/23/20",
          "2/24/20",
          "2/25/20",
          "2/26/20",
          "2/27/20",
          "2/28/20",
          "2/29/20",
          "3/1/20",
          "3/2/20",
          "3/3/20",
          "3/4/20",
          "3/5/20",
          "3/6/20",
          "3/7/20",
          "3/8/20",
          "3/9/20",
          "3/10/20",
          "3/11/20",
          "3/12/20"
         ],
         "y": [
          0,
          0,
          0,
          3,
          4,
          4,
          4,
          7,
          8,
          8,
          8,
          8,
          8,
          10,
          12,
          12,
          12,
          16,
          16,
          18,
          18,
          18,
          19,
          19,
          22,
          22,
          22,
          22,
          22,
          22,
          22,
          22,
          22,
          22,
          22,
          22,
          23,
          23,
          25,
          29,
          29,
          36,
          50,
          50,
          83,
          93,
          99,
          117,
          129,
          149,
          149
         ]
        },
        {
         "mode": "markers",
         "type": "scatter",
         "x": [
          "1/22/20",
          "3/12/20"
         ],
         "y": [
          0,
          149
         ]
        },
        {
         "connectgaps": true,
         "mode": "lines",
         "name": "Israel",
         "type": "scatter",
         "x": [
          "1/22/20",
          "1/23/20",
          "1/24/20",
          "1/25/20",
          "1/26/20",
          "1/27/20",
          "1/28/20",
          "1/29/20",
          "1/30/20",
          "1/31/20",
          "2/1/20",
          "2/2/20",
          "2/3/20",
          "2/4/20",
          "2/5/20",
          "2/6/20",
          "2/7/20",
          "2/8/20",
          "2/9/20",
          "2/10/20",
          "2/11/20",
          "2/12/20",
          "2/13/20",
          "2/14/20",
          "2/15/20",
          "2/16/20",
          "2/17/20",
          "2/18/20",
          "2/19/20",
          "2/20/20",
          "2/21/20",
          "2/22/20",
          "2/23/20",
          "2/24/20",
          "2/25/20",
          "2/26/20",
          "2/27/20",
          "2/28/20",
          "2/29/20",
          "3/1/20",
          "3/2/20",
          "3/3/20",
          "3/4/20",
          "3/5/20",
          "3/6/20",
          "3/7/20",
          "3/8/20",
          "3/9/20",
          "3/10/20",
          "3/11/20",
          "3/12/20"
         ],
         "y": [
          0,
          0,
          0,
          0,
          0,
          0,
          0,
          0,
          0,
          0,
          0,
          0,
          0,
          0,
          0,
          0,
          0,
          0,
          0,
          0,
          0,
          0,
          0,
          0,
          0,
          0,
          0,
          0,
          0,
          0,
          1,
          1,
          1,
          1,
          1,
          2,
          3,
          4,
          7,
          10,
          10,
          12,
          15,
          20,
          37,
          43,
          61,
          61,
          83,
          109,
          131
         ]
        },
        {
         "mode": "markers",
         "type": "scatter",
         "x": [
          "1/22/20",
          "3/12/20"
         ],
         "y": [
          0,
          131
         ]
        },
        {
         "connectgaps": true,
         "mode": "lines",
         "name": "Australia",
         "type": "scatter",
         "x": [
          "1/22/20",
          "1/23/20",
          "1/24/20",
          "1/25/20",
          "1/26/20",
          "1/27/20",
          "1/28/20",
          "1/29/20",
          "1/30/20",
          "1/31/20",
          "2/1/20",
          "2/2/20",
          "2/3/20",
          "2/4/20",
          "2/5/20",
          "2/6/20",
          "2/7/20",
          "2/8/20",
          "2/9/20",
          "2/10/20",
          "2/11/20",
          "2/12/20",
          "2/13/20",
          "2/14/20",
          "2/15/20",
          "2/16/20",
          "2/17/20",
          "2/18/20",
          "2/19/20",
          "2/20/20",
          "2/21/20",
          "2/22/20",
          "2/23/20",
          "2/24/20",
          "2/25/20",
          "2/26/20",
          "2/27/20",
          "2/28/20",
          "2/29/20",
          "3/1/20",
          "3/2/20",
          "3/3/20",
          "3/4/20",
          "3/5/20",
          "3/6/20",
          "3/7/20",
          "3/8/20",
          "3/9/20",
          "3/10/20",
          "3/11/20",
          "3/12/20"
         ],
         "y": [
          0,
          0,
          0,
          0,
          4,
          5,
          5,
          6,
          9,
          9,
          12,
          12,
          12,
          13,
          13,
          14,
          15,
          15,
          15,
          15,
          15,
          15,
          15,
          15,
          15,
          15,
          15,
          15,
          15,
          15,
          19,
          22,
          22,
          22,
          22,
          22,
          23,
          23,
          25,
          27,
          30,
          39,
          52,
          55,
          60,
          63,
          76,
          91,
          107,
          128,
          128
         ]
        },
        {
         "mode": "markers",
         "type": "scatter",
         "x": [
          "1/22/20",
          "3/12/20"
         ],
         "y": [
          0,
          128
         ]
        },
        {
         "connectgaps": true,
         "mode": "lines",
         "name": "Canada",
         "type": "scatter",
         "x": [
          "1/22/20",
          "1/23/20",
          "1/24/20",
          "1/25/20",
          "1/26/20",
          "1/27/20",
          "1/28/20",
          "1/29/20",
          "1/30/20",
          "1/31/20",
          "2/1/20",
          "2/2/20",
          "2/3/20",
          "2/4/20",
          "2/5/20",
          "2/6/20",
          "2/7/20",
          "2/8/20",
          "2/9/20",
          "2/10/20",
          "2/11/20",
          "2/12/20",
          "2/13/20",
          "2/14/20",
          "2/15/20",
          "2/16/20",
          "2/17/20",
          "2/18/20",
          "2/19/20",
          "2/20/20",
          "2/21/20",
          "2/22/20",
          "2/23/20",
          "2/24/20",
          "2/25/20",
          "2/26/20",
          "2/27/20",
          "2/28/20",
          "2/29/20",
          "3/1/20",
          "3/2/20",
          "3/3/20",
          "3/4/20",
          "3/5/20",
          "3/6/20",
          "3/7/20",
          "3/8/20",
          "3/9/20",
          "3/10/20",
          "3/11/20",
          "3/12/20"
         ],
         "y": [
          0,
          0,
          0,
          0,
          1,
          1,
          2,
          2,
          2,
          4,
          4,
          4,
          4,
          4,
          5,
          5,
          7,
          7,
          7,
          7,
          7,
          7,
          7,
          7,
          7,
          7,
          8,
          8,
          8,
          8,
          9,
          9,
          9,
          10,
          11,
          11,
          13,
          14,
          20,
          24,
          27,
          30,
          33,
          37,
          49,
          54,
          64,
          77,
          79,
          108,
          117
         ]
        },
        {
         "mode": "markers",
         "type": "scatter",
         "x": [
          "1/22/20",
          "3/12/20"
         ],
         "y": [
          0,
          117
         ]
        },
        {
         "connectgaps": true,
         "mode": "lines",
         "name": "Iceland",
         "type": "scatter",
         "x": [
          "1/22/20",
          "1/23/20",
          "1/24/20",
          "1/25/20",
          "1/26/20",
          "1/27/20",
          "1/28/20",
          "1/29/20",
          "1/30/20",
          "1/31/20",
          "2/1/20",
          "2/2/20",
          "2/3/20",
          "2/4/20",
          "2/5/20",
          "2/6/20",
          "2/7/20",
          "2/8/20",
          "2/9/20",
          "2/10/20",
          "2/11/20",
          "2/12/20",
          "2/13/20",
          "2/14/20",
          "2/15/20",
          "2/16/20",
          "2/17/20",
          "2/18/20",
          "2/19/20",
          "2/20/20",
          "2/21/20",
          "2/22/20",
          "2/23/20",
          "2/24/20",
          "2/25/20",
          "2/26/20",
          "2/27/20",
          "2/28/20",
          "2/29/20",
          "3/1/20",
          "3/2/20",
          "3/3/20",
          "3/4/20",
          "3/5/20",
          "3/6/20",
          "3/7/20",
          "3/8/20",
          "3/9/20",
          "3/10/20",
          "3/11/20",
          "3/12/20"
         ],
         "y": [
          0,
          0,
          0,
          0,
          0,
          0,
          0,
          0,
          0,
          0,
          0,
          0,
          0,
          0,
          0,
          0,
          0,
          0,
          0,
          0,
          0,
          0,
          0,
          0,
          0,
          0,
          0,
          0,
          0,
          0,
          0,
          0,
          0,
          0,
          0,
          0,
          0,
          1,
          1,
          3,
          6,
          11,
          26,
          34,
          43,
          50,
          50,
          58,
          69,
          85,
          103
         ]
        },
        {
         "mode": "markers",
         "type": "scatter",
         "x": [
          "1/22/20",
          "3/12/20"
         ],
         "y": [
          0,
          103
         ]
        },
        {
         "connectgaps": true,
         "mode": "lines",
         "name": "Greece",
         "type": "scatter",
         "x": [
          "1/22/20",
          "1/23/20",
          "1/24/20",
          "1/25/20",
          "1/26/20",
          "1/27/20",
          "1/28/20",
          "1/29/20",
          "1/30/20",
          "1/31/20",
          "2/1/20",
          "2/2/20",
          "2/3/20",
          "2/4/20",
          "2/5/20",
          "2/6/20",
          "2/7/20",
          "2/8/20",
          "2/9/20",
          "2/10/20",
          "2/11/20",
          "2/12/20",
          "2/13/20",
          "2/14/20",
          "2/15/20",
          "2/16/20",
          "2/17/20",
          "2/18/20",
          "2/19/20",
          "2/20/20",
          "2/21/20",
          "2/22/20",
          "2/23/20",
          "2/24/20",
          "2/25/20",
          "2/26/20",
          "2/27/20",
          "2/28/20",
          "2/29/20",
          "3/1/20",
          "3/2/20",
          "3/3/20",
          "3/4/20",
          "3/5/20",
          "3/6/20",
          "3/7/20",
          "3/8/20",
          "3/9/20",
          "3/10/20",
          "3/11/20",
          "3/12/20"
         ],
         "y": [
          0,
          0,
          0,
          0,
          0,
          0,
          0,
          0,
          0,
          0,
          0,
          0,
          0,
          0,
          0,
          0,
          0,
          0,
          0,
          0,
          0,
          0,
          0,
          0,
          0,
          0,
          0,
          0,
          0,
          0,
          0,
          0,
          0,
          0,
          0,
          1,
          3,
          4,
          4,
          7,
          7,
          7,
          9,
          31,
          45,
          46,
          73,
          73,
          89,
          99,
          99
         ]
        },
        {
         "mode": "markers",
         "type": "scatter",
         "x": [
          "1/22/20",
          "3/12/20"
         ],
         "y": [
          0,
          99
         ]
        },
        {
         "connectgaps": true,
         "mode": "lines",
         "name": "Czechia",
         "type": "scatter",
         "x": [
          "1/22/20",
          "1/23/20",
          "1/24/20",
          "1/25/20",
          "1/26/20",
          "1/27/20",
          "1/28/20",
          "1/29/20",
          "1/30/20",
          "1/31/20",
          "2/1/20",
          "2/2/20",
          "2/3/20",
          "2/4/20",
          "2/5/20",
          "2/6/20",
          "2/7/20",
          "2/8/20",
          "2/9/20",
          "2/10/20",
          "2/11/20",
          "2/12/20",
          "2/13/20",
          "2/14/20",
          "2/15/20",
          "2/16/20",
          "2/17/20",
          "2/18/20",
          "2/19/20",
          "2/20/20",
          "2/21/20",
          "2/22/20",
          "2/23/20",
          "2/24/20",
          "2/25/20",
          "2/26/20",
          "2/27/20",
          "2/28/20",
          "2/29/20",
          "3/1/20",
          "3/2/20",
          "3/3/20",
          "3/4/20",
          "3/5/20",
          "3/6/20",
          "3/7/20",
          "3/8/20",
          "3/9/20",
          "3/10/20",
          "3/11/20",
          "3/12/20"
         ],
         "y": [
          0,
          0,
          0,
          0,
          0,
          0,
          0,
          0,
          0,
          0,
          0,
          0,
          0,
          0,
          0,
          0,
          0,
          0,
          0,
          0,
          0,
          0,
          0,
          0,
          0,
          0,
          0,
          0,
          0,
          0,
          0,
          0,
          0,
          0,
          0,
          0,
          0,
          0,
          0,
          3,
          3,
          5,
          8,
          12,
          18,
          19,
          31,
          31,
          41,
          91,
          94
         ]
        },
        {
         "mode": "markers",
         "type": "scatter",
         "x": [
          "1/22/20",
          "3/12/20"
         ],
         "y": [
          0,
          94
         ]
        },
        {
         "connectgaps": true,
         "mode": "lines",
         "name": "Slovenia",
         "type": "scatter",
         "x": [
          "1/22/20",
          "1/23/20",
          "1/24/20",
          "1/25/20",
          "1/26/20",
          "1/27/20",
          "1/28/20",
          "1/29/20",
          "1/30/20",
          "1/31/20",
          "2/1/20",
          "2/2/20",
          "2/3/20",
          "2/4/20",
          "2/5/20",
          "2/6/20",
          "2/7/20",
          "2/8/20",
          "2/9/20",
          "2/10/20",
          "2/11/20",
          "2/12/20",
          "2/13/20",
          "2/14/20",
          "2/15/20",
          "2/16/20",
          "2/17/20",
          "2/18/20",
          "2/19/20",
          "2/20/20",
          "2/21/20",
          "2/22/20",
          "2/23/20",
          "2/24/20",
          "2/25/20",
          "2/26/20",
          "2/27/20",
          "2/28/20",
          "2/29/20",
          "3/1/20",
          "3/2/20",
          "3/3/20",
          "3/4/20",
          "3/5/20",
          "3/6/20",
          "3/7/20",
          "3/8/20",
          "3/9/20",
          "3/10/20",
          "3/11/20",
          "3/12/20"
         ],
         "y": [
          0,
          0,
          0,
          0,
          0,
          0,
          0,
          0,
          0,
          0,
          0,
          0,
          0,
          0,
          0,
          0,
          0,
          0,
          0,
          0,
          0,
          0,
          0,
          0,
          0,
          0,
          0,
          0,
          0,
          0,
          0,
          0,
          0,
          0,
          0,
          0,
          0,
          0,
          0,
          0,
          0,
          0,
          0,
          2,
          7,
          7,
          16,
          16,
          31,
          57,
          89
         ]
        },
        {
         "mode": "markers",
         "type": "scatter",
         "x": [
          "1/22/20",
          "3/12/20"
         ],
         "y": [
          0,
          89
         ]
        },
        {
         "connectgaps": true,
         "mode": "lines",
         "name": "United Arab Emirates",
         "type": "scatter",
         "x": [
          "1/22/20",
          "1/23/20",
          "1/24/20",
          "1/25/20",
          "1/26/20",
          "1/27/20",
          "1/28/20",
          "1/29/20",
          "1/30/20",
          "1/31/20",
          "2/1/20",
          "2/2/20",
          "2/3/20",
          "2/4/20",
          "2/5/20",
          "2/6/20",
          "2/7/20",
          "2/8/20",
          "2/9/20",
          "2/10/20",
          "2/11/20",
          "2/12/20",
          "2/13/20",
          "2/14/20",
          "2/15/20",
          "2/16/20",
          "2/17/20",
          "2/18/20",
          "2/19/20",
          "2/20/20",
          "2/21/20",
          "2/22/20",
          "2/23/20",
          "2/24/20",
          "2/25/20",
          "2/26/20",
          "2/27/20",
          "2/28/20",
          "2/29/20",
          "3/1/20",
          "3/2/20",
          "3/3/20",
          "3/4/20",
          "3/5/20",
          "3/6/20",
          "3/7/20",
          "3/8/20",
          "3/9/20",
          "3/10/20",
          "3/11/20",
          "3/12/20"
         ],
         "y": [
          0,
          0,
          0,
          0,
          0,
          0,
          0,
          4,
          4,
          4,
          4,
          5,
          5,
          5,
          5,
          5,
          5,
          7,
          7,
          8,
          8,
          8,
          8,
          8,
          8,
          9,
          9,
          9,
          9,
          9,
          9,
          13,
          13,
          13,
          13,
          13,
          13,
          19,
          21,
          21,
          21,
          27,
          27,
          29,
          29,
          45,
          45,
          45,
          74,
          74,
          85
         ]
        },
        {
         "mode": "markers",
         "type": "scatter",
         "x": [
          "1/22/20",
          "3/12/20"
         ],
         "y": [
          0,
          85
         ]
        },
        {
         "connectgaps": true,
         "mode": "lines",
         "name": "Kuwait",
         "type": "scatter",
         "x": [
          "1/22/20",
          "1/23/20",
          "1/24/20",
          "1/25/20",
          "1/26/20",
          "1/27/20",
          "1/28/20",
          "1/29/20",
          "1/30/20",
          "1/31/20",
          "2/1/20",
          "2/2/20",
          "2/3/20",
          "2/4/20",
          "2/5/20",
          "2/6/20",
          "2/7/20",
          "2/8/20",
          "2/9/20",
          "2/10/20",
          "2/11/20",
          "2/12/20",
          "2/13/20",
          "2/14/20",
          "2/15/20",
          "2/16/20",
          "2/17/20",
          "2/18/20",
          "2/19/20",
          "2/20/20",
          "2/21/20",
          "2/22/20",
          "2/23/20",
          "2/24/20",
          "2/25/20",
          "2/26/20",
          "2/27/20",
          "2/28/20",
          "2/29/20",
          "3/1/20",
          "3/2/20",
          "3/3/20",
          "3/4/20",
          "3/5/20",
          "3/6/20",
          "3/7/20",
          "3/8/20",
          "3/9/20",
          "3/10/20",
          "3/11/20",
          "3/12/20"
         ],
         "y": [
          0,
          0,
          0,
          0,
          0,
          0,
          0,
          0,
          0,
          0,
          0,
          0,
          0,
          0,
          0,
          0,
          0,
          0,
          0,
          0,
          0,
          0,
          0,
          0,
          0,
          0,
          0,
          0,
          0,
          0,
          0,
          0,
          0,
          1,
          11,
          26,
          43,
          45,
          45,
          45,
          56,
          56,
          56,
          58,
          58,
          61,
          64,
          64,
          69,
          72,
          80
         ]
        },
        {
         "mode": "markers",
         "type": "scatter",
         "x": [
          "1/22/20",
          "3/12/20"
         ],
         "y": [
          0,
          80
         ]
        },
        {
         "connectgaps": true,
         "mode": "lines",
         "name": "India",
         "type": "scatter",
         "x": [
          "1/22/20",
          "1/23/20",
          "1/24/20",
          "1/25/20",
          "1/26/20",
          "1/27/20",
          "1/28/20",
          "1/29/20",
          "1/30/20",
          "1/31/20",
          "2/1/20",
          "2/2/20",
          "2/3/20",
          "2/4/20",
          "2/5/20",
          "2/6/20",
          "2/7/20",
          "2/8/20",
          "2/9/20",
          "2/10/20",
          "2/11/20",
          "2/12/20",
          "2/13/20",
          "2/14/20",
          "2/15/20",
          "2/16/20",
          "2/17/20",
          "2/18/20",
          "2/19/20",
          "2/20/20",
          "2/21/20",
          "2/22/20",
          "2/23/20",
          "2/24/20",
          "2/25/20",
          "2/26/20",
          "2/27/20",
          "2/28/20",
          "2/29/20",
          "3/1/20",
          "3/2/20",
          "3/3/20",
          "3/4/20",
          "3/5/20",
          "3/6/20",
          "3/7/20",
          "3/8/20",
          "3/9/20",
          "3/10/20",
          "3/11/20",
          "3/12/20"
         ],
         "y": [
          0,
          0,
          0,
          0,
          0,
          0,
          0,
          0,
          1,
          1,
          1,
          2,
          3,
          3,
          3,
          3,
          3,
          3,
          3,
          3,
          3,
          3,
          3,
          3,
          3,
          3,
          3,
          3,
          3,
          3,
          3,
          3,
          3,
          3,
          3,
          3,
          3,
          3,
          3,
          3,
          5,
          5,
          28,
          30,
          31,
          34,
          39,
          43,
          56,
          62,
          73
         ]
        },
        {
         "mode": "markers",
         "type": "scatter",
         "x": [
          "1/22/20",
          "3/12/20"
         ],
         "y": [
          0,
          73
         ]
        },
        {
         "connectgaps": true,
         "mode": "lines",
         "name": "Iraq",
         "type": "scatter",
         "x": [
          "1/22/20",
          "1/23/20",
          "1/24/20",
          "1/25/20",
          "1/26/20",
          "1/27/20",
          "1/28/20",
          "1/29/20",
          "1/30/20",
          "1/31/20",
          "2/1/20",
          "2/2/20",
          "2/3/20",
          "2/4/20",
          "2/5/20",
          "2/6/20",
          "2/7/20",
          "2/8/20",
          "2/9/20",
          "2/10/20",
          "2/11/20",
          "2/12/20",
          "2/13/20",
          "2/14/20",
          "2/15/20",
          "2/16/20",
          "2/17/20",
          "2/18/20",
          "2/19/20",
          "2/20/20",
          "2/21/20",
          "2/22/20",
          "2/23/20",
          "2/24/20",
          "2/25/20",
          "2/26/20",
          "2/27/20",
          "2/28/20",
          "2/29/20",
          "3/1/20",
          "3/2/20",
          "3/3/20",
          "3/4/20",
          "3/5/20",
          "3/6/20",
          "3/7/20",
          "3/8/20",
          "3/9/20",
          "3/10/20",
          "3/11/20",
          "3/12/20"
         ],
         "y": [
          0,
          0,
          0,
          0,
          0,
          0,
          0,
          0,
          0,
          0,
          0,
          0,
          0,
          0,
          0,
          0,
          0,
          0,
          0,
          0,
          0,
          0,
          0,
          0,
          0,
          0,
          0,
          0,
          0,
          0,
          0,
          0,
          0,
          1,
          1,
          5,
          7,
          7,
          13,
          19,
          26,
          32,
          35,
          35,
          40,
          54,
          60,
          60,
          71,
          71,
          71
         ]
        },
        {
         "mode": "markers",
         "type": "scatter",
         "x": [
          "1/22/20",
          "3/12/20"
         ],
         "y": [
          0,
          71
         ]
        },
        {
         "connectgaps": true,
         "mode": "lines",
         "name": "Thailand",
         "type": "scatter",
         "x": [
          "1/22/20",
          "1/23/20",
          "1/24/20",
          "1/25/20",
          "1/26/20",
          "1/27/20",
          "1/28/20",
          "1/29/20",
          "1/30/20",
          "1/31/20",
          "2/1/20",
          "2/2/20",
          "2/3/20",
          "2/4/20",
          "2/5/20",
          "2/6/20",
          "2/7/20",
          "2/8/20",
          "2/9/20",
          "2/10/20",
          "2/11/20",
          "2/12/20",
          "2/13/20",
          "2/14/20",
          "2/15/20",
          "2/16/20",
          "2/17/20",
          "2/18/20",
          "2/19/20",
          "2/20/20",
          "2/21/20",
          "2/22/20",
          "2/23/20",
          "2/24/20",
          "2/25/20",
          "2/26/20",
          "2/27/20",
          "2/28/20",
          "2/29/20",
          "3/1/20",
          "3/2/20",
          "3/3/20",
          "3/4/20",
          "3/5/20",
          "3/6/20",
          "3/7/20",
          "3/8/20",
          "3/9/20",
          "3/10/20",
          "3/11/20",
          "3/12/20"
         ],
         "y": [
          2,
          3,
          5,
          7,
          8,
          8,
          14,
          14,
          14,
          19,
          19,
          19,
          19,
          25,
          25,
          25,
          25,
          32,
          32,
          32,
          33,
          33,
          33,
          33,
          33,
          34,
          35,
          35,
          35,
          35,
          35,
          35,
          35,
          35,
          37,
          40,
          40,
          41,
          42,
          42,
          43,
          43,
          43,
          47,
          48,
          50,
          50,
          50,
          53,
          59,
          70
         ]
        },
        {
         "mode": "markers",
         "type": "scatter",
         "x": [
          "1/22/20",
          "3/12/20"
         ],
         "y": [
          2,
          70
         ]
        },
        {
         "connectgaps": true,
         "mode": "lines",
         "name": "San Marino",
         "type": "scatter",
         "x": [
          "1/22/20",
          "1/23/20",
          "1/24/20",
          "1/25/20",
          "1/26/20",
          "1/27/20",
          "1/28/20",
          "1/29/20",
          "1/30/20",
          "1/31/20",
          "2/1/20",
          "2/2/20",
          "2/3/20",
          "2/4/20",
          "2/5/20",
          "2/6/20",
          "2/7/20",
          "2/8/20",
          "2/9/20",
          "2/10/20",
          "2/11/20",
          "2/12/20",
          "2/13/20",
          "2/14/20",
          "2/15/20",
          "2/16/20",
          "2/17/20",
          "2/18/20",
          "2/19/20",
          "2/20/20",
          "2/21/20",
          "2/22/20",
          "2/23/20",
          "2/24/20",
          "2/25/20",
          "2/26/20",
          "2/27/20",
          "2/28/20",
          "2/29/20",
          "3/1/20",
          "3/2/20",
          "3/3/20",
          "3/4/20",
          "3/5/20",
          "3/6/20",
          "3/7/20",
          "3/8/20",
          "3/9/20",
          "3/10/20",
          "3/11/20",
          "3/12/20"
         ],
         "y": [
          0,
          0,
          0,
          0,
          0,
          0,
          0,
          0,
          0,
          0,
          0,
          0,
          0,
          0,
          0,
          0,
          0,
          0,
          0,
          0,
          0,
          0,
          0,
          0,
          0,
          0,
          0,
          0,
          0,
          0,
          0,
          0,
          0,
          0,
          0,
          0,
          1,
          1,
          1,
          1,
          8,
          10,
          16,
          21,
          21,
          23,
          36,
          36,
          51,
          62,
          69
         ]
        },
        {
         "mode": "markers",
         "type": "scatter",
         "x": [
          "1/22/20",
          "3/12/20"
         ],
         "y": [
          0,
          69
         ]
        },
        {
         "connectgaps": true,
         "mode": "lines",
         "name": "Egypt",
         "type": "scatter",
         "x": [
          "1/22/20",
          "1/23/20",
          "1/24/20",
          "1/25/20",
          "1/26/20",
          "1/27/20",
          "1/28/20",
          "1/29/20",
          "1/30/20",
          "1/31/20",
          "2/1/20",
          "2/2/20",
          "2/3/20",
          "2/4/20",
          "2/5/20",
          "2/6/20",
          "2/7/20",
          "2/8/20",
          "2/9/20",
          "2/10/20",
          "2/11/20",
          "2/12/20",
          "2/13/20",
          "2/14/20",
          "2/15/20",
          "2/16/20",
          "2/17/20",
          "2/18/20",
          "2/19/20",
          "2/20/20",
          "2/21/20",
          "2/22/20",
          "2/23/20",
          "2/24/20",
          "2/25/20",
          "2/26/20",
          "2/27/20",
          "2/28/20",
          "2/29/20",
          "3/1/20",
          "3/2/20",
          "3/3/20",
          "3/4/20",
          "3/5/20",
          "3/6/20",
          "3/7/20",
          "3/8/20",
          "3/9/20",
          "3/10/20",
          "3/11/20",
          "3/12/20"
         ],
         "y": [
          0,
          0,
          0,
          0,
          0,
          0,
          0,
          0,
          0,
          0,
          0,
          0,
          0,
          0,
          0,
          0,
          0,
          0,
          0,
          0,
          0,
          0,
          0,
          1,
          1,
          1,
          1,
          1,
          1,
          1,
          1,
          1,
          1,
          1,
          1,
          1,
          1,
          1,
          1,
          2,
          2,
          2,
          2,
          3,
          15,
          15,
          49,
          55,
          59,
          60,
          67
         ]
        },
        {
         "mode": "markers",
         "type": "scatter",
         "x": [
          "1/22/20",
          "3/12/20"
         ],
         "y": [
          0,
          67
         ]
        },
        {
         "connectgaps": true,
         "mode": "lines",
         "name": "Lebanon",
         "type": "scatter",
         "x": [
          "1/22/20",
          "1/23/20",
          "1/24/20",
          "1/25/20",
          "1/26/20",
          "1/27/20",
          "1/28/20",
          "1/29/20",
          "1/30/20",
          "1/31/20",
          "2/1/20",
          "2/2/20",
          "2/3/20",
          "2/4/20",
          "2/5/20",
          "2/6/20",
          "2/7/20",
          "2/8/20",
          "2/9/20",
          "2/10/20",
          "2/11/20",
          "2/12/20",
          "2/13/20",
          "2/14/20",
          "2/15/20",
          "2/16/20",
          "2/17/20",
          "2/18/20",
          "2/19/20",
          "2/20/20",
          "2/21/20",
          "2/22/20",
          "2/23/20",
          "2/24/20",
          "2/25/20",
          "2/26/20",
          "2/27/20",
          "2/28/20",
          "2/29/20",
          "3/1/20",
          "3/2/20",
          "3/3/20",
          "3/4/20",
          "3/5/20",
          "3/6/20",
          "3/7/20",
          "3/8/20",
          "3/9/20",
          "3/10/20",
          "3/11/20",
          "3/12/20"
         ],
         "y": [
          0,
          0,
          0,
          0,
          0,
          0,
          0,
          0,
          0,
          0,
          0,
          0,
          0,
          0,
          0,
          0,
          0,
          0,
          0,
          0,
          0,
          0,
          0,
          0,
          0,
          0,
          0,
          0,
          0,
          0,
          1,
          1,
          1,
          1,
          1,
          2,
          2,
          2,
          4,
          10,
          13,
          13,
          13,
          16,
          22,
          22,
          32,
          32,
          41,
          61,
          61
         ]
        },
        {
         "mode": "markers",
         "type": "scatter",
         "x": [
          "1/22/20",
          "3/12/20"
         ],
         "y": [
          0,
          61
         ]
        },
        {
         "connectgaps": true,
         "mode": "lines",
         "name": "Finland",
         "type": "scatter",
         "x": [
          "1/22/20",
          "1/23/20",
          "1/24/20",
          "1/25/20",
          "1/26/20",
          "1/27/20",
          "1/28/20",
          "1/29/20",
          "1/30/20",
          "1/31/20",
          "2/1/20",
          "2/2/20",
          "2/3/20",
          "2/4/20",
          "2/5/20",
          "2/6/20",
          "2/7/20",
          "2/8/20",
          "2/9/20",
          "2/10/20",
          "2/11/20",
          "2/12/20",
          "2/13/20",
          "2/14/20",
          "2/15/20",
          "2/16/20",
          "2/17/20",
          "2/18/20",
          "2/19/20",
          "2/20/20",
          "2/21/20",
          "2/22/20",
          "2/23/20",
          "2/24/20",
          "2/25/20",
          "2/26/20",
          "2/27/20",
          "2/28/20",
          "2/29/20",
          "3/1/20",
          "3/2/20",
          "3/3/20",
          "3/4/20",
          "3/5/20",
          "3/6/20",
          "3/7/20",
          "3/8/20",
          "3/9/20",
          "3/10/20",
          "3/11/20",
          "3/12/20"
         ],
         "y": [
          0,
          0,
          0,
          0,
          0,
          0,
          0,
          1,
          1,
          1,
          1,
          1,
          1,
          1,
          1,
          1,
          1,
          1,
          1,
          1,
          1,
          1,
          1,
          1,
          1,
          1,
          1,
          1,
          1,
          1,
          1,
          1,
          1,
          1,
          1,
          2,
          2,
          2,
          3,
          6,
          6,
          6,
          6,
          12,
          15,
          15,
          23,
          30,
          40,
          59,
          59
         ]
        },
        {
         "mode": "markers",
         "type": "scatter",
         "x": [
          "1/22/20",
          "3/12/20"
         ],
         "y": [
          0,
          59
         ]
        },
        {
         "connectgaps": true,
         "mode": "lines",
         "name": "Portugal",
         "type": "scatter",
         "x": [
          "1/22/20",
          "1/23/20",
          "1/24/20",
          "1/25/20",
          "1/26/20",
          "1/27/20",
          "1/28/20",
          "1/29/20",
          "1/30/20",
          "1/31/20",
          "2/1/20",
          "2/2/20",
          "2/3/20",
          "2/4/20",
          "2/5/20",
          "2/6/20",
          "2/7/20",
          "2/8/20",
          "2/9/20",
          "2/10/20",
          "2/11/20",
          "2/12/20",
          "2/13/20",
          "2/14/20",
          "2/15/20",
          "2/16/20",
          "2/17/20",
          "2/18/20",
          "2/19/20",
          "2/20/20",
          "2/21/20",
          "2/22/20",
          "2/23/20",
          "2/24/20",
          "2/25/20",
          "2/26/20",
          "2/27/20",
          "2/28/20",
          "2/29/20",
          "3/1/20",
          "3/2/20",
          "3/3/20",
          "3/4/20",
          "3/5/20",
          "3/6/20",
          "3/7/20",
          "3/8/20",
          "3/9/20",
          "3/10/20",
          "3/11/20",
          "3/12/20"
         ],
         "y": [
          0,
          0,
          0,
          0,
          0,
          0,
          0,
          0,
          0,
          0,
          0,
          0,
          0,
          0,
          0,
          0,
          0,
          0,
          0,
          0,
          0,
          0,
          0,
          0,
          0,
          0,
          0,
          0,
          0,
          0,
          0,
          0,
          0,
          0,
          0,
          0,
          0,
          0,
          0,
          0,
          2,
          2,
          5,
          8,
          13,
          20,
          30,
          30,
          41,
          59,
          59
         ]
        },
        {
         "mode": "markers",
         "type": "scatter",
         "x": [
          "1/22/20",
          "3/12/20"
         ],
         "y": [
          0,
          59
         ]
        },
        {
         "connectgaps": true,
         "mode": "lines",
         "name": "Philippines",
         "type": "scatter",
         "x": [
          "1/22/20",
          "1/23/20",
          "1/24/20",
          "1/25/20",
          "1/26/20",
          "1/27/20",
          "1/28/20",
          "1/29/20",
          "1/30/20",
          "1/31/20",
          "2/1/20",
          "2/2/20",
          "2/3/20",
          "2/4/20",
          "2/5/20",
          "2/6/20",
          "2/7/20",
          "2/8/20",
          "2/9/20",
          "2/10/20",
          "2/11/20",
          "2/12/20",
          "2/13/20",
          "2/14/20",
          "2/15/20",
          "2/16/20",
          "2/17/20",
          "2/18/20",
          "2/19/20",
          "2/20/20",
          "2/21/20",
          "2/22/20",
          "2/23/20",
          "2/24/20",
          "2/25/20",
          "2/26/20",
          "2/27/20",
          "2/28/20",
          "2/29/20",
          "3/1/20",
          "3/2/20",
          "3/3/20",
          "3/4/20",
          "3/5/20",
          "3/6/20",
          "3/7/20",
          "3/8/20",
          "3/9/20",
          "3/10/20",
          "3/11/20",
          "3/12/20"
         ],
         "y": [
          0,
          0,
          0,
          0,
          0,
          0,
          0,
          0,
          1,
          1,
          1,
          2,
          2,
          2,
          2,
          2,
          3,
          3,
          3,
          3,
          3,
          3,
          3,
          3,
          3,
          3,
          3,
          3,
          3,
          3,
          3,
          3,
          3,
          3,
          3,
          3,
          3,
          3,
          3,
          3,
          3,
          3,
          3,
          3,
          5,
          6,
          10,
          20,
          33,
          49,
          52
         ]
        },
        {
         "mode": "markers",
         "type": "scatter",
         "x": [
          "1/22/20",
          "3/12/20"
         ],
         "y": [
          0,
          52
         ]
        },
        {
         "connectgaps": true,
         "mode": "lines",
         "name": "Brazil",
         "type": "scatter",
         "x": [
          "1/22/20",
          "1/23/20",
          "1/24/20",
          "1/25/20",
          "1/26/20",
          "1/27/20",
          "1/28/20",
          "1/29/20",
          "1/30/20",
          "1/31/20",
          "2/1/20",
          "2/2/20",
          "2/3/20",
          "2/4/20",
          "2/5/20",
          "2/6/20",
          "2/7/20",
          "2/8/20",
          "2/9/20",
          "2/10/20",
          "2/11/20",
          "2/12/20",
          "2/13/20",
          "2/14/20",
          "2/15/20",
          "2/16/20",
          "2/17/20",
          "2/18/20",
          "2/19/20",
          "2/20/20",
          "2/21/20",
          "2/22/20",
          "2/23/20",
          "2/24/20",
          "2/25/20",
          "2/26/20",
          "2/27/20",
          "2/28/20",
          "2/29/20",
          "3/1/20",
          "3/2/20",
          "3/3/20",
          "3/4/20",
          "3/5/20",
          "3/6/20",
          "3/7/20",
          "3/8/20",
          "3/9/20",
          "3/10/20",
          "3/11/20",
          "3/12/20"
         ],
         "y": [
          0,
          0,
          0,
          0,
          0,
          0,
          0,
          0,
          0,
          0,
          0,
          0,
          0,
          0,
          0,
          0,
          0,
          0,
          0,
          0,
          0,
          0,
          0,
          0,
          0,
          0,
          0,
          0,
          0,
          0,
          0,
          0,
          0,
          0,
          0,
          1,
          1,
          1,
          2,
          2,
          2,
          2,
          4,
          4,
          13,
          13,
          20,
          25,
          31,
          38,
          52
         ]
        },
        {
         "mode": "markers",
         "type": "scatter",
         "x": [
          "1/22/20",
          "3/12/20"
         ],
         "y": [
          0,
          52
         ]
        },
        {
         "connectgaps": true,
         "mode": "lines",
         "name": "Taiwan*",
         "type": "scatter",
         "x": [
          "1/22/20",
          "1/23/20",
          "1/24/20",
          "1/25/20",
          "1/26/20",
          "1/27/20",
          "1/28/20",
          "1/29/20",
          "1/30/20",
          "1/31/20",
          "2/1/20",
          "2/2/20",
          "2/3/20",
          "2/4/20",
          "2/5/20",
          "2/6/20",
          "2/7/20",
          "2/8/20",
          "2/9/20",
          "2/10/20",
          "2/11/20",
          "2/12/20",
          "2/13/20",
          "2/14/20",
          "2/15/20",
          "2/16/20",
          "2/17/20",
          "2/18/20",
          "2/19/20",
          "2/20/20",
          "2/21/20",
          "2/22/20",
          "2/23/20",
          "2/24/20",
          "2/25/20",
          "2/26/20",
          "2/27/20",
          "2/28/20",
          "2/29/20",
          "3/1/20",
          "3/2/20",
          "3/3/20",
          "3/4/20",
          "3/5/20",
          "3/6/20",
          "3/7/20",
          "3/8/20",
          "3/9/20",
          "3/10/20",
          "3/11/20",
          "3/12/20"
         ],
         "y": [
          1,
          1,
          3,
          3,
          4,
          5,
          8,
          8,
          9,
          10,
          10,
          10,
          10,
          11,
          11,
          16,
          16,
          17,
          18,
          18,
          18,
          18,
          18,
          18,
          18,
          20,
          22,
          22,
          23,
          24,
          26,
          26,
          28,
          30,
          31,
          32,
          32,
          34,
          39,
          40,
          41,
          42,
          42,
          44,
          45,
          45,
          45,
          45,
          47,
          48,
          49
         ]
        },
        {
         "mode": "markers",
         "type": "scatter",
         "x": [
          "1/22/20",
          "3/12/20"
         ],
         "y": [
          1,
          49
         ]
        },
        {
         "connectgaps": true,
         "mode": "lines",
         "name": "Poland",
         "type": "scatter",
         "x": [
          "1/22/20",
          "1/23/20",
          "1/24/20",
          "1/25/20",
          "1/26/20",
          "1/27/20",
          "1/28/20",
          "1/29/20",
          "1/30/20",
          "1/31/20",
          "2/1/20",
          "2/2/20",
          "2/3/20",
          "2/4/20",
          "2/5/20",
          "2/6/20",
          "2/7/20",
          "2/8/20",
          "2/9/20",
          "2/10/20",
          "2/11/20",
          "2/12/20",
          "2/13/20",
          "2/14/20",
          "2/15/20",
          "2/16/20",
          "2/17/20",
          "2/18/20",
          "2/19/20",
          "2/20/20",
          "2/21/20",
          "2/22/20",
          "2/23/20",
          "2/24/20",
          "2/25/20",
          "2/26/20",
          "2/27/20",
          "2/28/20",
          "2/29/20",
          "3/1/20",
          "3/2/20",
          "3/3/20",
          "3/4/20",
          "3/5/20",
          "3/6/20",
          "3/7/20",
          "3/8/20",
          "3/9/20",
          "3/10/20",
          "3/11/20",
          "3/12/20"
         ],
         "y": [
          0,
          0,
          0,
          0,
          0,
          0,
          0,
          0,
          0,
          0,
          0,
          0,
          0,
          0,
          0,
          0,
          0,
          0,
          0,
          0,
          0,
          0,
          0,
          0,
          0,
          0,
          0,
          0,
          0,
          0,
          0,
          0,
          0,
          0,
          0,
          0,
          0,
          0,
          0,
          0,
          0,
          0,
          1,
          1,
          5,
          5,
          11,
          16,
          22,
          31,
          49
         ]
        },
        {
         "mode": "markers",
         "type": "scatter",
         "x": [
          "1/22/20",
          "3/12/20"
         ],
         "y": [
          0,
          49
         ]
        },
        {
         "connectgaps": true,
         "mode": "lines",
         "name": "Romania",
         "type": "scatter",
         "x": [
          "1/22/20",
          "1/23/20",
          "1/24/20",
          "1/25/20",
          "1/26/20",
          "1/27/20",
          "1/28/20",
          "1/29/20",
          "1/30/20",
          "1/31/20",
          "2/1/20",
          "2/2/20",
          "2/3/20",
          "2/4/20",
          "2/5/20",
          "2/6/20",
          "2/7/20",
          "2/8/20",
          "2/9/20",
          "2/10/20",
          "2/11/20",
          "2/12/20",
          "2/13/20",
          "2/14/20",
          "2/15/20",
          "2/16/20",
          "2/17/20",
          "2/18/20",
          "2/19/20",
          "2/20/20",
          "2/21/20",
          "2/22/20",
          "2/23/20",
          "2/24/20",
          "2/25/20",
          "2/26/20",
          "2/27/20",
          "2/28/20",
          "2/29/20",
          "3/1/20",
          "3/2/20",
          "3/3/20",
          "3/4/20",
          "3/5/20",
          "3/6/20",
          "3/7/20",
          "3/8/20",
          "3/9/20",
          "3/10/20",
          "3/11/20",
          "3/12/20"
         ],
         "y": [
          0,
          0,
          0,
          0,
          0,
          0,
          0,
          0,
          0,
          0,
          0,
          0,
          0,
          0,
          0,
          0,
          0,
          0,
          0,
          0,
          0,
          0,
          0,
          0,
          0,
          0,
          0,
          0,
          0,
          0,
          0,
          0,
          0,
          0,
          0,
          1,
          1,
          3,
          3,
          3,
          3,
          3,
          4,
          6,
          9,
          9,
          15,
          15,
          25,
          45,
          49
         ]
        },
        {
         "mode": "markers",
         "type": "scatter",
         "x": [
          "1/22/20",
          "3/12/20"
         ],
         "y": [
          0,
          49
         ]
        },
        {
         "connectgaps": true,
         "mode": "lines",
         "name": "Saudi Arabia",
         "type": "scatter",
         "x": [
          "1/22/20",
          "1/23/20",
          "1/24/20",
          "1/25/20",
          "1/26/20",
          "1/27/20",
          "1/28/20",
          "1/29/20",
          "1/30/20",
          "1/31/20",
          "2/1/20",
          "2/2/20",
          "2/3/20",
          "2/4/20",
          "2/5/20",
          "2/6/20",
          "2/7/20",
          "2/8/20",
          "2/9/20",
          "2/10/20",
          "2/11/20",
          "2/12/20",
          "2/13/20",
          "2/14/20",
          "2/15/20",
          "2/16/20",
          "2/17/20",
          "2/18/20",
          "2/19/20",
          "2/20/20",
          "2/21/20",
          "2/22/20",
          "2/23/20",
          "2/24/20",
          "2/25/20",
          "2/26/20",
          "2/27/20",
          "2/28/20",
          "2/29/20",
          "3/1/20",
          "3/2/20",
          "3/3/20",
          "3/4/20",
          "3/5/20",
          "3/6/20",
          "3/7/20",
          "3/8/20",
          "3/9/20",
          "3/10/20",
          "3/11/20",
          "3/12/20"
         ],
         "y": [
          0,
          0,
          0,
          0,
          0,
          0,
          0,
          0,
          0,
          0,
          0,
          0,
          0,
          0,
          0,
          0,
          0,
          0,
          0,
          0,
          0,
          0,
          0,
          0,
          0,
          0,
          0,
          0,
          0,
          0,
          0,
          0,
          0,
          0,
          0,
          0,
          0,
          0,
          0,
          0,
          1,
          1,
          1,
          5,
          5,
          5,
          11,
          15,
          20,
          21,
          45
         ]
        },
        {
         "mode": "markers",
         "type": "scatter",
         "x": [
          "1/22/20",
          "3/12/20"
         ],
         "y": [
          0,
          45
         ]
        },
        {
         "connectgaps": true,
         "mode": "lines",
         "name": "Ireland",
         "type": "scatter",
         "x": [
          "1/22/20",
          "1/23/20",
          "1/24/20",
          "1/25/20",
          "1/26/20",
          "1/27/20",
          "1/28/20",
          "1/29/20",
          "1/30/20",
          "1/31/20",
          "2/1/20",
          "2/2/20",
          "2/3/20",
          "2/4/20",
          "2/5/20",
          "2/6/20",
          "2/7/20",
          "2/8/20",
          "2/9/20",
          "2/10/20",
          "2/11/20",
          "2/12/20",
          "2/13/20",
          "2/14/20",
          "2/15/20",
          "2/16/20",
          "2/17/20",
          "2/18/20",
          "2/19/20",
          "2/20/20",
          "2/21/20",
          "2/22/20",
          "2/23/20",
          "2/24/20",
          "2/25/20",
          "2/26/20",
          "2/27/20",
          "2/28/20",
          "2/29/20",
          "3/1/20",
          "3/2/20",
          "3/3/20",
          "3/4/20",
          "3/5/20",
          "3/6/20",
          "3/7/20",
          "3/8/20",
          "3/9/20",
          "3/10/20",
          "3/11/20",
          "3/12/20"
         ],
         "y": [
          0,
          0,
          0,
          0,
          0,
          0,
          0,
          0,
          0,
          0,
          0,
          0,
          0,
          0,
          0,
          0,
          0,
          0,
          0,
          0,
          0,
          0,
          0,
          0,
          0,
          0,
          0,
          0,
          0,
          0,
          0,
          0,
          0,
          0,
          0,
          0,
          0,
          0,
          1,
          1,
          1,
          2,
          6,
          6,
          18,
          18,
          19,
          21,
          34,
          43,
          43
         ]
        },
        {
         "mode": "markers",
         "type": "scatter",
         "x": [
          "1/22/20",
          "3/12/20"
         ],
         "y": [
          0,
          43
         ]
        },
        {
         "connectgaps": true,
         "mode": "lines",
         "name": "Vietnam",
         "type": "scatter",
         "x": [
          "1/22/20",
          "1/23/20",
          "1/24/20",
          "1/25/20",
          "1/26/20",
          "1/27/20",
          "1/28/20",
          "1/29/20",
          "1/30/20",
          "1/31/20",
          "2/1/20",
          "2/2/20",
          "2/3/20",
          "2/4/20",
          "2/5/20",
          "2/6/20",
          "2/7/20",
          "2/8/20",
          "2/9/20",
          "2/10/20",
          "2/11/20",
          "2/12/20",
          "2/13/20",
          "2/14/20",
          "2/15/20",
          "2/16/20",
          "2/17/20",
          "2/18/20",
          "2/19/20",
          "2/20/20",
          "2/21/20",
          "2/22/20",
          "2/23/20",
          "2/24/20",
          "2/25/20",
          "2/26/20",
          "2/27/20",
          "2/28/20",
          "2/29/20",
          "3/1/20",
          "3/2/20",
          "3/3/20",
          "3/4/20",
          "3/5/20",
          "3/6/20",
          "3/7/20",
          "3/8/20",
          "3/9/20",
          "3/10/20",
          "3/11/20",
          "3/12/20"
         ],
         "y": [
          0,
          2,
          2,
          2,
          2,
          2,
          2,
          2,
          2,
          2,
          6,
          6,
          8,
          8,
          8,
          10,
          10,
          13,
          13,
          14,
          15,
          15,
          16,
          16,
          16,
          16,
          16,
          16,
          16,
          16,
          16,
          16,
          16,
          16,
          16,
          16,
          16,
          16,
          16,
          16,
          16,
          16,
          16,
          16,
          16,
          18,
          30,
          30,
          31,
          38,
          39
         ]
        },
        {
         "mode": "markers",
         "type": "scatter",
         "x": [
          "1/22/20",
          "3/12/20"
         ],
         "y": [
          0,
          39
         ]
        },
        {
         "connectgaps": true,
         "mode": "lines",
         "name": "Indonesia",
         "type": "scatter",
         "x": [
          "1/22/20",
          "1/23/20",
          "1/24/20",
          "1/25/20",
          "1/26/20",
          "1/27/20",
          "1/28/20",
          "1/29/20",
          "1/30/20",
          "1/31/20",
          "2/1/20",
          "2/2/20",
          "2/3/20",
          "2/4/20",
          "2/5/20",
          "2/6/20",
          "2/7/20",
          "2/8/20",
          "2/9/20",
          "2/10/20",
          "2/11/20",
          "2/12/20",
          "2/13/20",
          "2/14/20",
          "2/15/20",
          "2/16/20",
          "2/17/20",
          "2/18/20",
          "2/19/20",
          "2/20/20",
          "2/21/20",
          "2/22/20",
          "2/23/20",
          "2/24/20",
          "2/25/20",
          "2/26/20",
          "2/27/20",
          "2/28/20",
          "2/29/20",
          "3/1/20",
          "3/2/20",
          "3/3/20",
          "3/4/20",
          "3/5/20",
          "3/6/20",
          "3/7/20",
          "3/8/20",
          "3/9/20",
          "3/10/20",
          "3/11/20",
          "3/12/20"
         ],
         "y": [
          0,
          0,
          0,
          0,
          0,
          0,
          0,
          0,
          0,
          0,
          0,
          0,
          0,
          0,
          0,
          0,
          0,
          0,
          0,
          0,
          0,
          0,
          0,
          0,
          0,
          0,
          0,
          0,
          0,
          0,
          0,
          0,
          0,
          0,
          0,
          0,
          0,
          0,
          0,
          0,
          2,
          2,
          2,
          2,
          4,
          4,
          6,
          19,
          27,
          34,
          34
         ]
        },
        {
         "mode": "markers",
         "type": "scatter",
         "x": [
          "1/22/20",
          "3/12/20"
         ],
         "y": [
          0,
          34
         ]
        },
        {
         "connectgaps": true,
         "mode": "lines",
         "name": "Russia",
         "type": "scatter",
         "x": [
          "1/22/20",
          "1/23/20",
          "1/24/20",
          "1/25/20",
          "1/26/20",
          "1/27/20",
          "1/28/20",
          "1/29/20",
          "1/30/20",
          "1/31/20",
          "2/1/20",
          "2/2/20",
          "2/3/20",
          "2/4/20",
          "2/5/20",
          "2/6/20",
          "2/7/20",
          "2/8/20",
          "2/9/20",
          "2/10/20",
          "2/11/20",
          "2/12/20",
          "2/13/20",
          "2/14/20",
          "2/15/20",
          "2/16/20",
          "2/17/20",
          "2/18/20",
          "2/19/20",
          "2/20/20",
          "2/21/20",
          "2/22/20",
          "2/23/20",
          "2/24/20",
          "2/25/20",
          "2/26/20",
          "2/27/20",
          "2/28/20",
          "2/29/20",
          "3/1/20",
          "3/2/20",
          "3/3/20",
          "3/4/20",
          "3/5/20",
          "3/6/20",
          "3/7/20",
          "3/8/20",
          "3/9/20",
          "3/10/20",
          "3/11/20",
          "3/12/20"
         ],
         "y": [
          0,
          0,
          0,
          0,
          0,
          0,
          0,
          0,
          0,
          2,
          2,
          2,
          2,
          2,
          2,
          2,
          2,
          2,
          2,
          2,
          2,
          2,
          2,
          2,
          2,
          2,
          2,
          2,
          2,
          2,
          2,
          2,
          2,
          2,
          2,
          2,
          2,
          2,
          2,
          2,
          3,
          3,
          3,
          4,
          13,
          13,
          17,
          17,
          20,
          20,
          28
         ]
        },
        {
         "mode": "markers",
         "type": "scatter",
         "x": [
          "1/22/20",
          "3/12/20"
         ],
         "y": [
          0,
          28
         ]
        },
        {
         "connectgaps": true,
         "mode": "lines",
         "name": "Algeria",
         "type": "scatter",
         "x": [
          "1/22/20",
          "1/23/20",
          "1/24/20",
          "1/25/20",
          "1/26/20",
          "1/27/20",
          "1/28/20",
          "1/29/20",
          "1/30/20",
          "1/31/20",
          "2/1/20",
          "2/2/20",
          "2/3/20",
          "2/4/20",
          "2/5/20",
          "2/6/20",
          "2/7/20",
          "2/8/20",
          "2/9/20",
          "2/10/20",
          "2/11/20",
          "2/12/20",
          "2/13/20",
          "2/14/20",
          "2/15/20",
          "2/16/20",
          "2/17/20",
          "2/18/20",
          "2/19/20",
          "2/20/20",
          "2/21/20",
          "2/22/20",
          "2/23/20",
          "2/24/20",
          "2/25/20",
          "2/26/20",
          "2/27/20",
          "2/28/20",
          "2/29/20",
          "3/1/20",
          "3/2/20",
          "3/3/20",
          "3/4/20",
          "3/5/20",
          "3/6/20",
          "3/7/20",
          "3/8/20",
          "3/9/20",
          "3/10/20",
          "3/11/20",
          "3/12/20"
         ],
         "y": [
          0,
          0,
          0,
          0,
          0,
          0,
          0,
          0,
          0,
          0,
          0,
          0,
          0,
          0,
          0,
          0,
          0,
          0,
          0,
          0,
          0,
          0,
          0,
          0,
          0,
          0,
          0,
          0,
          0,
          0,
          0,
          0,
          0,
          0,
          1,
          1,
          1,
          1,
          1,
          1,
          3,
          5,
          12,
          12,
          17,
          17,
          19,
          20,
          20,
          20,
          24
         ]
        },
        {
         "mode": "markers",
         "type": "scatter",
         "x": [
          "1/22/20",
          "3/12/20"
         ],
         "y": [
          0,
          24
         ]
        },
        {
         "connectgaps": true,
         "mode": "lines",
         "name": "Georgia",
         "type": "scatter",
         "x": [
          "1/22/20",
          "1/23/20",
          "1/24/20",
          "1/25/20",
          "1/26/20",
          "1/27/20",
          "1/28/20",
          "1/29/20",
          "1/30/20",
          "1/31/20",
          "2/1/20",
          "2/2/20",
          "2/3/20",
          "2/4/20",
          "2/5/20",
          "2/6/20",
          "2/7/20",
          "2/8/20",
          "2/9/20",
          "2/10/20",
          "2/11/20",
          "2/12/20",
          "2/13/20",
          "2/14/20",
          "2/15/20",
          "2/16/20",
          "2/17/20",
          "2/18/20",
          "2/19/20",
          "2/20/20",
          "2/21/20",
          "2/22/20",
          "2/23/20",
          "2/24/20",
          "2/25/20",
          "2/26/20",
          "2/27/20",
          "2/28/20",
          "2/29/20",
          "3/1/20",
          "3/2/20",
          "3/3/20",
          "3/4/20",
          "3/5/20",
          "3/6/20",
          "3/7/20",
          "3/8/20",
          "3/9/20",
          "3/10/20",
          "3/11/20",
          "3/12/20"
         ],
         "y": [
          0,
          0,
          0,
          0,
          0,
          0,
          0,
          0,
          0,
          0,
          0,
          0,
          0,
          0,
          0,
          0,
          0,
          0,
          0,
          0,
          0,
          0,
          0,
          0,
          0,
          0,
          0,
          0,
          0,
          0,
          0,
          0,
          0,
          0,
          0,
          1,
          1,
          1,
          1,
          3,
          3,
          3,
          3,
          4,
          4,
          4,
          13,
          15,
          15,
          24,
          24
         ]
        },
        {
         "mode": "markers",
         "type": "scatter",
         "x": [
          "1/22/20",
          "3/12/20"
         ],
         "y": [
          0,
          24
         ]
        },
        {
         "connectgaps": true,
         "mode": "lines",
         "name": "Albania",
         "type": "scatter",
         "x": [
          "1/22/20",
          "1/23/20",
          "1/24/20",
          "1/25/20",
          "1/26/20",
          "1/27/20",
          "1/28/20",
          "1/29/20",
          "1/30/20",
          "1/31/20",
          "2/1/20",
          "2/2/20",
          "2/3/20",
          "2/4/20",
          "2/5/20",
          "2/6/20",
          "2/7/20",
          "2/8/20",
          "2/9/20",
          "2/10/20",
          "2/11/20",
          "2/12/20",
          "2/13/20",
          "2/14/20",
          "2/15/20",
          "2/16/20",
          "2/17/20",
          "2/18/20",
          "2/19/20",
          "2/20/20",
          "2/21/20",
          "2/22/20",
          "2/23/20",
          "2/24/20",
          "2/25/20",
          "2/26/20",
          "2/27/20",
          "2/28/20",
          "2/29/20",
          "3/1/20",
          "3/2/20",
          "3/3/20",
          "3/4/20",
          "3/5/20",
          "3/6/20",
          "3/7/20",
          "3/8/20",
          "3/9/20",
          "3/10/20",
          "3/11/20",
          "3/12/20"
         ],
         "y": [
          0,
          0,
          0,
          0,
          0,
          0,
          0,
          0,
          0,
          0,
          0,
          0,
          0,
          0,
          0,
          0,
          0,
          0,
          0,
          0,
          0,
          0,
          0,
          0,
          0,
          0,
          0,
          0,
          0,
          0,
          0,
          0,
          0,
          0,
          0,
          0,
          0,
          0,
          0,
          0,
          0,
          0,
          0,
          0,
          0,
          0,
          0,
          2,
          10,
          12,
          23
         ]
        },
        {
         "mode": "markers",
         "type": "scatter",
         "x": [
          "1/22/20",
          "3/12/20"
         ],
         "y": [
          0,
          23
         ]
        },
        {
         "connectgaps": true,
         "mode": "lines",
         "name": "Chile",
         "type": "scatter",
         "x": [
          "1/22/20",
          "1/23/20",
          "1/24/20",
          "1/25/20",
          "1/26/20",
          "1/27/20",
          "1/28/20",
          "1/29/20",
          "1/30/20",
          "1/31/20",
          "2/1/20",
          "2/2/20",
          "2/3/20",
          "2/4/20",
          "2/5/20",
          "2/6/20",
          "2/7/20",
          "2/8/20",
          "2/9/20",
          "2/10/20",
          "2/11/20",
          "2/12/20",
          "2/13/20",
          "2/14/20",
          "2/15/20",
          "2/16/20",
          "2/17/20",
          "2/18/20",
          "2/19/20",
          "2/20/20",
          "2/21/20",
          "2/22/20",
          "2/23/20",
          "2/24/20",
          "2/25/20",
          "2/26/20",
          "2/27/20",
          "2/28/20",
          "2/29/20",
          "3/1/20",
          "3/2/20",
          "3/3/20",
          "3/4/20",
          "3/5/20",
          "3/6/20",
          "3/7/20",
          "3/8/20",
          "3/9/20",
          "3/10/20",
          "3/11/20",
          "3/12/20"
         ],
         "y": [
          0,
          0,
          0,
          0,
          0,
          0,
          0,
          0,
          0,
          0,
          0,
          0,
          0,
          0,
          0,
          0,
          0,
          0,
          0,
          0,
          0,
          0,
          0,
          0,
          0,
          0,
          0,
          0,
          0,
          0,
          0,
          0,
          0,
          0,
          0,
          0,
          0,
          0,
          0,
          0,
          0,
          1,
          1,
          4,
          4,
          4,
          8,
          8,
          13,
          23,
          23
         ]
        },
        {
         "mode": "markers",
         "type": "scatter",
         "x": [
          "1/22/20",
          "3/12/20"
         ],
         "y": [
          0,
          23
         ]
        },
        {
         "connectgaps": true,
         "mode": "lines",
         "name": "Costa Rica",
         "type": "scatter",
         "x": [
          "1/22/20",
          "1/23/20",
          "1/24/20",
          "1/25/20",
          "1/26/20",
          "1/27/20",
          "1/28/20",
          "1/29/20",
          "1/30/20",
          "1/31/20",
          "2/1/20",
          "2/2/20",
          "2/3/20",
          "2/4/20",
          "2/5/20",
          "2/6/20",
          "2/7/20",
          "2/8/20",
          "2/9/20",
          "2/10/20",
          "2/11/20",
          "2/12/20",
          "2/13/20",
          "2/14/20",
          "2/15/20",
          "2/16/20",
          "2/17/20",
          "2/18/20",
          "2/19/20",
          "2/20/20",
          "2/21/20",
          "2/22/20",
          "2/23/20",
          "2/24/20",
          "2/25/20",
          "2/26/20",
          "2/27/20",
          "2/28/20",
          "2/29/20",
          "3/1/20",
          "3/2/20",
          "3/3/20",
          "3/4/20",
          "3/5/20",
          "3/6/20",
          "3/7/20",
          "3/8/20",
          "3/9/20",
          "3/10/20",
          "3/11/20",
          "3/12/20"
         ],
         "y": [
          0,
          0,
          0,
          0,
          0,
          0,
          0,
          0,
          0,
          0,
          0,
          0,
          0,
          0,
          0,
          0,
          0,
          0,
          0,
          0,
          0,
          0,
          0,
          0,
          0,
          0,
          0,
          0,
          0,
          0,
          0,
          0,
          0,
          0,
          0,
          0,
          0,
          0,
          0,
          0,
          0,
          0,
          0,
          0,
          1,
          1,
          5,
          9,
          9,
          13,
          22
         ]
        },
        {
         "mode": "markers",
         "type": "scatter",
         "x": [
          "1/22/20",
          "3/12/20"
         ],
         "y": [
          0,
          22
         ]
        },
        {
         "connectgaps": true,
         "mode": "lines",
         "name": "Pakistan",
         "type": "scatter",
         "x": [
          "1/22/20",
          "1/23/20",
          "1/24/20",
          "1/25/20",
          "1/26/20",
          "1/27/20",
          "1/28/20",
          "1/29/20",
          "1/30/20",
          "1/31/20",
          "2/1/20",
          "2/2/20",
          "2/3/20",
          "2/4/20",
          "2/5/20",
          "2/6/20",
          "2/7/20",
          "2/8/20",
          "2/9/20",
          "2/10/20",
          "2/11/20",
          "2/12/20",
          "2/13/20",
          "2/14/20",
          "2/15/20",
          "2/16/20",
          "2/17/20",
          "2/18/20",
          "2/19/20",
          "2/20/20",
          "2/21/20",
          "2/22/20",
          "2/23/20",
          "2/24/20",
          "2/25/20",
          "2/26/20",
          "2/27/20",
          "2/28/20",
          "2/29/20",
          "3/1/20",
          "3/2/20",
          "3/3/20",
          "3/4/20",
          "3/5/20",
          "3/6/20",
          "3/7/20",
          "3/8/20",
          "3/9/20",
          "3/10/20",
          "3/11/20",
          "3/12/20"
         ],
         "y": [
          0,
          0,
          0,
          0,
          0,
          0,
          0,
          0,
          0,
          0,
          0,
          0,
          0,
          0,
          0,
          0,
          0,
          0,
          0,
          0,
          0,
          0,
          0,
          0,
          0,
          0,
          0,
          0,
          0,
          0,
          0,
          0,
          0,
          0,
          0,
          2,
          2,
          2,
          4,
          4,
          4,
          5,
          5,
          5,
          6,
          6,
          6,
          6,
          16,
          19,
          20
         ]
        },
        {
         "mode": "markers",
         "type": "scatter",
         "x": [
          "1/22/20",
          "3/12/20"
         ],
         "y": [
          0,
          20
         ]
        },
        {
         "connectgaps": true,
         "mode": "lines",
         "name": "Argentina",
         "type": "scatter",
         "x": [
          "1/22/20",
          "1/23/20",
          "1/24/20",
          "1/25/20",
          "1/26/20",
          "1/27/20",
          "1/28/20",
          "1/29/20",
          "1/30/20",
          "1/31/20",
          "2/1/20",
          "2/2/20",
          "2/3/20",
          "2/4/20",
          "2/5/20",
          "2/6/20",
          "2/7/20",
          "2/8/20",
          "2/9/20",
          "2/10/20",
          "2/11/20",
          "2/12/20",
          "2/13/20",
          "2/14/20",
          "2/15/20",
          "2/16/20",
          "2/17/20",
          "2/18/20",
          "2/19/20",
          "2/20/20",
          "2/21/20",
          "2/22/20",
          "2/23/20",
          "2/24/20",
          "2/25/20",
          "2/26/20",
          "2/27/20",
          "2/28/20",
          "2/29/20",
          "3/1/20",
          "3/2/20",
          "3/3/20",
          "3/4/20",
          "3/5/20",
          "3/6/20",
          "3/7/20",
          "3/8/20",
          "3/9/20",
          "3/10/20",
          "3/11/20",
          "3/12/20"
         ],
         "y": [
          0,
          0,
          0,
          0,
          0,
          0,
          0,
          0,
          0,
          0,
          0,
          0,
          0,
          0,
          0,
          0,
          0,
          0,
          0,
          0,
          0,
          0,
          0,
          0,
          0,
          0,
          0,
          0,
          0,
          0,
          0,
          0,
          0,
          0,
          0,
          0,
          0,
          0,
          0,
          0,
          0,
          1,
          1,
          1,
          2,
          8,
          12,
          12,
          17,
          19,
          19
         ]
        },
        {
         "mode": "markers",
         "type": "scatter",
         "x": [
          "1/22/20",
          "3/12/20"
         ],
         "y": [
          0,
          19
         ]
        },
        {
         "connectgaps": true,
         "mode": "lines",
         "name": "Luxembourg",
         "type": "scatter",
         "x": [
          "1/22/20",
          "1/23/20",
          "1/24/20",
          "1/25/20",
          "1/26/20",
          "1/27/20",
          "1/28/20",
          "1/29/20",
          "1/30/20",
          "1/31/20",
          "2/1/20",
          "2/2/20",
          "2/3/20",
          "2/4/20",
          "2/5/20",
          "2/6/20",
          "2/7/20",
          "2/8/20",
          "2/9/20",
          "2/10/20",
          "2/11/20",
          "2/12/20",
          "2/13/20",
          "2/14/20",
          "2/15/20",
          "2/16/20",
          "2/17/20",
          "2/18/20",
          "2/19/20",
          "2/20/20",
          "2/21/20",
          "2/22/20",
          "2/23/20",
          "2/24/20",
          "2/25/20",
          "2/26/20",
          "2/27/20",
          "2/28/20",
          "2/29/20",
          "3/1/20",
          "3/2/20",
          "3/3/20",
          "3/4/20",
          "3/5/20",
          "3/6/20",
          "3/7/20",
          "3/8/20",
          "3/9/20",
          "3/10/20",
          "3/11/20",
          "3/12/20"
         ],
         "y": [
          0,
          0,
          0,
          0,
          0,
          0,
          0,
          0,
          0,
          0,
          0,
          0,
          0,
          0,
          0,
          0,
          0,
          0,
          0,
          0,
          0,
          0,
          0,
          0,
          0,
          0,
          0,
          0,
          0,
          0,
          0,
          0,
          0,
          0,
          0,
          0,
          0,
          0,
          1,
          1,
          1,
          1,
          1,
          1,
          2,
          2,
          3,
          3,
          5,
          7,
          19
         ]
        },
        {
         "mode": "markers",
         "type": "scatter",
         "x": [
          "1/22/20",
          "3/12/20"
         ],
         "y": [
          0,
          19
         ]
        },
        {
         "connectgaps": true,
         "mode": "lines",
         "name": "Serbia",
         "type": "scatter",
         "x": [
          "1/22/20",
          "1/23/20",
          "1/24/20",
          "1/25/20",
          "1/26/20",
          "1/27/20",
          "1/28/20",
          "1/29/20",
          "1/30/20",
          "1/31/20",
          "2/1/20",
          "2/2/20",
          "2/3/20",
          "2/4/20",
          "2/5/20",
          "2/6/20",
          "2/7/20",
          "2/8/20",
          "2/9/20",
          "2/10/20",
          "2/11/20",
          "2/12/20",
          "2/13/20",
          "2/14/20",
          "2/15/20",
          "2/16/20",
          "2/17/20",
          "2/18/20",
          "2/19/20",
          "2/20/20",
          "2/21/20",
          "2/22/20",
          "2/23/20",
          "2/24/20",
          "2/25/20",
          "2/26/20",
          "2/27/20",
          "2/28/20",
          "2/29/20",
          "3/1/20",
          "3/2/20",
          "3/3/20",
          "3/4/20",
          "3/5/20",
          "3/6/20",
          "3/7/20",
          "3/8/20",
          "3/9/20",
          "3/10/20",
          "3/11/20",
          "3/12/20"
         ],
         "y": [
          0,
          0,
          0,
          0,
          0,
          0,
          0,
          0,
          0,
          0,
          0,
          0,
          0,
          0,
          0,
          0,
          0,
          0,
          0,
          0,
          0,
          0,
          0,
          0,
          0,
          0,
          0,
          0,
          0,
          0,
          0,
          0,
          0,
          0,
          0,
          0,
          0,
          0,
          0,
          0,
          0,
          0,
          0,
          0,
          1,
          1,
          1,
          1,
          5,
          12,
          19
         ]
        },
        {
         "mode": "markers",
         "type": "scatter",
         "x": [
          "1/22/20",
          "3/12/20"
         ],
         "y": [
          0,
          19
         ]
        },
        {
         "connectgaps": true,
         "mode": "lines",
         "name": "Croatia",
         "type": "scatter",
         "x": [
          "1/22/20",
          "1/23/20",
          "1/24/20",
          "1/25/20",
          "1/26/20",
          "1/27/20",
          "1/28/20",
          "1/29/20",
          "1/30/20",
          "1/31/20",
          "2/1/20",
          "2/2/20",
          "2/3/20",
          "2/4/20",
          "2/5/20",
          "2/6/20",
          "2/7/20",
          "2/8/20",
          "2/9/20",
          "2/10/20",
          "2/11/20",
          "2/12/20",
          "2/13/20",
          "2/14/20",
          "2/15/20",
          "2/16/20",
          "2/17/20",
          "2/18/20",
          "2/19/20",
          "2/20/20",
          "2/21/20",
          "2/22/20",
          "2/23/20",
          "2/24/20",
          "2/25/20",
          "2/26/20",
          "2/27/20",
          "2/28/20",
          "2/29/20",
          "3/1/20",
          "3/2/20",
          "3/3/20",
          "3/4/20",
          "3/5/20",
          "3/6/20",
          "3/7/20",
          "3/8/20",
          "3/9/20",
          "3/10/20",
          "3/11/20",
          "3/12/20"
         ],
         "y": [
          0,
          0,
          0,
          0,
          0,
          0,
          0,
          0,
          0,
          0,
          0,
          0,
          0,
          0,
          0,
          0,
          0,
          0,
          0,
          0,
          0,
          0,
          0,
          0,
          0,
          0,
          0,
          0,
          0,
          0,
          0,
          0,
          0,
          0,
          1,
          3,
          3,
          5,
          6,
          7,
          7,
          9,
          10,
          10,
          11,
          12,
          12,
          12,
          14,
          19,
          19
         ]
        },
        {
         "mode": "markers",
         "type": "scatter",
         "x": [
          "1/22/20",
          "3/12/20"
         ],
         "y": [
          0,
          19
         ]
        },
        {
         "connectgaps": true,
         "mode": "lines",
         "name": "Oman",
         "type": "scatter",
         "x": [
          "1/22/20",
          "1/23/20",
          "1/24/20",
          "1/25/20",
          "1/26/20",
          "1/27/20",
          "1/28/20",
          "1/29/20",
          "1/30/20",
          "1/31/20",
          "2/1/20",
          "2/2/20",
          "2/3/20",
          "2/4/20",
          "2/5/20",
          "2/6/20",
          "2/7/20",
          "2/8/20",
          "2/9/20",
          "2/10/20",
          "2/11/20",
          "2/12/20",
          "2/13/20",
          "2/14/20",
          "2/15/20",
          "2/16/20",
          "2/17/20",
          "2/18/20",
          "2/19/20",
          "2/20/20",
          "2/21/20",
          "2/22/20",
          "2/23/20",
          "2/24/20",
          "2/25/20",
          "2/26/20",
          "2/27/20",
          "2/28/20",
          "2/29/20",
          "3/1/20",
          "3/2/20",
          "3/3/20",
          "3/4/20",
          "3/5/20",
          "3/6/20",
          "3/7/20",
          "3/8/20",
          "3/9/20",
          "3/10/20",
          "3/11/20",
          "3/12/20"
         ],
         "y": [
          0,
          0,
          0,
          0,
          0,
          0,
          0,
          0,
          0,
          0,
          0,
          0,
          0,
          0,
          0,
          0,
          0,
          0,
          0,
          0,
          0,
          0,
          0,
          0,
          0,
          0,
          0,
          0,
          0,
          0,
          0,
          0,
          0,
          2,
          2,
          4,
          4,
          4,
          6,
          6,
          6,
          12,
          15,
          16,
          16,
          16,
          16,
          16,
          18,
          18,
          18
         ]
        },
        {
         "mode": "markers",
         "type": "scatter",
         "x": [
          "1/22/20",
          "3/12/20"
         ],
         "y": [
          0,
          18
         ]
        },
        {
         "connectgaps": true,
         "mode": "lines",
         "name": "South Africa",
         "type": "scatter",
         "x": [
          "1/22/20",
          "1/23/20",
          "1/24/20",
          "1/25/20",
          "1/26/20",
          "1/27/20",
          "1/28/20",
          "1/29/20",
          "1/30/20",
          "1/31/20",
          "2/1/20",
          "2/2/20",
          "2/3/20",
          "2/4/20",
          "2/5/20",
          "2/6/20",
          "2/7/20",
          "2/8/20",
          "2/9/20",
          "2/10/20",
          "2/11/20",
          "2/12/20",
          "2/13/20",
          "2/14/20",
          "2/15/20",
          "2/16/20",
          "2/17/20",
          "2/18/20",
          "2/19/20",
          "2/20/20",
          "2/21/20",
          "2/22/20",
          "2/23/20",
          "2/24/20",
          "2/25/20",
          "2/26/20",
          "2/27/20",
          "2/28/20",
          "2/29/20",
          "3/1/20",
          "3/2/20",
          "3/3/20",
          "3/4/20",
          "3/5/20",
          "3/6/20",
          "3/7/20",
          "3/8/20",
          "3/9/20",
          "3/10/20",
          "3/11/20",
          "3/12/20"
         ],
         "y": [
          0,
          0,
          0,
          0,
          0,
          0,
          0,
          0,
          0,
          0,
          0,
          0,
          0,
          0,
          0,
          0,
          0,
          0,
          0,
          0,
          0,
          0,
          0,
          0,
          0,
          0,
          0,
          0,
          0,
          0,
          0,
          0,
          0,
          0,
          0,
          0,
          0,
          0,
          0,
          0,
          0,
          0,
          0,
          1,
          1,
          1,
          3,
          3,
          7,
          13,
          17
         ]
        },
        {
         "mode": "markers",
         "type": "scatter",
         "x": [
          "1/22/20",
          "3/12/20"
         ],
         "y": [
          0,
          17
         ]
        },
        {
         "connectgaps": true,
         "mode": "lines",
         "name": "Ecuador",
         "type": "scatter",
         "x": [
          "1/22/20",
          "1/23/20",
          "1/24/20",
          "1/25/20",
          "1/26/20",
          "1/27/20",
          "1/28/20",
          "1/29/20",
          "1/30/20",
          "1/31/20",
          "2/1/20",
          "2/2/20",
          "2/3/20",
          "2/4/20",
          "2/5/20",
          "2/6/20",
          "2/7/20",
          "2/8/20",
          "2/9/20",
          "2/10/20",
          "2/11/20",
          "2/12/20",
          "2/13/20",
          "2/14/20",
          "2/15/20",
          "2/16/20",
          "2/17/20",
          "2/18/20",
          "2/19/20",
          "2/20/20",
          "2/21/20",
          "2/22/20",
          "2/23/20",
          "2/24/20",
          "2/25/20",
          "2/26/20",
          "2/27/20",
          "2/28/20",
          "2/29/20",
          "3/1/20",
          "3/2/20",
          "3/3/20",
          "3/4/20",
          "3/5/20",
          "3/6/20",
          "3/7/20",
          "3/8/20",
          "3/9/20",
          "3/10/20",
          "3/11/20",
          "3/12/20"
         ],
         "y": [
          0,
          0,
          0,
          0,
          0,
          0,
          0,
          0,
          0,
          0,
          0,
          0,
          0,
          0,
          0,
          0,
          0,
          0,
          0,
          0,
          0,
          0,
          0,
          0,
          0,
          0,
          0,
          0,
          0,
          0,
          0,
          0,
          0,
          0,
          0,
          0,
          0,
          0,
          0,
          6,
          6,
          7,
          10,
          13,
          13,
          13,
          14,
          15,
          15,
          17,
          17
         ]
        },
        {
         "mode": "markers",
         "type": "scatter",
         "x": [
          "1/22/20",
          "3/12/20"
         ],
         "y": [
          0,
          17
         ]
        },
        {
         "connectgaps": true,
         "mode": "lines",
         "name": "Slovakia",
         "type": "scatter",
         "x": [
          "1/22/20",
          "1/23/20",
          "1/24/20",
          "1/25/20",
          "1/26/20",
          "1/27/20",
          "1/28/20",
          "1/29/20",
          "1/30/20",
          "1/31/20",
          "2/1/20",
          "2/2/20",
          "2/3/20",
          "2/4/20",
          "2/5/20",
          "2/6/20",
          "2/7/20",
          "2/8/20",
          "2/9/20",
          "2/10/20",
          "2/11/20",
          "2/12/20",
          "2/13/20",
          "2/14/20",
          "2/15/20",
          "2/16/20",
          "2/17/20",
          "2/18/20",
          "2/19/20",
          "2/20/20",
          "2/21/20",
          "2/22/20",
          "2/23/20",
          "2/24/20",
          "2/25/20",
          "2/26/20",
          "2/27/20",
          "2/28/20",
          "2/29/20",
          "3/1/20",
          "3/2/20",
          "3/3/20",
          "3/4/20",
          "3/5/20",
          "3/6/20",
          "3/7/20",
          "3/8/20",
          "3/9/20",
          "3/10/20",
          "3/11/20",
          "3/12/20"
         ],
         "y": [
          0,
          0,
          0,
          0,
          0,
          0,
          0,
          0,
          0,
          0,
          0,
          0,
          0,
          0,
          0,
          0,
          0,
          0,
          0,
          0,
          0,
          0,
          0,
          0,
          0,
          0,
          0,
          0,
          0,
          0,
          0,
          0,
          0,
          0,
          0,
          0,
          0,
          0,
          0,
          0,
          0,
          0,
          0,
          0,
          1,
          1,
          3,
          3,
          7,
          10,
          16
         ]
        },
        {
         "mode": "markers",
         "type": "scatter",
         "x": [
          "1/22/20",
          "3/12/20"
         ],
         "y": [
          0,
          16
         ]
        },
        {
         "connectgaps": true,
         "mode": "lines",
         "name": "Estonia",
         "type": "scatter",
         "x": [
          "1/22/20",
          "1/23/20",
          "1/24/20",
          "1/25/20",
          "1/26/20",
          "1/27/20",
          "1/28/20",
          "1/29/20",
          "1/30/20",
          "1/31/20",
          "2/1/20",
          "2/2/20",
          "2/3/20",
          "2/4/20",
          "2/5/20",
          "2/6/20",
          "2/7/20",
          "2/8/20",
          "2/9/20",
          "2/10/20",
          "2/11/20",
          "2/12/20",
          "2/13/20",
          "2/14/20",
          "2/15/20",
          "2/16/20",
          "2/17/20",
          "2/18/20",
          "2/19/20",
          "2/20/20",
          "2/21/20",
          "2/22/20",
          "2/23/20",
          "2/24/20",
          "2/25/20",
          "2/26/20",
          "2/27/20",
          "2/28/20",
          "2/29/20",
          "3/1/20",
          "3/2/20",
          "3/3/20",
          "3/4/20",
          "3/5/20",
          "3/6/20",
          "3/7/20",
          "3/8/20",
          "3/9/20",
          "3/10/20",
          "3/11/20",
          "3/12/20"
         ],
         "y": [
          0,
          0,
          0,
          0,
          0,
          0,
          0,
          0,
          0,
          0,
          0,
          0,
          0,
          0,
          0,
          0,
          0,
          0,
          0,
          0,
          0,
          0,
          0,
          0,
          0,
          0,
          0,
          0,
          0,
          0,
          0,
          0,
          0,
          0,
          0,
          0,
          1,
          1,
          1,
          1,
          1,
          2,
          2,
          3,
          10,
          10,
          10,
          10,
          12,
          16,
          16
         ]
        },
        {
         "mode": "markers",
         "type": "scatter",
         "x": [
          "1/22/20",
          "3/12/20"
         ],
         "y": [
          0,
          16
         ]
        },
        {
         "connectgaps": true,
         "mode": "lines",
         "name": "Peru",
         "type": "scatter",
         "x": [
          "1/22/20",
          "1/23/20",
          "1/24/20",
          "1/25/20",
          "1/26/20",
          "1/27/20",
          "1/28/20",
          "1/29/20",
          "1/30/20",
          "1/31/20",
          "2/1/20",
          "2/2/20",
          "2/3/20",
          "2/4/20",
          "2/5/20",
          "2/6/20",
          "2/7/20",
          "2/8/20",
          "2/9/20",
          "2/10/20",
          "2/11/20",
          "2/12/20",
          "2/13/20",
          "2/14/20",
          "2/15/20",
          "2/16/20",
          "2/17/20",
          "2/18/20",
          "2/19/20",
          "2/20/20",
          "2/21/20",
          "2/22/20",
          "2/23/20",
          "2/24/20",
          "2/25/20",
          "2/26/20",
          "2/27/20",
          "2/28/20",
          "2/29/20",
          "3/1/20",
          "3/2/20",
          "3/3/20",
          "3/4/20",
          "3/5/20",
          "3/6/20",
          "3/7/20",
          "3/8/20",
          "3/9/20",
          "3/10/20",
          "3/11/20",
          "3/12/20"
         ],
         "y": [
          0,
          0,
          0,
          0,
          0,
          0,
          0,
          0,
          0,
          0,
          0,
          0,
          0,
          0,
          0,
          0,
          0,
          0,
          0,
          0,
          0,
          0,
          0,
          0,
          0,
          0,
          0,
          0,
          0,
          0,
          0,
          0,
          0,
          0,
          0,
          0,
          0,
          0,
          0,
          0,
          0,
          0,
          0,
          0,
          1,
          1,
          6,
          7,
          11,
          11,
          15
         ]
        },
        {
         "mode": "markers",
         "type": "scatter",
         "x": [
          "1/22/20",
          "3/12/20"
         ],
         "y": [
          0,
          15
         ]
        },
        {
         "connectgaps": true,
         "mode": "lines",
         "name": "Hungary",
         "type": "scatter",
         "x": [
          "1/22/20",
          "1/23/20",
          "1/24/20",
          "1/25/20",
          "1/26/20",
          "1/27/20",
          "1/28/20",
          "1/29/20",
          "1/30/20",
          "1/31/20",
          "2/1/20",
          "2/2/20",
          "2/3/20",
          "2/4/20",
          "2/5/20",
          "2/6/20",
          "2/7/20",
          "2/8/20",
          "2/9/20",
          "2/10/20",
          "2/11/20",
          "2/12/20",
          "2/13/20",
          "2/14/20",
          "2/15/20",
          "2/16/20",
          "2/17/20",
          "2/18/20",
          "2/19/20",
          "2/20/20",
          "2/21/20",
          "2/22/20",
          "2/23/20",
          "2/24/20",
          "2/25/20",
          "2/26/20",
          "2/27/20",
          "2/28/20",
          "2/29/20",
          "3/1/20",
          "3/2/20",
          "3/3/20",
          "3/4/20",
          "3/5/20",
          "3/6/20",
          "3/7/20",
          "3/8/20",
          "3/9/20",
          "3/10/20",
          "3/11/20",
          "3/12/20"
         ],
         "y": [
          0,
          0,
          0,
          0,
          0,
          0,
          0,
          0,
          0,
          0,
          0,
          0,
          0,
          0,
          0,
          0,
          0,
          0,
          0,
          0,
          0,
          0,
          0,
          0,
          0,
          0,
          0,
          0,
          0,
          0,
          0,
          0,
          0,
          0,
          0,
          0,
          0,
          0,
          0,
          0,
          0,
          0,
          2,
          2,
          2,
          4,
          7,
          9,
          9,
          13,
          13
         ]
        },
        {
         "mode": "markers",
         "type": "scatter",
         "x": [
          "1/22/20",
          "3/12/20"
         ],
         "y": [
          0,
          13
         ]
        },
        {
         "connectgaps": true,
         "mode": "lines",
         "name": "Belarus",
         "type": "scatter",
         "x": [
          "1/22/20",
          "1/23/20",
          "1/24/20",
          "1/25/20",
          "1/26/20",
          "1/27/20",
          "1/28/20",
          "1/29/20",
          "1/30/20",
          "1/31/20",
          "2/1/20",
          "2/2/20",
          "2/3/20",
          "2/4/20",
          "2/5/20",
          "2/6/20",
          "2/7/20",
          "2/8/20",
          "2/9/20",
          "2/10/20",
          "2/11/20",
          "2/12/20",
          "2/13/20",
          "2/14/20",
          "2/15/20",
          "2/16/20",
          "2/17/20",
          "2/18/20",
          "2/19/20",
          "2/20/20",
          "2/21/20",
          "2/22/20",
          "2/23/20",
          "2/24/20",
          "2/25/20",
          "2/26/20",
          "2/27/20",
          "2/28/20",
          "2/29/20",
          "3/1/20",
          "3/2/20",
          "3/3/20",
          "3/4/20",
          "3/5/20",
          "3/6/20",
          "3/7/20",
          "3/8/20",
          "3/9/20",
          "3/10/20",
          "3/11/20",
          "3/12/20"
         ],
         "y": [
          0,
          0,
          0,
          0,
          0,
          0,
          0,
          0,
          0,
          0,
          0,
          0,
          0,
          0,
          0,
          0,
          0,
          0,
          0,
          0,
          0,
          0,
          0,
          0,
          0,
          0,
          0,
          0,
          0,
          0,
          0,
          0,
          0,
          0,
          0,
          0,
          0,
          1,
          1,
          1,
          1,
          1,
          6,
          6,
          6,
          6,
          6,
          6,
          9,
          9,
          12
         ]
        },
        {
         "mode": "markers",
         "type": "scatter",
         "x": [
          "1/22/20",
          "3/12/20"
         ],
         "y": [
          0,
          12
         ]
        },
        {
         "connectgaps": true,
         "mode": "lines",
         "name": "Mexico",
         "type": "scatter",
         "x": [
          "1/22/20",
          "1/23/20",
          "1/24/20",
          "1/25/20",
          "1/26/20",
          "1/27/20",
          "1/28/20",
          "1/29/20",
          "1/30/20",
          "1/31/20",
          "2/1/20",
          "2/2/20",
          "2/3/20",
          "2/4/20",
          "2/5/20",
          "2/6/20",
          "2/7/20",
          "2/8/20",
          "2/9/20",
          "2/10/20",
          "2/11/20",
          "2/12/20",
          "2/13/20",
          "2/14/20",
          "2/15/20",
          "2/16/20",
          "2/17/20",
          "2/18/20",
          "2/19/20",
          "2/20/20",
          "2/21/20",
          "2/22/20",
          "2/23/20",
          "2/24/20",
          "2/25/20",
          "2/26/20",
          "2/27/20",
          "2/28/20",
          "2/29/20",
          "3/1/20",
          "3/2/20",
          "3/3/20",
          "3/4/20",
          "3/5/20",
          "3/6/20",
          "3/7/20",
          "3/8/20",
          "3/9/20",
          "3/10/20",
          "3/11/20",
          "3/12/20"
         ],
         "y": [
          0,
          0,
          0,
          0,
          0,
          0,
          0,
          0,
          0,
          0,
          0,
          0,
          0,
          0,
          0,
          0,
          0,
          0,
          0,
          0,
          0,
          0,
          0,
          0,
          0,
          0,
          0,
          0,
          0,
          0,
          0,
          0,
          0,
          0,
          0,
          0,
          0,
          1,
          4,
          5,
          5,
          5,
          5,
          5,
          6,
          6,
          7,
          7,
          7,
          8,
          12
         ]
        },
        {
         "mode": "markers",
         "type": "scatter",
         "x": [
          "1/22/20",
          "3/12/20"
         ],
         "y": [
          0,
          12
         ]
        },
        {
         "connectgaps": true,
         "mode": "lines",
         "name": "Panama",
         "type": "scatter",
         "x": [
          "1/22/20",
          "1/23/20",
          "1/24/20",
          "1/25/20",
          "1/26/20",
          "1/27/20",
          "1/28/20",
          "1/29/20",
          "1/30/20",
          "1/31/20",
          "2/1/20",
          "2/2/20",
          "2/3/20",
          "2/4/20",
          "2/5/20",
          "2/6/20",
          "2/7/20",
          "2/8/20",
          "2/9/20",
          "2/10/20",
          "2/11/20",
          "2/12/20",
          "2/13/20",
          "2/14/20",
          "2/15/20",
          "2/16/20",
          "2/17/20",
          "2/18/20",
          "2/19/20",
          "2/20/20",
          "2/21/20",
          "2/22/20",
          "2/23/20",
          "2/24/20",
          "2/25/20",
          "2/26/20",
          "2/27/20",
          "2/28/20",
          "2/29/20",
          "3/1/20",
          "3/2/20",
          "3/3/20",
          "3/4/20",
          "3/5/20",
          "3/6/20",
          "3/7/20",
          "3/8/20",
          "3/9/20",
          "3/10/20",
          "3/11/20",
          "3/12/20"
         ],
         "y": [
          0,
          0,
          0,
          0,
          0,
          0,
          0,
          0,
          0,
          0,
          0,
          0,
          0,
          0,
          0,
          0,
          0,
          0,
          0,
          0,
          0,
          0,
          0,
          0,
          0,
          0,
          0,
          0,
          0,
          0,
          0,
          0,
          0,
          0,
          0,
          0,
          0,
          0,
          0,
          0,
          0,
          0,
          0,
          0,
          0,
          0,
          0,
          0,
          1,
          8,
          11
         ]
        },
        {
         "mode": "markers",
         "type": "scatter",
         "x": [
          "1/22/20",
          "3/12/20"
         ],
         "y": [
          0,
          11
         ]
        },
        {
         "connectgaps": true,
         "mode": "lines",
         "name": "Bosnia and Herzegovina",
         "type": "scatter",
         "x": [
          "1/22/20",
          "1/23/20",
          "1/24/20",
          "1/25/20",
          "1/26/20",
          "1/27/20",
          "1/28/20",
          "1/29/20",
          "1/30/20",
          "1/31/20",
          "2/1/20",
          "2/2/20",
          "2/3/20",
          "2/4/20",
          "2/5/20",
          "2/6/20",
          "2/7/20",
          "2/8/20",
          "2/9/20",
          "2/10/20",
          "2/11/20",
          "2/12/20",
          "2/13/20",
          "2/14/20",
          "2/15/20",
          "2/16/20",
          "2/17/20",
          "2/18/20",
          "2/19/20",
          "2/20/20",
          "2/21/20",
          "2/22/20",
          "2/23/20",
          "2/24/20",
          "2/25/20",
          "2/26/20",
          "2/27/20",
          "2/28/20",
          "2/29/20",
          "3/1/20",
          "3/2/20",
          "3/3/20",
          "3/4/20",
          "3/5/20",
          "3/6/20",
          "3/7/20",
          "3/8/20",
          "3/9/20",
          "3/10/20",
          "3/11/20",
          "3/12/20"
         ],
         "y": [
          0,
          0,
          0,
          0,
          0,
          0,
          0,
          0,
          0,
          0,
          0,
          0,
          0,
          0,
          0,
          0,
          0,
          0,
          0,
          0,
          0,
          0,
          0,
          0,
          0,
          0,
          0,
          0,
          0,
          0,
          0,
          0,
          0,
          0,
          0,
          0,
          0,
          0,
          0,
          0,
          0,
          0,
          0,
          2,
          2,
          3,
          3,
          3,
          5,
          7,
          11
         ]
        },
        {
         "mode": "markers",
         "type": "scatter",
         "x": [
          "1/22/20",
          "3/12/20"
         ],
         "y": [
          0,
          11
         ]
        },
        {
         "connectgaps": true,
         "mode": "lines",
         "name": "Brunei",
         "type": "scatter",
         "x": [
          "1/22/20",
          "1/23/20",
          "1/24/20",
          "1/25/20",
          "1/26/20",
          "1/27/20",
          "1/28/20",
          "1/29/20",
          "1/30/20",
          "1/31/20",
          "2/1/20",
          "2/2/20",
          "2/3/20",
          "2/4/20",
          "2/5/20",
          "2/6/20",
          "2/7/20",
          "2/8/20",
          "2/9/20",
          "2/10/20",
          "2/11/20",
          "2/12/20",
          "2/13/20",
          "2/14/20",
          "2/15/20",
          "2/16/20",
          "2/17/20",
          "2/18/20",
          "2/19/20",
          "2/20/20",
          "2/21/20",
          "2/22/20",
          "2/23/20",
          "2/24/20",
          "2/25/20",
          "2/26/20",
          "2/27/20",
          "2/28/20",
          "2/29/20",
          "3/1/20",
          "3/2/20",
          "3/3/20",
          "3/4/20",
          "3/5/20",
          "3/6/20",
          "3/7/20",
          "3/8/20",
          "3/9/20",
          "3/10/20",
          "3/11/20",
          "3/12/20"
         ],
         "y": [
          0,
          0,
          0,
          0,
          0,
          0,
          0,
          0,
          0,
          0,
          0,
          0,
          0,
          0,
          0,
          0,
          0,
          0,
          0,
          0,
          0,
          0,
          0,
          0,
          0,
          0,
          0,
          0,
          0,
          0,
          0,
          0,
          0,
          0,
          0,
          0,
          0,
          0,
          0,
          0,
          0,
          0,
          0,
          0,
          0,
          0,
          0,
          1,
          1,
          11,
          11
         ]
        },
        {
         "mode": "markers",
         "type": "scatter",
         "x": [
          "1/22/20",
          "3/12/20"
         ],
         "y": [
          0,
          11
         ]
        },
        {
         "connectgaps": true,
         "mode": "lines",
         "name": "Azerbaijan",
         "type": "scatter",
         "x": [
          "1/22/20",
          "1/23/20",
          "1/24/20",
          "1/25/20",
          "1/26/20",
          "1/27/20",
          "1/28/20",
          "1/29/20",
          "1/30/20",
          "1/31/20",
          "2/1/20",
          "2/2/20",
          "2/3/20",
          "2/4/20",
          "2/5/20",
          "2/6/20",
          "2/7/20",
          "2/8/20",
          "2/9/20",
          "2/10/20",
          "2/11/20",
          "2/12/20",
          "2/13/20",
          "2/14/20",
          "2/15/20",
          "2/16/20",
          "2/17/20",
          "2/18/20",
          "2/19/20",
          "2/20/20",
          "2/21/20",
          "2/22/20",
          "2/23/20",
          "2/24/20",
          "2/25/20",
          "2/26/20",
          "2/27/20",
          "2/28/20",
          "2/29/20",
          "3/1/20",
          "3/2/20",
          "3/3/20",
          "3/4/20",
          "3/5/20",
          "3/6/20",
          "3/7/20",
          "3/8/20",
          "3/9/20",
          "3/10/20",
          "3/11/20",
          "3/12/20"
         ],
         "y": [
          0,
          0,
          0,
          0,
          0,
          0,
          0,
          0,
          0,
          0,
          0,
          0,
          0,
          0,
          0,
          0,
          0,
          0,
          0,
          0,
          0,
          0,
          0,
          0,
          0,
          0,
          0,
          0,
          0,
          0,
          0,
          0,
          0,
          0,
          0,
          0,
          0,
          0,
          0,
          3,
          3,
          3,
          3,
          6,
          6,
          9,
          9,
          9,
          11,
          11,
          11
         ]
        },
        {
         "mode": "markers",
         "type": "scatter",
         "x": [
          "1/22/20",
          "3/12/20"
         ],
         "y": [
          0,
          11
         ]
        },
        {
         "connectgaps": true,
         "mode": "lines",
         "name": "Latvia",
         "type": "scatter",
         "x": [
          "1/22/20",
          "1/23/20",
          "1/24/20",
          "1/25/20",
          "1/26/20",
          "1/27/20",
          "1/28/20",
          "1/29/20",
          "1/30/20",
          "1/31/20",
          "2/1/20",
          "2/2/20",
          "2/3/20",
          "2/4/20",
          "2/5/20",
          "2/6/20",
          "2/7/20",
          "2/8/20",
          "2/9/20",
          "2/10/20",
          "2/11/20",
          "2/12/20",
          "2/13/20",
          "2/14/20",
          "2/15/20",
          "2/16/20",
          "2/17/20",
          "2/18/20",
          "2/19/20",
          "2/20/20",
          "2/21/20",
          "2/22/20",
          "2/23/20",
          "2/24/20",
          "2/25/20",
          "2/26/20",
          "2/27/20",
          "2/28/20",
          "2/29/20",
          "3/1/20",
          "3/2/20",
          "3/3/20",
          "3/4/20",
          "3/5/20",
          "3/6/20",
          "3/7/20",
          "3/8/20",
          "3/9/20",
          "3/10/20",
          "3/11/20",
          "3/12/20"
         ],
         "y": [
          0,
          0,
          0,
          0,
          0,
          0,
          0,
          0,
          0,
          0,
          0,
          0,
          0,
          0,
          0,
          0,
          0,
          0,
          0,
          0,
          0,
          0,
          0,
          0,
          0,
          0,
          0,
          0,
          0,
          0,
          0,
          0,
          0,
          0,
          0,
          0,
          0,
          0,
          0,
          0,
          1,
          1,
          1,
          1,
          1,
          1,
          2,
          6,
          8,
          10,
          10
         ]
        },
        {
         "mode": "markers",
         "type": "scatter",
         "x": [
          "1/22/20",
          "3/12/20"
         ],
         "y": [
          0,
          10
         ]
        },
        {
         "connectgaps": true,
         "mode": "lines",
         "name": "Colombia",
         "type": "scatter",
         "x": [
          "1/22/20",
          "1/23/20",
          "1/24/20",
          "1/25/20",
          "1/26/20",
          "1/27/20",
          "1/28/20",
          "1/29/20",
          "1/30/20",
          "1/31/20",
          "2/1/20",
          "2/2/20",
          "2/3/20",
          "2/4/20",
          "2/5/20",
          "2/6/20",
          "2/7/20",
          "2/8/20",
          "2/9/20",
          "2/10/20",
          "2/11/20",
          "2/12/20",
          "2/13/20",
          "2/14/20",
          "2/15/20",
          "2/16/20",
          "2/17/20",
          "2/18/20",
          "2/19/20",
          "2/20/20",
          "2/21/20",
          "2/22/20",
          "2/23/20",
          "2/24/20",
          "2/25/20",
          "2/26/20",
          "2/27/20",
          "2/28/20",
          "2/29/20",
          "3/1/20",
          "3/2/20",
          "3/3/20",
          "3/4/20",
          "3/5/20",
          "3/6/20",
          "3/7/20",
          "3/8/20",
          "3/9/20",
          "3/10/20",
          "3/11/20",
          "3/12/20"
         ],
         "y": [
          0,
          0,
          0,
          0,
          0,
          0,
          0,
          0,
          0,
          0,
          0,
          0,
          0,
          0,
          0,
          0,
          0,
          0,
          0,
          0,
          0,
          0,
          0,
          0,
          0,
          0,
          0,
          0,
          0,
          0,
          0,
          0,
          0,
          0,
          0,
          0,
          0,
          0,
          0,
          0,
          0,
          0,
          0,
          0,
          1,
          1,
          1,
          1,
          3,
          9,
          9
         ]
        },
        {
         "mode": "markers",
         "type": "scatter",
         "x": [
          "1/22/20",
          "3/12/20"
         ],
         "y": [
          0,
          9
         ]
        },
        {
         "connectgaps": true,
         "mode": "lines",
         "name": "Maldives",
         "type": "scatter",
         "x": [
          "1/22/20",
          "1/23/20",
          "1/24/20",
          "1/25/20",
          "1/26/20",
          "1/27/20",
          "1/28/20",
          "1/29/20",
          "1/30/20",
          "1/31/20",
          "2/1/20",
          "2/2/20",
          "2/3/20",
          "2/4/20",
          "2/5/20",
          "2/6/20",
          "2/7/20",
          "2/8/20",
          "2/9/20",
          "2/10/20",
          "2/11/20",
          "2/12/20",
          "2/13/20",
          "2/14/20",
          "2/15/20",
          "2/16/20",
          "2/17/20",
          "2/18/20",
          "2/19/20",
          "2/20/20",
          "2/21/20",
          "2/22/20",
          "2/23/20",
          "2/24/20",
          "2/25/20",
          "2/26/20",
          "2/27/20",
          "2/28/20",
          "2/29/20",
          "3/1/20",
          "3/2/20",
          "3/3/20",
          "3/4/20",
          "3/5/20",
          "3/6/20",
          "3/7/20",
          "3/8/20",
          "3/9/20",
          "3/10/20",
          "3/11/20",
          "3/12/20"
         ],
         "y": [
          0,
          0,
          0,
          0,
          0,
          0,
          0,
          0,
          0,
          0,
          0,
          0,
          0,
          0,
          0,
          0,
          0,
          0,
          0,
          0,
          0,
          0,
          0,
          0,
          0,
          0,
          0,
          0,
          0,
          0,
          0,
          0,
          0,
          0,
          0,
          0,
          0,
          0,
          0,
          0,
          0,
          0,
          0,
          0,
          0,
          0,
          4,
          4,
          6,
          8,
          8
         ]
        },
        {
         "mode": "markers",
         "type": "scatter",
         "x": [
          "1/22/20",
          "3/12/20"
         ],
         "y": [
          0,
          8
         ]
        },
        {
         "connectgaps": true,
         "mode": "lines",
         "name": "North Macedonia",
         "type": "scatter",
         "x": [
          "1/22/20",
          "1/23/20",
          "1/24/20",
          "1/25/20",
          "1/26/20",
          "1/27/20",
          "1/28/20",
          "1/29/20",
          "1/30/20",
          "1/31/20",
          "2/1/20",
          "2/2/20",
          "2/3/20",
          "2/4/20",
          "2/5/20",
          "2/6/20",
          "2/7/20",
          "2/8/20",
          "2/9/20",
          "2/10/20",
          "2/11/20",
          "2/12/20",
          "2/13/20",
          "2/14/20",
          "2/15/20",
          "2/16/20",
          "2/17/20",
          "2/18/20",
          "2/19/20",
          "2/20/20",
          "2/21/20",
          "2/22/20",
          "2/23/20",
          "2/24/20",
          "2/25/20",
          "2/26/20",
          "2/27/20",
          "2/28/20",
          "2/29/20",
          "3/1/20",
          "3/2/20",
          "3/3/20",
          "3/4/20",
          "3/5/20",
          "3/6/20",
          "3/7/20",
          "3/8/20",
          "3/9/20",
          "3/10/20",
          "3/11/20",
          "3/12/20"
         ],
         "y": [
          0,
          0,
          0,
          0,
          0,
          0,
          0,
          0,
          0,
          0,
          0,
          0,
          0,
          0,
          0,
          0,
          0,
          0,
          0,
          0,
          0,
          0,
          0,
          0,
          0,
          0,
          0,
          0,
          0,
          0,
          0,
          0,
          0,
          0,
          0,
          1,
          1,
          1,
          1,
          1,
          1,
          1,
          1,
          1,
          3,
          3,
          3,
          3,
          7,
          7,
          7
         ]
        },
        {
         "mode": "markers",
         "type": "scatter",
         "x": [
          "1/22/20",
          "3/12/20"
         ],
         "y": [
          0,
          7
         ]
        },
        {
         "connectgaps": true,
         "mode": "lines",
         "name": "Bulgaria",
         "type": "scatter",
         "x": [
          "1/22/20",
          "1/23/20",
          "1/24/20",
          "1/25/20",
          "1/26/20",
          "1/27/20",
          "1/28/20",
          "1/29/20",
          "1/30/20",
          "1/31/20",
          "2/1/20",
          "2/2/20",
          "2/3/20",
          "2/4/20",
          "2/5/20",
          "2/6/20",
          "2/7/20",
          "2/8/20",
          "2/9/20",
          "2/10/20",
          "2/11/20",
          "2/12/20",
          "2/13/20",
          "2/14/20",
          "2/15/20",
          "2/16/20",
          "2/17/20",
          "2/18/20",
          "2/19/20",
          "2/20/20",
          "2/21/20",
          "2/22/20",
          "2/23/20",
          "2/24/20",
          "2/25/20",
          "2/26/20",
          "2/27/20",
          "2/28/20",
          "2/29/20",
          "3/1/20",
          "3/2/20",
          "3/3/20",
          "3/4/20",
          "3/5/20",
          "3/6/20",
          "3/7/20",
          "3/8/20",
          "3/9/20",
          "3/10/20",
          "3/11/20",
          "3/12/20"
         ],
         "y": [
          0,
          0,
          0,
          0,
          0,
          0,
          0,
          0,
          0,
          0,
          0,
          0,
          0,
          0,
          0,
          0,
          0,
          0,
          0,
          0,
          0,
          0,
          0,
          0,
          0,
          0,
          0,
          0,
          0,
          0,
          0,
          0,
          0,
          0,
          0,
          0,
          0,
          0,
          0,
          0,
          0,
          0,
          0,
          0,
          0,
          0,
          4,
          4,
          4,
          7,
          7
         ]
        },
        {
         "mode": "markers",
         "type": "scatter",
         "x": [
          "1/22/20",
          "3/12/20"
         ],
         "y": [
          0,
          7
         ]
        },
        {
         "connectgaps": true,
         "mode": "lines",
         "name": "Tunisia",
         "type": "scatter",
         "x": [
          "1/22/20",
          "1/23/20",
          "1/24/20",
          "1/25/20",
          "1/26/20",
          "1/27/20",
          "1/28/20",
          "1/29/20",
          "1/30/20",
          "1/31/20",
          "2/1/20",
          "2/2/20",
          "2/3/20",
          "2/4/20",
          "2/5/20",
          "2/6/20",
          "2/7/20",
          "2/8/20",
          "2/9/20",
          "2/10/20",
          "2/11/20",
          "2/12/20",
          "2/13/20",
          "2/14/20",
          "2/15/20",
          "2/16/20",
          "2/17/20",
          "2/18/20",
          "2/19/20",
          "2/20/20",
          "2/21/20",
          "2/22/20",
          "2/23/20",
          "2/24/20",
          "2/25/20",
          "2/26/20",
          "2/27/20",
          "2/28/20",
          "2/29/20",
          "3/1/20",
          "3/2/20",
          "3/3/20",
          "3/4/20",
          "3/5/20",
          "3/6/20",
          "3/7/20",
          "3/8/20",
          "3/9/20",
          "3/10/20",
          "3/11/20",
          "3/12/20"
         ],
         "y": [
          0,
          0,
          0,
          0,
          0,
          0,
          0,
          0,
          0,
          0,
          0,
          0,
          0,
          0,
          0,
          0,
          0,
          0,
          0,
          0,
          0,
          0,
          0,
          0,
          0,
          0,
          0,
          0,
          0,
          0,
          0,
          0,
          0,
          0,
          0,
          0,
          0,
          0,
          0,
          0,
          0,
          0,
          1,
          1,
          1,
          1,
          2,
          2,
          5,
          7,
          7
         ]
        },
        {
         "mode": "markers",
         "type": "scatter",
         "x": [
          "1/22/20",
          "3/12/20"
         ],
         "y": [
          0,
          7
         ]
        },
        {
         "connectgaps": true,
         "mode": "lines",
         "name": "Afghanistan",
         "type": "scatter",
         "x": [
          "1/22/20",
          "1/23/20",
          "1/24/20",
          "1/25/20",
          "1/26/20",
          "1/27/20",
          "1/28/20",
          "1/29/20",
          "1/30/20",
          "1/31/20",
          "2/1/20",
          "2/2/20",
          "2/3/20",
          "2/4/20",
          "2/5/20",
          "2/6/20",
          "2/7/20",
          "2/8/20",
          "2/9/20",
          "2/10/20",
          "2/11/20",
          "2/12/20",
          "2/13/20",
          "2/14/20",
          "2/15/20",
          "2/16/20",
          "2/17/20",
          "2/18/20",
          "2/19/20",
          "2/20/20",
          "2/21/20",
          "2/22/20",
          "2/23/20",
          "2/24/20",
          "2/25/20",
          "2/26/20",
          "2/27/20",
          "2/28/20",
          "2/29/20",
          "3/1/20",
          "3/2/20",
          "3/3/20",
          "3/4/20",
          "3/5/20",
          "3/6/20",
          "3/7/20",
          "3/8/20",
          "3/9/20",
          "3/10/20",
          "3/11/20",
          "3/12/20"
         ],
         "y": [
          0,
          0,
          0,
          0,
          0,
          0,
          0,
          0,
          0,
          0,
          0,
          0,
          0,
          0,
          0,
          0,
          0,
          0,
          0,
          0,
          0,
          0,
          0,
          0,
          0,
          0,
          0,
          0,
          0,
          0,
          0,
          0,
          0,
          1,
          1,
          1,
          1,
          1,
          1,
          1,
          1,
          1,
          1,
          1,
          1,
          1,
          4,
          4,
          5,
          7,
          7
         ]
        },
        {
         "mode": "markers",
         "type": "scatter",
         "x": [
          "1/22/20",
          "3/12/20"
         ],
         "y": [
          0,
          7
         ]
        },
        {
         "connectgaps": true,
         "mode": "lines",
         "name": "Morocco",
         "type": "scatter",
         "x": [
          "1/22/20",
          "1/23/20",
          "1/24/20",
          "1/25/20",
          "1/26/20",
          "1/27/20",
          "1/28/20",
          "1/29/20",
          "1/30/20",
          "1/31/20",
          "2/1/20",
          "2/2/20",
          "2/3/20",
          "2/4/20",
          "2/5/20",
          "2/6/20",
          "2/7/20",
          "2/8/20",
          "2/9/20",
          "2/10/20",
          "2/11/20",
          "2/12/20",
          "2/13/20",
          "2/14/20",
          "2/15/20",
          "2/16/20",
          "2/17/20",
          "2/18/20",
          "2/19/20",
          "2/20/20",
          "2/21/20",
          "2/22/20",
          "2/23/20",
          "2/24/20",
          "2/25/20",
          "2/26/20",
          "2/27/20",
          "2/28/20",
          "2/29/20",
          "3/1/20",
          "3/2/20",
          "3/3/20",
          "3/4/20",
          "3/5/20",
          "3/6/20",
          "3/7/20",
          "3/8/20",
          "3/9/20",
          "3/10/20",
          "3/11/20",
          "3/12/20"
         ],
         "y": [
          0,
          0,
          0,
          0,
          0,
          0,
          0,
          0,
          0,
          0,
          0,
          0,
          0,
          0,
          0,
          0,
          0,
          0,
          0,
          0,
          0,
          0,
          0,
          0,
          0,
          0,
          0,
          0,
          0,
          0,
          0,
          0,
          0,
          0,
          0,
          0,
          0,
          0,
          0,
          0,
          1,
          1,
          1,
          2,
          2,
          2,
          2,
          2,
          3,
          5,
          6
         ]
        },
        {
         "mode": "markers",
         "type": "scatter",
         "x": [
          "1/22/20",
          "3/12/20"
         ],
         "y": [
          0,
          6
         ]
        },
        {
         "connectgaps": true,
         "mode": "lines",
         "name": "Malta",
         "type": "scatter",
         "x": [
          "1/22/20",
          "1/23/20",
          "1/24/20",
          "1/25/20",
          "1/26/20",
          "1/27/20",
          "1/28/20",
          "1/29/20",
          "1/30/20",
          "1/31/20",
          "2/1/20",
          "2/2/20",
          "2/3/20",
          "2/4/20",
          "2/5/20",
          "2/6/20",
          "2/7/20",
          "2/8/20",
          "2/9/20",
          "2/10/20",
          "2/11/20",
          "2/12/20",
          "2/13/20",
          "2/14/20",
          "2/15/20",
          "2/16/20",
          "2/17/20",
          "2/18/20",
          "2/19/20",
          "2/20/20",
          "2/21/20",
          "2/22/20",
          "2/23/20",
          "2/24/20",
          "2/25/20",
          "2/26/20",
          "2/27/20",
          "2/28/20",
          "2/29/20",
          "3/1/20",
          "3/2/20",
          "3/3/20",
          "3/4/20",
          "3/5/20",
          "3/6/20",
          "3/7/20",
          "3/8/20",
          "3/9/20",
          "3/10/20",
          "3/11/20",
          "3/12/20"
         ],
         "y": [
          0,
          0,
          0,
          0,
          0,
          0,
          0,
          0,
          0,
          0,
          0,
          0,
          0,
          0,
          0,
          0,
          0,
          0,
          0,
          0,
          0,
          0,
          0,
          0,
          0,
          0,
          0,
          0,
          0,
          0,
          0,
          0,
          0,
          0,
          0,
          0,
          0,
          0,
          0,
          0,
          0,
          0,
          0,
          0,
          0,
          3,
          3,
          3,
          5,
          6,
          6
         ]
        },
        {
         "mode": "markers",
         "type": "scatter",
         "x": [
          "1/22/20",
          "3/12/20"
         ],
         "y": [
          0,
          6
         ]
        },
        {
         "connectgaps": true,
         "mode": "lines",
         "name": "Cyprus",
         "type": "scatter",
         "x": [
          "1/22/20",
          "1/23/20",
          "1/24/20",
          "1/25/20",
          "1/26/20",
          "1/27/20",
          "1/28/20",
          "1/29/20",
          "1/30/20",
          "1/31/20",
          "2/1/20",
          "2/2/20",
          "2/3/20",
          "2/4/20",
          "2/5/20",
          "2/6/20",
          "2/7/20",
          "2/8/20",
          "2/9/20",
          "2/10/20",
          "2/11/20",
          "2/12/20",
          "2/13/20",
          "2/14/20",
          "2/15/20",
          "2/16/20",
          "2/17/20",
          "2/18/20",
          "2/19/20",
          "2/20/20",
          "2/21/20",
          "2/22/20",
          "2/23/20",
          "2/24/20",
          "2/25/20",
          "2/26/20",
          "2/27/20",
          "2/28/20",
          "2/29/20",
          "3/1/20",
          "3/2/20",
          "3/3/20",
          "3/4/20",
          "3/5/20",
          "3/6/20",
          "3/7/20",
          "3/8/20",
          "3/9/20",
          "3/10/20",
          "3/11/20",
          "3/12/20"
         ],
         "y": [
          0,
          0,
          0,
          0,
          0,
          0,
          0,
          0,
          0,
          0,
          0,
          0,
          0,
          0,
          0,
          0,
          0,
          0,
          0,
          0,
          0,
          0,
          0,
          0,
          0,
          0,
          0,
          0,
          0,
          0,
          0,
          0,
          0,
          0,
          0,
          0,
          0,
          0,
          0,
          0,
          0,
          0,
          0,
          0,
          0,
          0,
          0,
          2,
          3,
          6,
          6
         ]
        },
        {
         "mode": "markers",
         "type": "scatter",
         "x": [
          "1/22/20",
          "3/12/20"
         ],
         "y": [
          0,
          6
         ]
        },
        {
         "connectgaps": true,
         "mode": "lines",
         "name": "New Zealand",
         "type": "scatter",
         "x": [
          "1/22/20",
          "1/23/20",
          "1/24/20",
          "1/25/20",
          "1/26/20",
          "1/27/20",
          "1/28/20",
          "1/29/20",
          "1/30/20",
          "1/31/20",
          "2/1/20",
          "2/2/20",
          "2/3/20",
          "2/4/20",
          "2/5/20",
          "2/6/20",
          "2/7/20",
          "2/8/20",
          "2/9/20",
          "2/10/20",
          "2/11/20",
          "2/12/20",
          "2/13/20",
          "2/14/20",
          "2/15/20",
          "2/16/20",
          "2/17/20",
          "2/18/20",
          "2/19/20",
          "2/20/20",
          "2/21/20",
          "2/22/20",
          "2/23/20",
          "2/24/20",
          "2/25/20",
          "2/26/20",
          "2/27/20",
          "2/28/20",
          "2/29/20",
          "3/1/20",
          "3/2/20",
          "3/3/20",
          "3/4/20",
          "3/5/20",
          "3/6/20",
          "3/7/20",
          "3/8/20",
          "3/9/20",
          "3/10/20",
          "3/11/20",
          "3/12/20"
         ],
         "y": [
          0,
          0,
          0,
          0,
          0,
          0,
          0,
          0,
          0,
          0,
          0,
          0,
          0,
          0,
          0,
          0,
          0,
          0,
          0,
          0,
          0,
          0,
          0,
          0,
          0,
          0,
          0,
          0,
          0,
          0,
          0,
          0,
          0,
          0,
          0,
          0,
          0,
          1,
          1,
          1,
          1,
          1,
          3,
          3,
          4,
          5,
          5,
          5,
          5,
          5,
          5
         ]
        },
        {
         "mode": "markers",
         "type": "scatter",
         "x": [
          "1/22/20",
          "3/12/20"
         ],
         "y": [
          0,
          5
         ]
        },
        {
         "connectgaps": true,
         "mode": "lines",
         "name": "French Guiana",
         "type": "scatter",
         "x": [
          "1/22/20",
          "1/23/20",
          "1/24/20",
          "1/25/20",
          "1/26/20",
          "1/27/20",
          "1/28/20",
          "1/29/20",
          "1/30/20",
          "1/31/20",
          "2/1/20",
          "2/2/20",
          "2/3/20",
          "2/4/20",
          "2/5/20",
          "2/6/20",
          "2/7/20",
          "2/8/20",
          "2/9/20",
          "2/10/20",
          "2/11/20",
          "2/12/20",
          "2/13/20",
          "2/14/20",
          "2/15/20",
          "2/16/20",
          "2/17/20",
          "2/18/20",
          "2/19/20",
          "2/20/20",
          "2/21/20",
          "2/22/20",
          "2/23/20",
          "2/24/20",
          "2/25/20",
          "2/26/20",
          "2/27/20",
          "2/28/20",
          "2/29/20",
          "3/1/20",
          "3/2/20",
          "3/3/20",
          "3/4/20",
          "3/5/20",
          "3/6/20",
          "3/7/20",
          "3/8/20",
          "3/9/20",
          "3/10/20",
          "3/11/20",
          "3/12/20"
         ],
         "y": [
          0,
          0,
          0,
          0,
          0,
          0,
          0,
          0,
          0,
          0,
          0,
          0,
          0,
          0,
          0,
          0,
          0,
          0,
          0,
          0,
          0,
          0,
          0,
          0,
          0,
          0,
          0,
          0,
          0,
          0,
          0,
          0,
          0,
          0,
          0,
          0,
          0,
          0,
          0,
          0,
          0,
          0,
          0,
          0,
          0,
          5,
          5,
          5,
          5,
          5,
          5
         ]
        },
        {
         "mode": "markers",
         "type": "scatter",
         "x": [
          "1/22/20",
          "3/12/20"
         ],
         "y": [
          0,
          5
         ]
        },
        {
         "connectgaps": true,
         "mode": "lines",
         "name": "Dominican Republic",
         "type": "scatter",
         "x": [
          "1/22/20",
          "1/23/20",
          "1/24/20",
          "1/25/20",
          "1/26/20",
          "1/27/20",
          "1/28/20",
          "1/29/20",
          "1/30/20",
          "1/31/20",
          "2/1/20",
          "2/2/20",
          "2/3/20",
          "2/4/20",
          "2/5/20",
          "2/6/20",
          "2/7/20",
          "2/8/20",
          "2/9/20",
          "2/10/20",
          "2/11/20",
          "2/12/20",
          "2/13/20",
          "2/14/20",
          "2/15/20",
          "2/16/20",
          "2/17/20",
          "2/18/20",
          "2/19/20",
          "2/20/20",
          "2/21/20",
          "2/22/20",
          "2/23/20",
          "2/24/20",
          "2/25/20",
          "2/26/20",
          "2/27/20",
          "2/28/20",
          "2/29/20",
          "3/1/20",
          "3/2/20",
          "3/3/20",
          "3/4/20",
          "3/5/20",
          "3/6/20",
          "3/7/20",
          "3/8/20",
          "3/9/20",
          "3/10/20",
          "3/11/20",
          "3/12/20"
         ],
         "y": [
          0,
          0,
          0,
          0,
          0,
          0,
          0,
          0,
          0,
          0,
          0,
          0,
          0,
          0,
          0,
          0,
          0,
          0,
          0,
          0,
          0,
          0,
          0,
          0,
          0,
          0,
          0,
          0,
          0,
          0,
          0,
          0,
          0,
          0,
          0,
          0,
          0,
          0,
          0,
          1,
          1,
          1,
          1,
          1,
          2,
          2,
          5,
          5,
          5,
          5,
          5
         ]
        },
        {
         "mode": "markers",
         "type": "scatter",
         "x": [
          "1/22/20",
          "3/12/20"
         ],
         "y": [
          0,
          5
         ]
        },
        {
         "connectgaps": true,
         "mode": "lines",
         "name": "Paraguay",
         "type": "scatter",
         "x": [
          "1/22/20",
          "1/23/20",
          "1/24/20",
          "1/25/20",
          "1/26/20",
          "1/27/20",
          "1/28/20",
          "1/29/20",
          "1/30/20",
          "1/31/20",
          "2/1/20",
          "2/2/20",
          "2/3/20",
          "2/4/20",
          "2/5/20",
          "2/6/20",
          "2/7/20",
          "2/8/20",
          "2/9/20",
          "2/10/20",
          "2/11/20",
          "2/12/20",
          "2/13/20",
          "2/14/20",
          "2/15/20",
          "2/16/20",
          "2/17/20",
          "2/18/20",
          "2/19/20",
          "2/20/20",
          "2/21/20",
          "2/22/20",
          "2/23/20",
          "2/24/20",
          "2/25/20",
          "2/26/20",
          "2/27/20",
          "2/28/20",
          "2/29/20",
          "3/1/20",
          "3/2/20",
          "3/3/20",
          "3/4/20",
          "3/5/20",
          "3/6/20",
          "3/7/20",
          "3/8/20",
          "3/9/20",
          "3/10/20",
          "3/11/20",
          "3/12/20"
         ],
         "y": [
          0,
          0,
          0,
          0,
          0,
          0,
          0,
          0,
          0,
          0,
          0,
          0,
          0,
          0,
          0,
          0,
          0,
          0,
          0,
          0,
          0,
          0,
          0,
          0,
          0,
          0,
          0,
          0,
          0,
          0,
          0,
          0,
          0,
          0,
          0,
          0,
          0,
          0,
          0,
          0,
          0,
          0,
          0,
          0,
          0,
          0,
          1,
          1,
          1,
          5,
          5
         ]
        },
        {
         "mode": "markers",
         "type": "scatter",
         "x": [
          "1/22/20",
          "3/12/20"
         ],
         "y": [
          0,
          5
         ]
        },
        {
         "connectgaps": true,
         "mode": "lines",
         "name": "Armenia",
         "type": "scatter",
         "x": [
          "1/22/20",
          "1/23/20",
          "1/24/20",
          "1/25/20",
          "1/26/20",
          "1/27/20",
          "1/28/20",
          "1/29/20",
          "1/30/20",
          "1/31/20",
          "2/1/20",
          "2/2/20",
          "2/3/20",
          "2/4/20",
          "2/5/20",
          "2/6/20",
          "2/7/20",
          "2/8/20",
          "2/9/20",
          "2/10/20",
          "2/11/20",
          "2/12/20",
          "2/13/20",
          "2/14/20",
          "2/15/20",
          "2/16/20",
          "2/17/20",
          "2/18/20",
          "2/19/20",
          "2/20/20",
          "2/21/20",
          "2/22/20",
          "2/23/20",
          "2/24/20",
          "2/25/20",
          "2/26/20",
          "2/27/20",
          "2/28/20",
          "2/29/20",
          "3/1/20",
          "3/2/20",
          "3/3/20",
          "3/4/20",
          "3/5/20",
          "3/6/20",
          "3/7/20",
          "3/8/20",
          "3/9/20",
          "3/10/20",
          "3/11/20",
          "3/12/20"
         ],
         "y": [
          0,
          0,
          0,
          0,
          0,
          0,
          0,
          0,
          0,
          0,
          0,
          0,
          0,
          0,
          0,
          0,
          0,
          0,
          0,
          0,
          0,
          0,
          0,
          0,
          0,
          0,
          0,
          0,
          0,
          0,
          0,
          0,
          0,
          0,
          0,
          0,
          0,
          0,
          0,
          1,
          1,
          1,
          1,
          1,
          1,
          1,
          1,
          1,
          1,
          1,
          4
         ]
        },
        {
         "mode": "markers",
         "type": "scatter",
         "x": [
          "1/22/20",
          "3/12/20"
         ],
         "y": [
          0,
          4
         ]
        },
        {
         "connectgaps": true,
         "mode": "lines",
         "name": "Senegal",
         "type": "scatter",
         "x": [
          "1/22/20",
          "1/23/20",
          "1/24/20",
          "1/25/20",
          "1/26/20",
          "1/27/20",
          "1/28/20",
          "1/29/20",
          "1/30/20",
          "1/31/20",
          "2/1/20",
          "2/2/20",
          "2/3/20",
          "2/4/20",
          "2/5/20",
          "2/6/20",
          "2/7/20",
          "2/8/20",
          "2/9/20",
          "2/10/20",
          "2/11/20",
          "2/12/20",
          "2/13/20",
          "2/14/20",
          "2/15/20",
          "2/16/20",
          "2/17/20",
          "2/18/20",
          "2/19/20",
          "2/20/20",
          "2/21/20",
          "2/22/20",
          "2/23/20",
          "2/24/20",
          "2/25/20",
          "2/26/20",
          "2/27/20",
          "2/28/20",
          "2/29/20",
          "3/1/20",
          "3/2/20",
          "3/3/20",
          "3/4/20",
          "3/5/20",
          "3/6/20",
          "3/7/20",
          "3/8/20",
          "3/9/20",
          "3/10/20",
          "3/11/20",
          "3/12/20"
         ],
         "y": [
          0,
          0,
          0,
          0,
          0,
          0,
          0,
          0,
          0,
          0,
          0,
          0,
          0,
          0,
          0,
          0,
          0,
          0,
          0,
          0,
          0,
          0,
          0,
          0,
          0,
          0,
          0,
          0,
          0,
          0,
          0,
          0,
          0,
          0,
          0,
          0,
          0,
          0,
          0,
          0,
          1,
          2,
          4,
          4,
          4,
          4,
          4,
          4,
          4,
          4,
          4
         ]
        },
        {
         "mode": "markers",
         "type": "scatter",
         "x": [
          "1/22/20",
          "3/12/20"
         ],
         "y": [
          0,
          4
         ]
        },
        {
         "connectgaps": true,
         "mode": "lines",
         "name": "Cuba",
         "type": "scatter",
         "x": [
          "1/22/20",
          "1/23/20",
          "1/24/20",
          "1/25/20",
          "1/26/20",
          "1/27/20",
          "1/28/20",
          "1/29/20",
          "1/30/20",
          "1/31/20",
          "2/1/20",
          "2/2/20",
          "2/3/20",
          "2/4/20",
          "2/5/20",
          "2/6/20",
          "2/7/20",
          "2/8/20",
          "2/9/20",
          "2/10/20",
          "2/11/20",
          "2/12/20",
          "2/13/20",
          "2/14/20",
          "2/15/20",
          "2/16/20",
          "2/17/20",
          "2/18/20",
          "2/19/20",
          "2/20/20",
          "2/21/20",
          "2/22/20",
          "2/23/20",
          "2/24/20",
          "2/25/20",
          "2/26/20",
          "2/27/20",
          "2/28/20",
          "2/29/20",
          "3/1/20",
          "3/2/20",
          "3/3/20",
          "3/4/20",
          "3/5/20",
          "3/6/20",
          "3/7/20",
          "3/8/20",
          "3/9/20",
          "3/10/20",
          "3/11/20",
          "3/12/20"
         ],
         "y": [
          0,
          0,
          0,
          0,
          0,
          0,
          0,
          0,
          0,
          0,
          0,
          0,
          0,
          0,
          0,
          0,
          0,
          0,
          0,
          0,
          0,
          0,
          0,
          0,
          0,
          0,
          0,
          0,
          0,
          0,
          0,
          0,
          0,
          0,
          0,
          0,
          0,
          0,
          0,
          0,
          0,
          0,
          0,
          0,
          0,
          0,
          0,
          0,
          0,
          0,
          3
         ]
        },
        {
         "mode": "markers",
         "type": "scatter",
         "x": [
          "1/22/20",
          "3/12/20"
         ],
         "y": [
          0,
          3
         ]
        },
        {
         "connectgaps": true,
         "mode": "lines",
         "name": "Moldova",
         "type": "scatter",
         "x": [
          "1/22/20",
          "1/23/20",
          "1/24/20",
          "1/25/20",
          "1/26/20",
          "1/27/20",
          "1/28/20",
          "1/29/20",
          "1/30/20",
          "1/31/20",
          "2/1/20",
          "2/2/20",
          "2/3/20",
          "2/4/20",
          "2/5/20",
          "2/6/20",
          "2/7/20",
          "2/8/20",
          "2/9/20",
          "2/10/20",
          "2/11/20",
          "2/12/20",
          "2/13/20",
          "2/14/20",
          "2/15/20",
          "2/16/20",
          "2/17/20",
          "2/18/20",
          "2/19/20",
          "2/20/20",
          "2/21/20",
          "2/22/20",
          "2/23/20",
          "2/24/20",
          "2/25/20",
          "2/26/20",
          "2/27/20",
          "2/28/20",
          "2/29/20",
          "3/1/20",
          "3/2/20",
          "3/3/20",
          "3/4/20",
          "3/5/20",
          "3/6/20",
          "3/7/20",
          "3/8/20",
          "3/9/20",
          "3/10/20",
          "3/11/20",
          "3/12/20"
         ],
         "y": [
          0,
          0,
          0,
          0,
          0,
          0,
          0,
          0,
          0,
          0,
          0,
          0,
          0,
          0,
          0,
          0,
          0,
          0,
          0,
          0,
          0,
          0,
          0,
          0,
          0,
          0,
          0,
          0,
          0,
          0,
          0,
          0,
          0,
          0,
          0,
          0,
          0,
          0,
          0,
          0,
          0,
          0,
          0,
          0,
          0,
          0,
          1,
          1,
          3,
          3,
          3
         ]
        },
        {
         "mode": "markers",
         "type": "scatter",
         "x": [
          "1/22/20",
          "3/12/20"
         ],
         "y": [
          0,
          3
         ]
        },
        {
         "connectgaps": true,
         "mode": "lines",
         "name": "Cambodia",
         "type": "scatter",
         "x": [
          "1/22/20",
          "1/23/20",
          "1/24/20",
          "1/25/20",
          "1/26/20",
          "1/27/20",
          "1/28/20",
          "1/29/20",
          "1/30/20",
          "1/31/20",
          "2/1/20",
          "2/2/20",
          "2/3/20",
          "2/4/20",
          "2/5/20",
          "2/6/20",
          "2/7/20",
          "2/8/20",
          "2/9/20",
          "2/10/20",
          "2/11/20",
          "2/12/20",
          "2/13/20",
          "2/14/20",
          "2/15/20",
          "2/16/20",
          "2/17/20",
          "2/18/20",
          "2/19/20",
          "2/20/20",
          "2/21/20",
          "2/22/20",
          "2/23/20",
          "2/24/20",
          "2/25/20",
          "2/26/20",
          "2/27/20",
          "2/28/20",
          "2/29/20",
          "3/1/20",
          "3/2/20",
          "3/3/20",
          "3/4/20",
          "3/5/20",
          "3/6/20",
          "3/7/20",
          "3/8/20",
          "3/9/20",
          "3/10/20",
          "3/11/20",
          "3/12/20"
         ],
         "y": [
          0,
          0,
          0,
          0,
          0,
          1,
          1,
          1,
          1,
          1,
          1,
          1,
          1,
          1,
          1,
          1,
          1,
          1,
          1,
          1,
          1,
          1,
          1,
          1,
          1,
          1,
          1,
          1,
          1,
          1,
          1,
          1,
          1,
          1,
          1,
          1,
          1,
          1,
          1,
          1,
          1,
          1,
          1,
          1,
          1,
          1,
          2,
          2,
          2,
          3,
          3
         ]
        },
        {
         "mode": "markers",
         "type": "scatter",
         "x": [
          "1/22/20",
          "3/12/20"
         ],
         "y": [
          0,
          3
         ]
        },
        {
         "connectgaps": true,
         "mode": "lines",
         "name": "Lithuania",
         "type": "scatter",
         "x": [
          "1/22/20",
          "1/23/20",
          "1/24/20",
          "1/25/20",
          "1/26/20",
          "1/27/20",
          "1/28/20",
          "1/29/20",
          "1/30/20",
          "1/31/20",
          "2/1/20",
          "2/2/20",
          "2/3/20",
          "2/4/20",
          "2/5/20",
          "2/6/20",
          "2/7/20",
          "2/8/20",
          "2/9/20",
          "2/10/20",
          "2/11/20",
          "2/12/20",
          "2/13/20",
          "2/14/20",
          "2/15/20",
          "2/16/20",
          "2/17/20",
          "2/18/20",
          "2/19/20",
          "2/20/20",
          "2/21/20",
          "2/22/20",
          "2/23/20",
          "2/24/20",
          "2/25/20",
          "2/26/20",
          "2/27/20",
          "2/28/20",
          "2/29/20",
          "3/1/20",
          "3/2/20",
          "3/3/20",
          "3/4/20",
          "3/5/20",
          "3/6/20",
          "3/7/20",
          "3/8/20",
          "3/9/20",
          "3/10/20",
          "3/11/20",
          "3/12/20"
         ],
         "y": [
          0,
          0,
          0,
          0,
          0,
          0,
          0,
          0,
          0,
          0,
          0,
          0,
          0,
          0,
          0,
          0,
          0,
          0,
          0,
          0,
          0,
          0,
          0,
          0,
          0,
          0,
          0,
          0,
          0,
          0,
          0,
          0,
          0,
          0,
          0,
          0,
          0,
          1,
          1,
          1,
          1,
          1,
          1,
          1,
          1,
          1,
          1,
          1,
          1,
          3,
          3
         ]
        },
        {
         "mode": "markers",
         "type": "scatter",
         "x": [
          "1/22/20",
          "3/12/20"
         ],
         "y": [
          0,
          3
         ]
        },
        {
         "connectgaps": true,
         "mode": "lines",
         "name": "Bangladesh",
         "type": "scatter",
         "x": [
          "1/22/20",
          "1/23/20",
          "1/24/20",
          "1/25/20",
          "1/26/20",
          "1/27/20",
          "1/28/20",
          "1/29/20",
          "1/30/20",
          "1/31/20",
          "2/1/20",
          "2/2/20",
          "2/3/20",
          "2/4/20",
          "2/5/20",
          "2/6/20",
          "2/7/20",
          "2/8/20",
          "2/9/20",
          "2/10/20",
          "2/11/20",
          "2/12/20",
          "2/13/20",
          "2/14/20",
          "2/15/20",
          "2/16/20",
          "2/17/20",
          "2/18/20",
          "2/19/20",
          "2/20/20",
          "2/21/20",
          "2/22/20",
          "2/23/20",
          "2/24/20",
          "2/25/20",
          "2/26/20",
          "2/27/20",
          "2/28/20",
          "2/29/20",
          "3/1/20",
          "3/2/20",
          "3/3/20",
          "3/4/20",
          "3/5/20",
          "3/6/20",
          "3/7/20",
          "3/8/20",
          "3/9/20",
          "3/10/20",
          "3/11/20",
          "3/12/20"
         ],
         "y": [
          0,
          0,
          0,
          0,
          0,
          0,
          0,
          0,
          0,
          0,
          0,
          0,
          0,
          0,
          0,
          0,
          0,
          0,
          0,
          0,
          0,
          0,
          0,
          0,
          0,
          0,
          0,
          0,
          0,
          0,
          0,
          0,
          0,
          0,
          0,
          0,
          0,
          0,
          0,
          0,
          0,
          0,
          0,
          0,
          0,
          0,
          3,
          3,
          3,
          3,
          3
         ]
        },
        {
         "mode": "markers",
         "type": "scatter",
         "x": [
          "1/22/20",
          "3/12/20"
         ],
         "y": [
          0,
          3
         ]
        },
        {
         "connectgaps": true,
         "mode": "lines",
         "name": "Martinique",
         "type": "scatter",
         "x": [
          "1/22/20",
          "1/23/20",
          "1/24/20",
          "1/25/20",
          "1/26/20",
          "1/27/20",
          "1/28/20",
          "1/29/20",
          "1/30/20",
          "1/31/20",
          "2/1/20",
          "2/2/20",
          "2/3/20",
          "2/4/20",
          "2/5/20",
          "2/6/20",
          "2/7/20",
          "2/8/20",
          "2/9/20",
          "2/10/20",
          "2/11/20",
          "2/12/20",
          "2/13/20",
          "2/14/20",
          "2/15/20",
          "2/16/20",
          "2/17/20",
          "2/18/20",
          "2/19/20",
          "2/20/20",
          "2/21/20",
          "2/22/20",
          "2/23/20",
          "2/24/20",
          "2/25/20",
          "2/26/20",
          "2/27/20",
          "2/28/20",
          "2/29/20",
          "3/1/20",
          "3/2/20",
          "3/3/20",
          "3/4/20",
          "3/5/20",
          "3/6/20",
          "3/7/20",
          "3/8/20",
          "3/9/20",
          "3/10/20",
          "3/11/20",
          "3/12/20"
         ],
         "y": [
          0,
          0,
          0,
          0,
          0,
          0,
          0,
          0,
          0,
          0,
          0,
          0,
          0,
          0,
          0,
          0,
          0,
          0,
          0,
          0,
          0,
          0,
          0,
          0,
          0,
          0,
          0,
          0,
          0,
          0,
          0,
          0,
          0,
          0,
          0,
          0,
          0,
          0,
          0,
          0,
          0,
          0,
          0,
          0,
          0,
          2,
          2,
          2,
          2,
          3,
          3
         ]
        },
        {
         "mode": "markers",
         "type": "scatter",
         "x": [
          "1/22/20",
          "3/12/20"
         ],
         "y": [
          0,
          3
         ]
        },
        {
         "connectgaps": true,
         "mode": "lines",
         "name": "Sri Lanka",
         "type": "scatter",
         "x": [
          "1/22/20",
          "1/23/20",
          "1/24/20",
          "1/25/20",
          "1/26/20",
          "1/27/20",
          "1/28/20",
          "1/29/20",
          "1/30/20",
          "1/31/20",
          "2/1/20",
          "2/2/20",
          "2/3/20",
          "2/4/20",
          "2/5/20",
          "2/6/20",
          "2/7/20",
          "2/8/20",
          "2/9/20",
          "2/10/20",
          "2/11/20",
          "2/12/20",
          "2/13/20",
          "2/14/20",
          "2/15/20",
          "2/16/20",
          "2/17/20",
          "2/18/20",
          "2/19/20",
          "2/20/20",
          "2/21/20",
          "2/22/20",
          "2/23/20",
          "2/24/20",
          "2/25/20",
          "2/26/20",
          "2/27/20",
          "2/28/20",
          "2/29/20",
          "3/1/20",
          "3/2/20",
          "3/3/20",
          "3/4/20",
          "3/5/20",
          "3/6/20",
          "3/7/20",
          "3/8/20",
          "3/9/20",
          "3/10/20",
          "3/11/20",
          "3/12/20"
         ],
         "y": [
          0,
          0,
          0,
          0,
          0,
          1,
          1,
          1,
          1,
          1,
          1,
          1,
          1,
          1,
          1,
          1,
          1,
          1,
          1,
          1,
          1,
          1,
          1,
          1,
          1,
          1,
          1,
          1,
          1,
          1,
          1,
          1,
          1,
          1,
          1,
          1,
          1,
          1,
          1,
          1,
          1,
          1,
          1,
          1,
          1,
          1,
          1,
          1,
          1,
          2,
          2
         ]
        },
        {
         "mode": "markers",
         "type": "scatter",
         "x": [
          "1/22/20",
          "3/12/20"
         ],
         "y": [
          0,
          2
         ]
        },
        {
         "connectgaps": true,
         "mode": "lines",
         "name": "Bolivia",
         "type": "scatter",
         "x": [
          "1/22/20",
          "1/23/20",
          "1/24/20",
          "1/25/20",
          "1/26/20",
          "1/27/20",
          "1/28/20",
          "1/29/20",
          "1/30/20",
          "1/31/20",
          "2/1/20",
          "2/2/20",
          "2/3/20",
          "2/4/20",
          "2/5/20",
          "2/6/20",
          "2/7/20",
          "2/8/20",
          "2/9/20",
          "2/10/20",
          "2/11/20",
          "2/12/20",
          "2/13/20",
          "2/14/20",
          "2/15/20",
          "2/16/20",
          "2/17/20",
          "2/18/20",
          "2/19/20",
          "2/20/20",
          "2/21/20",
          "2/22/20",
          "2/23/20",
          "2/24/20",
          "2/25/20",
          "2/26/20",
          "2/27/20",
          "2/28/20",
          "2/29/20",
          "3/1/20",
          "3/2/20",
          "3/3/20",
          "3/4/20",
          "3/5/20",
          "3/6/20",
          "3/7/20",
          "3/8/20",
          "3/9/20",
          "3/10/20",
          "3/11/20",
          "3/12/20"
         ],
         "y": [
          0,
          0,
          0,
          0,
          0,
          0,
          0,
          0,
          0,
          0,
          0,
          0,
          0,
          0,
          0,
          0,
          0,
          0,
          0,
          0,
          0,
          0,
          0,
          0,
          0,
          0,
          0,
          0,
          0,
          0,
          0,
          0,
          0,
          0,
          0,
          0,
          0,
          0,
          0,
          0,
          0,
          0,
          0,
          0,
          0,
          0,
          0,
          0,
          0,
          2,
          2
         ]
        },
        {
         "mode": "markers",
         "type": "scatter",
         "x": [
          "1/22/20",
          "3/12/20"
         ],
         "y": [
          0,
          2
         ]
        },
        {
         "connectgaps": true,
         "mode": "lines",
         "name": "Honduras",
         "type": "scatter",
         "x": [
          "1/22/20",
          "1/23/20",
          "1/24/20",
          "1/25/20",
          "1/26/20",
          "1/27/20",
          "1/28/20",
          "1/29/20",
          "1/30/20",
          "1/31/20",
          "2/1/20",
          "2/2/20",
          "2/3/20",
          "2/4/20",
          "2/5/20",
          "2/6/20",
          "2/7/20",
          "2/8/20",
          "2/9/20",
          "2/10/20",
          "2/11/20",
          "2/12/20",
          "2/13/20",
          "2/14/20",
          "2/15/20",
          "2/16/20",
          "2/17/20",
          "2/18/20",
          "2/19/20",
          "2/20/20",
          "2/21/20",
          "2/22/20",
          "2/23/20",
          "2/24/20",
          "2/25/20",
          "2/26/20",
          "2/27/20",
          "2/28/20",
          "2/29/20",
          "3/1/20",
          "3/2/20",
          "3/3/20",
          "3/4/20",
          "3/5/20",
          "3/6/20",
          "3/7/20",
          "3/8/20",
          "3/9/20",
          "3/10/20",
          "3/11/20",
          "3/12/20"
         ],
         "y": [
          0,
          0,
          0,
          0,
          0,
          0,
          0,
          0,
          0,
          0,
          0,
          0,
          0,
          0,
          0,
          0,
          0,
          0,
          0,
          0,
          0,
          0,
          0,
          0,
          0,
          0,
          0,
          0,
          0,
          0,
          0,
          0,
          0,
          0,
          0,
          0,
          0,
          0,
          0,
          0,
          0,
          0,
          0,
          0,
          0,
          0,
          0,
          0,
          0,
          2,
          2
         ]
        },
        {
         "mode": "markers",
         "type": "scatter",
         "x": [
          "1/22/20",
          "3/12/20"
         ],
         "y": [
          0,
          2
         ]
        },
        {
         "connectgaps": true,
         "mode": "lines",
         "name": "Burkina Faso",
         "type": "scatter",
         "x": [
          "1/22/20",
          "1/23/20",
          "1/24/20",
          "1/25/20",
          "1/26/20",
          "1/27/20",
          "1/28/20",
          "1/29/20",
          "1/30/20",
          "1/31/20",
          "2/1/20",
          "2/2/20",
          "2/3/20",
          "2/4/20",
          "2/5/20",
          "2/6/20",
          "2/7/20",
          "2/8/20",
          "2/9/20",
          "2/10/20",
          "2/11/20",
          "2/12/20",
          "2/13/20",
          "2/14/20",
          "2/15/20",
          "2/16/20",
          "2/17/20",
          "2/18/20",
          "2/19/20",
          "2/20/20",
          "2/21/20",
          "2/22/20",
          "2/23/20",
          "2/24/20",
          "2/25/20",
          "2/26/20",
          "2/27/20",
          "2/28/20",
          "2/29/20",
          "3/1/20",
          "3/2/20",
          "3/3/20",
          "3/4/20",
          "3/5/20",
          "3/6/20",
          "3/7/20",
          "3/8/20",
          "3/9/20",
          "3/10/20",
          "3/11/20",
          "3/12/20"
         ],
         "y": [
          0,
          0,
          0,
          0,
          0,
          0,
          0,
          0,
          0,
          0,
          0,
          0,
          0,
          0,
          0,
          0,
          0,
          0,
          0,
          0,
          0,
          0,
          0,
          0,
          0,
          0,
          0,
          0,
          0,
          0,
          0,
          0,
          0,
          0,
          0,
          0,
          0,
          0,
          0,
          0,
          0,
          0,
          0,
          0,
          0,
          0,
          0,
          0,
          1,
          2,
          2
         ]
        },
        {
         "mode": "markers",
         "type": "scatter",
         "x": [
          "1/22/20",
          "3/12/20"
         ],
         "y": [
          0,
          2
         ]
        },
        {
         "connectgaps": true,
         "mode": "lines",
         "name": "Cameroon",
         "type": "scatter",
         "x": [
          "1/22/20",
          "1/23/20",
          "1/24/20",
          "1/25/20",
          "1/26/20",
          "1/27/20",
          "1/28/20",
          "1/29/20",
          "1/30/20",
          "1/31/20",
          "2/1/20",
          "2/2/20",
          "2/3/20",
          "2/4/20",
          "2/5/20",
          "2/6/20",
          "2/7/20",
          "2/8/20",
          "2/9/20",
          "2/10/20",
          "2/11/20",
          "2/12/20",
          "2/13/20",
          "2/14/20",
          "2/15/20",
          "2/16/20",
          "2/17/20",
          "2/18/20",
          "2/19/20",
          "2/20/20",
          "2/21/20",
          "2/22/20",
          "2/23/20",
          "2/24/20",
          "2/25/20",
          "2/26/20",
          "2/27/20",
          "2/28/20",
          "2/29/20",
          "3/1/20",
          "3/2/20",
          "3/3/20",
          "3/4/20",
          "3/5/20",
          "3/6/20",
          "3/7/20",
          "3/8/20",
          "3/9/20",
          "3/10/20",
          "3/11/20",
          "3/12/20"
         ],
         "y": [
          0,
          0,
          0,
          0,
          0,
          0,
          0,
          0,
          0,
          0,
          0,
          0,
          0,
          0,
          0,
          0,
          0,
          0,
          0,
          0,
          0,
          0,
          0,
          0,
          0,
          0,
          0,
          0,
          0,
          0,
          0,
          0,
          0,
          0,
          0,
          0,
          0,
          0,
          0,
          0,
          0,
          0,
          0,
          0,
          1,
          1,
          2,
          2,
          2,
          2,
          2
         ]
        },
        {
         "mode": "markers",
         "type": "scatter",
         "x": [
          "1/22/20",
          "3/12/20"
         ],
         "y": [
          0,
          2
         ]
        },
        {
         "connectgaps": true,
         "mode": "lines",
         "name": "Nigeria",
         "type": "scatter",
         "x": [
          "1/22/20",
          "1/23/20",
          "1/24/20",
          "1/25/20",
          "1/26/20",
          "1/27/20",
          "1/28/20",
          "1/29/20",
          "1/30/20",
          "1/31/20",
          "2/1/20",
          "2/2/20",
          "2/3/20",
          "2/4/20",
          "2/5/20",
          "2/6/20",
          "2/7/20",
          "2/8/20",
          "2/9/20",
          "2/10/20",
          "2/11/20",
          "2/12/20",
          "2/13/20",
          "2/14/20",
          "2/15/20",
          "2/16/20",
          "2/17/20",
          "2/18/20",
          "2/19/20",
          "2/20/20",
          "2/21/20",
          "2/22/20",
          "2/23/20",
          "2/24/20",
          "2/25/20",
          "2/26/20",
          "2/27/20",
          "2/28/20",
          "2/29/20",
          "3/1/20",
          "3/2/20",
          "3/3/20",
          "3/4/20",
          "3/5/20",
          "3/6/20",
          "3/7/20",
          "3/8/20",
          "3/9/20",
          "3/10/20",
          "3/11/20",
          "3/12/20"
         ],
         "y": [
          0,
          0,
          0,
          0,
          0,
          0,
          0,
          0,
          0,
          0,
          0,
          0,
          0,
          0,
          0,
          0,
          0,
          0,
          0,
          0,
          0,
          0,
          0,
          0,
          0,
          0,
          0,
          0,
          0,
          0,
          0,
          0,
          0,
          0,
          0,
          0,
          0,
          1,
          1,
          1,
          1,
          1,
          1,
          1,
          1,
          1,
          1,
          2,
          2,
          2,
          2
         ]
        },
        {
         "mode": "markers",
         "type": "scatter",
         "x": [
          "1/22/20",
          "3/12/20"
         ],
         "y": [
          0,
          2
         ]
        },
        {
         "connectgaps": true,
         "mode": "lines",
         "name": "Monaco",
         "type": "scatter",
         "x": [
          "1/22/20",
          "1/23/20",
          "1/24/20",
          "1/25/20",
          "1/26/20",
          "1/27/20",
          "1/28/20",
          "1/29/20",
          "1/30/20",
          "1/31/20",
          "2/1/20",
          "2/2/20",
          "2/3/20",
          "2/4/20",
          "2/5/20",
          "2/6/20",
          "2/7/20",
          "2/8/20",
          "2/9/20",
          "2/10/20",
          "2/11/20",
          "2/12/20",
          "2/13/20",
          "2/14/20",
          "2/15/20",
          "2/16/20",
          "2/17/20",
          "2/18/20",
          "2/19/20",
          "2/20/20",
          "2/21/20",
          "2/22/20",
          "2/23/20",
          "2/24/20",
          "2/25/20",
          "2/26/20",
          "2/27/20",
          "2/28/20",
          "2/29/20",
          "3/1/20",
          "3/2/20",
          "3/3/20",
          "3/4/20",
          "3/5/20",
          "3/6/20",
          "3/7/20",
          "3/8/20",
          "3/9/20",
          "3/10/20",
          "3/11/20",
          "3/12/20"
         ],
         "y": [
          0,
          0,
          0,
          0,
          0,
          0,
          0,
          0,
          0,
          0,
          0,
          0,
          0,
          0,
          0,
          0,
          0,
          0,
          0,
          0,
          0,
          0,
          0,
          0,
          0,
          0,
          0,
          0,
          0,
          0,
          0,
          0,
          0,
          0,
          0,
          0,
          0,
          0,
          1,
          1,
          1,
          1,
          1,
          1,
          1,
          1,
          1,
          1,
          1,
          1,
          2
         ]
        },
        {
         "mode": "markers",
         "type": "scatter",
         "x": [
          "1/22/20",
          "3/12/20"
         ],
         "y": [
          0,
          2
         ]
        },
        {
         "connectgaps": true,
         "mode": "lines",
         "name": "Jamaica",
         "type": "scatter",
         "x": [
          "1/22/20",
          "1/23/20",
          "1/24/20",
          "1/25/20",
          "1/26/20",
          "1/27/20",
          "1/28/20",
          "1/29/20",
          "1/30/20",
          "1/31/20",
          "2/1/20",
          "2/2/20",
          "2/3/20",
          "2/4/20",
          "2/5/20",
          "2/6/20",
          "2/7/20",
          "2/8/20",
          "2/9/20",
          "2/10/20",
          "2/11/20",
          "2/12/20",
          "2/13/20",
          "2/14/20",
          "2/15/20",
          "2/16/20",
          "2/17/20",
          "2/18/20",
          "2/19/20",
          "2/20/20",
          "2/21/20",
          "2/22/20",
          "2/23/20",
          "2/24/20",
          "2/25/20",
          "2/26/20",
          "2/27/20",
          "2/28/20",
          "2/29/20",
          "3/1/20",
          "3/2/20",
          "3/3/20",
          "3/4/20",
          "3/5/20",
          "3/6/20",
          "3/7/20",
          "3/8/20",
          "3/9/20",
          "3/10/20",
          "3/11/20",
          "3/12/20"
         ],
         "y": [
          0,
          0,
          0,
          0,
          0,
          0,
          0,
          0,
          0,
          0,
          0,
          0,
          0,
          0,
          0,
          0,
          0,
          0,
          0,
          0,
          0,
          0,
          0,
          0,
          0,
          0,
          0,
          0,
          0,
          0,
          0,
          0,
          0,
          0,
          0,
          0,
          0,
          0,
          0,
          0,
          0,
          0,
          0,
          0,
          0,
          0,
          0,
          0,
          0,
          1,
          2
         ]
        },
        {
         "mode": "markers",
         "type": "scatter",
         "x": [
          "1/22/20",
          "3/12/20"
         ],
         "y": [
          0,
          2
         ]
        },
        {
         "connectgaps": true,
         "mode": "lines",
         "name": "Togo",
         "type": "scatter",
         "x": [
          "1/22/20",
          "1/23/20",
          "1/24/20",
          "1/25/20",
          "1/26/20",
          "1/27/20",
          "1/28/20",
          "1/29/20",
          "1/30/20",
          "1/31/20",
          "2/1/20",
          "2/2/20",
          "2/3/20",
          "2/4/20",
          "2/5/20",
          "2/6/20",
          "2/7/20",
          "2/8/20",
          "2/9/20",
          "2/10/20",
          "2/11/20",
          "2/12/20",
          "2/13/20",
          "2/14/20",
          "2/15/20",
          "2/16/20",
          "2/17/20",
          "2/18/20",
          "2/19/20",
          "2/20/20",
          "2/21/20",
          "2/22/20",
          "2/23/20",
          "2/24/20",
          "2/25/20",
          "2/26/20",
          "2/27/20",
          "2/28/20",
          "2/29/20",
          "3/1/20",
          "3/2/20",
          "3/3/20",
          "3/4/20",
          "3/5/20",
          "3/6/20",
          "3/7/20",
          "3/8/20",
          "3/9/20",
          "3/10/20",
          "3/11/20",
          "3/12/20"
         ],
         "y": [
          0,
          0,
          0,
          0,
          0,
          0,
          0,
          0,
          0,
          0,
          0,
          0,
          0,
          0,
          0,
          0,
          0,
          0,
          0,
          0,
          0,
          0,
          0,
          0,
          0,
          0,
          0,
          0,
          0,
          0,
          0,
          0,
          0,
          0,
          0,
          0,
          0,
          0,
          0,
          0,
          0,
          0,
          0,
          0,
          1,
          1,
          1,
          1,
          1,
          1,
          1
         ]
        },
        {
         "mode": "markers",
         "type": "scatter",
         "x": [
          "1/22/20",
          "3/12/20"
         ],
         "y": [
          0,
          1
         ]
        },
        {
         "connectgaps": true,
         "mode": "lines",
         "name": "Holy See",
         "type": "scatter",
         "x": [
          "1/22/20",
          "1/23/20",
          "1/24/20",
          "1/25/20",
          "1/26/20",
          "1/27/20",
          "1/28/20",
          "1/29/20",
          "1/30/20",
          "1/31/20",
          "2/1/20",
          "2/2/20",
          "2/3/20",
          "2/4/20",
          "2/5/20",
          "2/6/20",
          "2/7/20",
          "2/8/20",
          "2/9/20",
          "2/10/20",
          "2/11/20",
          "2/12/20",
          "2/13/20",
          "2/14/20",
          "2/15/20",
          "2/16/20",
          "2/17/20",
          "2/18/20",
          "2/19/20",
          "2/20/20",
          "2/21/20",
          "2/22/20",
          "2/23/20",
          "2/24/20",
          "2/25/20",
          "2/26/20",
          "2/27/20",
          "2/28/20",
          "2/29/20",
          "3/1/20",
          "3/2/20",
          "3/3/20",
          "3/4/20",
          "3/5/20",
          "3/6/20",
          "3/7/20",
          "3/8/20",
          "3/9/20",
          "3/10/20",
          "3/11/20",
          "3/12/20"
         ],
         "y": [
          0,
          0,
          0,
          0,
          0,
          0,
          0,
          0,
          0,
          0,
          0,
          0,
          0,
          0,
          0,
          0,
          0,
          0,
          0,
          0,
          0,
          0,
          0,
          0,
          0,
          0,
          0,
          0,
          0,
          0,
          0,
          0,
          0,
          0,
          0,
          0,
          0,
          0,
          0,
          0,
          0,
          0,
          0,
          0,
          1,
          1,
          1,
          1,
          1,
          1,
          1
         ]
        },
        {
         "mode": "markers",
         "type": "scatter",
         "x": [
          "1/22/20",
          "3/12/20"
         ],
         "y": [
          0,
          1
         ]
        },
        {
         "connectgaps": true,
         "mode": "lines",
         "name": "Andorra",
         "type": "scatter",
         "x": [
          "1/22/20",
          "1/23/20",
          "1/24/20",
          "1/25/20",
          "1/26/20",
          "1/27/20",
          "1/28/20",
          "1/29/20",
          "1/30/20",
          "1/31/20",
          "2/1/20",
          "2/2/20",
          "2/3/20",
          "2/4/20",
          "2/5/20",
          "2/6/20",
          "2/7/20",
          "2/8/20",
          "2/9/20",
          "2/10/20",
          "2/11/20",
          "2/12/20",
          "2/13/20",
          "2/14/20",
          "2/15/20",
          "2/16/20",
          "2/17/20",
          "2/18/20",
          "2/19/20",
          "2/20/20",
          "2/21/20",
          "2/22/20",
          "2/23/20",
          "2/24/20",
          "2/25/20",
          "2/26/20",
          "2/27/20",
          "2/28/20",
          "2/29/20",
          "3/1/20",
          "3/2/20",
          "3/3/20",
          "3/4/20",
          "3/5/20",
          "3/6/20",
          "3/7/20",
          "3/8/20",
          "3/9/20",
          "3/10/20",
          "3/11/20",
          "3/12/20"
         ],
         "y": [
          0,
          0,
          0,
          0,
          0,
          0,
          0,
          0,
          0,
          0,
          0,
          0,
          0,
          0,
          0,
          0,
          0,
          0,
          0,
          0,
          0,
          0,
          0,
          0,
          0,
          0,
          0,
          0,
          0,
          0,
          0,
          0,
          0,
          0,
          0,
          0,
          0,
          0,
          0,
          0,
          1,
          1,
          1,
          1,
          1,
          1,
          1,
          1,
          1,
          1,
          1
         ]
        },
        {
         "mode": "markers",
         "type": "scatter",
         "x": [
          "1/22/20",
          "3/12/20"
         ],
         "y": [
          0,
          1
         ]
        },
        {
         "connectgaps": true,
         "mode": "lines",
         "name": "Ukraine",
         "type": "scatter",
         "x": [
          "1/22/20",
          "1/23/20",
          "1/24/20",
          "1/25/20",
          "1/26/20",
          "1/27/20",
          "1/28/20",
          "1/29/20",
          "1/30/20",
          "1/31/20",
          "2/1/20",
          "2/2/20",
          "2/3/20",
          "2/4/20",
          "2/5/20",
          "2/6/20",
          "2/7/20",
          "2/8/20",
          "2/9/20",
          "2/10/20",
          "2/11/20",
          "2/12/20",
          "2/13/20",
          "2/14/20",
          "2/15/20",
          "2/16/20",
          "2/17/20",
          "2/18/20",
          "2/19/20",
          "2/20/20",
          "2/21/20",
          "2/22/20",
          "2/23/20",
          "2/24/20",
          "2/25/20",
          "2/26/20",
          "2/27/20",
          "2/28/20",
          "2/29/20",
          "3/1/20",
          "3/2/20",
          "3/3/20",
          "3/4/20",
          "3/5/20",
          "3/6/20",
          "3/7/20",
          "3/8/20",
          "3/9/20",
          "3/10/20",
          "3/11/20",
          "3/12/20"
         ],
         "y": [
          0,
          0,
          0,
          0,
          0,
          0,
          0,
          0,
          0,
          0,
          0,
          0,
          0,
          0,
          0,
          0,
          0,
          0,
          0,
          0,
          0,
          0,
          0,
          0,
          0,
          0,
          0,
          0,
          0,
          0,
          0,
          0,
          0,
          0,
          0,
          0,
          0,
          0,
          0,
          0,
          0,
          1,
          1,
          1,
          1,
          1,
          1,
          1,
          1,
          1,
          1
         ]
        },
        {
         "mode": "markers",
         "type": "scatter",
         "x": [
          "1/22/20",
          "3/12/20"
         ],
         "y": [
          0,
          1
         ]
        },
        {
         "connectgaps": true,
         "mode": "lines",
         "name": "Guyana",
         "type": "scatter",
         "x": [
          "1/22/20",
          "1/23/20",
          "1/24/20",
          "1/25/20",
          "1/26/20",
          "1/27/20",
          "1/28/20",
          "1/29/20",
          "1/30/20",
          "1/31/20",
          "2/1/20",
          "2/2/20",
          "2/3/20",
          "2/4/20",
          "2/5/20",
          "2/6/20",
          "2/7/20",
          "2/8/20",
          "2/9/20",
          "2/10/20",
          "2/11/20",
          "2/12/20",
          "2/13/20",
          "2/14/20",
          "2/15/20",
          "2/16/20",
          "2/17/20",
          "2/18/20",
          "2/19/20",
          "2/20/20",
          "2/21/20",
          "2/22/20",
          "2/23/20",
          "2/24/20",
          "2/25/20",
          "2/26/20",
          "2/27/20",
          "2/28/20",
          "2/29/20",
          "3/1/20",
          "3/2/20",
          "3/3/20",
          "3/4/20",
          "3/5/20",
          "3/6/20",
          "3/7/20",
          "3/8/20",
          "3/9/20",
          "3/10/20",
          "3/11/20",
          "3/12/20"
         ],
         "y": [
          0,
          0,
          0,
          0,
          0,
          0,
          0,
          0,
          0,
          0,
          0,
          0,
          0,
          0,
          0,
          0,
          0,
          0,
          0,
          0,
          0,
          0,
          0,
          0,
          0,
          0,
          0,
          0,
          0,
          0,
          0,
          0,
          0,
          0,
          0,
          0,
          0,
          0,
          0,
          0,
          0,
          0,
          0,
          0,
          0,
          0,
          0,
          0,
          0,
          0,
          1
         ]
        },
        {
         "mode": "markers",
         "type": "scatter",
         "x": [
          "1/22/20",
          "3/12/20"
         ],
         "y": [
          0,
          1
         ]
        },
        {
         "connectgaps": true,
         "mode": "lines",
         "name": "Turkey",
         "type": "scatter",
         "x": [
          "1/22/20",
          "1/23/20",
          "1/24/20",
          "1/25/20",
          "1/26/20",
          "1/27/20",
          "1/28/20",
          "1/29/20",
          "1/30/20",
          "1/31/20",
          "2/1/20",
          "2/2/20",
          "2/3/20",
          "2/4/20",
          "2/5/20",
          "2/6/20",
          "2/7/20",
          "2/8/20",
          "2/9/20",
          "2/10/20",
          "2/11/20",
          "2/12/20",
          "2/13/20",
          "2/14/20",
          "2/15/20",
          "2/16/20",
          "2/17/20",
          "2/18/20",
          "2/19/20",
          "2/20/20",
          "2/21/20",
          "2/22/20",
          "2/23/20",
          "2/24/20",
          "2/25/20",
          "2/26/20",
          "2/27/20",
          "2/28/20",
          "2/29/20",
          "3/1/20",
          "3/2/20",
          "3/3/20",
          "3/4/20",
          "3/5/20",
          "3/6/20",
          "3/7/20",
          "3/8/20",
          "3/9/20",
          "3/10/20",
          "3/11/20",
          "3/12/20"
         ],
         "y": [
          0,
          0,
          0,
          0,
          0,
          0,
          0,
          0,
          0,
          0,
          0,
          0,
          0,
          0,
          0,
          0,
          0,
          0,
          0,
          0,
          0,
          0,
          0,
          0,
          0,
          0,
          0,
          0,
          0,
          0,
          0,
          0,
          0,
          0,
          0,
          0,
          0,
          0,
          0,
          0,
          0,
          0,
          0,
          0,
          0,
          0,
          0,
          0,
          0,
          1,
          1
         ]
        },
        {
         "mode": "markers",
         "type": "scatter",
         "x": [
          "1/22/20",
          "3/12/20"
         ],
         "y": [
          0,
          1
         ]
        },
        {
         "connectgaps": true,
         "mode": "lines",
         "name": "Liechtenstein",
         "type": "scatter",
         "x": [
          "1/22/20",
          "1/23/20",
          "1/24/20",
          "1/25/20",
          "1/26/20",
          "1/27/20",
          "1/28/20",
          "1/29/20",
          "1/30/20",
          "1/31/20",
          "2/1/20",
          "2/2/20",
          "2/3/20",
          "2/4/20",
          "2/5/20",
          "2/6/20",
          "2/7/20",
          "2/8/20",
          "2/9/20",
          "2/10/20",
          "2/11/20",
          "2/12/20",
          "2/13/20",
          "2/14/20",
          "2/15/20",
          "2/16/20",
          "2/17/20",
          "2/18/20",
          "2/19/20",
          "2/20/20",
          "2/21/20",
          "2/22/20",
          "2/23/20",
          "2/24/20",
          "2/25/20",
          "2/26/20",
          "2/27/20",
          "2/28/20",
          "2/29/20",
          "3/1/20",
          "3/2/20",
          "3/3/20",
          "3/4/20",
          "3/5/20",
          "3/6/20",
          "3/7/20",
          "3/8/20",
          "3/9/20",
          "3/10/20",
          "3/11/20",
          "3/12/20"
         ],
         "y": [
          0,
          0,
          0,
          0,
          0,
          0,
          0,
          0,
          0,
          0,
          0,
          0,
          0,
          0,
          0,
          0,
          0,
          0,
          0,
          0,
          0,
          0,
          0,
          0,
          0,
          0,
          0,
          0,
          0,
          0,
          0,
          0,
          0,
          0,
          0,
          0,
          0,
          0,
          0,
          0,
          0,
          0,
          1,
          1,
          1,
          1,
          1,
          1,
          1,
          1,
          1
         ]
        },
        {
         "mode": "markers",
         "type": "scatter",
         "x": [
          "1/22/20",
          "3/12/20"
         ],
         "y": [
          0,
          1
         ]
        },
        {
         "connectgaps": true,
         "mode": "lines",
         "name": "Jordan",
         "type": "scatter",
         "x": [
          "1/22/20",
          "1/23/20",
          "1/24/20",
          "1/25/20",
          "1/26/20",
          "1/27/20",
          "1/28/20",
          "1/29/20",
          "1/30/20",
          "1/31/20",
          "2/1/20",
          "2/2/20",
          "2/3/20",
          "2/4/20",
          "2/5/20",
          "2/6/20",
          "2/7/20",
          "2/8/20",
          "2/9/20",
          "2/10/20",
          "2/11/20",
          "2/12/20",
          "2/13/20",
          "2/14/20",
          "2/15/20",
          "2/16/20",
          "2/17/20",
          "2/18/20",
          "2/19/20",
          "2/20/20",
          "2/21/20",
          "2/22/20",
          "2/23/20",
          "2/24/20",
          "2/25/20",
          "2/26/20",
          "2/27/20",
          "2/28/20",
          "2/29/20",
          "3/1/20",
          "3/2/20",
          "3/3/20",
          "3/4/20",
          "3/5/20",
          "3/6/20",
          "3/7/20",
          "3/8/20",
          "3/9/20",
          "3/10/20",
          "3/11/20",
          "3/12/20"
         ],
         "y": [
          0,
          0,
          0,
          0,
          0,
          0,
          0,
          0,
          0,
          0,
          0,
          0,
          0,
          0,
          0,
          0,
          0,
          0,
          0,
          0,
          0,
          0,
          0,
          0,
          0,
          0,
          0,
          0,
          0,
          0,
          0,
          0,
          0,
          0,
          0,
          0,
          0,
          0,
          0,
          0,
          0,
          1,
          1,
          1,
          1,
          1,
          1,
          1,
          1,
          1,
          1
         ]
        },
        {
         "mode": "markers",
         "type": "scatter",
         "x": [
          "1/22/20",
          "3/12/20"
         ],
         "y": [
          0,
          1
         ]
        },
        {
         "connectgaps": true,
         "mode": "lines",
         "name": "Reunion",
         "type": "scatter",
         "x": [
          "1/22/20",
          "1/23/20",
          "1/24/20",
          "1/25/20",
          "1/26/20",
          "1/27/20",
          "1/28/20",
          "1/29/20",
          "1/30/20",
          "1/31/20",
          "2/1/20",
          "2/2/20",
          "2/3/20",
          "2/4/20",
          "2/5/20",
          "2/6/20",
          "2/7/20",
          "2/8/20",
          "2/9/20",
          "2/10/20",
          "2/11/20",
          "2/12/20",
          "2/13/20",
          "2/14/20",
          "2/15/20",
          "2/16/20",
          "2/17/20",
          "2/18/20",
          "2/19/20",
          "2/20/20",
          "2/21/20",
          "2/22/20",
          "2/23/20",
          "2/24/20",
          "2/25/20",
          "2/26/20",
          "2/27/20",
          "2/28/20",
          "2/29/20",
          "3/1/20",
          "3/2/20",
          "3/3/20",
          "3/4/20",
          "3/5/20",
          "3/6/20",
          "3/7/20",
          "3/8/20",
          "3/9/20",
          "3/10/20",
          "3/11/20",
          "3/12/20"
         ],
         "y": [
          0,
          0,
          0,
          0,
          0,
          0,
          0,
          0,
          0,
          0,
          0,
          0,
          0,
          0,
          0,
          0,
          0,
          0,
          0,
          0,
          0,
          0,
          0,
          0,
          0,
          0,
          0,
          0,
          0,
          0,
          0,
          0,
          0,
          0,
          0,
          0,
          0,
          0,
          0,
          0,
          0,
          0,
          0,
          0,
          0,
          0,
          0,
          0,
          0,
          1,
          1
         ]
        },
        {
         "mode": "markers",
         "type": "scatter",
         "x": [
          "1/22/20",
          "3/12/20"
         ],
         "y": [
          0,
          1
         ]
        },
        {
         "connectgaps": true,
         "mode": "lines",
         "name": "Cote d'Ivoire",
         "type": "scatter",
         "x": [
          "1/22/20",
          "1/23/20",
          "1/24/20",
          "1/25/20",
          "1/26/20",
          "1/27/20",
          "1/28/20",
          "1/29/20",
          "1/30/20",
          "1/31/20",
          "2/1/20",
          "2/2/20",
          "2/3/20",
          "2/4/20",
          "2/5/20",
          "2/6/20",
          "2/7/20",
          "2/8/20",
          "2/9/20",
          "2/10/20",
          "2/11/20",
          "2/12/20",
          "2/13/20",
          "2/14/20",
          "2/15/20",
          "2/16/20",
          "2/17/20",
          "2/18/20",
          "2/19/20",
          "2/20/20",
          "2/21/20",
          "2/22/20",
          "2/23/20",
          "2/24/20",
          "2/25/20",
          "2/26/20",
          "2/27/20",
          "2/28/20",
          "2/29/20",
          "3/1/20",
          "3/2/20",
          "3/3/20",
          "3/4/20",
          "3/5/20",
          "3/6/20",
          "3/7/20",
          "3/8/20",
          "3/9/20",
          "3/10/20",
          "3/11/20",
          "3/12/20"
         ],
         "y": [
          0,
          0,
          0,
          0,
          0,
          0,
          0,
          0,
          0,
          0,
          0,
          0,
          0,
          0,
          0,
          0,
          0,
          0,
          0,
          0,
          0,
          0,
          0,
          0,
          0,
          0,
          0,
          0,
          0,
          0,
          0,
          0,
          0,
          0,
          0,
          0,
          0,
          0,
          0,
          0,
          0,
          0,
          0,
          0,
          0,
          0,
          0,
          0,
          0,
          1,
          1
         ]
        },
        {
         "mode": "markers",
         "type": "scatter",
         "x": [
          "1/22/20",
          "3/12/20"
         ],
         "y": [
          0,
          1
         ]
        },
        {
         "connectgaps": true,
         "mode": "lines",
         "name": "Mongolia",
         "type": "scatter",
         "x": [
          "1/22/20",
          "1/23/20",
          "1/24/20",
          "1/25/20",
          "1/26/20",
          "1/27/20",
          "1/28/20",
          "1/29/20",
          "1/30/20",
          "1/31/20",
          "2/1/20",
          "2/2/20",
          "2/3/20",
          "2/4/20",
          "2/5/20",
          "2/6/20",
          "2/7/20",
          "2/8/20",
          "2/9/20",
          "2/10/20",
          "2/11/20",
          "2/12/20",
          "2/13/20",
          "2/14/20",
          "2/15/20",
          "2/16/20",
          "2/17/20",
          "2/18/20",
          "2/19/20",
          "2/20/20",
          "2/21/20",
          "2/22/20",
          "2/23/20",
          "2/24/20",
          "2/25/20",
          "2/26/20",
          "2/27/20",
          "2/28/20",
          "2/29/20",
          "3/1/20",
          "3/2/20",
          "3/3/20",
          "3/4/20",
          "3/5/20",
          "3/6/20",
          "3/7/20",
          "3/8/20",
          "3/9/20",
          "3/10/20",
          "3/11/20",
          "3/12/20"
         ],
         "y": [
          0,
          0,
          0,
          0,
          0,
          0,
          0,
          0,
          0,
          0,
          0,
          0,
          0,
          0,
          0,
          0,
          0,
          0,
          0,
          0,
          0,
          0,
          0,
          0,
          0,
          0,
          0,
          0,
          0,
          0,
          0,
          0,
          0,
          0,
          0,
          0,
          0,
          0,
          0,
          0,
          0,
          0,
          0,
          0,
          0,
          0,
          0,
          0,
          1,
          1,
          1
         ]
        },
        {
         "mode": "markers",
         "type": "scatter",
         "x": [
          "1/22/20",
          "3/12/20"
         ],
         "y": [
          0,
          1
         ]
        },
        {
         "connectgaps": true,
         "mode": "lines",
         "name": "Bhutan",
         "type": "scatter",
         "x": [
          "1/22/20",
          "1/23/20",
          "1/24/20",
          "1/25/20",
          "1/26/20",
          "1/27/20",
          "1/28/20",
          "1/29/20",
          "1/30/20",
          "1/31/20",
          "2/1/20",
          "2/2/20",
          "2/3/20",
          "2/4/20",
          "2/5/20",
          "2/6/20",
          "2/7/20",
          "2/8/20",
          "2/9/20",
          "2/10/20",
          "2/11/20",
          "2/12/20",
          "2/13/20",
          "2/14/20",
          "2/15/20",
          "2/16/20",
          "2/17/20",
          "2/18/20",
          "2/19/20",
          "2/20/20",
          "2/21/20",
          "2/22/20",
          "2/23/20",
          "2/24/20",
          "2/25/20",
          "2/26/20",
          "2/27/20",
          "2/28/20",
          "2/29/20",
          "3/1/20",
          "3/2/20",
          "3/3/20",
          "3/4/20",
          "3/5/20",
          "3/6/20",
          "3/7/20",
          "3/8/20",
          "3/9/20",
          "3/10/20",
          "3/11/20",
          "3/12/20"
         ],
         "y": [
          0,
          0,
          0,
          0,
          0,
          0,
          0,
          0,
          0,
          0,
          0,
          0,
          0,
          0,
          0,
          0,
          0,
          0,
          0,
          0,
          0,
          0,
          0,
          0,
          0,
          0,
          0,
          0,
          0,
          0,
          0,
          0,
          0,
          0,
          0,
          0,
          0,
          0,
          0,
          0,
          0,
          0,
          0,
          0,
          1,
          1,
          1,
          1,
          1,
          1,
          1
         ]
        },
        {
         "mode": "markers",
         "type": "scatter",
         "x": [
          "1/22/20",
          "3/12/20"
         ],
         "y": [
          0,
          1
         ]
        },
        {
         "connectgaps": true,
         "mode": "lines",
         "name": "Nepal",
         "type": "scatter",
         "x": [
          "1/22/20",
          "1/23/20",
          "1/24/20",
          "1/25/20",
          "1/26/20",
          "1/27/20",
          "1/28/20",
          "1/29/20",
          "1/30/20",
          "1/31/20",
          "2/1/20",
          "2/2/20",
          "2/3/20",
          "2/4/20",
          "2/5/20",
          "2/6/20",
          "2/7/20",
          "2/8/20",
          "2/9/20",
          "2/10/20",
          "2/11/20",
          "2/12/20",
          "2/13/20",
          "2/14/20",
          "2/15/20",
          "2/16/20",
          "2/17/20",
          "2/18/20",
          "2/19/20",
          "2/20/20",
          "2/21/20",
          "2/22/20",
          "2/23/20",
          "2/24/20",
          "2/25/20",
          "2/26/20",
          "2/27/20",
          "2/28/20",
          "2/29/20",
          "3/1/20",
          "3/2/20",
          "3/3/20",
          "3/4/20",
          "3/5/20",
          "3/6/20",
          "3/7/20",
          "3/8/20",
          "3/9/20",
          "3/10/20",
          "3/11/20",
          "3/12/20"
         ],
         "y": [
          0,
          0,
          0,
          1,
          1,
          1,
          1,
          1,
          1,
          1,
          1,
          1,
          1,
          1,
          1,
          1,
          1,
          1,
          1,
          1,
          1,
          1,
          1,
          1,
          1,
          1,
          1,
          1,
          1,
          1,
          1,
          1,
          1,
          1,
          1,
          1,
          1,
          1,
          1,
          1,
          1,
          1,
          1,
          1,
          1,
          1,
          1,
          1,
          1,
          1,
          1
         ]
        },
        {
         "mode": "markers",
         "type": "scatter",
         "x": [
          "1/22/20",
          "3/12/20"
         ],
         "y": [
          0,
          1
         ]
        },
        {
         "connectgaps": true,
         "mode": "lines",
         "name": "Congo (Kinshasa)",
         "type": "scatter",
         "x": [
          "1/22/20",
          "1/23/20",
          "1/24/20",
          "1/25/20",
          "1/26/20",
          "1/27/20",
          "1/28/20",
          "1/29/20",
          "1/30/20",
          "1/31/20",
          "2/1/20",
          "2/2/20",
          "2/3/20",
          "2/4/20",
          "2/5/20",
          "2/6/20",
          "2/7/20",
          "2/8/20",
          "2/9/20",
          "2/10/20",
          "2/11/20",
          "2/12/20",
          "2/13/20",
          "2/14/20",
          "2/15/20",
          "2/16/20",
          "2/17/20",
          "2/18/20",
          "2/19/20",
          "2/20/20",
          "2/21/20",
          "2/22/20",
          "2/23/20",
          "2/24/20",
          "2/25/20",
          "2/26/20",
          "2/27/20",
          "2/28/20",
          "2/29/20",
          "3/1/20",
          "3/2/20",
          "3/3/20",
          "3/4/20",
          "3/5/20",
          "3/6/20",
          "3/7/20",
          "3/8/20",
          "3/9/20",
          "3/10/20",
          "3/11/20",
          "3/12/20"
         ],
         "y": [
          0,
          0,
          0,
          0,
          0,
          0,
          0,
          0,
          0,
          0,
          0,
          0,
          0,
          0,
          0,
          0,
          0,
          0,
          0,
          0,
          0,
          0,
          0,
          0,
          0,
          0,
          0,
          0,
          0,
          0,
          0,
          0,
          0,
          0,
          0,
          0,
          0,
          0,
          0,
          0,
          0,
          0,
          0,
          0,
          0,
          0,
          0,
          0,
          0,
          1,
          1
         ]
        },
        {
         "mode": "markers",
         "type": "scatter",
         "x": [
          "1/22/20",
          "3/12/20"
         ],
         "y": [
          0,
          1
         ]
        }
       ],
       "layout": {
        "annotations": [
         {
          "font": {
           "color": "rgb(37,37,37)",
           "family": "Arial",
           "size": 30
          },
          "showarrow": false,
          "text": "Infection growth outside China",
          "x": 0,
          "xanchor": "left",
          "xref": "paper",
          "y": 1.05,
          "yanchor": "bottom",
          "yref": "paper"
         },
         {
          "font": {
           "color": "rgb(150,150,150)",
           "family": "Arial",
           "size": 12
          },
          "showarrow": false,
          "text": "Johns Hopkins University (CSSEGISandData) and WHO",
          "x": 0.5,
          "xanchor": "center",
          "xref": "paper",
          "y": -0.1,
          "yanchor": "top",
          "yref": "paper"
         }
        ],
        "autosize": false,
        "height": 1000,
        "margin": {
         "autoexpand": false,
         "l": 100,
         "r": 20,
         "t": 110
        },
        "plot_bgcolor": "white",
        "showlegend": false,
        "template": {
         "data": {
          "bar": [
           {
            "error_x": {
             "color": "#2a3f5f"
            },
            "error_y": {
             "color": "#2a3f5f"
            },
            "marker": {
             "line": {
              "color": "#E5ECF6",
              "width": 0.5
             }
            },
            "type": "bar"
           }
          ],
          "barpolar": [
           {
            "marker": {
             "line": {
              "color": "#E5ECF6",
              "width": 0.5
             }
            },
            "type": "barpolar"
           }
          ],
          "carpet": [
           {
            "aaxis": {
             "endlinecolor": "#2a3f5f",
             "gridcolor": "white",
             "linecolor": "white",
             "minorgridcolor": "white",
             "startlinecolor": "#2a3f5f"
            },
            "baxis": {
             "endlinecolor": "#2a3f5f",
             "gridcolor": "white",
             "linecolor": "white",
             "minorgridcolor": "white",
             "startlinecolor": "#2a3f5f"
            },
            "type": "carpet"
           }
          ],
          "choropleth": [
           {
            "colorbar": {
             "outlinewidth": 0,
             "ticks": ""
            },
            "type": "choropleth"
           }
          ],
          "contour": [
           {
            "colorbar": {
             "outlinewidth": 0,
             "ticks": ""
            },
            "colorscale": [
             [
              0,
              "#0d0887"
             ],
             [
              0.1111111111111111,
              "#46039f"
             ],
             [
              0.2222222222222222,
              "#7201a8"
             ],
             [
              0.3333333333333333,
              "#9c179e"
             ],
             [
              0.4444444444444444,
              "#bd3786"
             ],
             [
              0.5555555555555556,
              "#d8576b"
             ],
             [
              0.6666666666666666,
              "#ed7953"
             ],
             [
              0.7777777777777778,
              "#fb9f3a"
             ],
             [
              0.8888888888888888,
              "#fdca26"
             ],
             [
              1,
              "#f0f921"
             ]
            ],
            "type": "contour"
           }
          ],
          "contourcarpet": [
           {
            "colorbar": {
             "outlinewidth": 0,
             "ticks": ""
            },
            "type": "contourcarpet"
           }
          ],
          "heatmap": [
           {
            "colorbar": {
             "outlinewidth": 0,
             "ticks": ""
            },
            "colorscale": [
             [
              0,
              "#0d0887"
             ],
             [
              0.1111111111111111,
              "#46039f"
             ],
             [
              0.2222222222222222,
              "#7201a8"
             ],
             [
              0.3333333333333333,
              "#9c179e"
             ],
             [
              0.4444444444444444,
              "#bd3786"
             ],
             [
              0.5555555555555556,
              "#d8576b"
             ],
             [
              0.6666666666666666,
              "#ed7953"
             ],
             [
              0.7777777777777778,
              "#fb9f3a"
             ],
             [
              0.8888888888888888,
              "#fdca26"
             ],
             [
              1,
              "#f0f921"
             ]
            ],
            "type": "heatmap"
           }
          ],
          "heatmapgl": [
           {
            "colorbar": {
             "outlinewidth": 0,
             "ticks": ""
            },
            "colorscale": [
             [
              0,
              "#0d0887"
             ],
             [
              0.1111111111111111,
              "#46039f"
             ],
             [
              0.2222222222222222,
              "#7201a8"
             ],
             [
              0.3333333333333333,
              "#9c179e"
             ],
             [
              0.4444444444444444,
              "#bd3786"
             ],
             [
              0.5555555555555556,
              "#d8576b"
             ],
             [
              0.6666666666666666,
              "#ed7953"
             ],
             [
              0.7777777777777778,
              "#fb9f3a"
             ],
             [
              0.8888888888888888,
              "#fdca26"
             ],
             [
              1,
              "#f0f921"
             ]
            ],
            "type": "heatmapgl"
           }
          ],
          "histogram": [
           {
            "marker": {
             "colorbar": {
              "outlinewidth": 0,
              "ticks": ""
             }
            },
            "type": "histogram"
           }
          ],
          "histogram2d": [
           {
            "colorbar": {
             "outlinewidth": 0,
             "ticks": ""
            },
            "colorscale": [
             [
              0,
              "#0d0887"
             ],
             [
              0.1111111111111111,
              "#46039f"
             ],
             [
              0.2222222222222222,
              "#7201a8"
             ],
             [
              0.3333333333333333,
              "#9c179e"
             ],
             [
              0.4444444444444444,
              "#bd3786"
             ],
             [
              0.5555555555555556,
              "#d8576b"
             ],
             [
              0.6666666666666666,
              "#ed7953"
             ],
             [
              0.7777777777777778,
              "#fb9f3a"
             ],
             [
              0.8888888888888888,
              "#fdca26"
             ],
             [
              1,
              "#f0f921"
             ]
            ],
            "type": "histogram2d"
           }
          ],
          "histogram2dcontour": [
           {
            "colorbar": {
             "outlinewidth": 0,
             "ticks": ""
            },
            "colorscale": [
             [
              0,
              "#0d0887"
             ],
             [
              0.1111111111111111,
              "#46039f"
             ],
             [
              0.2222222222222222,
              "#7201a8"
             ],
             [
              0.3333333333333333,
              "#9c179e"
             ],
             [
              0.4444444444444444,
              "#bd3786"
             ],
             [
              0.5555555555555556,
              "#d8576b"
             ],
             [
              0.6666666666666666,
              "#ed7953"
             ],
             [
              0.7777777777777778,
              "#fb9f3a"
             ],
             [
              0.8888888888888888,
              "#fdca26"
             ],
             [
              1,
              "#f0f921"
             ]
            ],
            "type": "histogram2dcontour"
           }
          ],
          "mesh3d": [
           {
            "colorbar": {
             "outlinewidth": 0,
             "ticks": ""
            },
            "type": "mesh3d"
           }
          ],
          "parcoords": [
           {
            "line": {
             "colorbar": {
              "outlinewidth": 0,
              "ticks": ""
             }
            },
            "type": "parcoords"
           }
          ],
          "pie": [
           {
            "automargin": true,
            "type": "pie"
           }
          ],
          "scatter": [
           {
            "marker": {
             "colorbar": {
              "outlinewidth": 0,
              "ticks": ""
             }
            },
            "type": "scatter"
           }
          ],
          "scatter3d": [
           {
            "line": {
             "colorbar": {
              "outlinewidth": 0,
              "ticks": ""
             }
            },
            "marker": {
             "colorbar": {
              "outlinewidth": 0,
              "ticks": ""
             }
            },
            "type": "scatter3d"
           }
          ],
          "scattercarpet": [
           {
            "marker": {
             "colorbar": {
              "outlinewidth": 0,
              "ticks": ""
             }
            },
            "type": "scattercarpet"
           }
          ],
          "scattergeo": [
           {
            "marker": {
             "colorbar": {
              "outlinewidth": 0,
              "ticks": ""
             }
            },
            "type": "scattergeo"
           }
          ],
          "scattergl": [
           {
            "marker": {
             "colorbar": {
              "outlinewidth": 0,
              "ticks": ""
             }
            },
            "type": "scattergl"
           }
          ],
          "scattermapbox": [
           {
            "marker": {
             "colorbar": {
              "outlinewidth": 0,
              "ticks": ""
             }
            },
            "type": "scattermapbox"
           }
          ],
          "scatterpolar": [
           {
            "marker": {
             "colorbar": {
              "outlinewidth": 0,
              "ticks": ""
             }
            },
            "type": "scatterpolar"
           }
          ],
          "scatterpolargl": [
           {
            "marker": {
             "colorbar": {
              "outlinewidth": 0,
              "ticks": ""
             }
            },
            "type": "scatterpolargl"
           }
          ],
          "scatterternary": [
           {
            "marker": {
             "colorbar": {
              "outlinewidth": 0,
              "ticks": ""
             }
            },
            "type": "scatterternary"
           }
          ],
          "surface": [
           {
            "colorbar": {
             "outlinewidth": 0,
             "ticks": ""
            },
            "colorscale": [
             [
              0,
              "#0d0887"
             ],
             [
              0.1111111111111111,
              "#46039f"
             ],
             [
              0.2222222222222222,
              "#7201a8"
             ],
             [
              0.3333333333333333,
              "#9c179e"
             ],
             [
              0.4444444444444444,
              "#bd3786"
             ],
             [
              0.5555555555555556,
              "#d8576b"
             ],
             [
              0.6666666666666666,
              "#ed7953"
             ],
             [
              0.7777777777777778,
              "#fb9f3a"
             ],
             [
              0.8888888888888888,
              "#fdca26"
             ],
             [
              1,
              "#f0f921"
             ]
            ],
            "type": "surface"
           }
          ],
          "table": [
           {
            "cells": {
             "fill": {
              "color": "#EBF0F8"
             },
             "line": {
              "color": "white"
             }
            },
            "header": {
             "fill": {
              "color": "#C8D4E3"
             },
             "line": {
              "color": "white"
             }
            },
            "type": "table"
           }
          ]
         },
         "layout": {
          "annotationdefaults": {
           "arrowcolor": "#2a3f5f",
           "arrowhead": 0,
           "arrowwidth": 1
          },
          "coloraxis": {
           "colorbar": {
            "outlinewidth": 0,
            "ticks": ""
           }
          },
          "colorscale": {
           "diverging": [
            [
             0,
             "#8e0152"
            ],
            [
             0.1,
             "#c51b7d"
            ],
            [
             0.2,
             "#de77ae"
            ],
            [
             0.3,
             "#f1b6da"
            ],
            [
             0.4,
             "#fde0ef"
            ],
            [
             0.5,
             "#f7f7f7"
            ],
            [
             0.6,
             "#e6f5d0"
            ],
            [
             0.7,
             "#b8e186"
            ],
            [
             0.8,
             "#7fbc41"
            ],
            [
             0.9,
             "#4d9221"
            ],
            [
             1,
             "#276419"
            ]
           ],
           "sequential": [
            [
             0,
             "#0d0887"
            ],
            [
             0.1111111111111111,
             "#46039f"
            ],
            [
             0.2222222222222222,
             "#7201a8"
            ],
            [
             0.3333333333333333,
             "#9c179e"
            ],
            [
             0.4444444444444444,
             "#bd3786"
            ],
            [
             0.5555555555555556,
             "#d8576b"
            ],
            [
             0.6666666666666666,
             "#ed7953"
            ],
            [
             0.7777777777777778,
             "#fb9f3a"
            ],
            [
             0.8888888888888888,
             "#fdca26"
            ],
            [
             1,
             "#f0f921"
            ]
           ],
           "sequentialminus": [
            [
             0,
             "#0d0887"
            ],
            [
             0.1111111111111111,
             "#46039f"
            ],
            [
             0.2222222222222222,
             "#7201a8"
            ],
            [
             0.3333333333333333,
             "#9c179e"
            ],
            [
             0.4444444444444444,
             "#bd3786"
            ],
            [
             0.5555555555555556,
             "#d8576b"
            ],
            [
             0.6666666666666666,
             "#ed7953"
            ],
            [
             0.7777777777777778,
             "#fb9f3a"
            ],
            [
             0.8888888888888888,
             "#fdca26"
            ],
            [
             1,
             "#f0f921"
            ]
           ]
          },
          "colorway": [
           "#636efa",
           "#EF553B",
           "#00cc96",
           "#ab63fa",
           "#FFA15A",
           "#19d3f3",
           "#FF6692",
           "#B6E880",
           "#FF97FF",
           "#FECB52"
          ],
          "font": {
           "color": "#2a3f5f"
          },
          "geo": {
           "bgcolor": "white",
           "lakecolor": "white",
           "landcolor": "#E5ECF6",
           "showlakes": true,
           "showland": true,
           "subunitcolor": "white"
          },
          "hoverlabel": {
           "align": "left"
          },
          "hovermode": "closest",
          "mapbox": {
           "style": "light"
          },
          "paper_bgcolor": "white",
          "plot_bgcolor": "#E5ECF6",
          "polar": {
           "angularaxis": {
            "gridcolor": "white",
            "linecolor": "white",
            "ticks": ""
           },
           "bgcolor": "#E5ECF6",
           "radialaxis": {
            "gridcolor": "white",
            "linecolor": "white",
            "ticks": ""
           }
          },
          "scene": {
           "xaxis": {
            "backgroundcolor": "#E5ECF6",
            "gridcolor": "white",
            "gridwidth": 2,
            "linecolor": "white",
            "showbackground": true,
            "ticks": "",
            "zerolinecolor": "white"
           },
           "yaxis": {
            "backgroundcolor": "#E5ECF6",
            "gridcolor": "white",
            "gridwidth": 2,
            "linecolor": "white",
            "showbackground": true,
            "ticks": "",
            "zerolinecolor": "white"
           },
           "zaxis": {
            "backgroundcolor": "#E5ECF6",
            "gridcolor": "white",
            "gridwidth": 2,
            "linecolor": "white",
            "showbackground": true,
            "ticks": "",
            "zerolinecolor": "white"
           }
          },
          "shapedefaults": {
           "line": {
            "color": "#2a3f5f"
           }
          },
          "ternary": {
           "aaxis": {
            "gridcolor": "white",
            "linecolor": "white",
            "ticks": ""
           },
           "baxis": {
            "gridcolor": "white",
            "linecolor": "white",
            "ticks": ""
           },
           "bgcolor": "#E5ECF6",
           "caxis": {
            "gridcolor": "white",
            "linecolor": "white",
            "ticks": ""
           }
          },
          "title": {
           "x": 0.05
          },
          "xaxis": {
           "automargin": true,
           "gridcolor": "white",
           "linecolor": "white",
           "ticks": "",
           "title": {
            "standoff": 15
           },
           "zerolinecolor": "white",
           "zerolinewidth": 2
          },
          "yaxis": {
           "automargin": true,
           "gridcolor": "white",
           "linecolor": "white",
           "ticks": "",
           "title": {
            "standoff": 15
           },
           "zerolinecolor": "white",
           "zerolinewidth": 2
          }
         }
        },
        "width": 800,
        "xaxis": {
         "linecolor": "rgb(204, 204, 204)",
         "linewidth": 2,
         "showgrid": false,
         "showline": true,
         "showticklabels": true,
         "tickfont": {
          "color": "rgb(82, 82, 82)",
          "family": "Arial",
          "size": 12
         },
         "ticks": "outside"
        },
        "yaxis": {
         "showgrid": false,
         "showline": false,
         "showticklabels": false,
         "zeroline": false
        }
       }
      },
      "text/html": [
       "<div>\n",
       "        \n",
       "        \n",
       "            <div id=\"80c7ea7d-accd-4ed5-b2bc-17aeac354e4d\" class=\"plotly-graph-div\" style=\"height:1000px; width:800px;\"></div>\n",
       "            <script type=\"text/javascript\">\n",
       "                require([\"plotly\"], function(Plotly) {\n",
       "                    window.PLOTLYENV=window.PLOTLYENV || {};\n",
       "                    \n",
       "                if (document.getElementById(\"80c7ea7d-accd-4ed5-b2bc-17aeac354e4d\")) {\n",
       "                    Plotly.newPlot(\n",
       "                        '80c7ea7d-accd-4ed5-b2bc-17aeac354e4d',\n",
       "                        [{\"connectgaps\": true, \"mode\": \"lines\", \"name\": \"Italy\", \"type\": \"scatter\", \"x\": [\"1/22/20\", \"1/23/20\", \"1/24/20\", \"1/25/20\", \"1/26/20\", \"1/27/20\", \"1/28/20\", \"1/29/20\", \"1/30/20\", \"1/31/20\", \"2/1/20\", \"2/2/20\", \"2/3/20\", \"2/4/20\", \"2/5/20\", \"2/6/20\", \"2/7/20\", \"2/8/20\", \"2/9/20\", \"2/10/20\", \"2/11/20\", \"2/12/20\", \"2/13/20\", \"2/14/20\", \"2/15/20\", \"2/16/20\", \"2/17/20\", \"2/18/20\", \"2/19/20\", \"2/20/20\", \"2/21/20\", \"2/22/20\", \"2/23/20\", \"2/24/20\", \"2/25/20\", \"2/26/20\", \"2/27/20\", \"2/28/20\", \"2/29/20\", \"3/1/20\", \"3/2/20\", \"3/3/20\", \"3/4/20\", \"3/5/20\", \"3/6/20\", \"3/7/20\", \"3/8/20\", \"3/9/20\", \"3/10/20\", \"3/11/20\", \"3/12/20\"], \"y\": [0, 0, 0, 0, 0, 0, 0, 0, 0, 2, 2, 2, 2, 2, 2, 2, 3, 3, 3, 3, 3, 3, 3, 3, 3, 3, 3, 3, 3, 3, 20, 62, 155, 229, 322, 453, 655, 888, 1128, 1694, 2036, 2502, 3089, 3858, 4636, 5883, 7375, 9172, 10149, 12462, 12462]}, {\"mode\": \"markers\", \"type\": \"scatter\", \"x\": [\"1/22/20\", \"3/12/20\"], \"y\": [0, 12462]}, {\"connectgaps\": true, \"mode\": \"lines\", \"name\": \"Iran\", \"type\": \"scatter\", \"x\": [\"1/22/20\", \"1/23/20\", \"1/24/20\", \"1/25/20\", \"1/26/20\", \"1/27/20\", \"1/28/20\", \"1/29/20\", \"1/30/20\", \"1/31/20\", \"2/1/20\", \"2/2/20\", \"2/3/20\", \"2/4/20\", \"2/5/20\", \"2/6/20\", \"2/7/20\", \"2/8/20\", \"2/9/20\", \"2/10/20\", \"2/11/20\", \"2/12/20\", \"2/13/20\", \"2/14/20\", \"2/15/20\", \"2/16/20\", \"2/17/20\", \"2/18/20\", \"2/19/20\", \"2/20/20\", \"2/21/20\", \"2/22/20\", \"2/23/20\", \"2/24/20\", \"2/25/20\", \"2/26/20\", \"2/27/20\", \"2/28/20\", \"2/29/20\", \"3/1/20\", \"3/2/20\", \"3/3/20\", \"3/4/20\", \"3/5/20\", \"3/6/20\", \"3/7/20\", \"3/8/20\", \"3/9/20\", \"3/10/20\", \"3/11/20\", \"3/12/20\"], \"y\": [0, 0, 0, 0, 0, 0, 0, 0, 0, 0, 0, 0, 0, 0, 0, 0, 0, 0, 0, 0, 0, 0, 0, 0, 0, 0, 0, 0, 2, 5, 18, 28, 43, 61, 95, 139, 245, 388, 593, 978, 1501, 2336, 2922, 3513, 4747, 5823, 6566, 7161, 8042, 9000, 10075]}, {\"mode\": \"markers\", \"type\": \"scatter\", \"x\": [\"1/22/20\", \"3/12/20\"], \"y\": [0, 10075]}, {\"connectgaps\": true, \"mode\": \"lines\", \"name\": \"Korea, South\", \"type\": \"scatter\", \"x\": [\"1/22/20\", \"1/23/20\", \"1/24/20\", \"1/25/20\", \"1/26/20\", \"1/27/20\", \"1/28/20\", \"1/29/20\", \"1/30/20\", \"1/31/20\", \"2/1/20\", \"2/2/20\", \"2/3/20\", \"2/4/20\", \"2/5/20\", \"2/6/20\", \"2/7/20\", \"2/8/20\", \"2/9/20\", \"2/10/20\", \"2/11/20\", \"2/12/20\", \"2/13/20\", \"2/14/20\", \"2/15/20\", \"2/16/20\", \"2/17/20\", \"2/18/20\", \"2/19/20\", \"2/20/20\", \"2/21/20\", \"2/22/20\", \"2/23/20\", \"2/24/20\", \"2/25/20\", \"2/26/20\", \"2/27/20\", \"2/28/20\", \"2/29/20\", \"3/1/20\", \"3/2/20\", \"3/3/20\", \"3/4/20\", \"3/5/20\", \"3/6/20\", \"3/7/20\", \"3/8/20\", \"3/9/20\", \"3/10/20\", \"3/11/20\", \"3/12/20\"], \"y\": [1, 1, 2, 2, 3, 4, 4, 4, 4, 11, 12, 15, 15, 16, 19, 23, 24, 24, 25, 27, 28, 28, 28, 28, 28, 29, 30, 31, 31, 104, 204, 433, 602, 833, 977, 1261, 1766, 2337, 3150, 3736, 4335, 5186, 5621, 6088, 6593, 7041, 7314, 7478, 7513, 7755, 7869]}, {\"mode\": \"markers\", \"type\": \"scatter\", \"x\": [\"1/22/20\", \"3/12/20\"], \"y\": [1, 7869]}, {\"connectgaps\": true, \"mode\": \"lines\", \"name\": \"France\", \"type\": \"scatter\", \"x\": [\"1/22/20\", \"1/23/20\", \"1/24/20\", \"1/25/20\", \"1/26/20\", \"1/27/20\", \"1/28/20\", \"1/29/20\", \"1/30/20\", \"1/31/20\", \"2/1/20\", \"2/2/20\", \"2/3/20\", \"2/4/20\", \"2/5/20\", \"2/6/20\", \"2/7/20\", \"2/8/20\", \"2/9/20\", \"2/10/20\", \"2/11/20\", \"2/12/20\", \"2/13/20\", \"2/14/20\", \"2/15/20\", \"2/16/20\", \"2/17/20\", \"2/18/20\", \"2/19/20\", \"2/20/20\", \"2/21/20\", \"2/22/20\", \"2/23/20\", \"2/24/20\", \"2/25/20\", \"2/26/20\", \"2/27/20\", \"2/28/20\", \"2/29/20\", \"3/1/20\", \"3/2/20\", \"3/3/20\", \"3/4/20\", \"3/5/20\", \"3/6/20\", \"3/7/20\", \"3/8/20\", \"3/9/20\", \"3/10/20\", \"3/11/20\", \"3/12/20\"], \"y\": [0, 0, 2, 3, 3, 3, 4, 5, 5, 5, 6, 6, 6, 6, 6, 6, 6, 11, 11, 11, 11, 11, 11, 11, 12, 12, 12, 12, 12, 12, 12, 12, 12, 12, 14, 18, 38, 57, 100, 130, 191, 204, 288, 380, 656, 952, 1129, 1212, 1787, 2284, 2284]}, {\"mode\": \"markers\", \"type\": \"scatter\", \"x\": [\"1/22/20\", \"3/12/20\"], \"y\": [0, 2284]}, {\"connectgaps\": true, \"mode\": \"lines\", \"name\": \"Spain\", \"type\": \"scatter\", \"x\": [\"1/22/20\", \"1/23/20\", \"1/24/20\", \"1/25/20\", \"1/26/20\", \"1/27/20\", \"1/28/20\", \"1/29/20\", \"1/30/20\", \"1/31/20\", \"2/1/20\", \"2/2/20\", \"2/3/20\", \"2/4/20\", \"2/5/20\", \"2/6/20\", \"2/7/20\", \"2/8/20\", \"2/9/20\", \"2/10/20\", \"2/11/20\", \"2/12/20\", \"2/13/20\", \"2/14/20\", \"2/15/20\", \"2/16/20\", \"2/17/20\", \"2/18/20\", \"2/19/20\", \"2/20/20\", \"2/21/20\", \"2/22/20\", \"2/23/20\", \"2/24/20\", \"2/25/20\", \"2/26/20\", \"2/27/20\", \"2/28/20\", \"2/29/20\", \"3/1/20\", \"3/2/20\", \"3/3/20\", \"3/4/20\", \"3/5/20\", \"3/6/20\", \"3/7/20\", \"3/8/20\", \"3/9/20\", \"3/10/20\", \"3/11/20\", \"3/12/20\"], \"y\": [0, 0, 0, 0, 0, 0, 0, 0, 0, 0, 1, 1, 1, 1, 1, 1, 1, 1, 2, 2, 2, 2, 2, 2, 2, 2, 2, 2, 2, 2, 2, 2, 2, 2, 6, 13, 15, 32, 45, 84, 120, 165, 222, 259, 400, 500, 673, 1073, 1695, 2277, 2277]}, {\"mode\": \"markers\", \"type\": \"scatter\", \"x\": [\"1/22/20\", \"3/12/20\"], \"y\": [0, 2277]}, {\"connectgaps\": true, \"mode\": \"lines\", \"name\": \"Germany\", \"type\": \"scatter\", \"x\": [\"1/22/20\", \"1/23/20\", \"1/24/20\", \"1/25/20\", \"1/26/20\", \"1/27/20\", \"1/28/20\", \"1/29/20\", \"1/30/20\", \"1/31/20\", \"2/1/20\", \"2/2/20\", \"2/3/20\", \"2/4/20\", \"2/5/20\", \"2/6/20\", \"2/7/20\", \"2/8/20\", \"2/9/20\", \"2/10/20\", \"2/11/20\", \"2/12/20\", \"2/13/20\", \"2/14/20\", \"2/15/20\", \"2/16/20\", \"2/17/20\", \"2/18/20\", \"2/19/20\", \"2/20/20\", \"2/21/20\", \"2/22/20\", \"2/23/20\", \"2/24/20\", \"2/25/20\", \"2/26/20\", \"2/27/20\", \"2/28/20\", \"2/29/20\", \"3/1/20\", \"3/2/20\", \"3/3/20\", \"3/4/20\", \"3/5/20\", \"3/6/20\", \"3/7/20\", \"3/8/20\", \"3/9/20\", \"3/10/20\", \"3/11/20\", \"3/12/20\"], \"y\": [0, 0, 0, 0, 0, 1, 4, 4, 4, 5, 8, 10, 12, 12, 12, 12, 13, 13, 14, 14, 16, 16, 16, 16, 16, 16, 16, 16, 16, 16, 16, 16, 16, 16, 17, 27, 46, 48, 79, 130, 159, 196, 262, 482, 670, 799, 1040, 1176, 1457, 1908, 2078]}, {\"mode\": \"markers\", \"type\": \"scatter\", \"x\": [\"1/22/20\", \"3/12/20\"], \"y\": [0, 2078]}, {\"connectgaps\": true, \"mode\": \"lines\", \"name\": \"US\", \"type\": \"scatter\", \"x\": [\"1/22/20\", \"1/23/20\", \"1/24/20\", \"1/25/20\", \"1/26/20\", \"1/27/20\", \"1/28/20\", \"1/29/20\", \"1/30/20\", \"1/31/20\", \"2/1/20\", \"2/2/20\", \"2/3/20\", \"2/4/20\", \"2/5/20\", \"2/6/20\", \"2/7/20\", \"2/8/20\", \"2/9/20\", \"2/10/20\", \"2/11/20\", \"2/12/20\", \"2/13/20\", \"2/14/20\", \"2/15/20\", \"2/16/20\", \"2/17/20\", \"2/18/20\", \"2/19/20\", \"2/20/20\", \"2/21/20\", \"2/22/20\", \"2/23/20\", \"2/24/20\", \"2/25/20\", \"2/26/20\", \"2/27/20\", \"2/28/20\", \"2/29/20\", \"3/1/20\", \"3/2/20\", \"3/3/20\", \"3/4/20\", \"3/5/20\", \"3/6/20\", \"3/7/20\", \"3/8/20\", \"3/9/20\", \"3/10/20\", \"3/11/20\", \"3/12/20\"], \"y\": [1, 1, 2, 2, 5, 5, 5, 5, 5, 7, 8, 8, 11, 11, 11, 11, 11, 11, 11, 11, 12, 12, 13, 13, 13, 13, 13, 13, 13, 13, 15, 15, 15, 51, 51, 57, 58, 60, 68, 74, 98, 118, 149, 217, 262, 402, 518, 583, 959, 1281, 1663]}, {\"mode\": \"markers\", \"type\": \"scatter\", \"x\": [\"1/22/20\", \"3/12/20\"], \"y\": [1, 1663]}, {\"connectgaps\": true, \"mode\": \"lines\", \"name\": \"Norway\", \"type\": \"scatter\", \"x\": [\"1/22/20\", \"1/23/20\", \"1/24/20\", \"1/25/20\", \"1/26/20\", \"1/27/20\", \"1/28/20\", \"1/29/20\", \"1/30/20\", \"1/31/20\", \"2/1/20\", \"2/2/20\", \"2/3/20\", \"2/4/20\", \"2/5/20\", \"2/6/20\", \"2/7/20\", \"2/8/20\", \"2/9/20\", \"2/10/20\", \"2/11/20\", \"2/12/20\", \"2/13/20\", \"2/14/20\", \"2/15/20\", \"2/16/20\", \"2/17/20\", \"2/18/20\", \"2/19/20\", \"2/20/20\", \"2/21/20\", \"2/22/20\", \"2/23/20\", \"2/24/20\", \"2/25/20\", \"2/26/20\", \"2/27/20\", \"2/28/20\", \"2/29/20\", \"3/1/20\", \"3/2/20\", \"3/3/20\", \"3/4/20\", \"3/5/20\", \"3/6/20\", \"3/7/20\", \"3/8/20\", \"3/9/20\", \"3/10/20\", \"3/11/20\", \"3/12/20\"], \"y\": [0, 0, 0, 0, 0, 0, 0, 0, 0, 0, 0, 0, 0, 0, 0, 0, 0, 0, 0, 0, 0, 0, 0, 0, 0, 0, 0, 0, 0, 0, 0, 0, 0, 0, 0, 1, 1, 6, 15, 19, 25, 32, 56, 87, 108, 147, 176, 205, 400, 598, 702]}, {\"mode\": \"markers\", \"type\": \"scatter\", \"x\": [\"1/22/20\", \"3/12/20\"], \"y\": [0, 702]}, {\"connectgaps\": true, \"mode\": \"lines\", \"name\": \"Cruise Ship\", \"type\": \"scatter\", \"x\": [\"1/22/20\", \"1/23/20\", \"1/24/20\", \"1/25/20\", \"1/26/20\", \"1/27/20\", \"1/28/20\", \"1/29/20\", \"1/30/20\", \"1/31/20\", \"2/1/20\", \"2/2/20\", \"2/3/20\", \"2/4/20\", \"2/5/20\", \"2/6/20\", \"2/7/20\", \"2/8/20\", \"2/9/20\", \"2/10/20\", \"2/11/20\", \"2/12/20\", \"2/13/20\", \"2/14/20\", \"2/15/20\", \"2/16/20\", \"2/17/20\", \"2/18/20\", \"2/19/20\", \"2/20/20\", \"2/21/20\", \"2/22/20\", \"2/23/20\", \"2/24/20\", \"2/25/20\", \"2/26/20\", \"2/27/20\", \"2/28/20\", \"2/29/20\", \"3/1/20\", \"3/2/20\", \"3/3/20\", \"3/4/20\", \"3/5/20\", \"3/6/20\", \"3/7/20\", \"3/8/20\", \"3/9/20\", \"3/10/20\", \"3/11/20\", \"3/12/20\"], \"y\": [0, 0, 0, 0, 0, 0, 0, 0, 0, 0, 0, 0, 0, 0, 0, 0, 61, 61, 64, 135, 135, 175, 175, 218, 285, 355, 454, 542, 621, 634, 634, 634, 691, 691, 691, 705, 705, 705, 705, 705, 705, 706, 706, 706, 696, 696, 696, 696, 696, 696, 696]}, {\"mode\": \"markers\", \"type\": \"scatter\", \"x\": [\"1/22/20\", \"3/12/20\"], \"y\": [0, 696]}, {\"connectgaps\": true, \"mode\": \"lines\", \"name\": \"Switzerland\", \"type\": \"scatter\", \"x\": [\"1/22/20\", \"1/23/20\", \"1/24/20\", \"1/25/20\", \"1/26/20\", \"1/27/20\", \"1/28/20\", \"1/29/20\", \"1/30/20\", \"1/31/20\", \"2/1/20\", \"2/2/20\", \"2/3/20\", \"2/4/20\", \"2/5/20\", \"2/6/20\", \"2/7/20\", \"2/8/20\", \"2/9/20\", \"2/10/20\", \"2/11/20\", \"2/12/20\", \"2/13/20\", \"2/14/20\", \"2/15/20\", \"2/16/20\", \"2/17/20\", \"2/18/20\", \"2/19/20\", \"2/20/20\", \"2/21/20\", \"2/22/20\", \"2/23/20\", \"2/24/20\", \"2/25/20\", \"2/26/20\", \"2/27/20\", \"2/28/20\", \"2/29/20\", \"3/1/20\", \"3/2/20\", \"3/3/20\", \"3/4/20\", \"3/5/20\", \"3/6/20\", \"3/7/20\", \"3/8/20\", \"3/9/20\", \"3/10/20\", \"3/11/20\", \"3/12/20\"], \"y\": [0, 0, 0, 0, 0, 0, 0, 0, 0, 0, 0, 0, 0, 0, 0, 0, 0, 0, 0, 0, 0, 0, 0, 0, 0, 0, 0, 0, 0, 0, 0, 0, 0, 0, 1, 1, 8, 8, 18, 27, 42, 56, 90, 114, 214, 268, 337, 374, 491, 652, 652]}, {\"mode\": \"markers\", \"type\": \"scatter\", \"x\": [\"1/22/20\", \"3/12/20\"], \"y\": [0, 652]}, {\"connectgaps\": true, \"mode\": \"lines\", \"name\": \"Japan\", \"type\": \"scatter\", \"x\": [\"1/22/20\", \"1/23/20\", \"1/24/20\", \"1/25/20\", \"1/26/20\", \"1/27/20\", \"1/28/20\", \"1/29/20\", \"1/30/20\", \"1/31/20\", \"2/1/20\", \"2/2/20\", \"2/3/20\", \"2/4/20\", \"2/5/20\", \"2/6/20\", \"2/7/20\", \"2/8/20\", \"2/9/20\", \"2/10/20\", \"2/11/20\", \"2/12/20\", \"2/13/20\", \"2/14/20\", \"2/15/20\", \"2/16/20\", \"2/17/20\", \"2/18/20\", \"2/19/20\", \"2/20/20\", \"2/21/20\", \"2/22/20\", \"2/23/20\", \"2/24/20\", \"2/25/20\", \"2/26/20\", \"2/27/20\", \"2/28/20\", \"2/29/20\", \"3/1/20\", \"3/2/20\", \"3/3/20\", \"3/4/20\", \"3/5/20\", \"3/6/20\", \"3/7/20\", \"3/8/20\", \"3/9/20\", \"3/10/20\", \"3/11/20\", \"3/12/20\"], \"y\": [2, 1, 2, 2, 4, 4, 7, 7, 11, 15, 20, 20, 20, 22, 22, 45, 25, 25, 26, 26, 26, 28, 28, 29, 43, 59, 66, 74, 84, 94, 105, 122, 147, 159, 170, 189, 214, 228, 241, 256, 274, 293, 331, 360, 420, 461, 502, 511, 581, 639, 639]}, {\"mode\": \"markers\", \"type\": \"scatter\", \"x\": [\"1/22/20\", \"3/12/20\"], \"y\": [2, 639]}, {\"connectgaps\": true, \"mode\": \"lines\", \"name\": \"Denmark\", \"type\": \"scatter\", \"x\": [\"1/22/20\", \"1/23/20\", \"1/24/20\", \"1/25/20\", \"1/26/20\", \"1/27/20\", \"1/28/20\", \"1/29/20\", \"1/30/20\", \"1/31/20\", \"2/1/20\", \"2/2/20\", \"2/3/20\", \"2/4/20\", \"2/5/20\", \"2/6/20\", \"2/7/20\", \"2/8/20\", \"2/9/20\", \"2/10/20\", \"2/11/20\", \"2/12/20\", \"2/13/20\", \"2/14/20\", \"2/15/20\", \"2/16/20\", \"2/17/20\", \"2/18/20\", \"2/19/20\", \"2/20/20\", \"2/21/20\", \"2/22/20\", \"2/23/20\", \"2/24/20\", \"2/25/20\", \"2/26/20\", \"2/27/20\", \"2/28/20\", \"2/29/20\", \"3/1/20\", \"3/2/20\", \"3/3/20\", \"3/4/20\", \"3/5/20\", \"3/6/20\", \"3/7/20\", \"3/8/20\", \"3/9/20\", \"3/10/20\", \"3/11/20\", \"3/12/20\"], \"y\": [0, 0, 0, 0, 0, 0, 0, 0, 0, 0, 0, 0, 0, 0, 0, 0, 0, 0, 0, 0, 0, 0, 0, 0, 0, 0, 0, 0, 0, 0, 0, 0, 0, 0, 0, 0, 1, 1, 3, 4, 4, 6, 11, 11, 24, 24, 37, 92, 264, 444, 617]}, {\"mode\": \"markers\", \"type\": \"scatter\", \"x\": [\"1/22/20\", \"3/12/20\"], \"y\": [0, 617]}, {\"connectgaps\": true, \"mode\": \"lines\", \"name\": \"Sweden\", \"type\": \"scatter\", \"x\": [\"1/22/20\", \"1/23/20\", \"1/24/20\", \"1/25/20\", \"1/26/20\", \"1/27/20\", \"1/28/20\", \"1/29/20\", \"1/30/20\", \"1/31/20\", \"2/1/20\", \"2/2/20\", \"2/3/20\", \"2/4/20\", \"2/5/20\", \"2/6/20\", \"2/7/20\", \"2/8/20\", \"2/9/20\", \"2/10/20\", \"2/11/20\", \"2/12/20\", \"2/13/20\", \"2/14/20\", \"2/15/20\", \"2/16/20\", \"2/17/20\", \"2/18/20\", \"2/19/20\", \"2/20/20\", \"2/21/20\", \"2/22/20\", \"2/23/20\", \"2/24/20\", \"2/25/20\", \"2/26/20\", \"2/27/20\", \"2/28/20\", \"2/29/20\", \"3/1/20\", \"3/2/20\", \"3/3/20\", \"3/4/20\", \"3/5/20\", \"3/6/20\", \"3/7/20\", \"3/8/20\", \"3/9/20\", \"3/10/20\", \"3/11/20\", \"3/12/20\"], \"y\": [0, 0, 0, 0, 0, 0, 0, 0, 0, 1, 1, 1, 1, 1, 1, 1, 1, 1, 1, 1, 1, 1, 1, 1, 1, 1, 1, 1, 1, 1, 1, 1, 1, 1, 1, 2, 7, 7, 12, 14, 15, 21, 35, 94, 101, 161, 203, 248, 355, 500, 599]}, {\"mode\": \"markers\", \"type\": \"scatter\", \"x\": [\"1/22/20\", \"3/12/20\"], \"y\": [0, 599]}, {\"connectgaps\": true, \"mode\": \"lines\", \"name\": \"Netherlands\", \"type\": \"scatter\", \"x\": [\"1/22/20\", \"1/23/20\", \"1/24/20\", \"1/25/20\", \"1/26/20\", \"1/27/20\", \"1/28/20\", \"1/29/20\", \"1/30/20\", \"1/31/20\", \"2/1/20\", \"2/2/20\", \"2/3/20\", \"2/4/20\", \"2/5/20\", \"2/6/20\", \"2/7/20\", \"2/8/20\", \"2/9/20\", \"2/10/20\", \"2/11/20\", \"2/12/20\", \"2/13/20\", \"2/14/20\", \"2/15/20\", \"2/16/20\", \"2/17/20\", \"2/18/20\", \"2/19/20\", \"2/20/20\", \"2/21/20\", \"2/22/20\", \"2/23/20\", \"2/24/20\", \"2/25/20\", \"2/26/20\", \"2/27/20\", \"2/28/20\", \"2/29/20\", \"3/1/20\", \"3/2/20\", \"3/3/20\", \"3/4/20\", \"3/5/20\", \"3/6/20\", \"3/7/20\", \"3/8/20\", \"3/9/20\", \"3/10/20\", \"3/11/20\", \"3/12/20\"], \"y\": [0, 0, 0, 0, 0, 0, 0, 0, 0, 0, 0, 0, 0, 0, 0, 0, 0, 0, 0, 0, 0, 0, 0, 0, 0, 0, 0, 0, 0, 0, 0, 0, 0, 0, 0, 0, 1, 1, 6, 10, 18, 24, 38, 82, 128, 188, 265, 321, 382, 503, 503]}, {\"mode\": \"markers\", \"type\": \"scatter\", \"x\": [\"1/22/20\", \"3/12/20\"], \"y\": [0, 503]}, {\"connectgaps\": true, \"mode\": \"lines\", \"name\": \"United Kingdom\", \"type\": \"scatter\", \"x\": [\"1/22/20\", \"1/23/20\", \"1/24/20\", \"1/25/20\", \"1/26/20\", \"1/27/20\", \"1/28/20\", \"1/29/20\", \"1/30/20\", \"1/31/20\", \"2/1/20\", \"2/2/20\", \"2/3/20\", \"2/4/20\", \"2/5/20\", \"2/6/20\", \"2/7/20\", \"2/8/20\", \"2/9/20\", \"2/10/20\", \"2/11/20\", \"2/12/20\", \"2/13/20\", \"2/14/20\", \"2/15/20\", \"2/16/20\", \"2/17/20\", \"2/18/20\", \"2/19/20\", \"2/20/20\", \"2/21/20\", \"2/22/20\", \"2/23/20\", \"2/24/20\", \"2/25/20\", \"2/26/20\", \"2/27/20\", \"2/28/20\", \"2/29/20\", \"3/1/20\", \"3/2/20\", \"3/3/20\", \"3/4/20\", \"3/5/20\", \"3/6/20\", \"3/7/20\", \"3/8/20\", \"3/9/20\", \"3/10/20\", \"3/11/20\", \"3/12/20\"], \"y\": [0, 0, 0, 0, 0, 0, 0, 0, 0, 2, 2, 2, 2, 2, 2, 2, 3, 3, 3, 8, 8, 9, 9, 9, 9, 9, 9, 9, 9, 9, 9, 9, 9, 13, 13, 13, 15, 20, 23, 36, 40, 51, 86, 116, 164, 207, 274, 322, 384, 459, 459]}, {\"mode\": \"markers\", \"type\": \"scatter\", \"x\": [\"1/22/20\", \"3/12/20\"], \"y\": [0, 459]}, {\"connectgaps\": true, \"mode\": \"lines\", \"name\": \"Belgium\", \"type\": \"scatter\", \"x\": [\"1/22/20\", \"1/23/20\", \"1/24/20\", \"1/25/20\", \"1/26/20\", \"1/27/20\", \"1/28/20\", \"1/29/20\", \"1/30/20\", \"1/31/20\", \"2/1/20\", \"2/2/20\", \"2/3/20\", \"2/4/20\", \"2/5/20\", \"2/6/20\", \"2/7/20\", \"2/8/20\", \"2/9/20\", \"2/10/20\", \"2/11/20\", \"2/12/20\", \"2/13/20\", \"2/14/20\", \"2/15/20\", \"2/16/20\", \"2/17/20\", \"2/18/20\", \"2/19/20\", \"2/20/20\", \"2/21/20\", \"2/22/20\", \"2/23/20\", \"2/24/20\", \"2/25/20\", \"2/26/20\", \"2/27/20\", \"2/28/20\", \"2/29/20\", \"3/1/20\", \"3/2/20\", \"3/3/20\", \"3/4/20\", \"3/5/20\", \"3/6/20\", \"3/7/20\", \"3/8/20\", \"3/9/20\", \"3/10/20\", \"3/11/20\", \"3/12/20\"], \"y\": [0, 0, 0, 0, 0, 0, 0, 0, 0, 0, 0, 0, 0, 1, 1, 1, 1, 1, 1, 1, 1, 1, 1, 1, 1, 1, 1, 1, 1, 1, 1, 1, 1, 1, 1, 1, 1, 1, 1, 2, 8, 13, 23, 50, 109, 169, 200, 239, 267, 314, 314]}, {\"mode\": \"markers\", \"type\": \"scatter\", \"x\": [\"1/22/20\", \"3/12/20\"], \"y\": [0, 314]}, {\"connectgaps\": true, \"mode\": \"lines\", \"name\": \"Austria\", \"type\": \"scatter\", \"x\": [\"1/22/20\", \"1/23/20\", \"1/24/20\", \"1/25/20\", \"1/26/20\", \"1/27/20\", \"1/28/20\", \"1/29/20\", \"1/30/20\", \"1/31/20\", \"2/1/20\", \"2/2/20\", \"2/3/20\", \"2/4/20\", \"2/5/20\", \"2/6/20\", \"2/7/20\", \"2/8/20\", \"2/9/20\", \"2/10/20\", \"2/11/20\", \"2/12/20\", \"2/13/20\", \"2/14/20\", \"2/15/20\", \"2/16/20\", \"2/17/20\", \"2/18/20\", \"2/19/20\", \"2/20/20\", \"2/21/20\", \"2/22/20\", \"2/23/20\", \"2/24/20\", \"2/25/20\", \"2/26/20\", \"2/27/20\", \"2/28/20\", \"2/29/20\", \"3/1/20\", \"3/2/20\", \"3/3/20\", \"3/4/20\", \"3/5/20\", \"3/6/20\", \"3/7/20\", \"3/8/20\", \"3/9/20\", \"3/10/20\", \"3/11/20\", \"3/12/20\"], \"y\": [0, 0, 0, 0, 0, 0, 0, 0, 0, 0, 0, 0, 0, 0, 0, 0, 0, 0, 0, 0, 0, 0, 0, 0, 0, 0, 0, 0, 0, 0, 0, 0, 0, 0, 2, 2, 3, 3, 9, 14, 18, 21, 29, 41, 55, 79, 104, 131, 182, 246, 302]}, {\"mode\": \"markers\", \"type\": \"scatter\", \"x\": [\"1/22/20\", \"3/12/20\"], \"y\": [0, 302]}, {\"connectgaps\": true, \"mode\": \"lines\", \"name\": \"Qatar\", \"type\": \"scatter\", \"x\": [\"1/22/20\", \"1/23/20\", \"1/24/20\", \"1/25/20\", \"1/26/20\", \"1/27/20\", \"1/28/20\", \"1/29/20\", \"1/30/20\", \"1/31/20\", \"2/1/20\", \"2/2/20\", \"2/3/20\", \"2/4/20\", \"2/5/20\", \"2/6/20\", \"2/7/20\", \"2/8/20\", \"2/9/20\", \"2/10/20\", \"2/11/20\", \"2/12/20\", \"2/13/20\", \"2/14/20\", \"2/15/20\", \"2/16/20\", \"2/17/20\", \"2/18/20\", \"2/19/20\", \"2/20/20\", \"2/21/20\", \"2/22/20\", \"2/23/20\", \"2/24/20\", \"2/25/20\", \"2/26/20\", \"2/27/20\", \"2/28/20\", \"2/29/20\", \"3/1/20\", \"3/2/20\", \"3/3/20\", \"3/4/20\", \"3/5/20\", \"3/6/20\", \"3/7/20\", \"3/8/20\", \"3/9/20\", \"3/10/20\", \"3/11/20\", \"3/12/20\"], \"y\": [0, 0, 0, 0, 0, 0, 0, 0, 0, 0, 0, 0, 0, 0, 0, 0, 0, 0, 0, 0, 0, 0, 0, 0, 0, 0, 0, 0, 0, 0, 0, 0, 0, 0, 0, 0, 0, 0, 1, 3, 3, 7, 8, 8, 8, 8, 15, 18, 24, 262, 262]}, {\"mode\": \"markers\", \"type\": \"scatter\", \"x\": [\"1/22/20\", \"3/12/20\"], \"y\": [0, 262]}, {\"connectgaps\": true, \"mode\": \"lines\", \"name\": \"Bahrain\", \"type\": \"scatter\", \"x\": [\"1/22/20\", \"1/23/20\", \"1/24/20\", \"1/25/20\", \"1/26/20\", \"1/27/20\", \"1/28/20\", \"1/29/20\", \"1/30/20\", \"1/31/20\", \"2/1/20\", \"2/2/20\", \"2/3/20\", \"2/4/20\", \"2/5/20\", \"2/6/20\", \"2/7/20\", \"2/8/20\", \"2/9/20\", \"2/10/20\", \"2/11/20\", \"2/12/20\", \"2/13/20\", \"2/14/20\", \"2/15/20\", \"2/16/20\", \"2/17/20\", \"2/18/20\", \"2/19/20\", \"2/20/20\", \"2/21/20\", \"2/22/20\", \"2/23/20\", \"2/24/20\", \"2/25/20\", \"2/26/20\", \"2/27/20\", \"2/28/20\", \"2/29/20\", \"3/1/20\", \"3/2/20\", \"3/3/20\", \"3/4/20\", \"3/5/20\", \"3/6/20\", \"3/7/20\", \"3/8/20\", \"3/9/20\", \"3/10/20\", \"3/11/20\", \"3/12/20\"], \"y\": [0, 0, 0, 0, 0, 0, 0, 0, 0, 0, 0, 0, 0, 0, 0, 0, 0, 0, 0, 0, 0, 0, 0, 0, 0, 0, 0, 0, 0, 0, 0, 0, 0, 1, 23, 33, 33, 36, 41, 47, 49, 49, 52, 55, 60, 85, 85, 95, 110, 195, 195]}, {\"mode\": \"markers\", \"type\": \"scatter\", \"x\": [\"1/22/20\", \"3/12/20\"], \"y\": [0, 195]}, {\"connectgaps\": true, \"mode\": \"lines\", \"name\": \"Singapore\", \"type\": \"scatter\", \"x\": [\"1/22/20\", \"1/23/20\", \"1/24/20\", \"1/25/20\", \"1/26/20\", \"1/27/20\", \"1/28/20\", \"1/29/20\", \"1/30/20\", \"1/31/20\", \"2/1/20\", \"2/2/20\", \"2/3/20\", \"2/4/20\", \"2/5/20\", \"2/6/20\", \"2/7/20\", \"2/8/20\", \"2/9/20\", \"2/10/20\", \"2/11/20\", \"2/12/20\", \"2/13/20\", \"2/14/20\", \"2/15/20\", \"2/16/20\", \"2/17/20\", \"2/18/20\", \"2/19/20\", \"2/20/20\", \"2/21/20\", \"2/22/20\", \"2/23/20\", \"2/24/20\", \"2/25/20\", \"2/26/20\", \"2/27/20\", \"2/28/20\", \"2/29/20\", \"3/1/20\", \"3/2/20\", \"3/3/20\", \"3/4/20\", \"3/5/20\", \"3/6/20\", \"3/7/20\", \"3/8/20\", \"3/9/20\", \"3/10/20\", \"3/11/20\", \"3/12/20\"], \"y\": [0, 1, 3, 3, 4, 5, 7, 7, 10, 13, 16, 18, 18, 24, 28, 28, 30, 33, 40, 45, 47, 50, 58, 67, 72, 75, 77, 81, 84, 84, 85, 85, 89, 89, 91, 93, 93, 93, 102, 106, 108, 110, 110, 117, 130, 138, 150, 150, 160, 178, 178]}, {\"mode\": \"markers\", \"type\": \"scatter\", \"x\": [\"1/22/20\", \"3/12/20\"], \"y\": [0, 178]}, {\"connectgaps\": true, \"mode\": \"lines\", \"name\": \"Malaysia\", \"type\": \"scatter\", \"x\": [\"1/22/20\", \"1/23/20\", \"1/24/20\", \"1/25/20\", \"1/26/20\", \"1/27/20\", \"1/28/20\", \"1/29/20\", \"1/30/20\", \"1/31/20\", \"2/1/20\", \"2/2/20\", \"2/3/20\", \"2/4/20\", \"2/5/20\", \"2/6/20\", \"2/7/20\", \"2/8/20\", \"2/9/20\", \"2/10/20\", \"2/11/20\", \"2/12/20\", \"2/13/20\", \"2/14/20\", \"2/15/20\", \"2/16/20\", \"2/17/20\", \"2/18/20\", \"2/19/20\", \"2/20/20\", \"2/21/20\", \"2/22/20\", \"2/23/20\", \"2/24/20\", \"2/25/20\", \"2/26/20\", \"2/27/20\", \"2/28/20\", \"2/29/20\", \"3/1/20\", \"3/2/20\", \"3/3/20\", \"3/4/20\", \"3/5/20\", \"3/6/20\", \"3/7/20\", \"3/8/20\", \"3/9/20\", \"3/10/20\", \"3/11/20\", \"3/12/20\"], \"y\": [0, 0, 0, 3, 4, 4, 4, 7, 8, 8, 8, 8, 8, 10, 12, 12, 12, 16, 16, 18, 18, 18, 19, 19, 22, 22, 22, 22, 22, 22, 22, 22, 22, 22, 22, 22, 23, 23, 25, 29, 29, 36, 50, 50, 83, 93, 99, 117, 129, 149, 149]}, {\"mode\": \"markers\", \"type\": \"scatter\", \"x\": [\"1/22/20\", \"3/12/20\"], \"y\": [0, 149]}, {\"connectgaps\": true, \"mode\": \"lines\", \"name\": \"Israel\", \"type\": \"scatter\", \"x\": [\"1/22/20\", \"1/23/20\", \"1/24/20\", \"1/25/20\", \"1/26/20\", \"1/27/20\", \"1/28/20\", \"1/29/20\", \"1/30/20\", \"1/31/20\", \"2/1/20\", \"2/2/20\", \"2/3/20\", \"2/4/20\", \"2/5/20\", \"2/6/20\", \"2/7/20\", \"2/8/20\", \"2/9/20\", \"2/10/20\", \"2/11/20\", \"2/12/20\", \"2/13/20\", \"2/14/20\", \"2/15/20\", \"2/16/20\", \"2/17/20\", \"2/18/20\", \"2/19/20\", \"2/20/20\", \"2/21/20\", \"2/22/20\", \"2/23/20\", \"2/24/20\", \"2/25/20\", \"2/26/20\", \"2/27/20\", \"2/28/20\", \"2/29/20\", \"3/1/20\", \"3/2/20\", \"3/3/20\", \"3/4/20\", \"3/5/20\", \"3/6/20\", \"3/7/20\", \"3/8/20\", \"3/9/20\", \"3/10/20\", \"3/11/20\", \"3/12/20\"], \"y\": [0, 0, 0, 0, 0, 0, 0, 0, 0, 0, 0, 0, 0, 0, 0, 0, 0, 0, 0, 0, 0, 0, 0, 0, 0, 0, 0, 0, 0, 0, 1, 1, 1, 1, 1, 2, 3, 4, 7, 10, 10, 12, 15, 20, 37, 43, 61, 61, 83, 109, 131]}, {\"mode\": \"markers\", \"type\": \"scatter\", \"x\": [\"1/22/20\", \"3/12/20\"], \"y\": [0, 131]}, {\"connectgaps\": true, \"mode\": \"lines\", \"name\": \"Australia\", \"type\": \"scatter\", \"x\": [\"1/22/20\", \"1/23/20\", \"1/24/20\", \"1/25/20\", \"1/26/20\", \"1/27/20\", \"1/28/20\", \"1/29/20\", \"1/30/20\", \"1/31/20\", \"2/1/20\", \"2/2/20\", \"2/3/20\", \"2/4/20\", \"2/5/20\", \"2/6/20\", \"2/7/20\", \"2/8/20\", \"2/9/20\", \"2/10/20\", \"2/11/20\", \"2/12/20\", \"2/13/20\", \"2/14/20\", \"2/15/20\", \"2/16/20\", \"2/17/20\", \"2/18/20\", \"2/19/20\", \"2/20/20\", \"2/21/20\", \"2/22/20\", \"2/23/20\", \"2/24/20\", \"2/25/20\", \"2/26/20\", \"2/27/20\", \"2/28/20\", \"2/29/20\", \"3/1/20\", \"3/2/20\", \"3/3/20\", \"3/4/20\", \"3/5/20\", \"3/6/20\", \"3/7/20\", \"3/8/20\", \"3/9/20\", \"3/10/20\", \"3/11/20\", \"3/12/20\"], \"y\": [0, 0, 0, 0, 4, 5, 5, 6, 9, 9, 12, 12, 12, 13, 13, 14, 15, 15, 15, 15, 15, 15, 15, 15, 15, 15, 15, 15, 15, 15, 19, 22, 22, 22, 22, 22, 23, 23, 25, 27, 30, 39, 52, 55, 60, 63, 76, 91, 107, 128, 128]}, {\"mode\": \"markers\", \"type\": \"scatter\", \"x\": [\"1/22/20\", \"3/12/20\"], \"y\": [0, 128]}, {\"connectgaps\": true, \"mode\": \"lines\", \"name\": \"Canada\", \"type\": \"scatter\", \"x\": [\"1/22/20\", \"1/23/20\", \"1/24/20\", \"1/25/20\", \"1/26/20\", \"1/27/20\", \"1/28/20\", \"1/29/20\", \"1/30/20\", \"1/31/20\", \"2/1/20\", \"2/2/20\", \"2/3/20\", \"2/4/20\", \"2/5/20\", \"2/6/20\", \"2/7/20\", \"2/8/20\", \"2/9/20\", \"2/10/20\", \"2/11/20\", \"2/12/20\", \"2/13/20\", \"2/14/20\", \"2/15/20\", \"2/16/20\", \"2/17/20\", \"2/18/20\", \"2/19/20\", \"2/20/20\", \"2/21/20\", \"2/22/20\", \"2/23/20\", \"2/24/20\", \"2/25/20\", \"2/26/20\", \"2/27/20\", \"2/28/20\", \"2/29/20\", \"3/1/20\", \"3/2/20\", \"3/3/20\", \"3/4/20\", \"3/5/20\", \"3/6/20\", \"3/7/20\", \"3/8/20\", \"3/9/20\", \"3/10/20\", \"3/11/20\", \"3/12/20\"], \"y\": [0, 0, 0, 0, 1, 1, 2, 2, 2, 4, 4, 4, 4, 4, 5, 5, 7, 7, 7, 7, 7, 7, 7, 7, 7, 7, 8, 8, 8, 8, 9, 9, 9, 10, 11, 11, 13, 14, 20, 24, 27, 30, 33, 37, 49, 54, 64, 77, 79, 108, 117]}, {\"mode\": \"markers\", \"type\": \"scatter\", \"x\": [\"1/22/20\", \"3/12/20\"], \"y\": [0, 117]}, {\"connectgaps\": true, \"mode\": \"lines\", \"name\": \"Iceland\", \"type\": \"scatter\", \"x\": [\"1/22/20\", \"1/23/20\", \"1/24/20\", \"1/25/20\", \"1/26/20\", \"1/27/20\", \"1/28/20\", \"1/29/20\", \"1/30/20\", \"1/31/20\", \"2/1/20\", \"2/2/20\", \"2/3/20\", \"2/4/20\", \"2/5/20\", \"2/6/20\", \"2/7/20\", \"2/8/20\", \"2/9/20\", \"2/10/20\", \"2/11/20\", \"2/12/20\", \"2/13/20\", \"2/14/20\", \"2/15/20\", \"2/16/20\", \"2/17/20\", \"2/18/20\", \"2/19/20\", \"2/20/20\", \"2/21/20\", \"2/22/20\", \"2/23/20\", \"2/24/20\", \"2/25/20\", \"2/26/20\", \"2/27/20\", \"2/28/20\", \"2/29/20\", \"3/1/20\", \"3/2/20\", \"3/3/20\", \"3/4/20\", \"3/5/20\", \"3/6/20\", \"3/7/20\", \"3/8/20\", \"3/9/20\", \"3/10/20\", \"3/11/20\", \"3/12/20\"], \"y\": [0, 0, 0, 0, 0, 0, 0, 0, 0, 0, 0, 0, 0, 0, 0, 0, 0, 0, 0, 0, 0, 0, 0, 0, 0, 0, 0, 0, 0, 0, 0, 0, 0, 0, 0, 0, 0, 1, 1, 3, 6, 11, 26, 34, 43, 50, 50, 58, 69, 85, 103]}, {\"mode\": \"markers\", \"type\": \"scatter\", \"x\": [\"1/22/20\", \"3/12/20\"], \"y\": [0, 103]}, {\"connectgaps\": true, \"mode\": \"lines\", \"name\": \"Greece\", \"type\": \"scatter\", \"x\": [\"1/22/20\", \"1/23/20\", \"1/24/20\", \"1/25/20\", \"1/26/20\", \"1/27/20\", \"1/28/20\", \"1/29/20\", \"1/30/20\", \"1/31/20\", \"2/1/20\", \"2/2/20\", \"2/3/20\", \"2/4/20\", \"2/5/20\", \"2/6/20\", \"2/7/20\", \"2/8/20\", \"2/9/20\", \"2/10/20\", \"2/11/20\", \"2/12/20\", \"2/13/20\", \"2/14/20\", \"2/15/20\", \"2/16/20\", \"2/17/20\", \"2/18/20\", \"2/19/20\", \"2/20/20\", \"2/21/20\", \"2/22/20\", \"2/23/20\", \"2/24/20\", \"2/25/20\", \"2/26/20\", \"2/27/20\", \"2/28/20\", \"2/29/20\", \"3/1/20\", \"3/2/20\", \"3/3/20\", \"3/4/20\", \"3/5/20\", \"3/6/20\", \"3/7/20\", \"3/8/20\", \"3/9/20\", \"3/10/20\", \"3/11/20\", \"3/12/20\"], \"y\": [0, 0, 0, 0, 0, 0, 0, 0, 0, 0, 0, 0, 0, 0, 0, 0, 0, 0, 0, 0, 0, 0, 0, 0, 0, 0, 0, 0, 0, 0, 0, 0, 0, 0, 0, 1, 3, 4, 4, 7, 7, 7, 9, 31, 45, 46, 73, 73, 89, 99, 99]}, {\"mode\": \"markers\", \"type\": \"scatter\", \"x\": [\"1/22/20\", \"3/12/20\"], \"y\": [0, 99]}, {\"connectgaps\": true, \"mode\": \"lines\", \"name\": \"Czechia\", \"type\": \"scatter\", \"x\": [\"1/22/20\", \"1/23/20\", \"1/24/20\", \"1/25/20\", \"1/26/20\", \"1/27/20\", \"1/28/20\", \"1/29/20\", \"1/30/20\", \"1/31/20\", \"2/1/20\", \"2/2/20\", \"2/3/20\", \"2/4/20\", \"2/5/20\", \"2/6/20\", \"2/7/20\", \"2/8/20\", \"2/9/20\", \"2/10/20\", \"2/11/20\", \"2/12/20\", \"2/13/20\", \"2/14/20\", \"2/15/20\", \"2/16/20\", \"2/17/20\", \"2/18/20\", \"2/19/20\", \"2/20/20\", \"2/21/20\", \"2/22/20\", \"2/23/20\", \"2/24/20\", \"2/25/20\", \"2/26/20\", \"2/27/20\", \"2/28/20\", \"2/29/20\", \"3/1/20\", \"3/2/20\", \"3/3/20\", \"3/4/20\", \"3/5/20\", \"3/6/20\", \"3/7/20\", \"3/8/20\", \"3/9/20\", \"3/10/20\", \"3/11/20\", \"3/12/20\"], \"y\": [0, 0, 0, 0, 0, 0, 0, 0, 0, 0, 0, 0, 0, 0, 0, 0, 0, 0, 0, 0, 0, 0, 0, 0, 0, 0, 0, 0, 0, 0, 0, 0, 0, 0, 0, 0, 0, 0, 0, 3, 3, 5, 8, 12, 18, 19, 31, 31, 41, 91, 94]}, {\"mode\": \"markers\", \"type\": \"scatter\", \"x\": [\"1/22/20\", \"3/12/20\"], \"y\": [0, 94]}, {\"connectgaps\": true, \"mode\": \"lines\", \"name\": \"Slovenia\", \"type\": \"scatter\", \"x\": [\"1/22/20\", \"1/23/20\", \"1/24/20\", \"1/25/20\", \"1/26/20\", \"1/27/20\", \"1/28/20\", \"1/29/20\", \"1/30/20\", \"1/31/20\", \"2/1/20\", \"2/2/20\", \"2/3/20\", \"2/4/20\", \"2/5/20\", \"2/6/20\", \"2/7/20\", \"2/8/20\", \"2/9/20\", \"2/10/20\", \"2/11/20\", \"2/12/20\", \"2/13/20\", \"2/14/20\", \"2/15/20\", \"2/16/20\", \"2/17/20\", \"2/18/20\", \"2/19/20\", \"2/20/20\", \"2/21/20\", \"2/22/20\", \"2/23/20\", \"2/24/20\", \"2/25/20\", \"2/26/20\", \"2/27/20\", \"2/28/20\", \"2/29/20\", \"3/1/20\", \"3/2/20\", \"3/3/20\", \"3/4/20\", \"3/5/20\", \"3/6/20\", \"3/7/20\", \"3/8/20\", \"3/9/20\", \"3/10/20\", \"3/11/20\", \"3/12/20\"], \"y\": [0, 0, 0, 0, 0, 0, 0, 0, 0, 0, 0, 0, 0, 0, 0, 0, 0, 0, 0, 0, 0, 0, 0, 0, 0, 0, 0, 0, 0, 0, 0, 0, 0, 0, 0, 0, 0, 0, 0, 0, 0, 0, 0, 2, 7, 7, 16, 16, 31, 57, 89]}, {\"mode\": \"markers\", \"type\": \"scatter\", \"x\": [\"1/22/20\", \"3/12/20\"], \"y\": [0, 89]}, {\"connectgaps\": true, \"mode\": \"lines\", \"name\": \"United Arab Emirates\", \"type\": \"scatter\", \"x\": [\"1/22/20\", \"1/23/20\", \"1/24/20\", \"1/25/20\", \"1/26/20\", \"1/27/20\", \"1/28/20\", \"1/29/20\", \"1/30/20\", \"1/31/20\", \"2/1/20\", \"2/2/20\", \"2/3/20\", \"2/4/20\", \"2/5/20\", \"2/6/20\", \"2/7/20\", \"2/8/20\", \"2/9/20\", \"2/10/20\", \"2/11/20\", \"2/12/20\", \"2/13/20\", \"2/14/20\", \"2/15/20\", \"2/16/20\", \"2/17/20\", \"2/18/20\", \"2/19/20\", \"2/20/20\", \"2/21/20\", \"2/22/20\", \"2/23/20\", \"2/24/20\", \"2/25/20\", \"2/26/20\", \"2/27/20\", \"2/28/20\", \"2/29/20\", \"3/1/20\", \"3/2/20\", \"3/3/20\", \"3/4/20\", \"3/5/20\", \"3/6/20\", \"3/7/20\", \"3/8/20\", \"3/9/20\", \"3/10/20\", \"3/11/20\", \"3/12/20\"], \"y\": [0, 0, 0, 0, 0, 0, 0, 4, 4, 4, 4, 5, 5, 5, 5, 5, 5, 7, 7, 8, 8, 8, 8, 8, 8, 9, 9, 9, 9, 9, 9, 13, 13, 13, 13, 13, 13, 19, 21, 21, 21, 27, 27, 29, 29, 45, 45, 45, 74, 74, 85]}, {\"mode\": \"markers\", \"type\": \"scatter\", \"x\": [\"1/22/20\", \"3/12/20\"], \"y\": [0, 85]}, {\"connectgaps\": true, \"mode\": \"lines\", \"name\": \"Kuwait\", \"type\": \"scatter\", \"x\": [\"1/22/20\", \"1/23/20\", \"1/24/20\", \"1/25/20\", \"1/26/20\", \"1/27/20\", \"1/28/20\", \"1/29/20\", \"1/30/20\", \"1/31/20\", \"2/1/20\", \"2/2/20\", \"2/3/20\", \"2/4/20\", \"2/5/20\", \"2/6/20\", \"2/7/20\", \"2/8/20\", \"2/9/20\", \"2/10/20\", \"2/11/20\", \"2/12/20\", \"2/13/20\", \"2/14/20\", \"2/15/20\", \"2/16/20\", \"2/17/20\", \"2/18/20\", \"2/19/20\", \"2/20/20\", \"2/21/20\", \"2/22/20\", \"2/23/20\", \"2/24/20\", \"2/25/20\", \"2/26/20\", \"2/27/20\", \"2/28/20\", \"2/29/20\", \"3/1/20\", \"3/2/20\", \"3/3/20\", \"3/4/20\", \"3/5/20\", \"3/6/20\", \"3/7/20\", \"3/8/20\", \"3/9/20\", \"3/10/20\", \"3/11/20\", \"3/12/20\"], \"y\": [0, 0, 0, 0, 0, 0, 0, 0, 0, 0, 0, 0, 0, 0, 0, 0, 0, 0, 0, 0, 0, 0, 0, 0, 0, 0, 0, 0, 0, 0, 0, 0, 0, 1, 11, 26, 43, 45, 45, 45, 56, 56, 56, 58, 58, 61, 64, 64, 69, 72, 80]}, {\"mode\": \"markers\", \"type\": \"scatter\", \"x\": [\"1/22/20\", \"3/12/20\"], \"y\": [0, 80]}, {\"connectgaps\": true, \"mode\": \"lines\", \"name\": \"India\", \"type\": \"scatter\", \"x\": [\"1/22/20\", \"1/23/20\", \"1/24/20\", \"1/25/20\", \"1/26/20\", \"1/27/20\", \"1/28/20\", \"1/29/20\", \"1/30/20\", \"1/31/20\", \"2/1/20\", \"2/2/20\", \"2/3/20\", \"2/4/20\", \"2/5/20\", \"2/6/20\", \"2/7/20\", \"2/8/20\", \"2/9/20\", \"2/10/20\", \"2/11/20\", \"2/12/20\", \"2/13/20\", \"2/14/20\", \"2/15/20\", \"2/16/20\", \"2/17/20\", \"2/18/20\", \"2/19/20\", \"2/20/20\", \"2/21/20\", \"2/22/20\", \"2/23/20\", \"2/24/20\", \"2/25/20\", \"2/26/20\", \"2/27/20\", \"2/28/20\", \"2/29/20\", \"3/1/20\", \"3/2/20\", \"3/3/20\", \"3/4/20\", \"3/5/20\", \"3/6/20\", \"3/7/20\", \"3/8/20\", \"3/9/20\", \"3/10/20\", \"3/11/20\", \"3/12/20\"], \"y\": [0, 0, 0, 0, 0, 0, 0, 0, 1, 1, 1, 2, 3, 3, 3, 3, 3, 3, 3, 3, 3, 3, 3, 3, 3, 3, 3, 3, 3, 3, 3, 3, 3, 3, 3, 3, 3, 3, 3, 3, 5, 5, 28, 30, 31, 34, 39, 43, 56, 62, 73]}, {\"mode\": \"markers\", \"type\": \"scatter\", \"x\": [\"1/22/20\", \"3/12/20\"], \"y\": [0, 73]}, {\"connectgaps\": true, \"mode\": \"lines\", \"name\": \"Iraq\", \"type\": \"scatter\", \"x\": [\"1/22/20\", \"1/23/20\", \"1/24/20\", \"1/25/20\", \"1/26/20\", \"1/27/20\", \"1/28/20\", \"1/29/20\", \"1/30/20\", \"1/31/20\", \"2/1/20\", \"2/2/20\", \"2/3/20\", \"2/4/20\", \"2/5/20\", \"2/6/20\", \"2/7/20\", \"2/8/20\", \"2/9/20\", \"2/10/20\", \"2/11/20\", \"2/12/20\", \"2/13/20\", \"2/14/20\", \"2/15/20\", \"2/16/20\", \"2/17/20\", \"2/18/20\", \"2/19/20\", \"2/20/20\", \"2/21/20\", \"2/22/20\", \"2/23/20\", \"2/24/20\", \"2/25/20\", \"2/26/20\", \"2/27/20\", \"2/28/20\", \"2/29/20\", \"3/1/20\", \"3/2/20\", \"3/3/20\", \"3/4/20\", \"3/5/20\", \"3/6/20\", \"3/7/20\", \"3/8/20\", \"3/9/20\", \"3/10/20\", \"3/11/20\", \"3/12/20\"], \"y\": [0, 0, 0, 0, 0, 0, 0, 0, 0, 0, 0, 0, 0, 0, 0, 0, 0, 0, 0, 0, 0, 0, 0, 0, 0, 0, 0, 0, 0, 0, 0, 0, 0, 1, 1, 5, 7, 7, 13, 19, 26, 32, 35, 35, 40, 54, 60, 60, 71, 71, 71]}, {\"mode\": \"markers\", \"type\": \"scatter\", \"x\": [\"1/22/20\", \"3/12/20\"], \"y\": [0, 71]}, {\"connectgaps\": true, \"mode\": \"lines\", \"name\": \"Thailand\", \"type\": \"scatter\", \"x\": [\"1/22/20\", \"1/23/20\", \"1/24/20\", \"1/25/20\", \"1/26/20\", \"1/27/20\", \"1/28/20\", \"1/29/20\", \"1/30/20\", \"1/31/20\", \"2/1/20\", \"2/2/20\", \"2/3/20\", \"2/4/20\", \"2/5/20\", \"2/6/20\", \"2/7/20\", \"2/8/20\", \"2/9/20\", \"2/10/20\", \"2/11/20\", \"2/12/20\", \"2/13/20\", \"2/14/20\", \"2/15/20\", \"2/16/20\", \"2/17/20\", \"2/18/20\", \"2/19/20\", \"2/20/20\", \"2/21/20\", \"2/22/20\", \"2/23/20\", \"2/24/20\", \"2/25/20\", \"2/26/20\", \"2/27/20\", \"2/28/20\", \"2/29/20\", \"3/1/20\", \"3/2/20\", \"3/3/20\", \"3/4/20\", \"3/5/20\", \"3/6/20\", \"3/7/20\", \"3/8/20\", \"3/9/20\", \"3/10/20\", \"3/11/20\", \"3/12/20\"], \"y\": [2, 3, 5, 7, 8, 8, 14, 14, 14, 19, 19, 19, 19, 25, 25, 25, 25, 32, 32, 32, 33, 33, 33, 33, 33, 34, 35, 35, 35, 35, 35, 35, 35, 35, 37, 40, 40, 41, 42, 42, 43, 43, 43, 47, 48, 50, 50, 50, 53, 59, 70]}, {\"mode\": \"markers\", \"type\": \"scatter\", \"x\": [\"1/22/20\", \"3/12/20\"], \"y\": [2, 70]}, {\"connectgaps\": true, \"mode\": \"lines\", \"name\": \"San Marino\", \"type\": \"scatter\", \"x\": [\"1/22/20\", \"1/23/20\", \"1/24/20\", \"1/25/20\", \"1/26/20\", \"1/27/20\", \"1/28/20\", \"1/29/20\", \"1/30/20\", \"1/31/20\", \"2/1/20\", \"2/2/20\", \"2/3/20\", \"2/4/20\", \"2/5/20\", \"2/6/20\", \"2/7/20\", \"2/8/20\", \"2/9/20\", \"2/10/20\", \"2/11/20\", \"2/12/20\", \"2/13/20\", \"2/14/20\", \"2/15/20\", \"2/16/20\", \"2/17/20\", \"2/18/20\", \"2/19/20\", \"2/20/20\", \"2/21/20\", \"2/22/20\", \"2/23/20\", \"2/24/20\", \"2/25/20\", \"2/26/20\", \"2/27/20\", \"2/28/20\", \"2/29/20\", \"3/1/20\", \"3/2/20\", \"3/3/20\", \"3/4/20\", \"3/5/20\", \"3/6/20\", \"3/7/20\", \"3/8/20\", \"3/9/20\", \"3/10/20\", \"3/11/20\", \"3/12/20\"], \"y\": [0, 0, 0, 0, 0, 0, 0, 0, 0, 0, 0, 0, 0, 0, 0, 0, 0, 0, 0, 0, 0, 0, 0, 0, 0, 0, 0, 0, 0, 0, 0, 0, 0, 0, 0, 0, 1, 1, 1, 1, 8, 10, 16, 21, 21, 23, 36, 36, 51, 62, 69]}, {\"mode\": \"markers\", \"type\": \"scatter\", \"x\": [\"1/22/20\", \"3/12/20\"], \"y\": [0, 69]}, {\"connectgaps\": true, \"mode\": \"lines\", \"name\": \"Egypt\", \"type\": \"scatter\", \"x\": [\"1/22/20\", \"1/23/20\", \"1/24/20\", \"1/25/20\", \"1/26/20\", \"1/27/20\", \"1/28/20\", \"1/29/20\", \"1/30/20\", \"1/31/20\", \"2/1/20\", \"2/2/20\", \"2/3/20\", \"2/4/20\", \"2/5/20\", \"2/6/20\", \"2/7/20\", \"2/8/20\", \"2/9/20\", \"2/10/20\", \"2/11/20\", \"2/12/20\", \"2/13/20\", \"2/14/20\", \"2/15/20\", \"2/16/20\", \"2/17/20\", \"2/18/20\", \"2/19/20\", \"2/20/20\", \"2/21/20\", \"2/22/20\", \"2/23/20\", \"2/24/20\", \"2/25/20\", \"2/26/20\", \"2/27/20\", \"2/28/20\", \"2/29/20\", \"3/1/20\", \"3/2/20\", \"3/3/20\", \"3/4/20\", \"3/5/20\", \"3/6/20\", \"3/7/20\", \"3/8/20\", \"3/9/20\", \"3/10/20\", \"3/11/20\", \"3/12/20\"], \"y\": [0, 0, 0, 0, 0, 0, 0, 0, 0, 0, 0, 0, 0, 0, 0, 0, 0, 0, 0, 0, 0, 0, 0, 1, 1, 1, 1, 1, 1, 1, 1, 1, 1, 1, 1, 1, 1, 1, 1, 2, 2, 2, 2, 3, 15, 15, 49, 55, 59, 60, 67]}, {\"mode\": \"markers\", \"type\": \"scatter\", \"x\": [\"1/22/20\", \"3/12/20\"], \"y\": [0, 67]}, {\"connectgaps\": true, \"mode\": \"lines\", \"name\": \"Lebanon\", \"type\": \"scatter\", \"x\": [\"1/22/20\", \"1/23/20\", \"1/24/20\", \"1/25/20\", \"1/26/20\", \"1/27/20\", \"1/28/20\", \"1/29/20\", \"1/30/20\", \"1/31/20\", \"2/1/20\", \"2/2/20\", \"2/3/20\", \"2/4/20\", \"2/5/20\", \"2/6/20\", \"2/7/20\", \"2/8/20\", \"2/9/20\", \"2/10/20\", \"2/11/20\", \"2/12/20\", \"2/13/20\", \"2/14/20\", \"2/15/20\", \"2/16/20\", \"2/17/20\", \"2/18/20\", \"2/19/20\", \"2/20/20\", \"2/21/20\", \"2/22/20\", \"2/23/20\", \"2/24/20\", \"2/25/20\", \"2/26/20\", \"2/27/20\", \"2/28/20\", \"2/29/20\", \"3/1/20\", \"3/2/20\", \"3/3/20\", \"3/4/20\", \"3/5/20\", \"3/6/20\", \"3/7/20\", \"3/8/20\", \"3/9/20\", \"3/10/20\", \"3/11/20\", \"3/12/20\"], \"y\": [0, 0, 0, 0, 0, 0, 0, 0, 0, 0, 0, 0, 0, 0, 0, 0, 0, 0, 0, 0, 0, 0, 0, 0, 0, 0, 0, 0, 0, 0, 1, 1, 1, 1, 1, 2, 2, 2, 4, 10, 13, 13, 13, 16, 22, 22, 32, 32, 41, 61, 61]}, {\"mode\": \"markers\", \"type\": \"scatter\", \"x\": [\"1/22/20\", \"3/12/20\"], \"y\": [0, 61]}, {\"connectgaps\": true, \"mode\": \"lines\", \"name\": \"Finland\", \"type\": \"scatter\", \"x\": [\"1/22/20\", \"1/23/20\", \"1/24/20\", \"1/25/20\", \"1/26/20\", \"1/27/20\", \"1/28/20\", \"1/29/20\", \"1/30/20\", \"1/31/20\", \"2/1/20\", \"2/2/20\", \"2/3/20\", \"2/4/20\", \"2/5/20\", \"2/6/20\", \"2/7/20\", \"2/8/20\", \"2/9/20\", \"2/10/20\", \"2/11/20\", \"2/12/20\", \"2/13/20\", \"2/14/20\", \"2/15/20\", \"2/16/20\", \"2/17/20\", \"2/18/20\", \"2/19/20\", \"2/20/20\", \"2/21/20\", \"2/22/20\", \"2/23/20\", \"2/24/20\", \"2/25/20\", \"2/26/20\", \"2/27/20\", \"2/28/20\", \"2/29/20\", \"3/1/20\", \"3/2/20\", \"3/3/20\", \"3/4/20\", \"3/5/20\", \"3/6/20\", \"3/7/20\", \"3/8/20\", \"3/9/20\", \"3/10/20\", \"3/11/20\", \"3/12/20\"], \"y\": [0, 0, 0, 0, 0, 0, 0, 1, 1, 1, 1, 1, 1, 1, 1, 1, 1, 1, 1, 1, 1, 1, 1, 1, 1, 1, 1, 1, 1, 1, 1, 1, 1, 1, 1, 2, 2, 2, 3, 6, 6, 6, 6, 12, 15, 15, 23, 30, 40, 59, 59]}, {\"mode\": \"markers\", \"type\": \"scatter\", \"x\": [\"1/22/20\", \"3/12/20\"], \"y\": [0, 59]}, {\"connectgaps\": true, \"mode\": \"lines\", \"name\": \"Portugal\", \"type\": \"scatter\", \"x\": [\"1/22/20\", \"1/23/20\", \"1/24/20\", \"1/25/20\", \"1/26/20\", \"1/27/20\", \"1/28/20\", \"1/29/20\", \"1/30/20\", \"1/31/20\", \"2/1/20\", \"2/2/20\", \"2/3/20\", \"2/4/20\", \"2/5/20\", \"2/6/20\", \"2/7/20\", \"2/8/20\", \"2/9/20\", \"2/10/20\", \"2/11/20\", \"2/12/20\", \"2/13/20\", \"2/14/20\", \"2/15/20\", \"2/16/20\", \"2/17/20\", \"2/18/20\", \"2/19/20\", \"2/20/20\", \"2/21/20\", \"2/22/20\", \"2/23/20\", \"2/24/20\", \"2/25/20\", \"2/26/20\", \"2/27/20\", \"2/28/20\", \"2/29/20\", \"3/1/20\", \"3/2/20\", \"3/3/20\", \"3/4/20\", \"3/5/20\", \"3/6/20\", \"3/7/20\", \"3/8/20\", \"3/9/20\", \"3/10/20\", \"3/11/20\", \"3/12/20\"], \"y\": [0, 0, 0, 0, 0, 0, 0, 0, 0, 0, 0, 0, 0, 0, 0, 0, 0, 0, 0, 0, 0, 0, 0, 0, 0, 0, 0, 0, 0, 0, 0, 0, 0, 0, 0, 0, 0, 0, 0, 0, 2, 2, 5, 8, 13, 20, 30, 30, 41, 59, 59]}, {\"mode\": \"markers\", \"type\": \"scatter\", \"x\": [\"1/22/20\", \"3/12/20\"], \"y\": [0, 59]}, {\"connectgaps\": true, \"mode\": \"lines\", \"name\": \"Philippines\", \"type\": \"scatter\", \"x\": [\"1/22/20\", \"1/23/20\", \"1/24/20\", \"1/25/20\", \"1/26/20\", \"1/27/20\", \"1/28/20\", \"1/29/20\", \"1/30/20\", \"1/31/20\", \"2/1/20\", \"2/2/20\", \"2/3/20\", \"2/4/20\", \"2/5/20\", \"2/6/20\", \"2/7/20\", \"2/8/20\", \"2/9/20\", \"2/10/20\", \"2/11/20\", \"2/12/20\", \"2/13/20\", \"2/14/20\", \"2/15/20\", \"2/16/20\", \"2/17/20\", \"2/18/20\", \"2/19/20\", \"2/20/20\", \"2/21/20\", \"2/22/20\", \"2/23/20\", \"2/24/20\", \"2/25/20\", \"2/26/20\", \"2/27/20\", \"2/28/20\", \"2/29/20\", \"3/1/20\", \"3/2/20\", \"3/3/20\", \"3/4/20\", \"3/5/20\", \"3/6/20\", \"3/7/20\", \"3/8/20\", \"3/9/20\", \"3/10/20\", \"3/11/20\", \"3/12/20\"], \"y\": [0, 0, 0, 0, 0, 0, 0, 0, 1, 1, 1, 2, 2, 2, 2, 2, 3, 3, 3, 3, 3, 3, 3, 3, 3, 3, 3, 3, 3, 3, 3, 3, 3, 3, 3, 3, 3, 3, 3, 3, 3, 3, 3, 3, 5, 6, 10, 20, 33, 49, 52]}, {\"mode\": \"markers\", \"type\": \"scatter\", \"x\": [\"1/22/20\", \"3/12/20\"], \"y\": [0, 52]}, {\"connectgaps\": true, \"mode\": \"lines\", \"name\": \"Brazil\", \"type\": \"scatter\", \"x\": [\"1/22/20\", \"1/23/20\", \"1/24/20\", \"1/25/20\", \"1/26/20\", \"1/27/20\", \"1/28/20\", \"1/29/20\", \"1/30/20\", \"1/31/20\", \"2/1/20\", \"2/2/20\", \"2/3/20\", \"2/4/20\", \"2/5/20\", \"2/6/20\", \"2/7/20\", \"2/8/20\", \"2/9/20\", \"2/10/20\", \"2/11/20\", \"2/12/20\", \"2/13/20\", \"2/14/20\", \"2/15/20\", \"2/16/20\", \"2/17/20\", \"2/18/20\", \"2/19/20\", \"2/20/20\", \"2/21/20\", \"2/22/20\", \"2/23/20\", \"2/24/20\", \"2/25/20\", \"2/26/20\", \"2/27/20\", \"2/28/20\", \"2/29/20\", \"3/1/20\", \"3/2/20\", \"3/3/20\", \"3/4/20\", \"3/5/20\", \"3/6/20\", \"3/7/20\", \"3/8/20\", \"3/9/20\", \"3/10/20\", \"3/11/20\", \"3/12/20\"], \"y\": [0, 0, 0, 0, 0, 0, 0, 0, 0, 0, 0, 0, 0, 0, 0, 0, 0, 0, 0, 0, 0, 0, 0, 0, 0, 0, 0, 0, 0, 0, 0, 0, 0, 0, 0, 1, 1, 1, 2, 2, 2, 2, 4, 4, 13, 13, 20, 25, 31, 38, 52]}, {\"mode\": \"markers\", \"type\": \"scatter\", \"x\": [\"1/22/20\", \"3/12/20\"], \"y\": [0, 52]}, {\"connectgaps\": true, \"mode\": \"lines\", \"name\": \"Taiwan*\", \"type\": \"scatter\", \"x\": [\"1/22/20\", \"1/23/20\", \"1/24/20\", \"1/25/20\", \"1/26/20\", \"1/27/20\", \"1/28/20\", \"1/29/20\", \"1/30/20\", \"1/31/20\", \"2/1/20\", \"2/2/20\", \"2/3/20\", \"2/4/20\", \"2/5/20\", \"2/6/20\", \"2/7/20\", \"2/8/20\", \"2/9/20\", \"2/10/20\", \"2/11/20\", \"2/12/20\", \"2/13/20\", \"2/14/20\", \"2/15/20\", \"2/16/20\", \"2/17/20\", \"2/18/20\", \"2/19/20\", \"2/20/20\", \"2/21/20\", \"2/22/20\", \"2/23/20\", \"2/24/20\", \"2/25/20\", \"2/26/20\", \"2/27/20\", \"2/28/20\", \"2/29/20\", \"3/1/20\", \"3/2/20\", \"3/3/20\", \"3/4/20\", \"3/5/20\", \"3/6/20\", \"3/7/20\", \"3/8/20\", \"3/9/20\", \"3/10/20\", \"3/11/20\", \"3/12/20\"], \"y\": [1, 1, 3, 3, 4, 5, 8, 8, 9, 10, 10, 10, 10, 11, 11, 16, 16, 17, 18, 18, 18, 18, 18, 18, 18, 20, 22, 22, 23, 24, 26, 26, 28, 30, 31, 32, 32, 34, 39, 40, 41, 42, 42, 44, 45, 45, 45, 45, 47, 48, 49]}, {\"mode\": \"markers\", \"type\": \"scatter\", \"x\": [\"1/22/20\", \"3/12/20\"], \"y\": [1, 49]}, {\"connectgaps\": true, \"mode\": \"lines\", \"name\": \"Poland\", \"type\": \"scatter\", \"x\": [\"1/22/20\", \"1/23/20\", \"1/24/20\", \"1/25/20\", \"1/26/20\", \"1/27/20\", \"1/28/20\", \"1/29/20\", \"1/30/20\", \"1/31/20\", \"2/1/20\", \"2/2/20\", \"2/3/20\", \"2/4/20\", \"2/5/20\", \"2/6/20\", \"2/7/20\", \"2/8/20\", \"2/9/20\", \"2/10/20\", \"2/11/20\", \"2/12/20\", \"2/13/20\", \"2/14/20\", \"2/15/20\", \"2/16/20\", \"2/17/20\", \"2/18/20\", \"2/19/20\", \"2/20/20\", \"2/21/20\", \"2/22/20\", \"2/23/20\", \"2/24/20\", \"2/25/20\", \"2/26/20\", \"2/27/20\", \"2/28/20\", \"2/29/20\", \"3/1/20\", \"3/2/20\", \"3/3/20\", \"3/4/20\", \"3/5/20\", \"3/6/20\", \"3/7/20\", \"3/8/20\", \"3/9/20\", \"3/10/20\", \"3/11/20\", \"3/12/20\"], \"y\": [0, 0, 0, 0, 0, 0, 0, 0, 0, 0, 0, 0, 0, 0, 0, 0, 0, 0, 0, 0, 0, 0, 0, 0, 0, 0, 0, 0, 0, 0, 0, 0, 0, 0, 0, 0, 0, 0, 0, 0, 0, 0, 1, 1, 5, 5, 11, 16, 22, 31, 49]}, {\"mode\": \"markers\", \"type\": \"scatter\", \"x\": [\"1/22/20\", \"3/12/20\"], \"y\": [0, 49]}, {\"connectgaps\": true, \"mode\": \"lines\", \"name\": \"Romania\", \"type\": \"scatter\", \"x\": [\"1/22/20\", \"1/23/20\", \"1/24/20\", \"1/25/20\", \"1/26/20\", \"1/27/20\", \"1/28/20\", \"1/29/20\", \"1/30/20\", \"1/31/20\", \"2/1/20\", \"2/2/20\", \"2/3/20\", \"2/4/20\", \"2/5/20\", \"2/6/20\", \"2/7/20\", \"2/8/20\", \"2/9/20\", \"2/10/20\", \"2/11/20\", \"2/12/20\", \"2/13/20\", \"2/14/20\", \"2/15/20\", \"2/16/20\", \"2/17/20\", \"2/18/20\", \"2/19/20\", \"2/20/20\", \"2/21/20\", \"2/22/20\", \"2/23/20\", \"2/24/20\", \"2/25/20\", \"2/26/20\", \"2/27/20\", \"2/28/20\", \"2/29/20\", \"3/1/20\", \"3/2/20\", \"3/3/20\", \"3/4/20\", \"3/5/20\", \"3/6/20\", \"3/7/20\", \"3/8/20\", \"3/9/20\", \"3/10/20\", \"3/11/20\", \"3/12/20\"], \"y\": [0, 0, 0, 0, 0, 0, 0, 0, 0, 0, 0, 0, 0, 0, 0, 0, 0, 0, 0, 0, 0, 0, 0, 0, 0, 0, 0, 0, 0, 0, 0, 0, 0, 0, 0, 1, 1, 3, 3, 3, 3, 3, 4, 6, 9, 9, 15, 15, 25, 45, 49]}, {\"mode\": \"markers\", \"type\": \"scatter\", \"x\": [\"1/22/20\", \"3/12/20\"], \"y\": [0, 49]}, {\"connectgaps\": true, \"mode\": \"lines\", \"name\": \"Saudi Arabia\", \"type\": \"scatter\", \"x\": [\"1/22/20\", \"1/23/20\", \"1/24/20\", \"1/25/20\", \"1/26/20\", \"1/27/20\", \"1/28/20\", \"1/29/20\", \"1/30/20\", \"1/31/20\", \"2/1/20\", \"2/2/20\", \"2/3/20\", \"2/4/20\", \"2/5/20\", \"2/6/20\", \"2/7/20\", \"2/8/20\", \"2/9/20\", \"2/10/20\", \"2/11/20\", \"2/12/20\", \"2/13/20\", \"2/14/20\", \"2/15/20\", \"2/16/20\", \"2/17/20\", \"2/18/20\", \"2/19/20\", \"2/20/20\", \"2/21/20\", \"2/22/20\", \"2/23/20\", \"2/24/20\", \"2/25/20\", \"2/26/20\", \"2/27/20\", \"2/28/20\", \"2/29/20\", \"3/1/20\", \"3/2/20\", \"3/3/20\", \"3/4/20\", \"3/5/20\", \"3/6/20\", \"3/7/20\", \"3/8/20\", \"3/9/20\", \"3/10/20\", \"3/11/20\", \"3/12/20\"], \"y\": [0, 0, 0, 0, 0, 0, 0, 0, 0, 0, 0, 0, 0, 0, 0, 0, 0, 0, 0, 0, 0, 0, 0, 0, 0, 0, 0, 0, 0, 0, 0, 0, 0, 0, 0, 0, 0, 0, 0, 0, 1, 1, 1, 5, 5, 5, 11, 15, 20, 21, 45]}, {\"mode\": \"markers\", \"type\": \"scatter\", \"x\": [\"1/22/20\", \"3/12/20\"], \"y\": [0, 45]}, {\"connectgaps\": true, \"mode\": \"lines\", \"name\": \"Ireland\", \"type\": \"scatter\", \"x\": [\"1/22/20\", \"1/23/20\", \"1/24/20\", \"1/25/20\", \"1/26/20\", \"1/27/20\", \"1/28/20\", \"1/29/20\", \"1/30/20\", \"1/31/20\", \"2/1/20\", \"2/2/20\", \"2/3/20\", \"2/4/20\", \"2/5/20\", \"2/6/20\", \"2/7/20\", \"2/8/20\", \"2/9/20\", \"2/10/20\", \"2/11/20\", \"2/12/20\", \"2/13/20\", \"2/14/20\", \"2/15/20\", \"2/16/20\", \"2/17/20\", \"2/18/20\", \"2/19/20\", \"2/20/20\", \"2/21/20\", \"2/22/20\", \"2/23/20\", \"2/24/20\", \"2/25/20\", \"2/26/20\", \"2/27/20\", \"2/28/20\", \"2/29/20\", \"3/1/20\", \"3/2/20\", \"3/3/20\", \"3/4/20\", \"3/5/20\", \"3/6/20\", \"3/7/20\", \"3/8/20\", \"3/9/20\", \"3/10/20\", \"3/11/20\", \"3/12/20\"], \"y\": [0, 0, 0, 0, 0, 0, 0, 0, 0, 0, 0, 0, 0, 0, 0, 0, 0, 0, 0, 0, 0, 0, 0, 0, 0, 0, 0, 0, 0, 0, 0, 0, 0, 0, 0, 0, 0, 0, 1, 1, 1, 2, 6, 6, 18, 18, 19, 21, 34, 43, 43]}, {\"mode\": \"markers\", \"type\": \"scatter\", \"x\": [\"1/22/20\", \"3/12/20\"], \"y\": [0, 43]}, {\"connectgaps\": true, \"mode\": \"lines\", \"name\": \"Vietnam\", \"type\": \"scatter\", \"x\": [\"1/22/20\", \"1/23/20\", \"1/24/20\", \"1/25/20\", \"1/26/20\", \"1/27/20\", \"1/28/20\", \"1/29/20\", \"1/30/20\", \"1/31/20\", \"2/1/20\", \"2/2/20\", \"2/3/20\", \"2/4/20\", \"2/5/20\", \"2/6/20\", \"2/7/20\", \"2/8/20\", \"2/9/20\", \"2/10/20\", \"2/11/20\", \"2/12/20\", \"2/13/20\", \"2/14/20\", \"2/15/20\", \"2/16/20\", \"2/17/20\", \"2/18/20\", \"2/19/20\", \"2/20/20\", \"2/21/20\", \"2/22/20\", \"2/23/20\", \"2/24/20\", \"2/25/20\", \"2/26/20\", \"2/27/20\", \"2/28/20\", \"2/29/20\", \"3/1/20\", \"3/2/20\", \"3/3/20\", \"3/4/20\", \"3/5/20\", \"3/6/20\", \"3/7/20\", \"3/8/20\", \"3/9/20\", \"3/10/20\", \"3/11/20\", \"3/12/20\"], \"y\": [0, 2, 2, 2, 2, 2, 2, 2, 2, 2, 6, 6, 8, 8, 8, 10, 10, 13, 13, 14, 15, 15, 16, 16, 16, 16, 16, 16, 16, 16, 16, 16, 16, 16, 16, 16, 16, 16, 16, 16, 16, 16, 16, 16, 16, 18, 30, 30, 31, 38, 39]}, {\"mode\": \"markers\", \"type\": \"scatter\", \"x\": [\"1/22/20\", \"3/12/20\"], \"y\": [0, 39]}, {\"connectgaps\": true, \"mode\": \"lines\", \"name\": \"Indonesia\", \"type\": \"scatter\", \"x\": [\"1/22/20\", \"1/23/20\", \"1/24/20\", \"1/25/20\", \"1/26/20\", \"1/27/20\", \"1/28/20\", \"1/29/20\", \"1/30/20\", \"1/31/20\", \"2/1/20\", \"2/2/20\", \"2/3/20\", \"2/4/20\", \"2/5/20\", \"2/6/20\", \"2/7/20\", \"2/8/20\", \"2/9/20\", \"2/10/20\", \"2/11/20\", \"2/12/20\", \"2/13/20\", \"2/14/20\", \"2/15/20\", \"2/16/20\", \"2/17/20\", \"2/18/20\", \"2/19/20\", \"2/20/20\", \"2/21/20\", \"2/22/20\", \"2/23/20\", \"2/24/20\", \"2/25/20\", \"2/26/20\", \"2/27/20\", \"2/28/20\", \"2/29/20\", \"3/1/20\", \"3/2/20\", \"3/3/20\", \"3/4/20\", \"3/5/20\", \"3/6/20\", \"3/7/20\", \"3/8/20\", \"3/9/20\", \"3/10/20\", \"3/11/20\", \"3/12/20\"], \"y\": [0, 0, 0, 0, 0, 0, 0, 0, 0, 0, 0, 0, 0, 0, 0, 0, 0, 0, 0, 0, 0, 0, 0, 0, 0, 0, 0, 0, 0, 0, 0, 0, 0, 0, 0, 0, 0, 0, 0, 0, 2, 2, 2, 2, 4, 4, 6, 19, 27, 34, 34]}, {\"mode\": \"markers\", \"type\": \"scatter\", \"x\": [\"1/22/20\", \"3/12/20\"], \"y\": [0, 34]}, {\"connectgaps\": true, \"mode\": \"lines\", \"name\": \"Russia\", \"type\": \"scatter\", \"x\": [\"1/22/20\", \"1/23/20\", \"1/24/20\", \"1/25/20\", \"1/26/20\", \"1/27/20\", \"1/28/20\", \"1/29/20\", \"1/30/20\", \"1/31/20\", \"2/1/20\", \"2/2/20\", \"2/3/20\", \"2/4/20\", \"2/5/20\", \"2/6/20\", \"2/7/20\", \"2/8/20\", \"2/9/20\", \"2/10/20\", \"2/11/20\", \"2/12/20\", \"2/13/20\", \"2/14/20\", \"2/15/20\", \"2/16/20\", \"2/17/20\", \"2/18/20\", \"2/19/20\", \"2/20/20\", \"2/21/20\", \"2/22/20\", \"2/23/20\", \"2/24/20\", \"2/25/20\", \"2/26/20\", \"2/27/20\", \"2/28/20\", \"2/29/20\", \"3/1/20\", \"3/2/20\", \"3/3/20\", \"3/4/20\", \"3/5/20\", \"3/6/20\", \"3/7/20\", \"3/8/20\", \"3/9/20\", \"3/10/20\", \"3/11/20\", \"3/12/20\"], \"y\": [0, 0, 0, 0, 0, 0, 0, 0, 0, 2, 2, 2, 2, 2, 2, 2, 2, 2, 2, 2, 2, 2, 2, 2, 2, 2, 2, 2, 2, 2, 2, 2, 2, 2, 2, 2, 2, 2, 2, 2, 3, 3, 3, 4, 13, 13, 17, 17, 20, 20, 28]}, {\"mode\": \"markers\", \"type\": \"scatter\", \"x\": [\"1/22/20\", \"3/12/20\"], \"y\": [0, 28]}, {\"connectgaps\": true, \"mode\": \"lines\", \"name\": \"Algeria\", \"type\": \"scatter\", \"x\": [\"1/22/20\", \"1/23/20\", \"1/24/20\", \"1/25/20\", \"1/26/20\", \"1/27/20\", \"1/28/20\", \"1/29/20\", \"1/30/20\", \"1/31/20\", \"2/1/20\", \"2/2/20\", \"2/3/20\", \"2/4/20\", \"2/5/20\", \"2/6/20\", \"2/7/20\", \"2/8/20\", \"2/9/20\", \"2/10/20\", \"2/11/20\", \"2/12/20\", \"2/13/20\", \"2/14/20\", \"2/15/20\", \"2/16/20\", \"2/17/20\", \"2/18/20\", \"2/19/20\", \"2/20/20\", \"2/21/20\", \"2/22/20\", \"2/23/20\", \"2/24/20\", \"2/25/20\", \"2/26/20\", \"2/27/20\", \"2/28/20\", \"2/29/20\", \"3/1/20\", \"3/2/20\", \"3/3/20\", \"3/4/20\", \"3/5/20\", \"3/6/20\", \"3/7/20\", \"3/8/20\", \"3/9/20\", \"3/10/20\", \"3/11/20\", \"3/12/20\"], \"y\": [0, 0, 0, 0, 0, 0, 0, 0, 0, 0, 0, 0, 0, 0, 0, 0, 0, 0, 0, 0, 0, 0, 0, 0, 0, 0, 0, 0, 0, 0, 0, 0, 0, 0, 1, 1, 1, 1, 1, 1, 3, 5, 12, 12, 17, 17, 19, 20, 20, 20, 24]}, {\"mode\": \"markers\", \"type\": \"scatter\", \"x\": [\"1/22/20\", \"3/12/20\"], \"y\": [0, 24]}, {\"connectgaps\": true, \"mode\": \"lines\", \"name\": \"Georgia\", \"type\": \"scatter\", \"x\": [\"1/22/20\", \"1/23/20\", \"1/24/20\", \"1/25/20\", \"1/26/20\", \"1/27/20\", \"1/28/20\", \"1/29/20\", \"1/30/20\", \"1/31/20\", \"2/1/20\", \"2/2/20\", \"2/3/20\", \"2/4/20\", \"2/5/20\", \"2/6/20\", \"2/7/20\", \"2/8/20\", \"2/9/20\", \"2/10/20\", \"2/11/20\", \"2/12/20\", \"2/13/20\", \"2/14/20\", \"2/15/20\", \"2/16/20\", \"2/17/20\", \"2/18/20\", \"2/19/20\", \"2/20/20\", \"2/21/20\", \"2/22/20\", \"2/23/20\", \"2/24/20\", \"2/25/20\", \"2/26/20\", \"2/27/20\", \"2/28/20\", \"2/29/20\", \"3/1/20\", \"3/2/20\", \"3/3/20\", \"3/4/20\", \"3/5/20\", \"3/6/20\", \"3/7/20\", \"3/8/20\", \"3/9/20\", \"3/10/20\", \"3/11/20\", \"3/12/20\"], \"y\": [0, 0, 0, 0, 0, 0, 0, 0, 0, 0, 0, 0, 0, 0, 0, 0, 0, 0, 0, 0, 0, 0, 0, 0, 0, 0, 0, 0, 0, 0, 0, 0, 0, 0, 0, 1, 1, 1, 1, 3, 3, 3, 3, 4, 4, 4, 13, 15, 15, 24, 24]}, {\"mode\": \"markers\", \"type\": \"scatter\", \"x\": [\"1/22/20\", \"3/12/20\"], \"y\": [0, 24]}, {\"connectgaps\": true, \"mode\": \"lines\", \"name\": \"Albania\", \"type\": \"scatter\", \"x\": [\"1/22/20\", \"1/23/20\", \"1/24/20\", \"1/25/20\", \"1/26/20\", \"1/27/20\", \"1/28/20\", \"1/29/20\", \"1/30/20\", \"1/31/20\", \"2/1/20\", \"2/2/20\", \"2/3/20\", \"2/4/20\", \"2/5/20\", \"2/6/20\", \"2/7/20\", \"2/8/20\", \"2/9/20\", \"2/10/20\", \"2/11/20\", \"2/12/20\", \"2/13/20\", \"2/14/20\", \"2/15/20\", \"2/16/20\", \"2/17/20\", \"2/18/20\", \"2/19/20\", \"2/20/20\", \"2/21/20\", \"2/22/20\", \"2/23/20\", \"2/24/20\", \"2/25/20\", \"2/26/20\", \"2/27/20\", \"2/28/20\", \"2/29/20\", \"3/1/20\", \"3/2/20\", \"3/3/20\", \"3/4/20\", \"3/5/20\", \"3/6/20\", \"3/7/20\", \"3/8/20\", \"3/9/20\", \"3/10/20\", \"3/11/20\", \"3/12/20\"], \"y\": [0, 0, 0, 0, 0, 0, 0, 0, 0, 0, 0, 0, 0, 0, 0, 0, 0, 0, 0, 0, 0, 0, 0, 0, 0, 0, 0, 0, 0, 0, 0, 0, 0, 0, 0, 0, 0, 0, 0, 0, 0, 0, 0, 0, 0, 0, 0, 2, 10, 12, 23]}, {\"mode\": \"markers\", \"type\": \"scatter\", \"x\": [\"1/22/20\", \"3/12/20\"], \"y\": [0, 23]}, {\"connectgaps\": true, \"mode\": \"lines\", \"name\": \"Chile\", \"type\": \"scatter\", \"x\": [\"1/22/20\", \"1/23/20\", \"1/24/20\", \"1/25/20\", \"1/26/20\", \"1/27/20\", \"1/28/20\", \"1/29/20\", \"1/30/20\", \"1/31/20\", \"2/1/20\", \"2/2/20\", \"2/3/20\", \"2/4/20\", \"2/5/20\", \"2/6/20\", \"2/7/20\", \"2/8/20\", \"2/9/20\", \"2/10/20\", \"2/11/20\", \"2/12/20\", \"2/13/20\", \"2/14/20\", \"2/15/20\", \"2/16/20\", \"2/17/20\", \"2/18/20\", \"2/19/20\", \"2/20/20\", \"2/21/20\", \"2/22/20\", \"2/23/20\", \"2/24/20\", \"2/25/20\", \"2/26/20\", \"2/27/20\", \"2/28/20\", \"2/29/20\", \"3/1/20\", \"3/2/20\", \"3/3/20\", \"3/4/20\", \"3/5/20\", \"3/6/20\", \"3/7/20\", \"3/8/20\", \"3/9/20\", \"3/10/20\", \"3/11/20\", \"3/12/20\"], \"y\": [0, 0, 0, 0, 0, 0, 0, 0, 0, 0, 0, 0, 0, 0, 0, 0, 0, 0, 0, 0, 0, 0, 0, 0, 0, 0, 0, 0, 0, 0, 0, 0, 0, 0, 0, 0, 0, 0, 0, 0, 0, 1, 1, 4, 4, 4, 8, 8, 13, 23, 23]}, {\"mode\": \"markers\", \"type\": \"scatter\", \"x\": [\"1/22/20\", \"3/12/20\"], \"y\": [0, 23]}, {\"connectgaps\": true, \"mode\": \"lines\", \"name\": \"Costa Rica\", \"type\": \"scatter\", \"x\": [\"1/22/20\", \"1/23/20\", \"1/24/20\", \"1/25/20\", \"1/26/20\", \"1/27/20\", \"1/28/20\", \"1/29/20\", \"1/30/20\", \"1/31/20\", \"2/1/20\", \"2/2/20\", \"2/3/20\", \"2/4/20\", \"2/5/20\", \"2/6/20\", \"2/7/20\", \"2/8/20\", \"2/9/20\", \"2/10/20\", \"2/11/20\", \"2/12/20\", \"2/13/20\", \"2/14/20\", \"2/15/20\", \"2/16/20\", \"2/17/20\", \"2/18/20\", \"2/19/20\", \"2/20/20\", \"2/21/20\", \"2/22/20\", \"2/23/20\", \"2/24/20\", \"2/25/20\", \"2/26/20\", \"2/27/20\", \"2/28/20\", \"2/29/20\", \"3/1/20\", \"3/2/20\", \"3/3/20\", \"3/4/20\", \"3/5/20\", \"3/6/20\", \"3/7/20\", \"3/8/20\", \"3/9/20\", \"3/10/20\", \"3/11/20\", \"3/12/20\"], \"y\": [0, 0, 0, 0, 0, 0, 0, 0, 0, 0, 0, 0, 0, 0, 0, 0, 0, 0, 0, 0, 0, 0, 0, 0, 0, 0, 0, 0, 0, 0, 0, 0, 0, 0, 0, 0, 0, 0, 0, 0, 0, 0, 0, 0, 1, 1, 5, 9, 9, 13, 22]}, {\"mode\": \"markers\", \"type\": \"scatter\", \"x\": [\"1/22/20\", \"3/12/20\"], \"y\": [0, 22]}, {\"connectgaps\": true, \"mode\": \"lines\", \"name\": \"Pakistan\", \"type\": \"scatter\", \"x\": [\"1/22/20\", \"1/23/20\", \"1/24/20\", \"1/25/20\", \"1/26/20\", \"1/27/20\", \"1/28/20\", \"1/29/20\", \"1/30/20\", \"1/31/20\", \"2/1/20\", \"2/2/20\", \"2/3/20\", \"2/4/20\", \"2/5/20\", \"2/6/20\", \"2/7/20\", \"2/8/20\", \"2/9/20\", \"2/10/20\", \"2/11/20\", \"2/12/20\", \"2/13/20\", \"2/14/20\", \"2/15/20\", \"2/16/20\", \"2/17/20\", \"2/18/20\", \"2/19/20\", \"2/20/20\", \"2/21/20\", \"2/22/20\", \"2/23/20\", \"2/24/20\", \"2/25/20\", \"2/26/20\", \"2/27/20\", \"2/28/20\", \"2/29/20\", \"3/1/20\", \"3/2/20\", \"3/3/20\", \"3/4/20\", \"3/5/20\", \"3/6/20\", \"3/7/20\", \"3/8/20\", \"3/9/20\", \"3/10/20\", \"3/11/20\", \"3/12/20\"], \"y\": [0, 0, 0, 0, 0, 0, 0, 0, 0, 0, 0, 0, 0, 0, 0, 0, 0, 0, 0, 0, 0, 0, 0, 0, 0, 0, 0, 0, 0, 0, 0, 0, 0, 0, 0, 2, 2, 2, 4, 4, 4, 5, 5, 5, 6, 6, 6, 6, 16, 19, 20]}, {\"mode\": \"markers\", \"type\": \"scatter\", \"x\": [\"1/22/20\", \"3/12/20\"], \"y\": [0, 20]}, {\"connectgaps\": true, \"mode\": \"lines\", \"name\": \"Argentina\", \"type\": \"scatter\", \"x\": [\"1/22/20\", \"1/23/20\", \"1/24/20\", \"1/25/20\", \"1/26/20\", \"1/27/20\", \"1/28/20\", \"1/29/20\", \"1/30/20\", \"1/31/20\", \"2/1/20\", \"2/2/20\", \"2/3/20\", \"2/4/20\", \"2/5/20\", \"2/6/20\", \"2/7/20\", \"2/8/20\", \"2/9/20\", \"2/10/20\", \"2/11/20\", \"2/12/20\", \"2/13/20\", \"2/14/20\", \"2/15/20\", \"2/16/20\", \"2/17/20\", \"2/18/20\", \"2/19/20\", \"2/20/20\", \"2/21/20\", \"2/22/20\", \"2/23/20\", \"2/24/20\", \"2/25/20\", \"2/26/20\", \"2/27/20\", \"2/28/20\", \"2/29/20\", \"3/1/20\", \"3/2/20\", \"3/3/20\", \"3/4/20\", \"3/5/20\", \"3/6/20\", \"3/7/20\", \"3/8/20\", \"3/9/20\", \"3/10/20\", \"3/11/20\", \"3/12/20\"], \"y\": [0, 0, 0, 0, 0, 0, 0, 0, 0, 0, 0, 0, 0, 0, 0, 0, 0, 0, 0, 0, 0, 0, 0, 0, 0, 0, 0, 0, 0, 0, 0, 0, 0, 0, 0, 0, 0, 0, 0, 0, 0, 1, 1, 1, 2, 8, 12, 12, 17, 19, 19]}, {\"mode\": \"markers\", \"type\": \"scatter\", \"x\": [\"1/22/20\", \"3/12/20\"], \"y\": [0, 19]}, {\"connectgaps\": true, \"mode\": \"lines\", \"name\": \"Luxembourg\", \"type\": \"scatter\", \"x\": [\"1/22/20\", \"1/23/20\", \"1/24/20\", \"1/25/20\", \"1/26/20\", \"1/27/20\", \"1/28/20\", \"1/29/20\", \"1/30/20\", \"1/31/20\", \"2/1/20\", \"2/2/20\", \"2/3/20\", \"2/4/20\", \"2/5/20\", \"2/6/20\", \"2/7/20\", \"2/8/20\", \"2/9/20\", \"2/10/20\", \"2/11/20\", \"2/12/20\", \"2/13/20\", \"2/14/20\", \"2/15/20\", \"2/16/20\", \"2/17/20\", \"2/18/20\", \"2/19/20\", \"2/20/20\", \"2/21/20\", \"2/22/20\", \"2/23/20\", \"2/24/20\", \"2/25/20\", \"2/26/20\", \"2/27/20\", \"2/28/20\", \"2/29/20\", \"3/1/20\", \"3/2/20\", \"3/3/20\", \"3/4/20\", \"3/5/20\", \"3/6/20\", \"3/7/20\", \"3/8/20\", \"3/9/20\", \"3/10/20\", \"3/11/20\", \"3/12/20\"], \"y\": [0, 0, 0, 0, 0, 0, 0, 0, 0, 0, 0, 0, 0, 0, 0, 0, 0, 0, 0, 0, 0, 0, 0, 0, 0, 0, 0, 0, 0, 0, 0, 0, 0, 0, 0, 0, 0, 0, 1, 1, 1, 1, 1, 1, 2, 2, 3, 3, 5, 7, 19]}, {\"mode\": \"markers\", \"type\": \"scatter\", \"x\": [\"1/22/20\", \"3/12/20\"], \"y\": [0, 19]}, {\"connectgaps\": true, \"mode\": \"lines\", \"name\": \"Serbia\", \"type\": \"scatter\", \"x\": [\"1/22/20\", \"1/23/20\", \"1/24/20\", \"1/25/20\", \"1/26/20\", \"1/27/20\", \"1/28/20\", \"1/29/20\", \"1/30/20\", \"1/31/20\", \"2/1/20\", \"2/2/20\", \"2/3/20\", \"2/4/20\", \"2/5/20\", \"2/6/20\", \"2/7/20\", \"2/8/20\", \"2/9/20\", \"2/10/20\", \"2/11/20\", \"2/12/20\", \"2/13/20\", \"2/14/20\", \"2/15/20\", \"2/16/20\", \"2/17/20\", \"2/18/20\", \"2/19/20\", \"2/20/20\", \"2/21/20\", \"2/22/20\", \"2/23/20\", \"2/24/20\", \"2/25/20\", \"2/26/20\", \"2/27/20\", \"2/28/20\", \"2/29/20\", \"3/1/20\", \"3/2/20\", \"3/3/20\", \"3/4/20\", \"3/5/20\", \"3/6/20\", \"3/7/20\", \"3/8/20\", \"3/9/20\", \"3/10/20\", \"3/11/20\", \"3/12/20\"], \"y\": [0, 0, 0, 0, 0, 0, 0, 0, 0, 0, 0, 0, 0, 0, 0, 0, 0, 0, 0, 0, 0, 0, 0, 0, 0, 0, 0, 0, 0, 0, 0, 0, 0, 0, 0, 0, 0, 0, 0, 0, 0, 0, 0, 0, 1, 1, 1, 1, 5, 12, 19]}, {\"mode\": \"markers\", \"type\": \"scatter\", \"x\": [\"1/22/20\", \"3/12/20\"], \"y\": [0, 19]}, {\"connectgaps\": true, \"mode\": \"lines\", \"name\": \"Croatia\", \"type\": \"scatter\", \"x\": [\"1/22/20\", \"1/23/20\", \"1/24/20\", \"1/25/20\", \"1/26/20\", \"1/27/20\", \"1/28/20\", \"1/29/20\", \"1/30/20\", \"1/31/20\", \"2/1/20\", \"2/2/20\", \"2/3/20\", \"2/4/20\", \"2/5/20\", \"2/6/20\", \"2/7/20\", \"2/8/20\", \"2/9/20\", \"2/10/20\", \"2/11/20\", \"2/12/20\", \"2/13/20\", \"2/14/20\", \"2/15/20\", \"2/16/20\", \"2/17/20\", \"2/18/20\", \"2/19/20\", \"2/20/20\", \"2/21/20\", \"2/22/20\", \"2/23/20\", \"2/24/20\", \"2/25/20\", \"2/26/20\", \"2/27/20\", \"2/28/20\", \"2/29/20\", \"3/1/20\", \"3/2/20\", \"3/3/20\", \"3/4/20\", \"3/5/20\", \"3/6/20\", \"3/7/20\", \"3/8/20\", \"3/9/20\", \"3/10/20\", \"3/11/20\", \"3/12/20\"], \"y\": [0, 0, 0, 0, 0, 0, 0, 0, 0, 0, 0, 0, 0, 0, 0, 0, 0, 0, 0, 0, 0, 0, 0, 0, 0, 0, 0, 0, 0, 0, 0, 0, 0, 0, 1, 3, 3, 5, 6, 7, 7, 9, 10, 10, 11, 12, 12, 12, 14, 19, 19]}, {\"mode\": \"markers\", \"type\": \"scatter\", \"x\": [\"1/22/20\", \"3/12/20\"], \"y\": [0, 19]}, {\"connectgaps\": true, \"mode\": \"lines\", \"name\": \"Oman\", \"type\": \"scatter\", \"x\": [\"1/22/20\", \"1/23/20\", \"1/24/20\", \"1/25/20\", \"1/26/20\", \"1/27/20\", \"1/28/20\", \"1/29/20\", \"1/30/20\", \"1/31/20\", \"2/1/20\", \"2/2/20\", \"2/3/20\", \"2/4/20\", \"2/5/20\", \"2/6/20\", \"2/7/20\", \"2/8/20\", \"2/9/20\", \"2/10/20\", \"2/11/20\", \"2/12/20\", \"2/13/20\", \"2/14/20\", \"2/15/20\", \"2/16/20\", \"2/17/20\", \"2/18/20\", \"2/19/20\", \"2/20/20\", \"2/21/20\", \"2/22/20\", \"2/23/20\", \"2/24/20\", \"2/25/20\", \"2/26/20\", \"2/27/20\", \"2/28/20\", \"2/29/20\", \"3/1/20\", \"3/2/20\", \"3/3/20\", \"3/4/20\", \"3/5/20\", \"3/6/20\", \"3/7/20\", \"3/8/20\", \"3/9/20\", \"3/10/20\", \"3/11/20\", \"3/12/20\"], \"y\": [0, 0, 0, 0, 0, 0, 0, 0, 0, 0, 0, 0, 0, 0, 0, 0, 0, 0, 0, 0, 0, 0, 0, 0, 0, 0, 0, 0, 0, 0, 0, 0, 0, 2, 2, 4, 4, 4, 6, 6, 6, 12, 15, 16, 16, 16, 16, 16, 18, 18, 18]}, {\"mode\": \"markers\", \"type\": \"scatter\", \"x\": [\"1/22/20\", \"3/12/20\"], \"y\": [0, 18]}, {\"connectgaps\": true, \"mode\": \"lines\", \"name\": \"South Africa\", \"type\": \"scatter\", \"x\": [\"1/22/20\", \"1/23/20\", \"1/24/20\", \"1/25/20\", \"1/26/20\", \"1/27/20\", \"1/28/20\", \"1/29/20\", \"1/30/20\", \"1/31/20\", \"2/1/20\", \"2/2/20\", \"2/3/20\", \"2/4/20\", \"2/5/20\", \"2/6/20\", \"2/7/20\", \"2/8/20\", \"2/9/20\", \"2/10/20\", \"2/11/20\", \"2/12/20\", \"2/13/20\", \"2/14/20\", \"2/15/20\", \"2/16/20\", \"2/17/20\", \"2/18/20\", \"2/19/20\", \"2/20/20\", \"2/21/20\", \"2/22/20\", \"2/23/20\", \"2/24/20\", \"2/25/20\", \"2/26/20\", \"2/27/20\", \"2/28/20\", \"2/29/20\", \"3/1/20\", \"3/2/20\", \"3/3/20\", \"3/4/20\", \"3/5/20\", \"3/6/20\", \"3/7/20\", \"3/8/20\", \"3/9/20\", \"3/10/20\", \"3/11/20\", \"3/12/20\"], \"y\": [0, 0, 0, 0, 0, 0, 0, 0, 0, 0, 0, 0, 0, 0, 0, 0, 0, 0, 0, 0, 0, 0, 0, 0, 0, 0, 0, 0, 0, 0, 0, 0, 0, 0, 0, 0, 0, 0, 0, 0, 0, 0, 0, 1, 1, 1, 3, 3, 7, 13, 17]}, {\"mode\": \"markers\", \"type\": \"scatter\", \"x\": [\"1/22/20\", \"3/12/20\"], \"y\": [0, 17]}, {\"connectgaps\": true, \"mode\": \"lines\", \"name\": \"Ecuador\", \"type\": \"scatter\", \"x\": [\"1/22/20\", \"1/23/20\", \"1/24/20\", \"1/25/20\", \"1/26/20\", \"1/27/20\", \"1/28/20\", \"1/29/20\", \"1/30/20\", \"1/31/20\", \"2/1/20\", \"2/2/20\", \"2/3/20\", \"2/4/20\", \"2/5/20\", \"2/6/20\", \"2/7/20\", \"2/8/20\", \"2/9/20\", \"2/10/20\", \"2/11/20\", \"2/12/20\", \"2/13/20\", \"2/14/20\", \"2/15/20\", \"2/16/20\", \"2/17/20\", \"2/18/20\", \"2/19/20\", \"2/20/20\", \"2/21/20\", \"2/22/20\", \"2/23/20\", \"2/24/20\", \"2/25/20\", \"2/26/20\", \"2/27/20\", \"2/28/20\", \"2/29/20\", \"3/1/20\", \"3/2/20\", \"3/3/20\", \"3/4/20\", \"3/5/20\", \"3/6/20\", \"3/7/20\", \"3/8/20\", \"3/9/20\", \"3/10/20\", \"3/11/20\", \"3/12/20\"], \"y\": [0, 0, 0, 0, 0, 0, 0, 0, 0, 0, 0, 0, 0, 0, 0, 0, 0, 0, 0, 0, 0, 0, 0, 0, 0, 0, 0, 0, 0, 0, 0, 0, 0, 0, 0, 0, 0, 0, 0, 6, 6, 7, 10, 13, 13, 13, 14, 15, 15, 17, 17]}, {\"mode\": \"markers\", \"type\": \"scatter\", \"x\": [\"1/22/20\", \"3/12/20\"], \"y\": [0, 17]}, {\"connectgaps\": true, \"mode\": \"lines\", \"name\": \"Slovakia\", \"type\": \"scatter\", \"x\": [\"1/22/20\", \"1/23/20\", \"1/24/20\", \"1/25/20\", \"1/26/20\", \"1/27/20\", \"1/28/20\", \"1/29/20\", \"1/30/20\", \"1/31/20\", \"2/1/20\", \"2/2/20\", \"2/3/20\", \"2/4/20\", \"2/5/20\", \"2/6/20\", \"2/7/20\", \"2/8/20\", \"2/9/20\", \"2/10/20\", \"2/11/20\", \"2/12/20\", \"2/13/20\", \"2/14/20\", \"2/15/20\", \"2/16/20\", \"2/17/20\", \"2/18/20\", \"2/19/20\", \"2/20/20\", \"2/21/20\", \"2/22/20\", \"2/23/20\", \"2/24/20\", \"2/25/20\", \"2/26/20\", \"2/27/20\", \"2/28/20\", \"2/29/20\", \"3/1/20\", \"3/2/20\", \"3/3/20\", \"3/4/20\", \"3/5/20\", \"3/6/20\", \"3/7/20\", \"3/8/20\", \"3/9/20\", \"3/10/20\", \"3/11/20\", \"3/12/20\"], \"y\": [0, 0, 0, 0, 0, 0, 0, 0, 0, 0, 0, 0, 0, 0, 0, 0, 0, 0, 0, 0, 0, 0, 0, 0, 0, 0, 0, 0, 0, 0, 0, 0, 0, 0, 0, 0, 0, 0, 0, 0, 0, 0, 0, 0, 1, 1, 3, 3, 7, 10, 16]}, {\"mode\": \"markers\", \"type\": \"scatter\", \"x\": [\"1/22/20\", \"3/12/20\"], \"y\": [0, 16]}, {\"connectgaps\": true, \"mode\": \"lines\", \"name\": \"Estonia\", \"type\": \"scatter\", \"x\": [\"1/22/20\", \"1/23/20\", \"1/24/20\", \"1/25/20\", \"1/26/20\", \"1/27/20\", \"1/28/20\", \"1/29/20\", \"1/30/20\", \"1/31/20\", \"2/1/20\", \"2/2/20\", \"2/3/20\", \"2/4/20\", \"2/5/20\", \"2/6/20\", \"2/7/20\", \"2/8/20\", \"2/9/20\", \"2/10/20\", \"2/11/20\", \"2/12/20\", \"2/13/20\", \"2/14/20\", \"2/15/20\", \"2/16/20\", \"2/17/20\", \"2/18/20\", \"2/19/20\", \"2/20/20\", \"2/21/20\", \"2/22/20\", \"2/23/20\", \"2/24/20\", \"2/25/20\", \"2/26/20\", \"2/27/20\", \"2/28/20\", \"2/29/20\", \"3/1/20\", \"3/2/20\", \"3/3/20\", \"3/4/20\", \"3/5/20\", \"3/6/20\", \"3/7/20\", \"3/8/20\", \"3/9/20\", \"3/10/20\", \"3/11/20\", \"3/12/20\"], \"y\": [0, 0, 0, 0, 0, 0, 0, 0, 0, 0, 0, 0, 0, 0, 0, 0, 0, 0, 0, 0, 0, 0, 0, 0, 0, 0, 0, 0, 0, 0, 0, 0, 0, 0, 0, 0, 1, 1, 1, 1, 1, 2, 2, 3, 10, 10, 10, 10, 12, 16, 16]}, {\"mode\": \"markers\", \"type\": \"scatter\", \"x\": [\"1/22/20\", \"3/12/20\"], \"y\": [0, 16]}, {\"connectgaps\": true, \"mode\": \"lines\", \"name\": \"Peru\", \"type\": \"scatter\", \"x\": [\"1/22/20\", \"1/23/20\", \"1/24/20\", \"1/25/20\", \"1/26/20\", \"1/27/20\", \"1/28/20\", \"1/29/20\", \"1/30/20\", \"1/31/20\", \"2/1/20\", \"2/2/20\", \"2/3/20\", \"2/4/20\", \"2/5/20\", \"2/6/20\", \"2/7/20\", \"2/8/20\", \"2/9/20\", \"2/10/20\", \"2/11/20\", \"2/12/20\", \"2/13/20\", \"2/14/20\", \"2/15/20\", \"2/16/20\", \"2/17/20\", \"2/18/20\", \"2/19/20\", \"2/20/20\", \"2/21/20\", \"2/22/20\", \"2/23/20\", \"2/24/20\", \"2/25/20\", \"2/26/20\", \"2/27/20\", \"2/28/20\", \"2/29/20\", \"3/1/20\", \"3/2/20\", \"3/3/20\", \"3/4/20\", \"3/5/20\", \"3/6/20\", \"3/7/20\", \"3/8/20\", \"3/9/20\", \"3/10/20\", \"3/11/20\", \"3/12/20\"], \"y\": [0, 0, 0, 0, 0, 0, 0, 0, 0, 0, 0, 0, 0, 0, 0, 0, 0, 0, 0, 0, 0, 0, 0, 0, 0, 0, 0, 0, 0, 0, 0, 0, 0, 0, 0, 0, 0, 0, 0, 0, 0, 0, 0, 0, 1, 1, 6, 7, 11, 11, 15]}, {\"mode\": \"markers\", \"type\": \"scatter\", \"x\": [\"1/22/20\", \"3/12/20\"], \"y\": [0, 15]}, {\"connectgaps\": true, \"mode\": \"lines\", \"name\": \"Hungary\", \"type\": \"scatter\", \"x\": [\"1/22/20\", \"1/23/20\", \"1/24/20\", \"1/25/20\", \"1/26/20\", \"1/27/20\", \"1/28/20\", \"1/29/20\", \"1/30/20\", \"1/31/20\", \"2/1/20\", \"2/2/20\", \"2/3/20\", \"2/4/20\", \"2/5/20\", \"2/6/20\", \"2/7/20\", \"2/8/20\", \"2/9/20\", \"2/10/20\", \"2/11/20\", \"2/12/20\", \"2/13/20\", \"2/14/20\", \"2/15/20\", \"2/16/20\", \"2/17/20\", \"2/18/20\", \"2/19/20\", \"2/20/20\", \"2/21/20\", \"2/22/20\", \"2/23/20\", \"2/24/20\", \"2/25/20\", \"2/26/20\", \"2/27/20\", \"2/28/20\", \"2/29/20\", \"3/1/20\", \"3/2/20\", \"3/3/20\", \"3/4/20\", \"3/5/20\", \"3/6/20\", \"3/7/20\", \"3/8/20\", \"3/9/20\", \"3/10/20\", \"3/11/20\", \"3/12/20\"], \"y\": [0, 0, 0, 0, 0, 0, 0, 0, 0, 0, 0, 0, 0, 0, 0, 0, 0, 0, 0, 0, 0, 0, 0, 0, 0, 0, 0, 0, 0, 0, 0, 0, 0, 0, 0, 0, 0, 0, 0, 0, 0, 0, 2, 2, 2, 4, 7, 9, 9, 13, 13]}, {\"mode\": \"markers\", \"type\": \"scatter\", \"x\": [\"1/22/20\", \"3/12/20\"], \"y\": [0, 13]}, {\"connectgaps\": true, \"mode\": \"lines\", \"name\": \"Belarus\", \"type\": \"scatter\", \"x\": [\"1/22/20\", \"1/23/20\", \"1/24/20\", \"1/25/20\", \"1/26/20\", \"1/27/20\", \"1/28/20\", \"1/29/20\", \"1/30/20\", \"1/31/20\", \"2/1/20\", \"2/2/20\", \"2/3/20\", \"2/4/20\", \"2/5/20\", \"2/6/20\", \"2/7/20\", \"2/8/20\", \"2/9/20\", \"2/10/20\", \"2/11/20\", \"2/12/20\", \"2/13/20\", \"2/14/20\", \"2/15/20\", \"2/16/20\", \"2/17/20\", \"2/18/20\", \"2/19/20\", \"2/20/20\", \"2/21/20\", \"2/22/20\", \"2/23/20\", \"2/24/20\", \"2/25/20\", \"2/26/20\", \"2/27/20\", \"2/28/20\", \"2/29/20\", \"3/1/20\", \"3/2/20\", \"3/3/20\", \"3/4/20\", \"3/5/20\", \"3/6/20\", \"3/7/20\", \"3/8/20\", \"3/9/20\", \"3/10/20\", \"3/11/20\", \"3/12/20\"], \"y\": [0, 0, 0, 0, 0, 0, 0, 0, 0, 0, 0, 0, 0, 0, 0, 0, 0, 0, 0, 0, 0, 0, 0, 0, 0, 0, 0, 0, 0, 0, 0, 0, 0, 0, 0, 0, 0, 1, 1, 1, 1, 1, 6, 6, 6, 6, 6, 6, 9, 9, 12]}, {\"mode\": \"markers\", \"type\": \"scatter\", \"x\": [\"1/22/20\", \"3/12/20\"], \"y\": [0, 12]}, {\"connectgaps\": true, \"mode\": \"lines\", \"name\": \"Mexico\", \"type\": \"scatter\", \"x\": [\"1/22/20\", \"1/23/20\", \"1/24/20\", \"1/25/20\", \"1/26/20\", \"1/27/20\", \"1/28/20\", \"1/29/20\", \"1/30/20\", \"1/31/20\", \"2/1/20\", \"2/2/20\", \"2/3/20\", \"2/4/20\", \"2/5/20\", \"2/6/20\", \"2/7/20\", \"2/8/20\", \"2/9/20\", \"2/10/20\", \"2/11/20\", \"2/12/20\", \"2/13/20\", \"2/14/20\", \"2/15/20\", \"2/16/20\", \"2/17/20\", \"2/18/20\", \"2/19/20\", \"2/20/20\", \"2/21/20\", \"2/22/20\", \"2/23/20\", \"2/24/20\", \"2/25/20\", \"2/26/20\", \"2/27/20\", \"2/28/20\", \"2/29/20\", \"3/1/20\", \"3/2/20\", \"3/3/20\", \"3/4/20\", \"3/5/20\", \"3/6/20\", \"3/7/20\", \"3/8/20\", \"3/9/20\", \"3/10/20\", \"3/11/20\", \"3/12/20\"], \"y\": [0, 0, 0, 0, 0, 0, 0, 0, 0, 0, 0, 0, 0, 0, 0, 0, 0, 0, 0, 0, 0, 0, 0, 0, 0, 0, 0, 0, 0, 0, 0, 0, 0, 0, 0, 0, 0, 1, 4, 5, 5, 5, 5, 5, 6, 6, 7, 7, 7, 8, 12]}, {\"mode\": \"markers\", \"type\": \"scatter\", \"x\": [\"1/22/20\", \"3/12/20\"], \"y\": [0, 12]}, {\"connectgaps\": true, \"mode\": \"lines\", \"name\": \"Panama\", \"type\": \"scatter\", \"x\": [\"1/22/20\", \"1/23/20\", \"1/24/20\", \"1/25/20\", \"1/26/20\", \"1/27/20\", \"1/28/20\", \"1/29/20\", \"1/30/20\", \"1/31/20\", \"2/1/20\", \"2/2/20\", \"2/3/20\", \"2/4/20\", \"2/5/20\", \"2/6/20\", \"2/7/20\", \"2/8/20\", \"2/9/20\", \"2/10/20\", \"2/11/20\", \"2/12/20\", \"2/13/20\", \"2/14/20\", \"2/15/20\", \"2/16/20\", \"2/17/20\", \"2/18/20\", \"2/19/20\", \"2/20/20\", \"2/21/20\", \"2/22/20\", \"2/23/20\", \"2/24/20\", \"2/25/20\", \"2/26/20\", \"2/27/20\", \"2/28/20\", \"2/29/20\", \"3/1/20\", \"3/2/20\", \"3/3/20\", \"3/4/20\", \"3/5/20\", \"3/6/20\", \"3/7/20\", \"3/8/20\", \"3/9/20\", \"3/10/20\", \"3/11/20\", \"3/12/20\"], \"y\": [0, 0, 0, 0, 0, 0, 0, 0, 0, 0, 0, 0, 0, 0, 0, 0, 0, 0, 0, 0, 0, 0, 0, 0, 0, 0, 0, 0, 0, 0, 0, 0, 0, 0, 0, 0, 0, 0, 0, 0, 0, 0, 0, 0, 0, 0, 0, 0, 1, 8, 11]}, {\"mode\": \"markers\", \"type\": \"scatter\", \"x\": [\"1/22/20\", \"3/12/20\"], \"y\": [0, 11]}, {\"connectgaps\": true, \"mode\": \"lines\", \"name\": \"Bosnia and Herzegovina\", \"type\": \"scatter\", \"x\": [\"1/22/20\", \"1/23/20\", \"1/24/20\", \"1/25/20\", \"1/26/20\", \"1/27/20\", \"1/28/20\", \"1/29/20\", \"1/30/20\", \"1/31/20\", \"2/1/20\", \"2/2/20\", \"2/3/20\", \"2/4/20\", \"2/5/20\", \"2/6/20\", \"2/7/20\", \"2/8/20\", \"2/9/20\", \"2/10/20\", \"2/11/20\", \"2/12/20\", \"2/13/20\", \"2/14/20\", \"2/15/20\", \"2/16/20\", \"2/17/20\", \"2/18/20\", \"2/19/20\", \"2/20/20\", \"2/21/20\", \"2/22/20\", \"2/23/20\", \"2/24/20\", \"2/25/20\", \"2/26/20\", \"2/27/20\", \"2/28/20\", \"2/29/20\", \"3/1/20\", \"3/2/20\", \"3/3/20\", \"3/4/20\", \"3/5/20\", \"3/6/20\", \"3/7/20\", \"3/8/20\", \"3/9/20\", \"3/10/20\", \"3/11/20\", \"3/12/20\"], \"y\": [0, 0, 0, 0, 0, 0, 0, 0, 0, 0, 0, 0, 0, 0, 0, 0, 0, 0, 0, 0, 0, 0, 0, 0, 0, 0, 0, 0, 0, 0, 0, 0, 0, 0, 0, 0, 0, 0, 0, 0, 0, 0, 0, 2, 2, 3, 3, 3, 5, 7, 11]}, {\"mode\": \"markers\", \"type\": \"scatter\", \"x\": [\"1/22/20\", \"3/12/20\"], \"y\": [0, 11]}, {\"connectgaps\": true, \"mode\": \"lines\", \"name\": \"Brunei\", \"type\": \"scatter\", \"x\": [\"1/22/20\", \"1/23/20\", \"1/24/20\", \"1/25/20\", \"1/26/20\", \"1/27/20\", \"1/28/20\", \"1/29/20\", \"1/30/20\", \"1/31/20\", \"2/1/20\", \"2/2/20\", \"2/3/20\", \"2/4/20\", \"2/5/20\", \"2/6/20\", \"2/7/20\", \"2/8/20\", \"2/9/20\", \"2/10/20\", \"2/11/20\", \"2/12/20\", \"2/13/20\", \"2/14/20\", \"2/15/20\", \"2/16/20\", \"2/17/20\", \"2/18/20\", \"2/19/20\", \"2/20/20\", \"2/21/20\", \"2/22/20\", \"2/23/20\", \"2/24/20\", \"2/25/20\", \"2/26/20\", \"2/27/20\", \"2/28/20\", \"2/29/20\", \"3/1/20\", \"3/2/20\", \"3/3/20\", \"3/4/20\", \"3/5/20\", \"3/6/20\", \"3/7/20\", \"3/8/20\", \"3/9/20\", \"3/10/20\", \"3/11/20\", \"3/12/20\"], \"y\": [0, 0, 0, 0, 0, 0, 0, 0, 0, 0, 0, 0, 0, 0, 0, 0, 0, 0, 0, 0, 0, 0, 0, 0, 0, 0, 0, 0, 0, 0, 0, 0, 0, 0, 0, 0, 0, 0, 0, 0, 0, 0, 0, 0, 0, 0, 0, 1, 1, 11, 11]}, {\"mode\": \"markers\", \"type\": \"scatter\", \"x\": [\"1/22/20\", \"3/12/20\"], \"y\": [0, 11]}, {\"connectgaps\": true, \"mode\": \"lines\", \"name\": \"Azerbaijan\", \"type\": \"scatter\", \"x\": [\"1/22/20\", \"1/23/20\", \"1/24/20\", \"1/25/20\", \"1/26/20\", \"1/27/20\", \"1/28/20\", \"1/29/20\", \"1/30/20\", \"1/31/20\", \"2/1/20\", \"2/2/20\", \"2/3/20\", \"2/4/20\", \"2/5/20\", \"2/6/20\", \"2/7/20\", \"2/8/20\", \"2/9/20\", \"2/10/20\", \"2/11/20\", \"2/12/20\", \"2/13/20\", \"2/14/20\", \"2/15/20\", \"2/16/20\", \"2/17/20\", \"2/18/20\", \"2/19/20\", \"2/20/20\", \"2/21/20\", \"2/22/20\", \"2/23/20\", \"2/24/20\", \"2/25/20\", \"2/26/20\", \"2/27/20\", \"2/28/20\", \"2/29/20\", \"3/1/20\", \"3/2/20\", \"3/3/20\", \"3/4/20\", \"3/5/20\", \"3/6/20\", \"3/7/20\", \"3/8/20\", \"3/9/20\", \"3/10/20\", \"3/11/20\", \"3/12/20\"], \"y\": [0, 0, 0, 0, 0, 0, 0, 0, 0, 0, 0, 0, 0, 0, 0, 0, 0, 0, 0, 0, 0, 0, 0, 0, 0, 0, 0, 0, 0, 0, 0, 0, 0, 0, 0, 0, 0, 0, 0, 3, 3, 3, 3, 6, 6, 9, 9, 9, 11, 11, 11]}, {\"mode\": \"markers\", \"type\": \"scatter\", \"x\": [\"1/22/20\", \"3/12/20\"], \"y\": [0, 11]}, {\"connectgaps\": true, \"mode\": \"lines\", \"name\": \"Latvia\", \"type\": \"scatter\", \"x\": [\"1/22/20\", \"1/23/20\", \"1/24/20\", \"1/25/20\", \"1/26/20\", \"1/27/20\", \"1/28/20\", \"1/29/20\", \"1/30/20\", \"1/31/20\", \"2/1/20\", \"2/2/20\", \"2/3/20\", \"2/4/20\", \"2/5/20\", \"2/6/20\", \"2/7/20\", \"2/8/20\", \"2/9/20\", \"2/10/20\", \"2/11/20\", \"2/12/20\", \"2/13/20\", \"2/14/20\", \"2/15/20\", \"2/16/20\", \"2/17/20\", \"2/18/20\", \"2/19/20\", \"2/20/20\", \"2/21/20\", \"2/22/20\", \"2/23/20\", \"2/24/20\", \"2/25/20\", \"2/26/20\", \"2/27/20\", \"2/28/20\", \"2/29/20\", \"3/1/20\", \"3/2/20\", \"3/3/20\", \"3/4/20\", \"3/5/20\", \"3/6/20\", \"3/7/20\", \"3/8/20\", \"3/9/20\", \"3/10/20\", \"3/11/20\", \"3/12/20\"], \"y\": [0, 0, 0, 0, 0, 0, 0, 0, 0, 0, 0, 0, 0, 0, 0, 0, 0, 0, 0, 0, 0, 0, 0, 0, 0, 0, 0, 0, 0, 0, 0, 0, 0, 0, 0, 0, 0, 0, 0, 0, 1, 1, 1, 1, 1, 1, 2, 6, 8, 10, 10]}, {\"mode\": \"markers\", \"type\": \"scatter\", \"x\": [\"1/22/20\", \"3/12/20\"], \"y\": [0, 10]}, {\"connectgaps\": true, \"mode\": \"lines\", \"name\": \"Colombia\", \"type\": \"scatter\", \"x\": [\"1/22/20\", \"1/23/20\", \"1/24/20\", \"1/25/20\", \"1/26/20\", \"1/27/20\", \"1/28/20\", \"1/29/20\", \"1/30/20\", \"1/31/20\", \"2/1/20\", \"2/2/20\", \"2/3/20\", \"2/4/20\", \"2/5/20\", \"2/6/20\", \"2/7/20\", \"2/8/20\", \"2/9/20\", \"2/10/20\", \"2/11/20\", \"2/12/20\", \"2/13/20\", \"2/14/20\", \"2/15/20\", \"2/16/20\", \"2/17/20\", \"2/18/20\", \"2/19/20\", \"2/20/20\", \"2/21/20\", \"2/22/20\", \"2/23/20\", \"2/24/20\", \"2/25/20\", \"2/26/20\", \"2/27/20\", \"2/28/20\", \"2/29/20\", \"3/1/20\", \"3/2/20\", \"3/3/20\", \"3/4/20\", \"3/5/20\", \"3/6/20\", \"3/7/20\", \"3/8/20\", \"3/9/20\", \"3/10/20\", \"3/11/20\", \"3/12/20\"], \"y\": [0, 0, 0, 0, 0, 0, 0, 0, 0, 0, 0, 0, 0, 0, 0, 0, 0, 0, 0, 0, 0, 0, 0, 0, 0, 0, 0, 0, 0, 0, 0, 0, 0, 0, 0, 0, 0, 0, 0, 0, 0, 0, 0, 0, 1, 1, 1, 1, 3, 9, 9]}, {\"mode\": \"markers\", \"type\": \"scatter\", \"x\": [\"1/22/20\", \"3/12/20\"], \"y\": [0, 9]}, {\"connectgaps\": true, \"mode\": \"lines\", \"name\": \"Maldives\", \"type\": \"scatter\", \"x\": [\"1/22/20\", \"1/23/20\", \"1/24/20\", \"1/25/20\", \"1/26/20\", \"1/27/20\", \"1/28/20\", \"1/29/20\", \"1/30/20\", \"1/31/20\", \"2/1/20\", \"2/2/20\", \"2/3/20\", \"2/4/20\", \"2/5/20\", \"2/6/20\", \"2/7/20\", \"2/8/20\", \"2/9/20\", \"2/10/20\", \"2/11/20\", \"2/12/20\", \"2/13/20\", \"2/14/20\", \"2/15/20\", \"2/16/20\", \"2/17/20\", \"2/18/20\", \"2/19/20\", \"2/20/20\", \"2/21/20\", \"2/22/20\", \"2/23/20\", \"2/24/20\", \"2/25/20\", \"2/26/20\", \"2/27/20\", \"2/28/20\", \"2/29/20\", \"3/1/20\", \"3/2/20\", \"3/3/20\", \"3/4/20\", \"3/5/20\", \"3/6/20\", \"3/7/20\", \"3/8/20\", \"3/9/20\", \"3/10/20\", \"3/11/20\", \"3/12/20\"], \"y\": [0, 0, 0, 0, 0, 0, 0, 0, 0, 0, 0, 0, 0, 0, 0, 0, 0, 0, 0, 0, 0, 0, 0, 0, 0, 0, 0, 0, 0, 0, 0, 0, 0, 0, 0, 0, 0, 0, 0, 0, 0, 0, 0, 0, 0, 0, 4, 4, 6, 8, 8]}, {\"mode\": \"markers\", \"type\": \"scatter\", \"x\": [\"1/22/20\", \"3/12/20\"], \"y\": [0, 8]}, {\"connectgaps\": true, \"mode\": \"lines\", \"name\": \"North Macedonia\", \"type\": \"scatter\", \"x\": [\"1/22/20\", \"1/23/20\", \"1/24/20\", \"1/25/20\", \"1/26/20\", \"1/27/20\", \"1/28/20\", \"1/29/20\", \"1/30/20\", \"1/31/20\", \"2/1/20\", \"2/2/20\", \"2/3/20\", \"2/4/20\", \"2/5/20\", \"2/6/20\", \"2/7/20\", \"2/8/20\", \"2/9/20\", \"2/10/20\", \"2/11/20\", \"2/12/20\", \"2/13/20\", \"2/14/20\", \"2/15/20\", \"2/16/20\", \"2/17/20\", \"2/18/20\", \"2/19/20\", \"2/20/20\", \"2/21/20\", \"2/22/20\", \"2/23/20\", \"2/24/20\", \"2/25/20\", \"2/26/20\", \"2/27/20\", \"2/28/20\", \"2/29/20\", \"3/1/20\", \"3/2/20\", \"3/3/20\", \"3/4/20\", \"3/5/20\", \"3/6/20\", \"3/7/20\", \"3/8/20\", \"3/9/20\", \"3/10/20\", \"3/11/20\", \"3/12/20\"], \"y\": [0, 0, 0, 0, 0, 0, 0, 0, 0, 0, 0, 0, 0, 0, 0, 0, 0, 0, 0, 0, 0, 0, 0, 0, 0, 0, 0, 0, 0, 0, 0, 0, 0, 0, 0, 1, 1, 1, 1, 1, 1, 1, 1, 1, 3, 3, 3, 3, 7, 7, 7]}, {\"mode\": \"markers\", \"type\": \"scatter\", \"x\": [\"1/22/20\", \"3/12/20\"], \"y\": [0, 7]}, {\"connectgaps\": true, \"mode\": \"lines\", \"name\": \"Bulgaria\", \"type\": \"scatter\", \"x\": [\"1/22/20\", \"1/23/20\", \"1/24/20\", \"1/25/20\", \"1/26/20\", \"1/27/20\", \"1/28/20\", \"1/29/20\", \"1/30/20\", \"1/31/20\", \"2/1/20\", \"2/2/20\", \"2/3/20\", \"2/4/20\", \"2/5/20\", \"2/6/20\", \"2/7/20\", \"2/8/20\", \"2/9/20\", \"2/10/20\", \"2/11/20\", \"2/12/20\", \"2/13/20\", \"2/14/20\", \"2/15/20\", \"2/16/20\", \"2/17/20\", \"2/18/20\", \"2/19/20\", \"2/20/20\", \"2/21/20\", \"2/22/20\", \"2/23/20\", \"2/24/20\", \"2/25/20\", \"2/26/20\", \"2/27/20\", \"2/28/20\", \"2/29/20\", \"3/1/20\", \"3/2/20\", \"3/3/20\", \"3/4/20\", \"3/5/20\", \"3/6/20\", \"3/7/20\", \"3/8/20\", \"3/9/20\", \"3/10/20\", \"3/11/20\", \"3/12/20\"], \"y\": [0, 0, 0, 0, 0, 0, 0, 0, 0, 0, 0, 0, 0, 0, 0, 0, 0, 0, 0, 0, 0, 0, 0, 0, 0, 0, 0, 0, 0, 0, 0, 0, 0, 0, 0, 0, 0, 0, 0, 0, 0, 0, 0, 0, 0, 0, 4, 4, 4, 7, 7]}, {\"mode\": \"markers\", \"type\": \"scatter\", \"x\": [\"1/22/20\", \"3/12/20\"], \"y\": [0, 7]}, {\"connectgaps\": true, \"mode\": \"lines\", \"name\": \"Tunisia\", \"type\": \"scatter\", \"x\": [\"1/22/20\", \"1/23/20\", \"1/24/20\", \"1/25/20\", \"1/26/20\", \"1/27/20\", \"1/28/20\", \"1/29/20\", \"1/30/20\", \"1/31/20\", \"2/1/20\", \"2/2/20\", \"2/3/20\", \"2/4/20\", \"2/5/20\", \"2/6/20\", \"2/7/20\", \"2/8/20\", \"2/9/20\", \"2/10/20\", \"2/11/20\", \"2/12/20\", \"2/13/20\", \"2/14/20\", \"2/15/20\", \"2/16/20\", \"2/17/20\", \"2/18/20\", \"2/19/20\", \"2/20/20\", \"2/21/20\", \"2/22/20\", \"2/23/20\", \"2/24/20\", \"2/25/20\", \"2/26/20\", \"2/27/20\", \"2/28/20\", \"2/29/20\", \"3/1/20\", \"3/2/20\", \"3/3/20\", \"3/4/20\", \"3/5/20\", \"3/6/20\", \"3/7/20\", \"3/8/20\", \"3/9/20\", \"3/10/20\", \"3/11/20\", \"3/12/20\"], \"y\": [0, 0, 0, 0, 0, 0, 0, 0, 0, 0, 0, 0, 0, 0, 0, 0, 0, 0, 0, 0, 0, 0, 0, 0, 0, 0, 0, 0, 0, 0, 0, 0, 0, 0, 0, 0, 0, 0, 0, 0, 0, 0, 1, 1, 1, 1, 2, 2, 5, 7, 7]}, {\"mode\": \"markers\", \"type\": \"scatter\", \"x\": [\"1/22/20\", \"3/12/20\"], \"y\": [0, 7]}, {\"connectgaps\": true, \"mode\": \"lines\", \"name\": \"Afghanistan\", \"type\": \"scatter\", \"x\": [\"1/22/20\", \"1/23/20\", \"1/24/20\", \"1/25/20\", \"1/26/20\", \"1/27/20\", \"1/28/20\", \"1/29/20\", \"1/30/20\", \"1/31/20\", \"2/1/20\", \"2/2/20\", \"2/3/20\", \"2/4/20\", \"2/5/20\", \"2/6/20\", \"2/7/20\", \"2/8/20\", \"2/9/20\", \"2/10/20\", \"2/11/20\", \"2/12/20\", \"2/13/20\", \"2/14/20\", \"2/15/20\", \"2/16/20\", \"2/17/20\", \"2/18/20\", \"2/19/20\", \"2/20/20\", \"2/21/20\", \"2/22/20\", \"2/23/20\", \"2/24/20\", \"2/25/20\", \"2/26/20\", \"2/27/20\", \"2/28/20\", \"2/29/20\", \"3/1/20\", \"3/2/20\", \"3/3/20\", \"3/4/20\", \"3/5/20\", \"3/6/20\", \"3/7/20\", \"3/8/20\", \"3/9/20\", \"3/10/20\", \"3/11/20\", \"3/12/20\"], \"y\": [0, 0, 0, 0, 0, 0, 0, 0, 0, 0, 0, 0, 0, 0, 0, 0, 0, 0, 0, 0, 0, 0, 0, 0, 0, 0, 0, 0, 0, 0, 0, 0, 0, 1, 1, 1, 1, 1, 1, 1, 1, 1, 1, 1, 1, 1, 4, 4, 5, 7, 7]}, {\"mode\": \"markers\", \"type\": \"scatter\", \"x\": [\"1/22/20\", \"3/12/20\"], \"y\": [0, 7]}, {\"connectgaps\": true, \"mode\": \"lines\", \"name\": \"Morocco\", \"type\": \"scatter\", \"x\": [\"1/22/20\", \"1/23/20\", \"1/24/20\", \"1/25/20\", \"1/26/20\", \"1/27/20\", \"1/28/20\", \"1/29/20\", \"1/30/20\", \"1/31/20\", \"2/1/20\", \"2/2/20\", \"2/3/20\", \"2/4/20\", \"2/5/20\", \"2/6/20\", \"2/7/20\", \"2/8/20\", \"2/9/20\", \"2/10/20\", \"2/11/20\", \"2/12/20\", \"2/13/20\", \"2/14/20\", \"2/15/20\", \"2/16/20\", \"2/17/20\", \"2/18/20\", \"2/19/20\", \"2/20/20\", \"2/21/20\", \"2/22/20\", \"2/23/20\", \"2/24/20\", \"2/25/20\", \"2/26/20\", \"2/27/20\", \"2/28/20\", \"2/29/20\", \"3/1/20\", \"3/2/20\", \"3/3/20\", \"3/4/20\", \"3/5/20\", \"3/6/20\", \"3/7/20\", \"3/8/20\", \"3/9/20\", \"3/10/20\", \"3/11/20\", \"3/12/20\"], \"y\": [0, 0, 0, 0, 0, 0, 0, 0, 0, 0, 0, 0, 0, 0, 0, 0, 0, 0, 0, 0, 0, 0, 0, 0, 0, 0, 0, 0, 0, 0, 0, 0, 0, 0, 0, 0, 0, 0, 0, 0, 1, 1, 1, 2, 2, 2, 2, 2, 3, 5, 6]}, {\"mode\": \"markers\", \"type\": \"scatter\", \"x\": [\"1/22/20\", \"3/12/20\"], \"y\": [0, 6]}, {\"connectgaps\": true, \"mode\": \"lines\", \"name\": \"Malta\", \"type\": \"scatter\", \"x\": [\"1/22/20\", \"1/23/20\", \"1/24/20\", \"1/25/20\", \"1/26/20\", \"1/27/20\", \"1/28/20\", \"1/29/20\", \"1/30/20\", \"1/31/20\", \"2/1/20\", \"2/2/20\", \"2/3/20\", \"2/4/20\", \"2/5/20\", \"2/6/20\", \"2/7/20\", \"2/8/20\", \"2/9/20\", \"2/10/20\", \"2/11/20\", \"2/12/20\", \"2/13/20\", \"2/14/20\", \"2/15/20\", \"2/16/20\", \"2/17/20\", \"2/18/20\", \"2/19/20\", \"2/20/20\", \"2/21/20\", \"2/22/20\", \"2/23/20\", \"2/24/20\", \"2/25/20\", \"2/26/20\", \"2/27/20\", \"2/28/20\", \"2/29/20\", \"3/1/20\", \"3/2/20\", \"3/3/20\", \"3/4/20\", \"3/5/20\", \"3/6/20\", \"3/7/20\", \"3/8/20\", \"3/9/20\", \"3/10/20\", \"3/11/20\", \"3/12/20\"], \"y\": [0, 0, 0, 0, 0, 0, 0, 0, 0, 0, 0, 0, 0, 0, 0, 0, 0, 0, 0, 0, 0, 0, 0, 0, 0, 0, 0, 0, 0, 0, 0, 0, 0, 0, 0, 0, 0, 0, 0, 0, 0, 0, 0, 0, 0, 3, 3, 3, 5, 6, 6]}, {\"mode\": \"markers\", \"type\": \"scatter\", \"x\": [\"1/22/20\", \"3/12/20\"], \"y\": [0, 6]}, {\"connectgaps\": true, \"mode\": \"lines\", \"name\": \"Cyprus\", \"type\": \"scatter\", \"x\": [\"1/22/20\", \"1/23/20\", \"1/24/20\", \"1/25/20\", \"1/26/20\", \"1/27/20\", \"1/28/20\", \"1/29/20\", \"1/30/20\", \"1/31/20\", \"2/1/20\", \"2/2/20\", \"2/3/20\", \"2/4/20\", \"2/5/20\", \"2/6/20\", \"2/7/20\", \"2/8/20\", \"2/9/20\", \"2/10/20\", \"2/11/20\", \"2/12/20\", \"2/13/20\", \"2/14/20\", \"2/15/20\", \"2/16/20\", \"2/17/20\", \"2/18/20\", \"2/19/20\", \"2/20/20\", \"2/21/20\", \"2/22/20\", \"2/23/20\", \"2/24/20\", \"2/25/20\", \"2/26/20\", \"2/27/20\", \"2/28/20\", \"2/29/20\", \"3/1/20\", \"3/2/20\", \"3/3/20\", \"3/4/20\", \"3/5/20\", \"3/6/20\", \"3/7/20\", \"3/8/20\", \"3/9/20\", \"3/10/20\", \"3/11/20\", \"3/12/20\"], \"y\": [0, 0, 0, 0, 0, 0, 0, 0, 0, 0, 0, 0, 0, 0, 0, 0, 0, 0, 0, 0, 0, 0, 0, 0, 0, 0, 0, 0, 0, 0, 0, 0, 0, 0, 0, 0, 0, 0, 0, 0, 0, 0, 0, 0, 0, 0, 0, 2, 3, 6, 6]}, {\"mode\": \"markers\", \"type\": \"scatter\", \"x\": [\"1/22/20\", \"3/12/20\"], \"y\": [0, 6]}, {\"connectgaps\": true, \"mode\": \"lines\", \"name\": \"New Zealand\", \"type\": \"scatter\", \"x\": [\"1/22/20\", \"1/23/20\", \"1/24/20\", \"1/25/20\", \"1/26/20\", \"1/27/20\", \"1/28/20\", \"1/29/20\", \"1/30/20\", \"1/31/20\", \"2/1/20\", \"2/2/20\", \"2/3/20\", \"2/4/20\", \"2/5/20\", \"2/6/20\", \"2/7/20\", \"2/8/20\", \"2/9/20\", \"2/10/20\", \"2/11/20\", \"2/12/20\", \"2/13/20\", \"2/14/20\", \"2/15/20\", \"2/16/20\", \"2/17/20\", \"2/18/20\", \"2/19/20\", \"2/20/20\", \"2/21/20\", \"2/22/20\", \"2/23/20\", \"2/24/20\", \"2/25/20\", \"2/26/20\", \"2/27/20\", \"2/28/20\", \"2/29/20\", \"3/1/20\", \"3/2/20\", \"3/3/20\", \"3/4/20\", \"3/5/20\", \"3/6/20\", \"3/7/20\", \"3/8/20\", \"3/9/20\", \"3/10/20\", \"3/11/20\", \"3/12/20\"], \"y\": [0, 0, 0, 0, 0, 0, 0, 0, 0, 0, 0, 0, 0, 0, 0, 0, 0, 0, 0, 0, 0, 0, 0, 0, 0, 0, 0, 0, 0, 0, 0, 0, 0, 0, 0, 0, 0, 1, 1, 1, 1, 1, 3, 3, 4, 5, 5, 5, 5, 5, 5]}, {\"mode\": \"markers\", \"type\": \"scatter\", \"x\": [\"1/22/20\", \"3/12/20\"], \"y\": [0, 5]}, {\"connectgaps\": true, \"mode\": \"lines\", \"name\": \"French Guiana\", \"type\": \"scatter\", \"x\": [\"1/22/20\", \"1/23/20\", \"1/24/20\", \"1/25/20\", \"1/26/20\", \"1/27/20\", \"1/28/20\", \"1/29/20\", \"1/30/20\", \"1/31/20\", \"2/1/20\", \"2/2/20\", \"2/3/20\", \"2/4/20\", \"2/5/20\", \"2/6/20\", \"2/7/20\", \"2/8/20\", \"2/9/20\", \"2/10/20\", \"2/11/20\", \"2/12/20\", \"2/13/20\", \"2/14/20\", \"2/15/20\", \"2/16/20\", \"2/17/20\", \"2/18/20\", \"2/19/20\", \"2/20/20\", \"2/21/20\", \"2/22/20\", \"2/23/20\", \"2/24/20\", \"2/25/20\", \"2/26/20\", \"2/27/20\", \"2/28/20\", \"2/29/20\", \"3/1/20\", \"3/2/20\", \"3/3/20\", \"3/4/20\", \"3/5/20\", \"3/6/20\", \"3/7/20\", \"3/8/20\", \"3/9/20\", \"3/10/20\", \"3/11/20\", \"3/12/20\"], \"y\": [0, 0, 0, 0, 0, 0, 0, 0, 0, 0, 0, 0, 0, 0, 0, 0, 0, 0, 0, 0, 0, 0, 0, 0, 0, 0, 0, 0, 0, 0, 0, 0, 0, 0, 0, 0, 0, 0, 0, 0, 0, 0, 0, 0, 0, 5, 5, 5, 5, 5, 5]}, {\"mode\": \"markers\", \"type\": \"scatter\", \"x\": [\"1/22/20\", \"3/12/20\"], \"y\": [0, 5]}, {\"connectgaps\": true, \"mode\": \"lines\", \"name\": \"Dominican Republic\", \"type\": \"scatter\", \"x\": [\"1/22/20\", \"1/23/20\", \"1/24/20\", \"1/25/20\", \"1/26/20\", \"1/27/20\", \"1/28/20\", \"1/29/20\", \"1/30/20\", \"1/31/20\", \"2/1/20\", \"2/2/20\", \"2/3/20\", \"2/4/20\", \"2/5/20\", \"2/6/20\", \"2/7/20\", \"2/8/20\", \"2/9/20\", \"2/10/20\", \"2/11/20\", \"2/12/20\", \"2/13/20\", \"2/14/20\", \"2/15/20\", \"2/16/20\", \"2/17/20\", \"2/18/20\", \"2/19/20\", \"2/20/20\", \"2/21/20\", \"2/22/20\", \"2/23/20\", \"2/24/20\", \"2/25/20\", \"2/26/20\", \"2/27/20\", \"2/28/20\", \"2/29/20\", \"3/1/20\", \"3/2/20\", \"3/3/20\", \"3/4/20\", \"3/5/20\", \"3/6/20\", \"3/7/20\", \"3/8/20\", \"3/9/20\", \"3/10/20\", \"3/11/20\", \"3/12/20\"], \"y\": [0, 0, 0, 0, 0, 0, 0, 0, 0, 0, 0, 0, 0, 0, 0, 0, 0, 0, 0, 0, 0, 0, 0, 0, 0, 0, 0, 0, 0, 0, 0, 0, 0, 0, 0, 0, 0, 0, 0, 1, 1, 1, 1, 1, 2, 2, 5, 5, 5, 5, 5]}, {\"mode\": \"markers\", \"type\": \"scatter\", \"x\": [\"1/22/20\", \"3/12/20\"], \"y\": [0, 5]}, {\"connectgaps\": true, \"mode\": \"lines\", \"name\": \"Paraguay\", \"type\": \"scatter\", \"x\": [\"1/22/20\", \"1/23/20\", \"1/24/20\", \"1/25/20\", \"1/26/20\", \"1/27/20\", \"1/28/20\", \"1/29/20\", \"1/30/20\", \"1/31/20\", \"2/1/20\", \"2/2/20\", \"2/3/20\", \"2/4/20\", \"2/5/20\", \"2/6/20\", \"2/7/20\", \"2/8/20\", \"2/9/20\", \"2/10/20\", \"2/11/20\", \"2/12/20\", \"2/13/20\", \"2/14/20\", \"2/15/20\", \"2/16/20\", \"2/17/20\", \"2/18/20\", \"2/19/20\", \"2/20/20\", \"2/21/20\", \"2/22/20\", \"2/23/20\", \"2/24/20\", \"2/25/20\", \"2/26/20\", \"2/27/20\", \"2/28/20\", \"2/29/20\", \"3/1/20\", \"3/2/20\", \"3/3/20\", \"3/4/20\", \"3/5/20\", \"3/6/20\", \"3/7/20\", \"3/8/20\", \"3/9/20\", \"3/10/20\", \"3/11/20\", \"3/12/20\"], \"y\": [0, 0, 0, 0, 0, 0, 0, 0, 0, 0, 0, 0, 0, 0, 0, 0, 0, 0, 0, 0, 0, 0, 0, 0, 0, 0, 0, 0, 0, 0, 0, 0, 0, 0, 0, 0, 0, 0, 0, 0, 0, 0, 0, 0, 0, 0, 1, 1, 1, 5, 5]}, {\"mode\": \"markers\", \"type\": \"scatter\", \"x\": [\"1/22/20\", \"3/12/20\"], \"y\": [0, 5]}, {\"connectgaps\": true, \"mode\": \"lines\", \"name\": \"Armenia\", \"type\": \"scatter\", \"x\": [\"1/22/20\", \"1/23/20\", \"1/24/20\", \"1/25/20\", \"1/26/20\", \"1/27/20\", \"1/28/20\", \"1/29/20\", \"1/30/20\", \"1/31/20\", \"2/1/20\", \"2/2/20\", \"2/3/20\", \"2/4/20\", \"2/5/20\", \"2/6/20\", \"2/7/20\", \"2/8/20\", \"2/9/20\", \"2/10/20\", \"2/11/20\", \"2/12/20\", \"2/13/20\", \"2/14/20\", \"2/15/20\", \"2/16/20\", \"2/17/20\", \"2/18/20\", \"2/19/20\", \"2/20/20\", \"2/21/20\", \"2/22/20\", \"2/23/20\", \"2/24/20\", \"2/25/20\", \"2/26/20\", \"2/27/20\", \"2/28/20\", \"2/29/20\", \"3/1/20\", \"3/2/20\", \"3/3/20\", \"3/4/20\", \"3/5/20\", \"3/6/20\", \"3/7/20\", \"3/8/20\", \"3/9/20\", \"3/10/20\", \"3/11/20\", \"3/12/20\"], \"y\": [0, 0, 0, 0, 0, 0, 0, 0, 0, 0, 0, 0, 0, 0, 0, 0, 0, 0, 0, 0, 0, 0, 0, 0, 0, 0, 0, 0, 0, 0, 0, 0, 0, 0, 0, 0, 0, 0, 0, 1, 1, 1, 1, 1, 1, 1, 1, 1, 1, 1, 4]}, {\"mode\": \"markers\", \"type\": \"scatter\", \"x\": [\"1/22/20\", \"3/12/20\"], \"y\": [0, 4]}, {\"connectgaps\": true, \"mode\": \"lines\", \"name\": \"Senegal\", \"type\": \"scatter\", \"x\": [\"1/22/20\", \"1/23/20\", \"1/24/20\", \"1/25/20\", \"1/26/20\", \"1/27/20\", \"1/28/20\", \"1/29/20\", \"1/30/20\", \"1/31/20\", \"2/1/20\", \"2/2/20\", \"2/3/20\", \"2/4/20\", \"2/5/20\", \"2/6/20\", \"2/7/20\", \"2/8/20\", \"2/9/20\", \"2/10/20\", \"2/11/20\", \"2/12/20\", \"2/13/20\", \"2/14/20\", \"2/15/20\", \"2/16/20\", \"2/17/20\", \"2/18/20\", \"2/19/20\", \"2/20/20\", \"2/21/20\", \"2/22/20\", \"2/23/20\", \"2/24/20\", \"2/25/20\", \"2/26/20\", \"2/27/20\", \"2/28/20\", \"2/29/20\", \"3/1/20\", \"3/2/20\", \"3/3/20\", \"3/4/20\", \"3/5/20\", \"3/6/20\", \"3/7/20\", \"3/8/20\", \"3/9/20\", \"3/10/20\", \"3/11/20\", \"3/12/20\"], \"y\": [0, 0, 0, 0, 0, 0, 0, 0, 0, 0, 0, 0, 0, 0, 0, 0, 0, 0, 0, 0, 0, 0, 0, 0, 0, 0, 0, 0, 0, 0, 0, 0, 0, 0, 0, 0, 0, 0, 0, 0, 1, 2, 4, 4, 4, 4, 4, 4, 4, 4, 4]}, {\"mode\": \"markers\", \"type\": \"scatter\", \"x\": [\"1/22/20\", \"3/12/20\"], \"y\": [0, 4]}, {\"connectgaps\": true, \"mode\": \"lines\", \"name\": \"Cuba\", \"type\": \"scatter\", \"x\": [\"1/22/20\", \"1/23/20\", \"1/24/20\", \"1/25/20\", \"1/26/20\", \"1/27/20\", \"1/28/20\", \"1/29/20\", \"1/30/20\", \"1/31/20\", \"2/1/20\", \"2/2/20\", \"2/3/20\", \"2/4/20\", \"2/5/20\", \"2/6/20\", \"2/7/20\", \"2/8/20\", \"2/9/20\", \"2/10/20\", \"2/11/20\", \"2/12/20\", \"2/13/20\", \"2/14/20\", \"2/15/20\", \"2/16/20\", \"2/17/20\", \"2/18/20\", \"2/19/20\", \"2/20/20\", \"2/21/20\", \"2/22/20\", \"2/23/20\", \"2/24/20\", \"2/25/20\", \"2/26/20\", \"2/27/20\", \"2/28/20\", \"2/29/20\", \"3/1/20\", \"3/2/20\", \"3/3/20\", \"3/4/20\", \"3/5/20\", \"3/6/20\", \"3/7/20\", \"3/8/20\", \"3/9/20\", \"3/10/20\", \"3/11/20\", \"3/12/20\"], \"y\": [0, 0, 0, 0, 0, 0, 0, 0, 0, 0, 0, 0, 0, 0, 0, 0, 0, 0, 0, 0, 0, 0, 0, 0, 0, 0, 0, 0, 0, 0, 0, 0, 0, 0, 0, 0, 0, 0, 0, 0, 0, 0, 0, 0, 0, 0, 0, 0, 0, 0, 3]}, {\"mode\": \"markers\", \"type\": \"scatter\", \"x\": [\"1/22/20\", \"3/12/20\"], \"y\": [0, 3]}, {\"connectgaps\": true, \"mode\": \"lines\", \"name\": \"Moldova\", \"type\": \"scatter\", \"x\": [\"1/22/20\", \"1/23/20\", \"1/24/20\", \"1/25/20\", \"1/26/20\", \"1/27/20\", \"1/28/20\", \"1/29/20\", \"1/30/20\", \"1/31/20\", \"2/1/20\", \"2/2/20\", \"2/3/20\", \"2/4/20\", \"2/5/20\", \"2/6/20\", \"2/7/20\", \"2/8/20\", \"2/9/20\", \"2/10/20\", \"2/11/20\", \"2/12/20\", \"2/13/20\", \"2/14/20\", \"2/15/20\", \"2/16/20\", \"2/17/20\", \"2/18/20\", \"2/19/20\", \"2/20/20\", \"2/21/20\", \"2/22/20\", \"2/23/20\", \"2/24/20\", \"2/25/20\", \"2/26/20\", \"2/27/20\", \"2/28/20\", \"2/29/20\", \"3/1/20\", \"3/2/20\", \"3/3/20\", \"3/4/20\", \"3/5/20\", \"3/6/20\", \"3/7/20\", \"3/8/20\", \"3/9/20\", \"3/10/20\", \"3/11/20\", \"3/12/20\"], \"y\": [0, 0, 0, 0, 0, 0, 0, 0, 0, 0, 0, 0, 0, 0, 0, 0, 0, 0, 0, 0, 0, 0, 0, 0, 0, 0, 0, 0, 0, 0, 0, 0, 0, 0, 0, 0, 0, 0, 0, 0, 0, 0, 0, 0, 0, 0, 1, 1, 3, 3, 3]}, {\"mode\": \"markers\", \"type\": \"scatter\", \"x\": [\"1/22/20\", \"3/12/20\"], \"y\": [0, 3]}, {\"connectgaps\": true, \"mode\": \"lines\", \"name\": \"Cambodia\", \"type\": \"scatter\", \"x\": [\"1/22/20\", \"1/23/20\", \"1/24/20\", \"1/25/20\", \"1/26/20\", \"1/27/20\", \"1/28/20\", \"1/29/20\", \"1/30/20\", \"1/31/20\", \"2/1/20\", \"2/2/20\", \"2/3/20\", \"2/4/20\", \"2/5/20\", \"2/6/20\", \"2/7/20\", \"2/8/20\", \"2/9/20\", \"2/10/20\", \"2/11/20\", \"2/12/20\", \"2/13/20\", \"2/14/20\", \"2/15/20\", \"2/16/20\", \"2/17/20\", \"2/18/20\", \"2/19/20\", \"2/20/20\", \"2/21/20\", \"2/22/20\", \"2/23/20\", \"2/24/20\", \"2/25/20\", \"2/26/20\", \"2/27/20\", \"2/28/20\", \"2/29/20\", \"3/1/20\", \"3/2/20\", \"3/3/20\", \"3/4/20\", \"3/5/20\", \"3/6/20\", \"3/7/20\", \"3/8/20\", \"3/9/20\", \"3/10/20\", \"3/11/20\", \"3/12/20\"], \"y\": [0, 0, 0, 0, 0, 1, 1, 1, 1, 1, 1, 1, 1, 1, 1, 1, 1, 1, 1, 1, 1, 1, 1, 1, 1, 1, 1, 1, 1, 1, 1, 1, 1, 1, 1, 1, 1, 1, 1, 1, 1, 1, 1, 1, 1, 1, 2, 2, 2, 3, 3]}, {\"mode\": \"markers\", \"type\": \"scatter\", \"x\": [\"1/22/20\", \"3/12/20\"], \"y\": [0, 3]}, {\"connectgaps\": true, \"mode\": \"lines\", \"name\": \"Lithuania\", \"type\": \"scatter\", \"x\": [\"1/22/20\", \"1/23/20\", \"1/24/20\", \"1/25/20\", \"1/26/20\", \"1/27/20\", \"1/28/20\", \"1/29/20\", \"1/30/20\", \"1/31/20\", \"2/1/20\", \"2/2/20\", \"2/3/20\", \"2/4/20\", \"2/5/20\", \"2/6/20\", \"2/7/20\", \"2/8/20\", \"2/9/20\", \"2/10/20\", \"2/11/20\", \"2/12/20\", \"2/13/20\", \"2/14/20\", \"2/15/20\", \"2/16/20\", \"2/17/20\", \"2/18/20\", \"2/19/20\", \"2/20/20\", \"2/21/20\", \"2/22/20\", \"2/23/20\", \"2/24/20\", \"2/25/20\", \"2/26/20\", \"2/27/20\", \"2/28/20\", \"2/29/20\", \"3/1/20\", \"3/2/20\", \"3/3/20\", \"3/4/20\", \"3/5/20\", \"3/6/20\", \"3/7/20\", \"3/8/20\", \"3/9/20\", \"3/10/20\", \"3/11/20\", \"3/12/20\"], \"y\": [0, 0, 0, 0, 0, 0, 0, 0, 0, 0, 0, 0, 0, 0, 0, 0, 0, 0, 0, 0, 0, 0, 0, 0, 0, 0, 0, 0, 0, 0, 0, 0, 0, 0, 0, 0, 0, 1, 1, 1, 1, 1, 1, 1, 1, 1, 1, 1, 1, 3, 3]}, {\"mode\": \"markers\", \"type\": \"scatter\", \"x\": [\"1/22/20\", \"3/12/20\"], \"y\": [0, 3]}, {\"connectgaps\": true, \"mode\": \"lines\", \"name\": \"Bangladesh\", \"type\": \"scatter\", \"x\": [\"1/22/20\", \"1/23/20\", \"1/24/20\", \"1/25/20\", \"1/26/20\", \"1/27/20\", \"1/28/20\", \"1/29/20\", \"1/30/20\", \"1/31/20\", \"2/1/20\", \"2/2/20\", \"2/3/20\", \"2/4/20\", \"2/5/20\", \"2/6/20\", \"2/7/20\", \"2/8/20\", \"2/9/20\", \"2/10/20\", \"2/11/20\", \"2/12/20\", \"2/13/20\", \"2/14/20\", \"2/15/20\", \"2/16/20\", \"2/17/20\", \"2/18/20\", \"2/19/20\", \"2/20/20\", \"2/21/20\", \"2/22/20\", \"2/23/20\", \"2/24/20\", \"2/25/20\", \"2/26/20\", \"2/27/20\", \"2/28/20\", \"2/29/20\", \"3/1/20\", \"3/2/20\", \"3/3/20\", \"3/4/20\", \"3/5/20\", \"3/6/20\", \"3/7/20\", \"3/8/20\", \"3/9/20\", \"3/10/20\", \"3/11/20\", \"3/12/20\"], \"y\": [0, 0, 0, 0, 0, 0, 0, 0, 0, 0, 0, 0, 0, 0, 0, 0, 0, 0, 0, 0, 0, 0, 0, 0, 0, 0, 0, 0, 0, 0, 0, 0, 0, 0, 0, 0, 0, 0, 0, 0, 0, 0, 0, 0, 0, 0, 3, 3, 3, 3, 3]}, {\"mode\": \"markers\", \"type\": \"scatter\", \"x\": [\"1/22/20\", \"3/12/20\"], \"y\": [0, 3]}, {\"connectgaps\": true, \"mode\": \"lines\", \"name\": \"Martinique\", \"type\": \"scatter\", \"x\": [\"1/22/20\", \"1/23/20\", \"1/24/20\", \"1/25/20\", \"1/26/20\", \"1/27/20\", \"1/28/20\", \"1/29/20\", \"1/30/20\", \"1/31/20\", \"2/1/20\", \"2/2/20\", \"2/3/20\", \"2/4/20\", \"2/5/20\", \"2/6/20\", \"2/7/20\", \"2/8/20\", \"2/9/20\", \"2/10/20\", \"2/11/20\", \"2/12/20\", \"2/13/20\", \"2/14/20\", \"2/15/20\", \"2/16/20\", \"2/17/20\", \"2/18/20\", \"2/19/20\", \"2/20/20\", \"2/21/20\", \"2/22/20\", \"2/23/20\", \"2/24/20\", \"2/25/20\", \"2/26/20\", \"2/27/20\", \"2/28/20\", \"2/29/20\", \"3/1/20\", \"3/2/20\", \"3/3/20\", \"3/4/20\", \"3/5/20\", \"3/6/20\", \"3/7/20\", \"3/8/20\", \"3/9/20\", \"3/10/20\", \"3/11/20\", \"3/12/20\"], \"y\": [0, 0, 0, 0, 0, 0, 0, 0, 0, 0, 0, 0, 0, 0, 0, 0, 0, 0, 0, 0, 0, 0, 0, 0, 0, 0, 0, 0, 0, 0, 0, 0, 0, 0, 0, 0, 0, 0, 0, 0, 0, 0, 0, 0, 0, 2, 2, 2, 2, 3, 3]}, {\"mode\": \"markers\", \"type\": \"scatter\", \"x\": [\"1/22/20\", \"3/12/20\"], \"y\": [0, 3]}, {\"connectgaps\": true, \"mode\": \"lines\", \"name\": \"Sri Lanka\", \"type\": \"scatter\", \"x\": [\"1/22/20\", \"1/23/20\", \"1/24/20\", \"1/25/20\", \"1/26/20\", \"1/27/20\", \"1/28/20\", \"1/29/20\", \"1/30/20\", \"1/31/20\", \"2/1/20\", \"2/2/20\", \"2/3/20\", \"2/4/20\", \"2/5/20\", \"2/6/20\", \"2/7/20\", \"2/8/20\", \"2/9/20\", \"2/10/20\", \"2/11/20\", \"2/12/20\", \"2/13/20\", \"2/14/20\", \"2/15/20\", \"2/16/20\", \"2/17/20\", \"2/18/20\", \"2/19/20\", \"2/20/20\", \"2/21/20\", \"2/22/20\", \"2/23/20\", \"2/24/20\", \"2/25/20\", \"2/26/20\", \"2/27/20\", \"2/28/20\", \"2/29/20\", \"3/1/20\", \"3/2/20\", \"3/3/20\", \"3/4/20\", \"3/5/20\", \"3/6/20\", \"3/7/20\", \"3/8/20\", \"3/9/20\", \"3/10/20\", \"3/11/20\", \"3/12/20\"], \"y\": [0, 0, 0, 0, 0, 1, 1, 1, 1, 1, 1, 1, 1, 1, 1, 1, 1, 1, 1, 1, 1, 1, 1, 1, 1, 1, 1, 1, 1, 1, 1, 1, 1, 1, 1, 1, 1, 1, 1, 1, 1, 1, 1, 1, 1, 1, 1, 1, 1, 2, 2]}, {\"mode\": \"markers\", \"type\": \"scatter\", \"x\": [\"1/22/20\", \"3/12/20\"], \"y\": [0, 2]}, {\"connectgaps\": true, \"mode\": \"lines\", \"name\": \"Bolivia\", \"type\": \"scatter\", \"x\": [\"1/22/20\", \"1/23/20\", \"1/24/20\", \"1/25/20\", \"1/26/20\", \"1/27/20\", \"1/28/20\", \"1/29/20\", \"1/30/20\", \"1/31/20\", \"2/1/20\", \"2/2/20\", \"2/3/20\", \"2/4/20\", \"2/5/20\", \"2/6/20\", \"2/7/20\", \"2/8/20\", \"2/9/20\", \"2/10/20\", \"2/11/20\", \"2/12/20\", \"2/13/20\", \"2/14/20\", \"2/15/20\", \"2/16/20\", \"2/17/20\", \"2/18/20\", \"2/19/20\", \"2/20/20\", \"2/21/20\", \"2/22/20\", \"2/23/20\", \"2/24/20\", \"2/25/20\", \"2/26/20\", \"2/27/20\", \"2/28/20\", \"2/29/20\", \"3/1/20\", \"3/2/20\", \"3/3/20\", \"3/4/20\", \"3/5/20\", \"3/6/20\", \"3/7/20\", \"3/8/20\", \"3/9/20\", \"3/10/20\", \"3/11/20\", \"3/12/20\"], \"y\": [0, 0, 0, 0, 0, 0, 0, 0, 0, 0, 0, 0, 0, 0, 0, 0, 0, 0, 0, 0, 0, 0, 0, 0, 0, 0, 0, 0, 0, 0, 0, 0, 0, 0, 0, 0, 0, 0, 0, 0, 0, 0, 0, 0, 0, 0, 0, 0, 0, 2, 2]}, {\"mode\": \"markers\", \"type\": \"scatter\", \"x\": [\"1/22/20\", \"3/12/20\"], \"y\": [0, 2]}, {\"connectgaps\": true, \"mode\": \"lines\", \"name\": \"Honduras\", \"type\": \"scatter\", \"x\": [\"1/22/20\", \"1/23/20\", \"1/24/20\", \"1/25/20\", \"1/26/20\", \"1/27/20\", \"1/28/20\", \"1/29/20\", \"1/30/20\", \"1/31/20\", \"2/1/20\", \"2/2/20\", \"2/3/20\", \"2/4/20\", \"2/5/20\", \"2/6/20\", \"2/7/20\", \"2/8/20\", \"2/9/20\", \"2/10/20\", \"2/11/20\", \"2/12/20\", \"2/13/20\", \"2/14/20\", \"2/15/20\", \"2/16/20\", \"2/17/20\", \"2/18/20\", \"2/19/20\", \"2/20/20\", \"2/21/20\", \"2/22/20\", \"2/23/20\", \"2/24/20\", \"2/25/20\", \"2/26/20\", \"2/27/20\", \"2/28/20\", \"2/29/20\", \"3/1/20\", \"3/2/20\", \"3/3/20\", \"3/4/20\", \"3/5/20\", \"3/6/20\", \"3/7/20\", \"3/8/20\", \"3/9/20\", \"3/10/20\", \"3/11/20\", \"3/12/20\"], \"y\": [0, 0, 0, 0, 0, 0, 0, 0, 0, 0, 0, 0, 0, 0, 0, 0, 0, 0, 0, 0, 0, 0, 0, 0, 0, 0, 0, 0, 0, 0, 0, 0, 0, 0, 0, 0, 0, 0, 0, 0, 0, 0, 0, 0, 0, 0, 0, 0, 0, 2, 2]}, {\"mode\": \"markers\", \"type\": \"scatter\", \"x\": [\"1/22/20\", \"3/12/20\"], \"y\": [0, 2]}, {\"connectgaps\": true, \"mode\": \"lines\", \"name\": \"Burkina Faso\", \"type\": \"scatter\", \"x\": [\"1/22/20\", \"1/23/20\", \"1/24/20\", \"1/25/20\", \"1/26/20\", \"1/27/20\", \"1/28/20\", \"1/29/20\", \"1/30/20\", \"1/31/20\", \"2/1/20\", \"2/2/20\", \"2/3/20\", \"2/4/20\", \"2/5/20\", \"2/6/20\", \"2/7/20\", \"2/8/20\", \"2/9/20\", \"2/10/20\", \"2/11/20\", \"2/12/20\", \"2/13/20\", \"2/14/20\", \"2/15/20\", \"2/16/20\", \"2/17/20\", \"2/18/20\", \"2/19/20\", \"2/20/20\", \"2/21/20\", \"2/22/20\", \"2/23/20\", \"2/24/20\", \"2/25/20\", \"2/26/20\", \"2/27/20\", \"2/28/20\", \"2/29/20\", \"3/1/20\", \"3/2/20\", \"3/3/20\", \"3/4/20\", \"3/5/20\", \"3/6/20\", \"3/7/20\", \"3/8/20\", \"3/9/20\", \"3/10/20\", \"3/11/20\", \"3/12/20\"], \"y\": [0, 0, 0, 0, 0, 0, 0, 0, 0, 0, 0, 0, 0, 0, 0, 0, 0, 0, 0, 0, 0, 0, 0, 0, 0, 0, 0, 0, 0, 0, 0, 0, 0, 0, 0, 0, 0, 0, 0, 0, 0, 0, 0, 0, 0, 0, 0, 0, 1, 2, 2]}, {\"mode\": \"markers\", \"type\": \"scatter\", \"x\": [\"1/22/20\", \"3/12/20\"], \"y\": [0, 2]}, {\"connectgaps\": true, \"mode\": \"lines\", \"name\": \"Cameroon\", \"type\": \"scatter\", \"x\": [\"1/22/20\", \"1/23/20\", \"1/24/20\", \"1/25/20\", \"1/26/20\", \"1/27/20\", \"1/28/20\", \"1/29/20\", \"1/30/20\", \"1/31/20\", \"2/1/20\", \"2/2/20\", \"2/3/20\", \"2/4/20\", \"2/5/20\", \"2/6/20\", \"2/7/20\", \"2/8/20\", \"2/9/20\", \"2/10/20\", \"2/11/20\", \"2/12/20\", \"2/13/20\", \"2/14/20\", \"2/15/20\", \"2/16/20\", \"2/17/20\", \"2/18/20\", \"2/19/20\", \"2/20/20\", \"2/21/20\", \"2/22/20\", \"2/23/20\", \"2/24/20\", \"2/25/20\", \"2/26/20\", \"2/27/20\", \"2/28/20\", \"2/29/20\", \"3/1/20\", \"3/2/20\", \"3/3/20\", \"3/4/20\", \"3/5/20\", \"3/6/20\", \"3/7/20\", \"3/8/20\", \"3/9/20\", \"3/10/20\", \"3/11/20\", \"3/12/20\"], \"y\": [0, 0, 0, 0, 0, 0, 0, 0, 0, 0, 0, 0, 0, 0, 0, 0, 0, 0, 0, 0, 0, 0, 0, 0, 0, 0, 0, 0, 0, 0, 0, 0, 0, 0, 0, 0, 0, 0, 0, 0, 0, 0, 0, 0, 1, 1, 2, 2, 2, 2, 2]}, {\"mode\": \"markers\", \"type\": \"scatter\", \"x\": [\"1/22/20\", \"3/12/20\"], \"y\": [0, 2]}, {\"connectgaps\": true, \"mode\": \"lines\", \"name\": \"Nigeria\", \"type\": \"scatter\", \"x\": [\"1/22/20\", \"1/23/20\", \"1/24/20\", \"1/25/20\", \"1/26/20\", \"1/27/20\", \"1/28/20\", \"1/29/20\", \"1/30/20\", \"1/31/20\", \"2/1/20\", \"2/2/20\", \"2/3/20\", \"2/4/20\", \"2/5/20\", \"2/6/20\", \"2/7/20\", \"2/8/20\", \"2/9/20\", \"2/10/20\", \"2/11/20\", \"2/12/20\", \"2/13/20\", \"2/14/20\", \"2/15/20\", \"2/16/20\", \"2/17/20\", \"2/18/20\", \"2/19/20\", \"2/20/20\", \"2/21/20\", \"2/22/20\", \"2/23/20\", \"2/24/20\", \"2/25/20\", \"2/26/20\", \"2/27/20\", \"2/28/20\", \"2/29/20\", \"3/1/20\", \"3/2/20\", \"3/3/20\", \"3/4/20\", \"3/5/20\", \"3/6/20\", \"3/7/20\", \"3/8/20\", \"3/9/20\", \"3/10/20\", \"3/11/20\", \"3/12/20\"], \"y\": [0, 0, 0, 0, 0, 0, 0, 0, 0, 0, 0, 0, 0, 0, 0, 0, 0, 0, 0, 0, 0, 0, 0, 0, 0, 0, 0, 0, 0, 0, 0, 0, 0, 0, 0, 0, 0, 1, 1, 1, 1, 1, 1, 1, 1, 1, 1, 2, 2, 2, 2]}, {\"mode\": \"markers\", \"type\": \"scatter\", \"x\": [\"1/22/20\", \"3/12/20\"], \"y\": [0, 2]}, {\"connectgaps\": true, \"mode\": \"lines\", \"name\": \"Monaco\", \"type\": \"scatter\", \"x\": [\"1/22/20\", \"1/23/20\", \"1/24/20\", \"1/25/20\", \"1/26/20\", \"1/27/20\", \"1/28/20\", \"1/29/20\", \"1/30/20\", \"1/31/20\", \"2/1/20\", \"2/2/20\", \"2/3/20\", \"2/4/20\", \"2/5/20\", \"2/6/20\", \"2/7/20\", \"2/8/20\", \"2/9/20\", \"2/10/20\", \"2/11/20\", \"2/12/20\", \"2/13/20\", \"2/14/20\", \"2/15/20\", \"2/16/20\", \"2/17/20\", \"2/18/20\", \"2/19/20\", \"2/20/20\", \"2/21/20\", \"2/22/20\", \"2/23/20\", \"2/24/20\", \"2/25/20\", \"2/26/20\", \"2/27/20\", \"2/28/20\", \"2/29/20\", \"3/1/20\", \"3/2/20\", \"3/3/20\", \"3/4/20\", \"3/5/20\", \"3/6/20\", \"3/7/20\", \"3/8/20\", \"3/9/20\", \"3/10/20\", \"3/11/20\", \"3/12/20\"], \"y\": [0, 0, 0, 0, 0, 0, 0, 0, 0, 0, 0, 0, 0, 0, 0, 0, 0, 0, 0, 0, 0, 0, 0, 0, 0, 0, 0, 0, 0, 0, 0, 0, 0, 0, 0, 0, 0, 0, 1, 1, 1, 1, 1, 1, 1, 1, 1, 1, 1, 1, 2]}, {\"mode\": \"markers\", \"type\": \"scatter\", \"x\": [\"1/22/20\", \"3/12/20\"], \"y\": [0, 2]}, {\"connectgaps\": true, \"mode\": \"lines\", \"name\": \"Jamaica\", \"type\": \"scatter\", \"x\": [\"1/22/20\", \"1/23/20\", \"1/24/20\", \"1/25/20\", \"1/26/20\", \"1/27/20\", \"1/28/20\", \"1/29/20\", \"1/30/20\", \"1/31/20\", \"2/1/20\", \"2/2/20\", \"2/3/20\", \"2/4/20\", \"2/5/20\", \"2/6/20\", \"2/7/20\", \"2/8/20\", \"2/9/20\", \"2/10/20\", \"2/11/20\", \"2/12/20\", \"2/13/20\", \"2/14/20\", \"2/15/20\", \"2/16/20\", \"2/17/20\", \"2/18/20\", \"2/19/20\", \"2/20/20\", \"2/21/20\", \"2/22/20\", \"2/23/20\", \"2/24/20\", \"2/25/20\", \"2/26/20\", \"2/27/20\", \"2/28/20\", \"2/29/20\", \"3/1/20\", \"3/2/20\", \"3/3/20\", \"3/4/20\", \"3/5/20\", \"3/6/20\", \"3/7/20\", \"3/8/20\", \"3/9/20\", \"3/10/20\", \"3/11/20\", \"3/12/20\"], \"y\": [0, 0, 0, 0, 0, 0, 0, 0, 0, 0, 0, 0, 0, 0, 0, 0, 0, 0, 0, 0, 0, 0, 0, 0, 0, 0, 0, 0, 0, 0, 0, 0, 0, 0, 0, 0, 0, 0, 0, 0, 0, 0, 0, 0, 0, 0, 0, 0, 0, 1, 2]}, {\"mode\": \"markers\", \"type\": \"scatter\", \"x\": [\"1/22/20\", \"3/12/20\"], \"y\": [0, 2]}, {\"connectgaps\": true, \"mode\": \"lines\", \"name\": \"Togo\", \"type\": \"scatter\", \"x\": [\"1/22/20\", \"1/23/20\", \"1/24/20\", \"1/25/20\", \"1/26/20\", \"1/27/20\", \"1/28/20\", \"1/29/20\", \"1/30/20\", \"1/31/20\", \"2/1/20\", \"2/2/20\", \"2/3/20\", \"2/4/20\", \"2/5/20\", \"2/6/20\", \"2/7/20\", \"2/8/20\", \"2/9/20\", \"2/10/20\", \"2/11/20\", \"2/12/20\", \"2/13/20\", \"2/14/20\", \"2/15/20\", \"2/16/20\", \"2/17/20\", \"2/18/20\", \"2/19/20\", \"2/20/20\", \"2/21/20\", \"2/22/20\", \"2/23/20\", \"2/24/20\", \"2/25/20\", \"2/26/20\", \"2/27/20\", \"2/28/20\", \"2/29/20\", \"3/1/20\", \"3/2/20\", \"3/3/20\", \"3/4/20\", \"3/5/20\", \"3/6/20\", \"3/7/20\", \"3/8/20\", \"3/9/20\", \"3/10/20\", \"3/11/20\", \"3/12/20\"], \"y\": [0, 0, 0, 0, 0, 0, 0, 0, 0, 0, 0, 0, 0, 0, 0, 0, 0, 0, 0, 0, 0, 0, 0, 0, 0, 0, 0, 0, 0, 0, 0, 0, 0, 0, 0, 0, 0, 0, 0, 0, 0, 0, 0, 0, 1, 1, 1, 1, 1, 1, 1]}, {\"mode\": \"markers\", \"type\": \"scatter\", \"x\": [\"1/22/20\", \"3/12/20\"], \"y\": [0, 1]}, {\"connectgaps\": true, \"mode\": \"lines\", \"name\": \"Holy See\", \"type\": \"scatter\", \"x\": [\"1/22/20\", \"1/23/20\", \"1/24/20\", \"1/25/20\", \"1/26/20\", \"1/27/20\", \"1/28/20\", \"1/29/20\", \"1/30/20\", \"1/31/20\", \"2/1/20\", \"2/2/20\", \"2/3/20\", \"2/4/20\", \"2/5/20\", \"2/6/20\", \"2/7/20\", \"2/8/20\", \"2/9/20\", \"2/10/20\", \"2/11/20\", \"2/12/20\", \"2/13/20\", \"2/14/20\", \"2/15/20\", \"2/16/20\", \"2/17/20\", \"2/18/20\", \"2/19/20\", \"2/20/20\", \"2/21/20\", \"2/22/20\", \"2/23/20\", \"2/24/20\", \"2/25/20\", \"2/26/20\", \"2/27/20\", \"2/28/20\", \"2/29/20\", \"3/1/20\", \"3/2/20\", \"3/3/20\", \"3/4/20\", \"3/5/20\", \"3/6/20\", \"3/7/20\", \"3/8/20\", \"3/9/20\", \"3/10/20\", \"3/11/20\", \"3/12/20\"], \"y\": [0, 0, 0, 0, 0, 0, 0, 0, 0, 0, 0, 0, 0, 0, 0, 0, 0, 0, 0, 0, 0, 0, 0, 0, 0, 0, 0, 0, 0, 0, 0, 0, 0, 0, 0, 0, 0, 0, 0, 0, 0, 0, 0, 0, 1, 1, 1, 1, 1, 1, 1]}, {\"mode\": \"markers\", \"type\": \"scatter\", \"x\": [\"1/22/20\", \"3/12/20\"], \"y\": [0, 1]}, {\"connectgaps\": true, \"mode\": \"lines\", \"name\": \"Andorra\", \"type\": \"scatter\", \"x\": [\"1/22/20\", \"1/23/20\", \"1/24/20\", \"1/25/20\", \"1/26/20\", \"1/27/20\", \"1/28/20\", \"1/29/20\", \"1/30/20\", \"1/31/20\", \"2/1/20\", \"2/2/20\", \"2/3/20\", \"2/4/20\", \"2/5/20\", \"2/6/20\", \"2/7/20\", \"2/8/20\", \"2/9/20\", \"2/10/20\", \"2/11/20\", \"2/12/20\", \"2/13/20\", \"2/14/20\", \"2/15/20\", \"2/16/20\", \"2/17/20\", \"2/18/20\", \"2/19/20\", \"2/20/20\", \"2/21/20\", \"2/22/20\", \"2/23/20\", \"2/24/20\", \"2/25/20\", \"2/26/20\", \"2/27/20\", \"2/28/20\", \"2/29/20\", \"3/1/20\", \"3/2/20\", \"3/3/20\", \"3/4/20\", \"3/5/20\", \"3/6/20\", \"3/7/20\", \"3/8/20\", \"3/9/20\", \"3/10/20\", \"3/11/20\", \"3/12/20\"], \"y\": [0, 0, 0, 0, 0, 0, 0, 0, 0, 0, 0, 0, 0, 0, 0, 0, 0, 0, 0, 0, 0, 0, 0, 0, 0, 0, 0, 0, 0, 0, 0, 0, 0, 0, 0, 0, 0, 0, 0, 0, 1, 1, 1, 1, 1, 1, 1, 1, 1, 1, 1]}, {\"mode\": \"markers\", \"type\": \"scatter\", \"x\": [\"1/22/20\", \"3/12/20\"], \"y\": [0, 1]}, {\"connectgaps\": true, \"mode\": \"lines\", \"name\": \"Ukraine\", \"type\": \"scatter\", \"x\": [\"1/22/20\", \"1/23/20\", \"1/24/20\", \"1/25/20\", \"1/26/20\", \"1/27/20\", \"1/28/20\", \"1/29/20\", \"1/30/20\", \"1/31/20\", \"2/1/20\", \"2/2/20\", \"2/3/20\", \"2/4/20\", \"2/5/20\", \"2/6/20\", \"2/7/20\", \"2/8/20\", \"2/9/20\", \"2/10/20\", \"2/11/20\", \"2/12/20\", \"2/13/20\", \"2/14/20\", \"2/15/20\", \"2/16/20\", \"2/17/20\", \"2/18/20\", \"2/19/20\", \"2/20/20\", \"2/21/20\", \"2/22/20\", \"2/23/20\", \"2/24/20\", \"2/25/20\", \"2/26/20\", \"2/27/20\", \"2/28/20\", \"2/29/20\", \"3/1/20\", \"3/2/20\", \"3/3/20\", \"3/4/20\", \"3/5/20\", \"3/6/20\", \"3/7/20\", \"3/8/20\", \"3/9/20\", \"3/10/20\", \"3/11/20\", \"3/12/20\"], \"y\": [0, 0, 0, 0, 0, 0, 0, 0, 0, 0, 0, 0, 0, 0, 0, 0, 0, 0, 0, 0, 0, 0, 0, 0, 0, 0, 0, 0, 0, 0, 0, 0, 0, 0, 0, 0, 0, 0, 0, 0, 0, 1, 1, 1, 1, 1, 1, 1, 1, 1, 1]}, {\"mode\": \"markers\", \"type\": \"scatter\", \"x\": [\"1/22/20\", \"3/12/20\"], \"y\": [0, 1]}, {\"connectgaps\": true, \"mode\": \"lines\", \"name\": \"Guyana\", \"type\": \"scatter\", \"x\": [\"1/22/20\", \"1/23/20\", \"1/24/20\", \"1/25/20\", \"1/26/20\", \"1/27/20\", \"1/28/20\", \"1/29/20\", \"1/30/20\", \"1/31/20\", \"2/1/20\", \"2/2/20\", \"2/3/20\", \"2/4/20\", \"2/5/20\", \"2/6/20\", \"2/7/20\", \"2/8/20\", \"2/9/20\", \"2/10/20\", \"2/11/20\", \"2/12/20\", \"2/13/20\", \"2/14/20\", \"2/15/20\", \"2/16/20\", \"2/17/20\", \"2/18/20\", \"2/19/20\", \"2/20/20\", \"2/21/20\", \"2/22/20\", \"2/23/20\", \"2/24/20\", \"2/25/20\", \"2/26/20\", \"2/27/20\", \"2/28/20\", \"2/29/20\", \"3/1/20\", \"3/2/20\", \"3/3/20\", \"3/4/20\", \"3/5/20\", \"3/6/20\", \"3/7/20\", \"3/8/20\", \"3/9/20\", \"3/10/20\", \"3/11/20\", \"3/12/20\"], \"y\": [0, 0, 0, 0, 0, 0, 0, 0, 0, 0, 0, 0, 0, 0, 0, 0, 0, 0, 0, 0, 0, 0, 0, 0, 0, 0, 0, 0, 0, 0, 0, 0, 0, 0, 0, 0, 0, 0, 0, 0, 0, 0, 0, 0, 0, 0, 0, 0, 0, 0, 1]}, {\"mode\": \"markers\", \"type\": \"scatter\", \"x\": [\"1/22/20\", \"3/12/20\"], \"y\": [0, 1]}, {\"connectgaps\": true, \"mode\": \"lines\", \"name\": \"Turkey\", \"type\": \"scatter\", \"x\": [\"1/22/20\", \"1/23/20\", \"1/24/20\", \"1/25/20\", \"1/26/20\", \"1/27/20\", \"1/28/20\", \"1/29/20\", \"1/30/20\", \"1/31/20\", \"2/1/20\", \"2/2/20\", \"2/3/20\", \"2/4/20\", \"2/5/20\", \"2/6/20\", \"2/7/20\", \"2/8/20\", \"2/9/20\", \"2/10/20\", \"2/11/20\", \"2/12/20\", \"2/13/20\", \"2/14/20\", \"2/15/20\", \"2/16/20\", \"2/17/20\", \"2/18/20\", \"2/19/20\", \"2/20/20\", \"2/21/20\", \"2/22/20\", \"2/23/20\", \"2/24/20\", \"2/25/20\", \"2/26/20\", \"2/27/20\", \"2/28/20\", \"2/29/20\", \"3/1/20\", \"3/2/20\", \"3/3/20\", \"3/4/20\", \"3/5/20\", \"3/6/20\", \"3/7/20\", \"3/8/20\", \"3/9/20\", \"3/10/20\", \"3/11/20\", \"3/12/20\"], \"y\": [0, 0, 0, 0, 0, 0, 0, 0, 0, 0, 0, 0, 0, 0, 0, 0, 0, 0, 0, 0, 0, 0, 0, 0, 0, 0, 0, 0, 0, 0, 0, 0, 0, 0, 0, 0, 0, 0, 0, 0, 0, 0, 0, 0, 0, 0, 0, 0, 0, 1, 1]}, {\"mode\": \"markers\", \"type\": \"scatter\", \"x\": [\"1/22/20\", \"3/12/20\"], \"y\": [0, 1]}, {\"connectgaps\": true, \"mode\": \"lines\", \"name\": \"Liechtenstein\", \"type\": \"scatter\", \"x\": [\"1/22/20\", \"1/23/20\", \"1/24/20\", \"1/25/20\", \"1/26/20\", \"1/27/20\", \"1/28/20\", \"1/29/20\", \"1/30/20\", \"1/31/20\", \"2/1/20\", \"2/2/20\", \"2/3/20\", \"2/4/20\", \"2/5/20\", \"2/6/20\", \"2/7/20\", \"2/8/20\", \"2/9/20\", \"2/10/20\", \"2/11/20\", \"2/12/20\", \"2/13/20\", \"2/14/20\", \"2/15/20\", \"2/16/20\", \"2/17/20\", \"2/18/20\", \"2/19/20\", \"2/20/20\", \"2/21/20\", \"2/22/20\", \"2/23/20\", \"2/24/20\", \"2/25/20\", \"2/26/20\", \"2/27/20\", \"2/28/20\", \"2/29/20\", \"3/1/20\", \"3/2/20\", \"3/3/20\", \"3/4/20\", \"3/5/20\", \"3/6/20\", \"3/7/20\", \"3/8/20\", \"3/9/20\", \"3/10/20\", \"3/11/20\", \"3/12/20\"], \"y\": [0, 0, 0, 0, 0, 0, 0, 0, 0, 0, 0, 0, 0, 0, 0, 0, 0, 0, 0, 0, 0, 0, 0, 0, 0, 0, 0, 0, 0, 0, 0, 0, 0, 0, 0, 0, 0, 0, 0, 0, 0, 0, 1, 1, 1, 1, 1, 1, 1, 1, 1]}, {\"mode\": \"markers\", \"type\": \"scatter\", \"x\": [\"1/22/20\", \"3/12/20\"], \"y\": [0, 1]}, {\"connectgaps\": true, \"mode\": \"lines\", \"name\": \"Jordan\", \"type\": \"scatter\", \"x\": [\"1/22/20\", \"1/23/20\", \"1/24/20\", \"1/25/20\", \"1/26/20\", \"1/27/20\", \"1/28/20\", \"1/29/20\", \"1/30/20\", \"1/31/20\", \"2/1/20\", \"2/2/20\", \"2/3/20\", \"2/4/20\", \"2/5/20\", \"2/6/20\", \"2/7/20\", \"2/8/20\", \"2/9/20\", \"2/10/20\", \"2/11/20\", \"2/12/20\", \"2/13/20\", \"2/14/20\", \"2/15/20\", \"2/16/20\", \"2/17/20\", \"2/18/20\", \"2/19/20\", \"2/20/20\", \"2/21/20\", \"2/22/20\", \"2/23/20\", \"2/24/20\", \"2/25/20\", \"2/26/20\", \"2/27/20\", \"2/28/20\", \"2/29/20\", \"3/1/20\", \"3/2/20\", \"3/3/20\", \"3/4/20\", \"3/5/20\", \"3/6/20\", \"3/7/20\", \"3/8/20\", \"3/9/20\", \"3/10/20\", \"3/11/20\", \"3/12/20\"], \"y\": [0, 0, 0, 0, 0, 0, 0, 0, 0, 0, 0, 0, 0, 0, 0, 0, 0, 0, 0, 0, 0, 0, 0, 0, 0, 0, 0, 0, 0, 0, 0, 0, 0, 0, 0, 0, 0, 0, 0, 0, 0, 1, 1, 1, 1, 1, 1, 1, 1, 1, 1]}, {\"mode\": \"markers\", \"type\": \"scatter\", \"x\": [\"1/22/20\", \"3/12/20\"], \"y\": [0, 1]}, {\"connectgaps\": true, \"mode\": \"lines\", \"name\": \"Reunion\", \"type\": \"scatter\", \"x\": [\"1/22/20\", \"1/23/20\", \"1/24/20\", \"1/25/20\", \"1/26/20\", \"1/27/20\", \"1/28/20\", \"1/29/20\", \"1/30/20\", \"1/31/20\", \"2/1/20\", \"2/2/20\", \"2/3/20\", \"2/4/20\", \"2/5/20\", \"2/6/20\", \"2/7/20\", \"2/8/20\", \"2/9/20\", \"2/10/20\", \"2/11/20\", \"2/12/20\", \"2/13/20\", \"2/14/20\", \"2/15/20\", \"2/16/20\", \"2/17/20\", \"2/18/20\", \"2/19/20\", \"2/20/20\", \"2/21/20\", \"2/22/20\", \"2/23/20\", \"2/24/20\", \"2/25/20\", \"2/26/20\", \"2/27/20\", \"2/28/20\", \"2/29/20\", \"3/1/20\", \"3/2/20\", \"3/3/20\", \"3/4/20\", \"3/5/20\", \"3/6/20\", \"3/7/20\", \"3/8/20\", \"3/9/20\", \"3/10/20\", \"3/11/20\", \"3/12/20\"], \"y\": [0, 0, 0, 0, 0, 0, 0, 0, 0, 0, 0, 0, 0, 0, 0, 0, 0, 0, 0, 0, 0, 0, 0, 0, 0, 0, 0, 0, 0, 0, 0, 0, 0, 0, 0, 0, 0, 0, 0, 0, 0, 0, 0, 0, 0, 0, 0, 0, 0, 1, 1]}, {\"mode\": \"markers\", \"type\": \"scatter\", \"x\": [\"1/22/20\", \"3/12/20\"], \"y\": [0, 1]}, {\"connectgaps\": true, \"mode\": \"lines\", \"name\": \"Cote d'Ivoire\", \"type\": \"scatter\", \"x\": [\"1/22/20\", \"1/23/20\", \"1/24/20\", \"1/25/20\", \"1/26/20\", \"1/27/20\", \"1/28/20\", \"1/29/20\", \"1/30/20\", \"1/31/20\", \"2/1/20\", \"2/2/20\", \"2/3/20\", \"2/4/20\", \"2/5/20\", \"2/6/20\", \"2/7/20\", \"2/8/20\", \"2/9/20\", \"2/10/20\", \"2/11/20\", \"2/12/20\", \"2/13/20\", \"2/14/20\", \"2/15/20\", \"2/16/20\", \"2/17/20\", \"2/18/20\", \"2/19/20\", \"2/20/20\", \"2/21/20\", \"2/22/20\", \"2/23/20\", \"2/24/20\", \"2/25/20\", \"2/26/20\", \"2/27/20\", \"2/28/20\", \"2/29/20\", \"3/1/20\", \"3/2/20\", \"3/3/20\", \"3/4/20\", \"3/5/20\", \"3/6/20\", \"3/7/20\", \"3/8/20\", \"3/9/20\", \"3/10/20\", \"3/11/20\", \"3/12/20\"], \"y\": [0, 0, 0, 0, 0, 0, 0, 0, 0, 0, 0, 0, 0, 0, 0, 0, 0, 0, 0, 0, 0, 0, 0, 0, 0, 0, 0, 0, 0, 0, 0, 0, 0, 0, 0, 0, 0, 0, 0, 0, 0, 0, 0, 0, 0, 0, 0, 0, 0, 1, 1]}, {\"mode\": \"markers\", \"type\": \"scatter\", \"x\": [\"1/22/20\", \"3/12/20\"], \"y\": [0, 1]}, {\"connectgaps\": true, \"mode\": \"lines\", \"name\": \"Mongolia\", \"type\": \"scatter\", \"x\": [\"1/22/20\", \"1/23/20\", \"1/24/20\", \"1/25/20\", \"1/26/20\", \"1/27/20\", \"1/28/20\", \"1/29/20\", \"1/30/20\", \"1/31/20\", \"2/1/20\", \"2/2/20\", \"2/3/20\", \"2/4/20\", \"2/5/20\", \"2/6/20\", \"2/7/20\", \"2/8/20\", \"2/9/20\", \"2/10/20\", \"2/11/20\", \"2/12/20\", \"2/13/20\", \"2/14/20\", \"2/15/20\", \"2/16/20\", \"2/17/20\", \"2/18/20\", \"2/19/20\", \"2/20/20\", \"2/21/20\", \"2/22/20\", \"2/23/20\", \"2/24/20\", \"2/25/20\", \"2/26/20\", \"2/27/20\", \"2/28/20\", \"2/29/20\", \"3/1/20\", \"3/2/20\", \"3/3/20\", \"3/4/20\", \"3/5/20\", \"3/6/20\", \"3/7/20\", \"3/8/20\", \"3/9/20\", \"3/10/20\", \"3/11/20\", \"3/12/20\"], \"y\": [0, 0, 0, 0, 0, 0, 0, 0, 0, 0, 0, 0, 0, 0, 0, 0, 0, 0, 0, 0, 0, 0, 0, 0, 0, 0, 0, 0, 0, 0, 0, 0, 0, 0, 0, 0, 0, 0, 0, 0, 0, 0, 0, 0, 0, 0, 0, 0, 1, 1, 1]}, {\"mode\": \"markers\", \"type\": \"scatter\", \"x\": [\"1/22/20\", \"3/12/20\"], \"y\": [0, 1]}, {\"connectgaps\": true, \"mode\": \"lines\", \"name\": \"Bhutan\", \"type\": \"scatter\", \"x\": [\"1/22/20\", \"1/23/20\", \"1/24/20\", \"1/25/20\", \"1/26/20\", \"1/27/20\", \"1/28/20\", \"1/29/20\", \"1/30/20\", \"1/31/20\", \"2/1/20\", \"2/2/20\", \"2/3/20\", \"2/4/20\", \"2/5/20\", \"2/6/20\", \"2/7/20\", \"2/8/20\", \"2/9/20\", \"2/10/20\", \"2/11/20\", \"2/12/20\", \"2/13/20\", \"2/14/20\", \"2/15/20\", \"2/16/20\", \"2/17/20\", \"2/18/20\", \"2/19/20\", \"2/20/20\", \"2/21/20\", \"2/22/20\", \"2/23/20\", \"2/24/20\", \"2/25/20\", \"2/26/20\", \"2/27/20\", \"2/28/20\", \"2/29/20\", \"3/1/20\", \"3/2/20\", \"3/3/20\", \"3/4/20\", \"3/5/20\", \"3/6/20\", \"3/7/20\", \"3/8/20\", \"3/9/20\", \"3/10/20\", \"3/11/20\", \"3/12/20\"], \"y\": [0, 0, 0, 0, 0, 0, 0, 0, 0, 0, 0, 0, 0, 0, 0, 0, 0, 0, 0, 0, 0, 0, 0, 0, 0, 0, 0, 0, 0, 0, 0, 0, 0, 0, 0, 0, 0, 0, 0, 0, 0, 0, 0, 0, 1, 1, 1, 1, 1, 1, 1]}, {\"mode\": \"markers\", \"type\": \"scatter\", \"x\": [\"1/22/20\", \"3/12/20\"], \"y\": [0, 1]}, {\"connectgaps\": true, \"mode\": \"lines\", \"name\": \"Nepal\", \"type\": \"scatter\", \"x\": [\"1/22/20\", \"1/23/20\", \"1/24/20\", \"1/25/20\", \"1/26/20\", \"1/27/20\", \"1/28/20\", \"1/29/20\", \"1/30/20\", \"1/31/20\", \"2/1/20\", \"2/2/20\", \"2/3/20\", \"2/4/20\", \"2/5/20\", \"2/6/20\", \"2/7/20\", \"2/8/20\", \"2/9/20\", \"2/10/20\", \"2/11/20\", \"2/12/20\", \"2/13/20\", \"2/14/20\", \"2/15/20\", \"2/16/20\", \"2/17/20\", \"2/18/20\", \"2/19/20\", \"2/20/20\", \"2/21/20\", \"2/22/20\", \"2/23/20\", \"2/24/20\", \"2/25/20\", \"2/26/20\", \"2/27/20\", \"2/28/20\", \"2/29/20\", \"3/1/20\", \"3/2/20\", \"3/3/20\", \"3/4/20\", \"3/5/20\", \"3/6/20\", \"3/7/20\", \"3/8/20\", \"3/9/20\", \"3/10/20\", \"3/11/20\", \"3/12/20\"], \"y\": [0, 0, 0, 1, 1, 1, 1, 1, 1, 1, 1, 1, 1, 1, 1, 1, 1, 1, 1, 1, 1, 1, 1, 1, 1, 1, 1, 1, 1, 1, 1, 1, 1, 1, 1, 1, 1, 1, 1, 1, 1, 1, 1, 1, 1, 1, 1, 1, 1, 1, 1]}, {\"mode\": \"markers\", \"type\": \"scatter\", \"x\": [\"1/22/20\", \"3/12/20\"], \"y\": [0, 1]}, {\"connectgaps\": true, \"mode\": \"lines\", \"name\": \"Congo (Kinshasa)\", \"type\": \"scatter\", \"x\": [\"1/22/20\", \"1/23/20\", \"1/24/20\", \"1/25/20\", \"1/26/20\", \"1/27/20\", \"1/28/20\", \"1/29/20\", \"1/30/20\", \"1/31/20\", \"2/1/20\", \"2/2/20\", \"2/3/20\", \"2/4/20\", \"2/5/20\", \"2/6/20\", \"2/7/20\", \"2/8/20\", \"2/9/20\", \"2/10/20\", \"2/11/20\", \"2/12/20\", \"2/13/20\", \"2/14/20\", \"2/15/20\", \"2/16/20\", \"2/17/20\", \"2/18/20\", \"2/19/20\", \"2/20/20\", \"2/21/20\", \"2/22/20\", \"2/23/20\", \"2/24/20\", \"2/25/20\", \"2/26/20\", \"2/27/20\", \"2/28/20\", \"2/29/20\", \"3/1/20\", \"3/2/20\", \"3/3/20\", \"3/4/20\", \"3/5/20\", \"3/6/20\", \"3/7/20\", \"3/8/20\", \"3/9/20\", \"3/10/20\", \"3/11/20\", \"3/12/20\"], \"y\": [0, 0, 0, 0, 0, 0, 0, 0, 0, 0, 0, 0, 0, 0, 0, 0, 0, 0, 0, 0, 0, 0, 0, 0, 0, 0, 0, 0, 0, 0, 0, 0, 0, 0, 0, 0, 0, 0, 0, 0, 0, 0, 0, 0, 0, 0, 0, 0, 0, 1, 1]}, {\"mode\": \"markers\", \"type\": \"scatter\", \"x\": [\"1/22/20\", \"3/12/20\"], \"y\": [0, 1]}],\n",
       "                        {\"annotations\": [{\"font\": {\"color\": \"rgb(37,37,37)\", \"family\": \"Arial\", \"size\": 30}, \"showarrow\": false, \"text\": \"Infection growth outside China\", \"x\": 0.0, \"xanchor\": \"left\", \"xref\": \"paper\", \"y\": 1.05, \"yanchor\": \"bottom\", \"yref\": \"paper\"}, {\"font\": {\"color\": \"rgb(150,150,150)\", \"family\": \"Arial\", \"size\": 12}, \"showarrow\": false, \"text\": \"Johns Hopkins University (CSSEGISandData) and WHO\", \"x\": 0.5, \"xanchor\": \"center\", \"xref\": \"paper\", \"y\": -0.1, \"yanchor\": \"top\", \"yref\": \"paper\"}], \"autosize\": false, \"height\": 1000, \"margin\": {\"autoexpand\": false, \"l\": 100, \"r\": 20, \"t\": 110}, \"plot_bgcolor\": \"white\", \"showlegend\": false, \"template\": {\"data\": {\"bar\": [{\"error_x\": {\"color\": \"#2a3f5f\"}, \"error_y\": {\"color\": \"#2a3f5f\"}, \"marker\": {\"line\": {\"color\": \"#E5ECF6\", \"width\": 0.5}}, \"type\": \"bar\"}], \"barpolar\": [{\"marker\": {\"line\": {\"color\": \"#E5ECF6\", \"width\": 0.5}}, \"type\": \"barpolar\"}], \"carpet\": [{\"aaxis\": {\"endlinecolor\": \"#2a3f5f\", \"gridcolor\": \"white\", \"linecolor\": \"white\", \"minorgridcolor\": \"white\", \"startlinecolor\": \"#2a3f5f\"}, \"baxis\": {\"endlinecolor\": \"#2a3f5f\", \"gridcolor\": \"white\", \"linecolor\": \"white\", \"minorgridcolor\": \"white\", \"startlinecolor\": \"#2a3f5f\"}, \"type\": \"carpet\"}], \"choropleth\": [{\"colorbar\": {\"outlinewidth\": 0, \"ticks\": \"\"}, \"type\": \"choropleth\"}], \"contour\": [{\"colorbar\": {\"outlinewidth\": 0, \"ticks\": \"\"}, \"colorscale\": [[0.0, \"#0d0887\"], [0.1111111111111111, \"#46039f\"], [0.2222222222222222, \"#7201a8\"], [0.3333333333333333, \"#9c179e\"], [0.4444444444444444, \"#bd3786\"], [0.5555555555555556, \"#d8576b\"], [0.6666666666666666, \"#ed7953\"], [0.7777777777777778, \"#fb9f3a\"], [0.8888888888888888, \"#fdca26\"], [1.0, \"#f0f921\"]], \"type\": \"contour\"}], \"contourcarpet\": [{\"colorbar\": {\"outlinewidth\": 0, \"ticks\": \"\"}, \"type\": \"contourcarpet\"}], \"heatmap\": [{\"colorbar\": {\"outlinewidth\": 0, \"ticks\": \"\"}, \"colorscale\": [[0.0, \"#0d0887\"], [0.1111111111111111, \"#46039f\"], [0.2222222222222222, \"#7201a8\"], [0.3333333333333333, \"#9c179e\"], [0.4444444444444444, \"#bd3786\"], [0.5555555555555556, \"#d8576b\"], [0.6666666666666666, \"#ed7953\"], [0.7777777777777778, \"#fb9f3a\"], [0.8888888888888888, \"#fdca26\"], [1.0, \"#f0f921\"]], \"type\": \"heatmap\"}], \"heatmapgl\": [{\"colorbar\": {\"outlinewidth\": 0, \"ticks\": \"\"}, \"colorscale\": [[0.0, \"#0d0887\"], [0.1111111111111111, \"#46039f\"], [0.2222222222222222, \"#7201a8\"], [0.3333333333333333, \"#9c179e\"], [0.4444444444444444, \"#bd3786\"], [0.5555555555555556, \"#d8576b\"], [0.6666666666666666, \"#ed7953\"], [0.7777777777777778, \"#fb9f3a\"], [0.8888888888888888, \"#fdca26\"], [1.0, \"#f0f921\"]], \"type\": \"heatmapgl\"}], \"histogram\": [{\"marker\": {\"colorbar\": {\"outlinewidth\": 0, \"ticks\": \"\"}}, \"type\": \"histogram\"}], \"histogram2d\": [{\"colorbar\": {\"outlinewidth\": 0, \"ticks\": \"\"}, \"colorscale\": [[0.0, \"#0d0887\"], [0.1111111111111111, \"#46039f\"], [0.2222222222222222, \"#7201a8\"], [0.3333333333333333, \"#9c179e\"], [0.4444444444444444, \"#bd3786\"], [0.5555555555555556, \"#d8576b\"], [0.6666666666666666, \"#ed7953\"], [0.7777777777777778, \"#fb9f3a\"], [0.8888888888888888, \"#fdca26\"], [1.0, \"#f0f921\"]], \"type\": \"histogram2d\"}], \"histogram2dcontour\": [{\"colorbar\": {\"outlinewidth\": 0, \"ticks\": \"\"}, \"colorscale\": [[0.0, \"#0d0887\"], [0.1111111111111111, \"#46039f\"], [0.2222222222222222, \"#7201a8\"], [0.3333333333333333, \"#9c179e\"], [0.4444444444444444, \"#bd3786\"], [0.5555555555555556, \"#d8576b\"], [0.6666666666666666, \"#ed7953\"], [0.7777777777777778, \"#fb9f3a\"], [0.8888888888888888, \"#fdca26\"], [1.0, \"#f0f921\"]], \"type\": \"histogram2dcontour\"}], \"mesh3d\": [{\"colorbar\": {\"outlinewidth\": 0, \"ticks\": \"\"}, \"type\": \"mesh3d\"}], \"parcoords\": [{\"line\": {\"colorbar\": {\"outlinewidth\": 0, \"ticks\": \"\"}}, \"type\": \"parcoords\"}], \"pie\": [{\"automargin\": true, \"type\": \"pie\"}], \"scatter\": [{\"marker\": {\"colorbar\": {\"outlinewidth\": 0, \"ticks\": \"\"}}, \"type\": \"scatter\"}], \"scatter3d\": [{\"line\": {\"colorbar\": {\"outlinewidth\": 0, \"ticks\": \"\"}}, \"marker\": {\"colorbar\": {\"outlinewidth\": 0, \"ticks\": \"\"}}, \"type\": \"scatter3d\"}], \"scattercarpet\": [{\"marker\": {\"colorbar\": {\"outlinewidth\": 0, \"ticks\": \"\"}}, \"type\": \"scattercarpet\"}], \"scattergeo\": [{\"marker\": {\"colorbar\": {\"outlinewidth\": 0, \"ticks\": \"\"}}, \"type\": \"scattergeo\"}], \"scattergl\": [{\"marker\": {\"colorbar\": {\"outlinewidth\": 0, \"ticks\": \"\"}}, \"type\": \"scattergl\"}], \"scattermapbox\": [{\"marker\": {\"colorbar\": {\"outlinewidth\": 0, \"ticks\": \"\"}}, \"type\": \"scattermapbox\"}], \"scatterpolar\": [{\"marker\": {\"colorbar\": {\"outlinewidth\": 0, \"ticks\": \"\"}}, \"type\": \"scatterpolar\"}], \"scatterpolargl\": [{\"marker\": {\"colorbar\": {\"outlinewidth\": 0, \"ticks\": \"\"}}, \"type\": \"scatterpolargl\"}], \"scatterternary\": [{\"marker\": {\"colorbar\": {\"outlinewidth\": 0, \"ticks\": \"\"}}, \"type\": \"scatterternary\"}], \"surface\": [{\"colorbar\": {\"outlinewidth\": 0, \"ticks\": \"\"}, \"colorscale\": [[0.0, \"#0d0887\"], [0.1111111111111111, \"#46039f\"], [0.2222222222222222, \"#7201a8\"], [0.3333333333333333, \"#9c179e\"], [0.4444444444444444, \"#bd3786\"], [0.5555555555555556, \"#d8576b\"], [0.6666666666666666, \"#ed7953\"], [0.7777777777777778, \"#fb9f3a\"], [0.8888888888888888, \"#fdca26\"], [1.0, \"#f0f921\"]], \"type\": \"surface\"}], \"table\": [{\"cells\": {\"fill\": {\"color\": \"#EBF0F8\"}, \"line\": {\"color\": \"white\"}}, \"header\": {\"fill\": {\"color\": \"#C8D4E3\"}, \"line\": {\"color\": \"white\"}}, \"type\": \"table\"}]}, \"layout\": {\"annotationdefaults\": {\"arrowcolor\": \"#2a3f5f\", \"arrowhead\": 0, \"arrowwidth\": 1}, \"coloraxis\": {\"colorbar\": {\"outlinewidth\": 0, \"ticks\": \"\"}}, \"colorscale\": {\"diverging\": [[0, \"#8e0152\"], [0.1, \"#c51b7d\"], [0.2, \"#de77ae\"], [0.3, \"#f1b6da\"], [0.4, \"#fde0ef\"], [0.5, \"#f7f7f7\"], [0.6, \"#e6f5d0\"], [0.7, \"#b8e186\"], [0.8, \"#7fbc41\"], [0.9, \"#4d9221\"], [1, \"#276419\"]], \"sequential\": [[0.0, \"#0d0887\"], [0.1111111111111111, \"#46039f\"], [0.2222222222222222, \"#7201a8\"], [0.3333333333333333, \"#9c179e\"], [0.4444444444444444, \"#bd3786\"], [0.5555555555555556, \"#d8576b\"], [0.6666666666666666, \"#ed7953\"], [0.7777777777777778, \"#fb9f3a\"], [0.8888888888888888, \"#fdca26\"], [1.0, \"#f0f921\"]], \"sequentialminus\": [[0.0, \"#0d0887\"], [0.1111111111111111, \"#46039f\"], [0.2222222222222222, \"#7201a8\"], [0.3333333333333333, \"#9c179e\"], [0.4444444444444444, \"#bd3786\"], [0.5555555555555556, \"#d8576b\"], [0.6666666666666666, \"#ed7953\"], [0.7777777777777778, \"#fb9f3a\"], [0.8888888888888888, \"#fdca26\"], [1.0, \"#f0f921\"]]}, \"colorway\": [\"#636efa\", \"#EF553B\", \"#00cc96\", \"#ab63fa\", \"#FFA15A\", \"#19d3f3\", \"#FF6692\", \"#B6E880\", \"#FF97FF\", \"#FECB52\"], \"font\": {\"color\": \"#2a3f5f\"}, \"geo\": {\"bgcolor\": \"white\", \"lakecolor\": \"white\", \"landcolor\": \"#E5ECF6\", \"showlakes\": true, \"showland\": true, \"subunitcolor\": \"white\"}, \"hoverlabel\": {\"align\": \"left\"}, \"hovermode\": \"closest\", \"mapbox\": {\"style\": \"light\"}, \"paper_bgcolor\": \"white\", \"plot_bgcolor\": \"#E5ECF6\", \"polar\": {\"angularaxis\": {\"gridcolor\": \"white\", \"linecolor\": \"white\", \"ticks\": \"\"}, \"bgcolor\": \"#E5ECF6\", \"radialaxis\": {\"gridcolor\": \"white\", \"linecolor\": \"white\", \"ticks\": \"\"}}, \"scene\": {\"xaxis\": {\"backgroundcolor\": \"#E5ECF6\", \"gridcolor\": \"white\", \"gridwidth\": 2, \"linecolor\": \"white\", \"showbackground\": true, \"ticks\": \"\", \"zerolinecolor\": \"white\"}, \"yaxis\": {\"backgroundcolor\": \"#E5ECF6\", \"gridcolor\": \"white\", \"gridwidth\": 2, \"linecolor\": \"white\", \"showbackground\": true, \"ticks\": \"\", \"zerolinecolor\": \"white\"}, \"zaxis\": {\"backgroundcolor\": \"#E5ECF6\", \"gridcolor\": \"white\", \"gridwidth\": 2, \"linecolor\": \"white\", \"showbackground\": true, \"ticks\": \"\", \"zerolinecolor\": \"white\"}}, \"shapedefaults\": {\"line\": {\"color\": \"#2a3f5f\"}}, \"ternary\": {\"aaxis\": {\"gridcolor\": \"white\", \"linecolor\": \"white\", \"ticks\": \"\"}, \"baxis\": {\"gridcolor\": \"white\", \"linecolor\": \"white\", \"ticks\": \"\"}, \"bgcolor\": \"#E5ECF6\", \"caxis\": {\"gridcolor\": \"white\", \"linecolor\": \"white\", \"ticks\": \"\"}}, \"title\": {\"x\": 0.05}, \"xaxis\": {\"automargin\": true, \"gridcolor\": \"white\", \"linecolor\": \"white\", \"ticks\": \"\", \"title\": {\"standoff\": 15}, \"zerolinecolor\": \"white\", \"zerolinewidth\": 2}, \"yaxis\": {\"automargin\": true, \"gridcolor\": \"white\", \"linecolor\": \"white\", \"ticks\": \"\", \"title\": {\"standoff\": 15}, \"zerolinecolor\": \"white\", \"zerolinewidth\": 2}}}, \"width\": 800, \"xaxis\": {\"linecolor\": \"rgb(204, 204, 204)\", \"linewidth\": 2, \"showgrid\": false, \"showline\": true, \"showticklabels\": true, \"tickfont\": {\"color\": \"rgb(82, 82, 82)\", \"family\": \"Arial\", \"size\": 12}, \"ticks\": \"outside\"}, \"yaxis\": {\"showgrid\": false, \"showline\": false, \"showticklabels\": false, \"zeroline\": false}},\n",
       "                        {\"responsive\": true}\n",
       "                    ).then(function(){\n",
       "                            \n",
       "var gd = document.getElementById('80c7ea7d-accd-4ed5-b2bc-17aeac354e4d');\n",
       "var x = new MutationObserver(function (mutations, observer) {{\n",
       "        var display = window.getComputedStyle(gd).display;\n",
       "        if (!display || display === 'none') {{\n",
       "            console.log([gd, 'removed!']);\n",
       "            Plotly.purge(gd);\n",
       "            observer.disconnect();\n",
       "        }}\n",
       "}});\n",
       "\n",
       "// Listen for the removal of the full notebook cells\n",
       "var notebookContainer = gd.closest('#notebook-container');\n",
       "if (notebookContainer) {{\n",
       "    x.observe(notebookContainer, {childList: true});\n",
       "}}\n",
       "\n",
       "// Listen for the clearing of the current output cell\n",
       "var outputEl = gd.closest('.output');\n",
       "if (outputEl) {{\n",
       "    x.observe(outputEl, {childList: true});\n",
       "}}\n",
       "\n",
       "                        })\n",
       "                };\n",
       "                });\n",
       "            </script>\n",
       "        </div>"
      ]
     },
     "metadata": {},
     "output_type": "display_data"
    }
   ],
   "source": [
    "countries_as_of_today = outside_china_data_confirmed.groupby(['Country/Region']).sum()\n",
    "sorted_outside_china = countries_as_of_today.sort_values(by=[countries_as_of_today.columns.values[-1]], ascending=False)\n",
    "title = 'Infection outside China'\n",
    "labels = sorted_outside_china.index.values.tolist()\n",
    "x_data = np.vstack((sorted_outside_china.columns.values[2:],)*len(sorted_outside_china.index))\n",
    "y_data = sorted_outside_china.iloc[:,2:len(sorted_outside_china.columns)].to_numpy()\n",
    "\n",
    "fig = go.Figure()\n",
    "\n",
    "for i in range(0, len(sorted_outside_china.index)):\n",
    "    fig.add_trace(go.Scatter(x=x_data[i], y=y_data[i], mode='lines',name=labels[i],connectgaps=True,))\n",
    "    fig.add_trace(go.Scatter(x=[x_data[i][0], x_data[i][-1]],y=[y_data[i][0], y_data[i][-1]],mode='markers',))\n",
    "\n",
    "fig.update_layout(xaxis=dict(showline=True,showgrid=False,showticklabels=True,linecolor='rgb(204, 204, 204)',\n",
    "        linewidth=2,\n",
    "        ticks='outside',\n",
    "        tickfont=dict(\n",
    "            family='Arial',\n",
    "            size=12,\n",
    "            color='rgb(82, 82, 82)',\n",
    "        ),\n",
    "    ),\n",
    "    yaxis=dict(\n",
    "        showgrid=False,\n",
    "        zeroline=False,\n",
    "        showline=False,\n",
    "        showticklabels=False,\n",
    "    ),\n",
    "    autosize=False,\n",
    "    margin=dict(\n",
    "        autoexpand=False,\n",
    "        l=100,\n",
    "        r=20,\n",
    "        t=110,\n",
    "    ),\n",
    "    showlegend=False,\n",
    "    plot_bgcolor='white'\n",
    ")\n",
    "\n",
    "annotations = []\n",
    "\n",
    "\n",
    "# Title\n",
    "annotations.append(dict(xref='paper', yref='paper', x=0.0, y=1.05,\n",
    "                              xanchor='left', yanchor='bottom',\n",
    "                              text='Infection growth outside China',\n",
    "                              font=dict(family='Arial',\n",
    "                                        size=30,\n",
    "                                        color='rgb(37,37,37)'),\n",
    "                              showarrow=False))\n",
    "# Source\n",
    "annotations.append(dict(xref='paper', yref='paper', x=0.5, y=-0.1,\n",
    "                              xanchor='center', yanchor='top',\n",
    "                              text='Johns Hopkins University (CSSEGISandData) and WHO',\n",
    "                              font=dict(family='Arial',\n",
    "                                        size=12,\n",
    "                                        color='rgb(150,150,150)'),\n",
    "                              showarrow=False))\n",
    "\n",
    "fig.update_layout(annotations=annotations,width=800,\n",
    "    height=1000,)\n",
    "\n",
    "fig.show()"
   ]
  },
  {
   "cell_type": "markdown",
   "metadata": {},
   "source": [
    "Iran and Italy are still struggling to slow the growth rate and this can worsen.   \n",
    "<b>Meanwhile, Germany, France, Spain, and the US are showing similar early trends like that of Iran and Italy.</b>"
   ]
  },
  {
   "cell_type": "markdown",
   "metadata": {},
   "source": [
    "## More analysis"
   ]
  },
  {
   "cell_type": "code",
   "execution_count": null,
   "metadata": {},
   "outputs": [],
   "source": []
  }
 ],
 "metadata": {
  "kernelspec": {
   "display_name": "Python 3",
   "language": "python",
   "name": "python3"
  },
  "language_info": {
   "codemirror_mode": {
    "name": "ipython",
    "version": 3
   },
   "file_extension": ".py",
   "mimetype": "text/x-python",
   "name": "python",
   "nbconvert_exporter": "python",
   "pygments_lexer": "ipython3",
   "version": "3.7.3"
  },
  "widgets": {
   "application/vnd.jupyter.widget-state+json": {
    "state": {},
    "version_major": 2,
    "version_minor": 0
   }
  }
 },
 "nbformat": 4,
 "nbformat_minor": 2
}
